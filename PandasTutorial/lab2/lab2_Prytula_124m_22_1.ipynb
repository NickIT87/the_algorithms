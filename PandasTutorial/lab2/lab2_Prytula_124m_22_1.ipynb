{
 "cells": [
  {
   "cell_type": "code",
   "execution_count": 11,
   "id": "4dfca0ce-6f11-43fe-a0a5-86fabda2940e",
   "metadata": {},
   "outputs": [],
   "source": [
    "import pandas as pd\n",
    "from sklearn.cluster import KMeans\n",
    "import matplotlib.pyplot as plt"
   ]
  },
  {
   "cell_type": "code",
   "execution_count": 12,
   "id": "938fc3cd-1c6b-4f88-8ad1-0588b36dfea4",
   "metadata": {},
   "outputs": [
    {
     "data": {
      "text/html": [
       "<div>\n",
       "<style scoped>\n",
       "    .dataframe tbody tr th:only-of-type {\n",
       "        vertical-align: middle;\n",
       "    }\n",
       "\n",
       "    .dataframe tbody tr th {\n",
       "        vertical-align: top;\n",
       "    }\n",
       "\n",
       "    .dataframe thead th {\n",
       "        text-align: right;\n",
       "    }\n",
       "</style>\n",
       "<table border=\"1\" class=\"dataframe\">\n",
       "  <thead>\n",
       "    <tr style=\"text-align: right;\">\n",
       "      <th></th>\n",
       "      <th>X1</th>\n",
       "      <th>X2</th>\n",
       "      <th>X3</th>\n",
       "      <th>X4</th>\n",
       "      <th>X5</th>\n",
       "      <th>X6</th>\n",
       "      <th>X7</th>\n",
       "      <th>X8</th>\n",
       "    </tr>\n",
       "  </thead>\n",
       "  <tbody>\n",
       "    <tr>\n",
       "      <th>0</th>\n",
       "      <td>6</td>\n",
       "      <td>150</td>\n",
       "      <td>1.8</td>\n",
       "      <td>24</td>\n",
       "      <td>30</td>\n",
       "      <td>120</td>\n",
       "      <td>3.4</td>\n",
       "      <td>15</td>\n",
       "    </tr>\n",
       "    <tr>\n",
       "      <th>1</th>\n",
       "      <td>7</td>\n",
       "      <td>150</td>\n",
       "      <td>1.8</td>\n",
       "      <td>24</td>\n",
       "      <td>30</td>\n",
       "      <td>120</td>\n",
       "      <td>9.7</td>\n",
       "      <td>5</td>\n",
       "    </tr>\n",
       "    <tr>\n",
       "      <th>2</th>\n",
       "      <td>6</td>\n",
       "      <td>170</td>\n",
       "      <td>1.8</td>\n",
       "      <td>24</td>\n",
       "      <td>30</td>\n",
       "      <td>120</td>\n",
       "      <td>7.4</td>\n",
       "      <td>23</td>\n",
       "    </tr>\n",
       "    <tr>\n",
       "      <th>3</th>\n",
       "      <td>7</td>\n",
       "      <td>170</td>\n",
       "      <td>1.8</td>\n",
       "      <td>24</td>\n",
       "      <td>30</td>\n",
       "      <td>120</td>\n",
       "      <td>10.6</td>\n",
       "      <td>8</td>\n",
       "    </tr>\n",
       "    <tr>\n",
       "      <th>4</th>\n",
       "      <td>6</td>\n",
       "      <td>150</td>\n",
       "      <td>2.4</td>\n",
       "      <td>24</td>\n",
       "      <td>30</td>\n",
       "      <td>120</td>\n",
       "      <td>6.5</td>\n",
       "      <td>20</td>\n",
       "    </tr>\n",
       "  </tbody>\n",
       "</table>\n",
       "</div>"
      ],
      "text/plain": [
       "   X1   X2   X3  X4  X5   X6    X7  X8\n",
       "0   6  150  1.8  24  30  120   3.4  15\n",
       "1   7  150  1.8  24  30  120   9.7   5\n",
       "2   6  170  1.8  24  30  120   7.4  23\n",
       "3   7  170  1.8  24  30  120  10.6   8\n",
       "4   6  150  2.4  24  30  120   6.5  20"
      ]
     },
     "execution_count": 12,
     "metadata": {},
     "output_type": "execute_result"
    }
   ],
   "source": [
    "df = pd.read_excel(\"data.xlsx\")\n",
    "df = df.drop('№', axis = 1)\n",
    "df.head()"
   ]
  },
  {
   "cell_type": "code",
   "execution_count": 13,
   "id": "4ac1552f-156c-4f20-9fe4-1db9f601c6e2",
   "metadata": {},
   "outputs": [
    {
     "data": {
      "text/html": [
       "<div>\n",
       "<style scoped>\n",
       "    .dataframe tbody tr th:only-of-type {\n",
       "        vertical-align: middle;\n",
       "    }\n",
       "\n",
       "    .dataframe tbody tr th {\n",
       "        vertical-align: top;\n",
       "    }\n",
       "\n",
       "    .dataframe thead th {\n",
       "        text-align: right;\n",
       "    }\n",
       "</style>\n",
       "<table border=\"1\" class=\"dataframe\">\n",
       "  <thead>\n",
       "    <tr style=\"text-align: right;\">\n",
       "      <th></th>\n",
       "      <th>X1</th>\n",
       "      <th>X2</th>\n",
       "      <th>X3</th>\n",
       "      <th>X4</th>\n",
       "      <th>X5</th>\n",
       "      <th>X6</th>\n",
       "      <th>X7</th>\n",
       "      <th>X8</th>\n",
       "    </tr>\n",
       "  </thead>\n",
       "  <tbody>\n",
       "    <tr>\n",
       "      <th>0</th>\n",
       "      <td>-0.991031</td>\n",
       "      <td>-0.991031</td>\n",
       "      <td>-0.991031</td>\n",
       "      <td>-0.858258</td>\n",
       "      <td>-0.858258</td>\n",
       "      <td>-0.858258</td>\n",
       "      <td>-2.605167</td>\n",
       "      <td>-0.081459</td>\n",
       "    </tr>\n",
       "    <tr>\n",
       "      <th>1</th>\n",
       "      <td>0.991031</td>\n",
       "      <td>-0.991031</td>\n",
       "      <td>-0.991031</td>\n",
       "      <td>-0.858258</td>\n",
       "      <td>-0.858258</td>\n",
       "      <td>-0.858258</td>\n",
       "      <td>-0.358521</td>\n",
       "      <td>-1.194072</td>\n",
       "    </tr>\n",
       "    <tr>\n",
       "      <th>2</th>\n",
       "      <td>-0.991031</td>\n",
       "      <td>0.991031</td>\n",
       "      <td>-0.991031</td>\n",
       "      <td>-0.858258</td>\n",
       "      <td>-0.858258</td>\n",
       "      <td>-0.858258</td>\n",
       "      <td>-1.178725</td>\n",
       "      <td>0.808631</td>\n",
       "    </tr>\n",
       "    <tr>\n",
       "      <th>3</th>\n",
       "      <td>0.991031</td>\n",
       "      <td>0.991031</td>\n",
       "      <td>-0.991031</td>\n",
       "      <td>-0.858258</td>\n",
       "      <td>-0.858258</td>\n",
       "      <td>-0.858258</td>\n",
       "      <td>-0.037571</td>\n",
       "      <td>-0.860288</td>\n",
       "    </tr>\n",
       "    <tr>\n",
       "      <th>4</th>\n",
       "      <td>-0.991031</td>\n",
       "      <td>-0.991031</td>\n",
       "      <td>0.991031</td>\n",
       "      <td>-0.858258</td>\n",
       "      <td>-0.858258</td>\n",
       "      <td>-0.858258</td>\n",
       "      <td>-1.499674</td>\n",
       "      <td>0.474847</td>\n",
       "    </tr>\n",
       "  </tbody>\n",
       "</table>\n",
       "</div>"
      ],
      "text/plain": [
       "         X1        X2        X3        X4        X5        X6        X7  \\\n",
       "0 -0.991031 -0.991031 -0.991031 -0.858258 -0.858258 -0.858258 -2.605167   \n",
       "1  0.991031 -0.991031 -0.991031 -0.858258 -0.858258 -0.858258 -0.358521   \n",
       "2 -0.991031  0.991031 -0.991031 -0.858258 -0.858258 -0.858258 -1.178725   \n",
       "3  0.991031  0.991031 -0.991031 -0.858258 -0.858258 -0.858258 -0.037571   \n",
       "4 -0.991031 -0.991031  0.991031 -0.858258 -0.858258 -0.858258 -1.499674   \n",
       "\n",
       "         X8  \n",
       "0 -0.081459  \n",
       "1 -1.194072  \n",
       "2  0.808631  \n",
       "3 -0.860288  \n",
       "4  0.474847  "
      ]
     },
     "execution_count": 13,
     "metadata": {},
     "output_type": "execute_result"
    }
   ],
   "source": [
    "# Нормалізація даних\n",
    "data_norm = (df - df.mean()) / df.std()\n",
    "data_norm.head()"
   ]
  },
  {
   "cell_type": "code",
   "execution_count": 14,
   "id": "d6cf9d90-0d2b-42a1-846c-42d5a12cd210",
   "metadata": {},
   "outputs": [
    {
     "data": {
      "text/plain": [
       "array([2, 0, 2, 0, 2, 0, 2, 0, 3, 0, 2, 0, 2, 0, 2, 0, 2, 0, 2, 0, 2, 0,\n",
       "       2, 0, 2, 0, 2, 0, 2, 0, 2, 0, 1, 1, 1, 1, 1, 1, 1, 1, 3, 3, 3, 3,\n",
       "       3, 3, 3, 3, 1, 1, 1, 1, 1, 1, 1, 1], dtype=int32)"
      ]
     },
     "execution_count": 14,
     "metadata": {},
     "output_type": "execute_result"
    }
   ],
   "source": [
    "# Визначення кількості кластерів\n",
    "k = 4\n",
    "# Створення моделі k-середніх\n",
    "kmeans = KMeans(n_clusters=k, n_init=10)\n",
    "\n",
    "# Навчання моделі на нормалізованих даних\n",
    "kmeans.fit(data_norm)\n",
    "\n",
    "# Передбачення кластерів для даних\n",
    "labels = kmeans.predict(data_norm)\n",
    "labels"
   ]
  },
  {
   "cell_type": "code",
   "execution_count": 15,
   "id": "c3b2679b-86e3-4700-a0d9-5d5b93c3492e",
   "metadata": {},
   "outputs": [
    {
     "data": {
      "image/png": "[encoded data removed]",
      "text/plain": [
       "<Figure size 640x480 with 1 Axes>"
      ]
     },
     "metadata": {},
     "output_type": "display_data"
    }
   ],
   "source": [
    "# Відображення кластерів на графіку\n",
    "#plt.scatter(df['X1'], df['X2'], c=labels)\n",
    "plt.scatter(df.iloc[:, 0], df.iloc[:, 1], c=labels)\n",
    "plt.xlabel('X1')\n",
    "plt.ylabel('X2')\n",
    "plt.title('K-means Clustering')\n",
    "plt.show()"
   ]
  },
  {
   "cell_type": "code",
   "execution_count": 25,
   "id": "72971e83-ca81-4711-bbfd-12db8733dd87",
   "metadata": {},
   "outputs": [],
   "source": [
    "import numpy as np\n",
    "from sklearn.cluster import KMeans, DBSCAN\n",
    "from sklearn.preprocessing import StandardScaler\n",
    "\n",
    "\n",
    "# Відокремлюємо ознаки\n",
    "X = df.iloc[:, 1:].values\n",
    "\n",
    "# Нормалізація даних\n",
    "scaler = StandardScaler()\n",
    "X = scaler.fit_transform(X)\n"
   ]
  },
  {
   "cell_type": "code",
   "execution_count": 26,
   "id": "2037f009-7b76-4c5a-b0f3-e6ff012a1e38",
   "metadata": {},
   "outputs": [
    {
     "data": {
      "image/png": "[encoded data removed]",
      "text/plain": [
       "<Figure size 640x480 with 1 Axes>"
      ]
     },
     "metadata": {},
     "output_type": "display_data"
    }
   ],
   "source": [
    "# Кластеризація даних з використанням алгоритму DBSCAN\n",
    "dbscan = DBSCAN(eps=0.5, min_samples=5)\n",
    "dbscan.fit(X)\n",
    "labels = dbscan.labels_\n",
    "n_clusters_ = len(set(labels)) - (1 if -1 in labels else 0)\n",
    "\n",
    "# Відображення результатів кластеризації\n",
    "plt.scatter(X[:, 0], X[:, 1], c=labels)\n",
    "plt.title(\"DBSCAN Clustering\")\n",
    "plt.show()"
   ]
  },
  {
   "cell_type": "code",
   "execution_count": 27,
   "id": "fff7104e-6729-47cc-8721-5563b789a7ce",
   "metadata": {},
   "outputs": [
    {
     "name": "stdout",
     "output_type": "stream",
     "text": [
      "Number of clusters: 5\n",
      "Silhouette score: 0.26492677239010104\n",
      "Cluster labels: [4 4 3 1 4 4 1 1 2 2 1 1 2 2 1 1 0 4 1 1 0 4 1 1 2 2 1 1 0 2 1 1 0 4 3 3 0\n",
      " 0 3 3 0 2 3 3 2 2 3 3 0 0 3 3 0 0 3 1]\n"
     ]
    },
    {
     "name": "stderr",
     "output_type": "stream",
     "text": [
      "/Library/Frameworks/Python.framework/Versions/3.10/lib/python3.10/site-packages/sklearn/cluster/_agglomerative.py:983: FutureWarning: Attribute `affinity` was deprecated in version 1.2 and will be removed in 1.4. Use `metric` instead\n",
      "  warnings.warn(\n"
     ]
    }
   ],
   "source": [
    "from sklearn.cluster import AgglomerativeClustering\n",
    "from sklearn.metrics import silhouette_score\n",
    "\n",
    "n_clusters = 5\n",
    "\n",
    "# створення об'єкту алгоритму\n",
    "krab = AgglomerativeClustering(n_clusters=n_clusters, affinity='euclidean', linkage='ward')\n",
    "\n",
    "# виконання кластеризації\n",
    "labels = krab.fit_predict(df)\n",
    "\n",
    "# оцінка якості кластеризації за допомогою коефіцієнту силуету\n",
    "silhouette_avg = silhouette_score(df, labels)\n",
    "\n",
    "# вивід результатів\n",
    "print('Number of clusters:', n_clusters)\n",
    "print('Silhouette score:', silhouette_avg)\n",
    "print('Cluster labels:', labels)"
   ]
  }
 ],
 "metadata": {
  "kernelspec": {
   "display_name": "Python 3 (ipykernel)",
   "language": "python",
   "name": "python3"
  },
  "language_info": {
   "codemirror_mode": {
    "name": "ipython",
    "version": 3
   },
   "file_extension": ".py",
   "mimetype": "text/x-python",
   "name": "python",
   "nbconvert_exporter": "python",
   "pygments_lexer": "ipython3",
   "version": "3.10.6"
  }
 },
 "nbformat": 4,
 "nbformat_minor": 5
}
