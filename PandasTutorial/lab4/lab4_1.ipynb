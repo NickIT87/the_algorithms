{
 "cells": [
  {
   "cell_type": "code",
   "execution_count": 1,
   "id": "2b2b0de4-ff1a-428b-a31b-f5802745b464",
   "metadata": {},
   "outputs": [
    {
     "data": {
      "text/html": [
       "<div>\n",
       "<style scoped>\n",
       "    .dataframe tbody tr th:only-of-type {\n",
       "        vertical-align: middle;\n",
       "    }\n",
       "\n",
       "    .dataframe tbody tr th {\n",
       "        vertical-align: top;\n",
       "    }\n",
       "\n",
       "    .dataframe thead th {\n",
       "        text-align: right;\n",
       "    }\n",
       "</style>\n",
       "<table border=\"1\" class=\"dataframe\">\n",
       "  <thead>\n",
       "    <tr style=\"text-align: right;\">\n",
       "      <th></th>\n",
       "      <th>Age</th>\n",
       "      <th>SpectaclePrescrip</th>\n",
       "      <th>Astigmatism</th>\n",
       "      <th>TearProdRate</th>\n",
       "      <th>ContactLens</th>\n",
       "    </tr>\n",
       "  </thead>\n",
       "  <tbody>\n",
       "    <tr>\n",
       "      <th>0</th>\n",
       "      <td>young</td>\n",
       "      <td>myope</td>\n",
       "      <td>no</td>\n",
       "      <td>reduced</td>\n",
       "      <td>none</td>\n",
       "    </tr>\n",
       "    <tr>\n",
       "      <th>1</th>\n",
       "      <td>young</td>\n",
       "      <td>myope</td>\n",
       "      <td>no</td>\n",
       "      <td>normal</td>\n",
       "      <td>soft</td>\n",
       "    </tr>\n",
       "    <tr>\n",
       "      <th>2</th>\n",
       "      <td>young</td>\n",
       "      <td>myope</td>\n",
       "      <td>yes</td>\n",
       "      <td>reduced</td>\n",
       "      <td>none</td>\n",
       "    </tr>\n",
       "    <tr>\n",
       "      <th>3</th>\n",
       "      <td>young</td>\n",
       "      <td>myope</td>\n",
       "      <td>yes</td>\n",
       "      <td>normal</td>\n",
       "      <td>hard</td>\n",
       "    </tr>\n",
       "    <tr>\n",
       "      <th>4</th>\n",
       "      <td>young</td>\n",
       "      <td>hypermetrope</td>\n",
       "      <td>no</td>\n",
       "      <td>reduced</td>\n",
       "      <td>none</td>\n",
       "    </tr>\n",
       "  </tbody>\n",
       "</table>\n",
       "</div>"
      ],
      "text/plain": [
       "     Age SpectaclePrescrip Astigmatism TearProdRate ContactLens\n",
       "0  young             myope          no      reduced        none\n",
       "1  young             myope          no       normal        soft\n",
       "2  young             myope         yes      reduced        none\n",
       "3  young             myope         yes       normal        hard\n",
       "4  young      hypermetrope          no      reduced        none"
      ]
     },
     "execution_count": 1,
     "metadata": {},
     "output_type": "execute_result"
    }
   ],
   "source": [
    "import pandas as pd\n",
    "import numpy as np\n",
    "from math import log2\n",
    "\n",
    "# Load the dataset\n",
    "data = pd.read_csv('ContactLens.csv')\n",
    "data.head()"
   ]
  },
  {
   "cell_type": "code",
   "execution_count": 4,
   "id": "cfb18d93-a02c-48b2-b22b-5157435fcd9a",
   "metadata": {},
   "outputs": [
    {
     "name": "stdout",
     "output_type": "stream",
     "text": [
      "{'TearProdRate': {'reduced': 'none', 'normal': {'Astigmatism': {'no': {'Age': {'young': 'soft', 'pre-presbyopic': 'soft', 'presbyopic': {'SpectaclePrescrip': {'myope': 'none', 'hypermetrope': 'soft'}}}}, 'yes': {'SpectaclePrescrip': {'myope': 'hard', 'hypermetrope': {'Age': {'young': 'hard', 'pre-presbyopic': 'none', 'presbyopic': 'none'}}}}}}}}\n"
     ]
    }
   ],
   "source": [
    "# Define a function to calculate the entropy of a dataset\n",
    "def entropy(data):\n",
    "    target = 'ContactLens'\n",
    "    values = data[target].unique()\n",
    "    entropy = 0\n",
    "    for value in values:\n",
    "        p = len(data[data[target] == value]) / len(data)\n",
    "        entropy -= p * log2(p)\n",
    "    return entropy\n",
    "\n",
    "# Define a function to calculate the information gain of a split\n",
    "def information_gain(data, feature):\n",
    "    target = 'ContactLens'\n",
    "    target_entropy = entropy(data)\n",
    "    values = data[feature].unique()\n",
    "    feature_entropy = 0\n",
    "    for value in values:\n",
    "        p = len(data[data[feature] == value]) / len(data)\n",
    "        feature_data = data[data[feature] == value]\n",
    "        feature_entropy += p * entropy(feature_data)\n",
    "    return target_entropy - feature_entropy\n",
    "\n",
    "# Define the ID3 algorithm\n",
    "def id3(data, features, target):\n",
    "    # If all target values are the same, return that value\n",
    "    if len(data[target].unique()) == 1:\n",
    "        return data[target].iloc[0]\n",
    "    # If there are no more features to split on, return the most common target value\n",
    "    if len(features) == 0:\n",
    "        return data[target].value_counts().idxmax()\n",
    "    # Otherwise, choose the best feature to split on\n",
    "    gains = [information_gain(data, feature) for feature in features]\n",
    "    best_feature_index = gains.index(max(gains))\n",
    "    best_feature = features[best_feature_index]\n",
    "    # Create a new decision tree node with the chosen feature\n",
    "    tree = {best_feature: {}}\n",
    "    features = [feature for feature in features if feature != best_feature]\n",
    "    # Recursively grow the tree using the subsets of the data\n",
    "    for value in data[best_feature].unique():\n",
    "        subset = data[data[best_feature] == value]\n",
    "        subtree = id3(subset, features, target)\n",
    "        tree[best_feature][value] = subtree\n",
    "    return tree\n",
    "\n",
    "# Run the ID3 algorithm on the dataset\n",
    "features = list(data.columns[:-1])\n",
    "target = 'ContactLens'\n",
    "tree = id3(data, features, target)\n",
    "\n",
    "# Print the decision tree\n",
    "print(tree)"
   ]
  },
  {
   "cell_type": "code",
   "execution_count": 5,
   "id": "21bd65ce-8c08-4261-a8f6-7af3c5775e31",
   "metadata": {},
   "outputs": [
    {
     "name": "stdout",
     "output_type": "stream",
     "text": [
      "TearProdRate\n",
      "  reduced\n",
      "    ==> none\n",
      "  normal\n",
      "    Astigmatism\n",
      "      no\n",
      "        Age\n",
      "          young\n",
      "            ==> soft\n",
      "          pre-presbyopic\n",
      "            ==> soft\n",
      "          presbyopic\n",
      "            SpectaclePrescrip\n",
      "              myope\n",
      "                ==> none\n",
      "              hypermetrope\n",
      "                ==> soft\n",
      "      yes\n",
      "        SpectaclePrescrip\n",
      "          myope\n",
      "            ==> hard\n",
      "          hypermetrope\n",
      "            Age\n",
      "              young\n",
      "                ==> hard\n",
      "              pre-presbyopic\n",
      "                ==> none\n",
      "              presbyopic\n",
      "                ==> none\n"
     ]
    }
   ],
   "source": [
    "def print_tree(tree, indent=''):\n",
    "    if isinstance(tree, dict):\n",
    "        print(f'{indent}{list(tree.keys())[0]}')\n",
    "        for key, value in tree[list(tree.keys())[0]].items():\n",
    "            print(f'{indent}  {key}')\n",
    "            print_tree(value, indent + '    ')\n",
    "    else:\n",
    "        print(f'{indent}==> {tree}')\n",
    "        \n",
    "print_tree(tree)"
   ]
  },
  {
   "cell_type": "code",
   "execution_count": 6,
   "id": "78a9d3c8-0cc2-4087-b8b7-5abbabc14929",
   "metadata": {},
   "outputs": [
    {
     "name": "stdout",
     "output_type": "stream",
     "text": [
      "Ентропія даних: 5.911050026085454\n"
     ]
    }
   ],
   "source": [
    "def shannon_entropy(data):\n",
    "    # Кількість елементів у вибірці\n",
    "    n = len(data)\n",
    "    # Підрахунок кількості унікальних значень у вибірці\n",
    "    unique, counts = np.unique(data, return_counts=True)\n",
    "    # Розрахунок частоти кожного унікального значення у вибірці\n",
    "    freqs = counts / n\n",
    "    # Розрахунок ентропії методом Шеннона\n",
    "    entropy = -np.sum(freqs * np.log2(freqs))\n",
    "    return entropy\n",
    "\n",
    "entropy = shannon_entropy(data)\n",
    "print(f\"Ентропія даних: {entropy}\")"
   ]
  },
  {
   "cell_type": "code",
   "execution_count": 7,
   "id": "85a4e185-2f37-42b5-bb69-c0346be2a724",
   "metadata": {},
   "outputs": [
    {
     "name": "stdout",
     "output_type": "stream",
     "text": [
      "0.8718671876502407\n"
     ]
    }
   ],
   "source": [
    "# обчислення ентропії для всього датасету\n",
    "def entropy(data):\n",
    "    # знаходимо всі унікальні значення класів\n",
    "    classes = set([row[-1] for row in data])\n",
    "    n_instances = float(len(data))\n",
    "    entropy = 0.0\n",
    "    for cls in classes:\n",
    "        # знаходимо кількість елементів у класі\n",
    "        count = [row[-1] for row in data].count(cls)\n",
    "        # обчислюємо відносну частоту класу\n",
    "        prob = count / n_instances\n",
    "        # обчислюємо ентропію для класу\n",
    "        entropy += (-prob) * log2(prob)\n",
    "    return entropy\n",
    "\n",
    "print(entropy(data))"
   ]
  }
 ],
 "metadata": {
  "kernelspec": {
   "display_name": "Python 3 (ipykernel)",
   "language": "python",
   "name": "python3"
  },
  "language_info": {
   "codemirror_mode": {
    "name": "ipython",
    "version": 3
   },
   "file_extension": ".py",
   "mimetype": "text/x-python",
   "name": "python",
   "nbconvert_exporter": "python",
   "pygments_lexer": "ipython3",
   "version": "3.10.6"
  }
 },
 "nbformat": 4,
 "nbformat_minor": 5
}
