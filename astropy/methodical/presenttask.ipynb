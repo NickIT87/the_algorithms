{
 "cells": [
  {
   "cell_type": "markdown",
   "metadata": {},
   "source": [
    "# Two big identical spherical planets form a binary system, practically touching the surfaces. How many times will the force of attraction between planets from the same substance in a similar system change if the mass of each of the planets is increased by 8 times?"
   ]
  },
  {
   "cell_type": "code",
   "execution_count": 20,
   "metadata": {},
   "outputs": [
    {
     "data": {
      "text/latex": [
       "$6.6743 \\times 10^{-11} \\; \\mathrm{\\frac{m^{3}}{kg\\,s^{2}}}$"
      ],
      "text/plain": [
       "<<class 'astropy.constants.codata2018.CODATA2018'> name='Gravitational constant' value=6.6743e-11 uncertainty=1.5e-15 unit='m3 / (kg s2)' reference='CODATA 2018'>"
      ]
     },
     "execution_count": 20,
     "metadata": {},
     "output_type": "execute_result"
    }
   ],
   "source": [
    "from astropy import constants as const\n",
    "const.G        # Gravitational constant"
   ]
  },
  {
   "cell_type": "code",
   "execution_count": 51,
   "metadata": {},
   "outputs": [
    {
     "data": {
      "text/latex": [
       "$1.8981246 \\times 10^{27} \\; \\mathrm{kg}$"
      ],
      "text/plain": [
       "<<class 'astropy.constants.iau2015.IAU2015'> name='Jupiter mass' value=1.8981245973360505e+27 uncertainty=4.26589589320839e+22 unit='kg' reference='IAU 2015 Resolution B 3 + CODATA 2018'>"
      ]
     },
     "execution_count": 51,
     "metadata": {},
     "output_type": "execute_result"
    }
   ],
   "source": [
    "const.M_jup    # Jupiter mass"
   ]
  },
  {
   "cell_type": "code",
   "execution_count": 3,
   "metadata": {},
   "outputs": [
    {
     "data": {
      "text/latex": [
       "$71492000 \\; \\mathrm{m}$"
      ],
      "text/plain": [
       "<<class 'astropy.constants.iau2015.IAU2015'> name='Nominal Jupiter equatorial radius' value=71492000.0 uncertainty=0.0 unit='m' reference='IAU 2015 Resolution B 3'>"
      ]
     },
     "execution_count": 3,
     "metadata": {},
     "output_type": "execute_result"
    }
   ],
   "source": [
    "const.R_jup    # Jupiter radius"
   ]
  },
  {
   "cell_type": "markdown",
   "metadata": {},
   "source": [
    "# main tasks defenitions "
   ]
  },
  {
   "cell_type": "code",
   "execution_count": 53,
   "metadata": {},
   "outputs": [],
   "source": [
    "M = const.M_jup.value  # Jupiter mass\n",
    "R = const.R_jup.value  # Jupiter radius\n",
    "p = 1326               # 1326 кг/м³ , 1.326 г/см³\n",
    "\n",
    "M1 = M2 = M\n",
    "R1 = R2 = R\n",
    "p1 = p2 = p\n",
    "\n",
    "Ms = M1s = M2s = 8 * M # 1.5184996778688404e+28"
   ]
  },
  {
   "cell_type": "code",
   "execution_count": 5,
   "metadata": {},
   "outputs": [],
   "source": [
    "# some changes\n",
    "r = 2 * R # 142984000.0\n",
    "# need to solve: F2/F1 = Fabs"
   ]
  },
  {
   "cell_type": "markdown",
   "metadata": {},
   "source": [
    "# Newton's law of gravity: F = G*(M1*M2/r**2)"
   ]
  },
  {
   "cell_type": "code",
   "execution_count": 10,
   "metadata": {},
   "outputs": [],
   "source": [
    "def powerOfGravity(mass1, mass2, distance):\n",
    "    F = const.G.value * ( mass1 * mass2 / distance**2 )\n",
    "    return F\n",
    "\n",
    "# reduced formula GM**2/4R**2\n",
    "def altGravityPower(mass, radius):\n",
    "    F = const.G.value*mass**2 / (4*radius**2)\n",
    "    return F"
   ]
  },
  {
   "cell_type": "markdown",
   "metadata": {},
   "source": [
    "# Step 1 Let's find the force of attraction between the planets according to the law of universal gravitation"
   ]
  },
  {
   "cell_type": "code",
   "execution_count": 37,
   "metadata": {},
   "outputs": [
    {
     "data": {
      "text/plain": [
       "True"
      ]
     },
     "execution_count": 37,
     "metadata": {},
     "output_type": "execute_result"
    }
   ],
   "source": [
    "F1 = powerOfGravity(M1, M2, r)  # F1\n",
    "F1alt = altGravityPower(M, R)  # F1\n",
    "F1 == F1alt"
   ]
  },
  {
   "cell_type": "code",
   "execution_count": 38,
   "metadata": {},
   "outputs": [
    {
     "data": {
      "text/plain": [
       "1.1761975575006943e+28"
      ]
     },
     "execution_count": 38,
     "metadata": {},
     "output_type": "execute_result"
    }
   ],
   "source": [
    "F1"
   ]
  },
  {
   "cell_type": "code",
   "execution_count": 39,
   "metadata": {},
   "outputs": [
    {
     "data": {
      "text/plain": [
       "1.1761975575006943e+28"
      ]
     },
     "execution_count": 39,
     "metadata": {},
     "output_type": "execute_result"
    }
   ],
   "source": [
    "F1alt"
   ]
  },
  {
   "cell_type": "markdown",
   "metadata": {},
   "source": [
    "# Step 2 With an increase in the mass of the planets, while maintaining their density (according to the condition), the volume of the planets should increase, which means their new radius will be larger. Find this radius"
   ]
  },
  {
   "cell_type": "code",
   "execution_count": 60,
   "metadata": {},
   "outputs": [
    {
     "data": {
      "text/plain": [
       "True"
      ]
     },
     "execution_count": 60,
     "metadata": {},
     "output_type": "execute_result"
    }
   ],
   "source": [
    "# p = M / V\n",
    "V = M / p  # 1.4314665138280924e+24\n",
    "# M: 1.8981245973360505e+27   V: 1.4314665138280924e+24    R: 71492000.0\n",
    "p * V == M  # 1.8981245973360505e+27"
   ]
  },
  {
   "cell_type": "code",
   "execution_count": 65,
   "metadata": {},
   "outputs": [
    {
     "data": {
      "text/plain": [
       "2.029572050128479e+27"
      ]
     },
     "execution_count": 65,
     "metadata": {},
     "output_type": "execute_result"
    }
   ],
   "source": [
    "import math\n",
    "p * 4/3 * math.pi * R**3  # Discrepancy between actual and expected results !!!"
   ]
  },
  {
   "cell_type": "code",
   "execution_count": 89,
   "metadata": {},
   "outputs": [
    {
     "data": {
      "text/plain": [
       "True"
      ]
     },
     "execution_count": 89,
     "metadata": {},
     "output_type": "execute_result"
    }
   ],
   "source": [
    "# Ms = p * Vs = 8M\n",
    "Vs = Ms / p   # 1.145173211062474e+25\n",
    "p * Vs == Ms  # 1.5184996778688404e+28"
   ]
  },
  {
   "cell_type": "code",
   "execution_count": 90,
   "metadata": {},
   "outputs": [
    {
     "data": {
      "text/plain": [
       "142984000.0"
      ]
     },
     "execution_count": 90,
     "metadata": {},
     "output_type": "execute_result"
    }
   ],
   "source": [
    "# 8M/M = Rn**3/R**3\n",
    "# Rn**3 = 8R**3   =>   Rn=2R   \n",
    "Rn = 2 * R\n",
    "Rn"
   ]
  },
  {
   "cell_type": "code",
   "execution_count": 91,
   "metadata": {},
   "outputs": [
    {
     "data": {
      "text/plain": [
       "True"
      ]
     },
     "execution_count": 91,
     "metadata": {},
     "output_type": "execute_result"
    }
   ],
   "source": [
    "8 * M / M == Rn**3 / R**3"
   ]
  },
  {
   "cell_type": "code",
   "execution_count": 92,
   "metadata": {},
   "outputs": [
    {
     "data": {
      "text/plain": [
       "True"
      ]
     },
     "execution_count": 92,
     "metadata": {},
     "output_type": "execute_result"
    }
   ],
   "source": [
    "Rn ** 3 == 8 * R**3"
   ]
  },
  {
   "cell_type": "code",
   "execution_count": 93,
   "metadata": {},
   "outputs": [
    {
     "data": {
      "text/plain": [
       "False"
      ]
     },
     "execution_count": 93,
     "metadata": {},
     "output_type": "execute_result"
    }
   ],
   "source": [
    "p * 4/3 * math.pi * Rn**3 == 8 * M  # Discrepancy between actual and expected results !!!"
   ]
  },
  {
   "cell_type": "markdown",
   "metadata": {},
   "source": [
    "# Step 3 find a new force of attraction between the planets, after changing their masses and changing sizes"
   ]
  },
  {
   "cell_type": "code",
   "execution_count": null,
   "metadata": {},
   "outputs": [],
   "source": [
    "# in progress "
   ]
  }
 ],
 "metadata": {
  "kernelspec": {
   "display_name": "Python 3",
   "language": "python",
   "name": "python3"
  },
  "language_info": {
   "codemirror_mode": {
    "name": "ipython",
    "version": 3
   },
   "file_extension": ".py",
   "mimetype": "text/x-python",
   "name": "python",
   "nbconvert_exporter": "python",
   "pygments_lexer": "ipython3",
   "version": "3.8.2"
  }
 },
 "nbformat": 4,
 "nbformat_minor": 4
}
