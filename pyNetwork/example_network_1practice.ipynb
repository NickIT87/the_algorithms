{
  "nbformat": 4,
  "nbformat_minor": 0,
  "metadata": {
    "colab": {
      "provenance": [],
      "collapsed_sections": []
    },
    "kernelspec": {
      "name": "python3",
      "display_name": "Python 3"
    },
    "language_info": {
      "name": "python"
    }
  },
  "cells": [
    {
      "cell_type": "code",
      "execution_count": 1,
      "metadata": {
        "id": "La1cOSxw7daQ"
      },
      "outputs": [],
      "source": [
        "import numpy as np\n",
        "import matplotlib.pyplot as plt\n",
        "from tensorflow import keras\n",
        "from tensorflow.keras.layers import Dense"
      ]
    },
    {
      "cell_type": "code",
      "source": [
        "# training data \n",
        "c = np.array([ \n",
        "    [3,1,1,2,3,1,1,3,3,1,3,3,1,2,1,2,3,1,1,3], \n",
        "    [4,6,6,4,4,6,5,4,5,4,6,6,4,6,5,4,6,5,4,5], \n",
        "    [3,5,4,3,5,3,5,4,3,3,3,5,5,5,4,5,4,3,4,5] \n",
        "])\n",
        "c = c.transpose()\n",
        "\n",
        "f = np.array([\n",
        "    [-1.784756126,2.459396867,2.257275088,-1.210910465,-0.6847118428,1.359352584,1.782888766,-0.8868336222,-0.8474503192,-0.2544613231,-0.170942218,0.9291020647,0.8455829597,1.502947725,1.580766987,-0.1108661827,0.7269802854,0.6828444833,0.6434611803,0.2525939635],\n",
        "    [0,1,1,0,0,1,1,0,0,0,0,1,1,1,1,0,1,1,1,0]\n",
        "])\n",
        "# f = np.array([\n",
        "#     [-1.78475,2.45939,2.25727,-1.21091,-0.68471,1.35935,1.78288,-0.88683,-0.84745,-0.25446,-0.17094,0.92910,0.84558,1.50294,1.58076,-0.11086,0.72698,0.68284,0.64346,0.25259],\n",
        "#     [0,1,1,0,0,1,1,0,0,0,0,1,1,1,1,0,1,1,1,0]\n",
        "# ])\n",
        "f = f.transpose()\n",
        "\n",
        "# test data\n",
        "a = np.array([ [2, 6, 3], [2, 6, 4], [2, 4, 4], [2,\t5, 3], [2, 5, 5], [3, 5, 4], [2, 5, 4] ])"
      ],
      "metadata": {
        "id": "aCWKb6ipe0do"
      },
      "execution_count": 22,
      "outputs": []
    },
    {
      "cell_type": "code",
      "source": [
        "# модель багатошарової нейронної мережі\n",
        "model = keras.Sequential()\n",
        "#bias_initializer = keras.initializers.HeNormal()\n",
        "\n",
        "# вхідні дані\n",
        "model.add(keras.Input(shape=(3,)))\n",
        "# 1 слой 3 нейрони\n",
        "model.add(Dense(\n",
        "    units=5,                    # кількість нейронів\n",
        "    #input_shape=(3,),           # кількість входів\n",
        "    activation='sigmoid',       # активаційна функція\n",
        "    #use_bias=True,              # використовувати зсув\n",
        "    #bias_initializer='zeros'    # значення зсуву\n",
        "))\n",
        "# 2 слой 3 нейрони\n",
        "model.add(Dense(\n",
        "    units=5,                    # кількість нейронів\n",
        "    #input_shape=(3,),           # кількість входів\n",
        "    activation='sigmoid',       # активаційна функція\n",
        "    #use_bias=True,              # використовувати зсув\n",
        "    #bias_initializer='zeros'    # значення зсуву\n",
        "))\n",
        "# 3 слой 2 нейрони\n",
        "model.add(Dense(\n",
        "    units=2,                    # кількість нейронів\n",
        "    #input_shape=(3,),           # кількість входів\n",
        "    #activation='sigmoid',       # активаційна функція\n",
        "    #use_bias=True,              # використовувати зсув\n",
        "    #bias_initializer='zeros'    # значення зсуву\n",
        "))\n",
        "\n",
        "# loss критерій якості (середня квадратична помилка)\n",
        "# оптимізатор алгоритм градієнтного спуску\n",
        "model.compile(loss='mean_squared_error', optimizer=keras.optimizers.Adam(0.1))\n",
        "# навчання мережі\n",
        "history = model.fit(c, f, epochs=1000, verbose=0)\n",
        "\n",
        "# test network\n",
        "ansv = model.predict(a)\n",
        "for i in ansv:\n",
        "    print(i)\n",
        "\n",
        "# графіки\n",
        "plt.plot(history.history['loss'])\n",
        "plt.grid(True)\n",
        "plt.show()\n",
        "\n",
        "# системна інформація\n",
        "print(history.history.keys(), '\\n')\n",
        "print(\"Model layers: \\n\")\n",
        "print(\"\\t inputs number: \", model.input_shape[1])\n",
        "model_layers = model.layers\n",
        "for layer in model_layers:\n",
        "    print('\\t',layer)\n",
        "print(\"\\t outputs number: \", model.output_shape[1])\n",
        "print('\\nLayers weights: \\n')\n",
        "for layer in model_layers:\n",
        "    print(layer.get_weights(), '\\n')\n",
        "\n",
        "# expected result\n",
        "# [ 0.40290344,  0.        ],\n",
        "# [ 1.30082594,  1.        ],\n",
        "# [-0.31298796,  0.        ],\n",
        "# [-0.27360466,  0.        ],\n",
        "# [ 0.82643962,  1.        ],\n",
        "# [ 0.05047218,  0.        ],\n",
        "# [ 0.62431784,  1.        ]]"
      ],
      "metadata": {
        "id": "OSHcUqRu8BQY",
        "colab": {
          "base_uri": "https://localhost:8080/",
          "height": 983
        },
        "outputId": "fee8a9c8-9238-4fdf-c473-e56cb365c40f"
      },
      "execution_count": 27,
      "outputs": [
        {
          "output_type": "stream",
          "name": "stdout",
          "text": [
            "1/1 [==============================] - 0s 47ms/step\n",
            "[0.7097683  0.75344956]\n",
            "[1.572891  1.1239257]\n",
            "[-0.28631628  0.02229995]\n",
            "[-0.1044398   0.15787753]\n",
            "[0.8672708 1.0104854]\n",
            "[-0.17757803  0.02549574]\n",
            "[0.6913375  0.87418914]\n"
          ]
        },
        {
          "output_type": "display_data",
          "data": {
            "text/plain": [
              "<Figure size 432x288 with 1 Axes>"
            ],
            "image/png": "[encoded data removed]"
          },
          "metadata": {
            "needs_background": "light"
          }
        },
        {
          "output_type": "stream",
          "name": "stdout",
          "text": [
            "dict_keys(['loss']) \n",
            "\n",
            "Model layers: \n",
            "\n",
            "\t inputs number:  3\n",
            "\t <keras.layers.core.dense.Dense object at 0x7fd93ad6dad0>\n",
            "\t <keras.layers.core.dense.Dense object at 0x7fd93af50450>\n",
            "\t <keras.layers.core.dense.Dense object at 0x7fd93b106ed0>\n",
            "\t outputs number:  2\n",
            "\n",
            "Layers weights: \n",
            "\n",
            "[array([[ 0.8265274 ,  0.03731315,  1.0742012 , -1.2988956 ,  0.2575315 ],\n",
            "       [ 1.0048914 ,  0.5227529 , -1.1046615 , -0.7504095 ,  0.3588673 ],\n",
            "       [ 0.46564305,  1.48025   , -0.00456754, -0.90049237, -2.0348947 ]],\n",
            "      dtype=float32), array([ 0.7439292, -6.2039247,  2.8362923, -1.6799365,  2.4976964],\n",
            "      dtype=float32)] \n",
            "\n",
            "[array([[ 0.290265  , -0.2812644 , -0.09911846, -0.8017018 , -0.53655535],\n",
            "       [ 3.2328517 , -2.9774373 ,  0.86977506, -0.15900002,  0.8631026 ],\n",
            "       [-8.60638   ,  2.8890796 , -8.729084  , -6.111184  , -3.5991898 ],\n",
            "       [-0.17593518, -0.72659373, -0.723708  , -0.16771512,  0.42026135],\n",
            "       [-6.6289926 ,  1.0631423 , -5.2836733 , -1.508912  , -3.389487  ]],\n",
            "      dtype=float32), array([ 0.7523808 , -0.08300976, -0.4794425 , -0.40707088, -0.6943096 ],\n",
            "      dtype=float32)] \n",
            "\n",
            "[array([[ 0.41535944,  2.0956016 ],\n",
            "       [-3.6841567 ,  0.8307154 ],\n",
            "       [ 1.3899058 , -0.98967177],\n",
            "       [ 1.7880548 , -0.24553798],\n",
            "       [ 2.388504  , -0.81220406]], dtype=float32), array([ 0.43236178, -0.44244042], dtype=float32)] \n",
            "\n"
          ]
        }
      ]
    }
  ]
}