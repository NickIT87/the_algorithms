{
  "nbformat": 4,
  "nbformat_minor": 0,
  "metadata": {
    "colab": {
      "provenance": [],
      "collapsed_sections": []
    },
    "kernelspec": {
      "name": "python3",
      "display_name": "Python 3"
    },
    "language_info": {
      "name": "python"
    }
  },
  "cells": [
    {
      "cell_type": "code",
      "execution_count": 28,
      "metadata": {
        "id": "La1cOSxw7daQ"
      },
      "outputs": [],
      "source": [
        "import numpy as np\n",
        "import matplotlib.pyplot as plt\n",
        "from tensorflow import keras\n",
        "from tensorflow.keras.layers import Dense"
      ]
    },
    {
      "cell_type": "code",
      "source": [
        "# training data \n",
        "c = np.array([ \n",
        "    [3,1,1,2,3,1,1,3,3,1,3,3,1,2,1,2,3,1,1,3], \n",
        "    [4,6,6,4,4,6,5,4,5,4,6,6,4,6,5,4,6,5,4,5], \n",
        "    [3,5,4,3,5,3,5,4,3,3,3,5,5,5,4,5,4,3,4,5] \n",
        "])\n",
        "c = c.transpose()\n",
        "\n",
        "f = np.array([\n",
        "    [-1.784756126,2.459396867,2.257275088,-1.210910465,-0.6847118428,\n",
        "     1.359352584,1.782888766,-0.8868336222,-0.8474503192,-0.2544613231,\n",
        "     -0.170942218,0.9291020647,0.8455829597,1.502947725,1.580766987,\n",
        "     -0.1108661827,0.7269802854,0.6828444833,0.6434611803,0.2525939635],\n",
        "    [0,1,1,0,0,1,1,0,0,0,0,1,1,1,1,0,1,1,1,0]\n",
        "])\n",
        "# f = np.array([\n",
        "#     [-1.78475,2.45939,2.25727,-1.21091,-0.68471,\n",
        "#      1.35935,1.78288,-0.88683,-0.84745,-0.25446,\n",
        "#      -0.17094,0.92910,0.84558,1.50294,1.58076,\n",
        "#      -0.11086,0.72698,0.68284,0.64346,0.25259],\n",
        "#     [0,1,1,0,0,1,1,0,0,0,0,1,1,1,1,0,1,1,1,0]\n",
        "# ])\n",
        "f = f.transpose()\n",
        "\n",
        "# test data\n",
        "a = np.array([ [2, 6, 3], [2, 6, 4], [2, 4, 4], \n",
        "               [2, 5, 3], [2, 5, 5], [3, 5, 4], [2, 5, 4] ])"
      ],
      "metadata": {
        "id": "aCWKb6ipe0do"
      },
      "execution_count": 29,
      "outputs": []
    },
    {
      "cell_type": "code",
      "source": [
        "# модель багатошарової нейронної мережі\n",
        "model = keras.Sequential()\n",
        "#bias_initializer = keras.initializers.HeNormal()\n",
        "\n",
        "# вхідні дані\n",
        "model.add(keras.Input(shape=(3,)))\n",
        "# 1 слой 3 нейрони\n",
        "model.add(Dense(\n",
        "    units=5,                    # кількість нейронів\n",
        "    #input_shape=(3,),           # кількість входів\n",
        "    activation='sigmoid',       # активаційна функція\n",
        "    #use_bias=True,              # використовувати зсув\n",
        "    #bias_initializer='zeros'    # значення зсуву\n",
        "))\n",
        "# 2 слой 3 нейрони\n",
        "model.add(Dense(\n",
        "    units=5,                    # кількість нейронів\n",
        "    #input_shape=(3,),           # кількість входів\n",
        "    activation='sigmoid',       # активаційна функція\n",
        "    #use_bias=True,              # використовувати зсув\n",
        "    #bias_initializer='zeros'    # значення зсуву\n",
        "))\n",
        "# 3 слой 2 нейрони\n",
        "model.add(Dense(\n",
        "    units=2,                    # кількість нейронів\n",
        "    #input_shape=(3,),           # кількість входів\n",
        "    #activation='sigmoid',       # активаційна функція\n",
        "    #use_bias=True,              # використовувати зсув\n",
        "    #bias_initializer='zeros'    # значення зсуву\n",
        "))\n",
        "\n",
        "# loss критерій якості (середня квадратична помилка)\n",
        "# оптимізатор алгоритм градієнтного спуску\n",
        "model.compile(loss='mean_squared_error', optimizer=keras.optimizers.Adam(0.1))\n",
        "# навчання мережі\n",
        "history = model.fit(c, f, epochs=900, verbose=0)\n",
        "\n",
        "# test network\n",
        "ansv = model.predict(a)\n",
        "for i in ansv:\n",
        "    print(i)\n",
        "\n",
        "# графіки\n",
        "plt.plot(history.history['loss'])\n",
        "plt.grid(True)\n",
        "plt.show()\n",
        "\n",
        "# системна інформація\n",
        "print(history.history.keys(), '\\n')\n",
        "print(\"Model layers: \\n\")\n",
        "print(\"\\t inputs number: \", model.input_shape[1])\n",
        "model_layers = model.layers\n",
        "for layer in model_layers:\n",
        "    print('\\t',layer)\n",
        "print(\"\\t outputs number: \", model.output_shape[1])\n",
        "print('\\nLayers weights: \\n')\n",
        "for layer in model_layers:\n",
        "    print(layer.get_weights(), '\\n')\n",
        "\n",
        "# expected result\n",
        "# [ 0.40290344,  0.        ],\n",
        "# [ 1.30082594,  1.        ],\n",
        "# [-0.31298796,  0.        ],\n",
        "# [-0.27360466,  0.        ],\n",
        "# [ 0.82643962,  1.        ],\n",
        "# [ 0.05047218,  0.        ],\n",
        "# [ 0.62431784,  1.        ]]"
      ],
      "metadata": {
        "id": "OSHcUqRu8BQY",
        "colab": {
          "base_uri": "https://localhost:8080/",
          "height": 1000
        },
        "outputId": "1fa2f3f8-799b-4613-eced-2bd784833350"
      },
      "execution_count": 34,
      "outputs": [
        {
          "output_type": "stream",
          "name": "stdout",
          "text": [
            "1/1 [==============================] - 0s 53ms/step\n",
            "[0.59414554 0.91085124]\n",
            "[1.3614616 1.0660104]\n",
            "[-0.21392941 -0.07090788]\n",
            "[-0.14783275  0.0534854 ]\n",
            "[0.8655317 1.0453739]\n",
            "[ 0.1714127  -0.03241332]\n",
            "[0.7708945  0.96917367]\n"
          ]
        },
        {
          "output_type": "display_data",
          "data": {
            "text/plain": [
              "<Figure size 432x288 with 1 Axes>"
            ],
            "image/png": "[encoded data removed]"
          },
          "metadata": {
            "needs_background": "light"
          }
        },
        {
          "output_type": "stream",
          "name": "stdout",
          "text": [
            "dict_keys(['loss']) \n",
            "\n",
            "Model layers: \n",
            "\n",
            "\t inputs number:  3\n",
            "\t <keras.layers.core.dense.Dense object at 0x7fd942ee4f10>\n",
            "\t <keras.layers.core.dense.Dense object at 0x7fd93b9f4b90>\n",
            "\t <keras.layers.core.dense.Dense object at 0x7fd9434c5bd0>\n",
            "\t outputs number:  2\n",
            "\n",
            "Layers weights: \n",
            "\n",
            "[array([[ 1.8056921 , -0.95756793, -1.2872628 ,  0.15490401, -0.7779725 ],\n",
            "       [-1.4860109 , -1.5605506 ,  2.4044816 , -0.19407457, -1.3028374 ],\n",
            "       [-0.11939642, -1.6436424 , -0.6100203 , -2.2022264 , -0.82869   ]],\n",
            "      dtype=float32), array([ 4.2208285 , -0.84779435, -4.7906246 ,  7.2952414 , -1.0245535 ],\n",
            "      dtype=float32)] \n",
            "\n",
            "[array([[  0.1489686 , -11.132894  ,  -2.016882  ,  -1.3276402 ,\n",
            "         -7.6135087 ],\n",
            "       [  1.1266179 ,  -1.4947221 ,  -0.05826326,  -0.30877095,\n",
            "         -0.24560568],\n",
            "       [ -2.5809429 ,   0.19535626,  -1.2324572 ,   2.578114  ,\n",
            "          4.6987076 ],\n",
            "       [ -2.5455256 ,  -2.4309392 ,  -2.950301  ,  -4.0166836 ,\n",
            "         -8.680062  ],\n",
            "       [ -0.3214979 ,  -0.8993855 ,  -0.46190166,  -0.69648904,\n",
            "         -0.6651983 ]], dtype=float32), array([-1.1613601 ,  0.25899538, -1.138369  ,  0.94464767,  2.294047  ],\n",
            "      dtype=float32)] \n",
            "\n",
            "[array([[ 0.27585492,  0.44154614],\n",
            "       [ 2.693544  , -0.28511462],\n",
            "       [ 1.0362823 , -0.04641153],\n",
            "       [ 2.920409  , -0.46765777],\n",
            "       [ 0.24791716,  1.4512144 ]], dtype=float32), array([-2.13326   ,  0.10765134], dtype=float32)] \n",
            "\n"
          ]
        }
      ]
    }
  ]
}