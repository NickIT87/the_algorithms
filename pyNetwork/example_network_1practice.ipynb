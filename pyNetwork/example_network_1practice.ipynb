{
  "nbformat": 4,
  "nbformat_minor": 0,
  "metadata": {
    "colab": {
      "provenance": [],
      "collapsed_sections": []
    },
    "kernelspec": {
      "name": "python3",
      "display_name": "Python 3"
    },
    "language_info": {
      "name": "python"
    }
  },
  "cells": [
    {
      "cell_type": "code",
      "execution_count": null,
      "metadata": {
        "id": "La1cOSxw7daQ"
      },
      "outputs": [],
      "source": [
        "import numpy as np\n",
        "import matplotlib.pyplot as plt\n",
        "from tensorflow import keras\n",
        "from tensorflow.keras.layers import Dense"
      ]
    },
    {
      "cell_type": "code",
      "source": [
        "# c = np.array([ \n",
        "#     [3,1,1,2,3,1,1,3,3,1,3,3,1,2,1,2,3,1,1,3], \n",
        "#     [4,6,6,4,4,6,5,4,5,4,6,6,4,6,5,4,6,5,4,5], \n",
        "#     [3,5,4,3,5,3,5,4,3,3,3,5,5,5,4,5,4,3,4,5] \n",
        "# ])\n",
        "\n",
        "# f = np.array([\n",
        "#     [-1.784756126,2.459396867,2.257275088,-1.210910465,-0.6847118428,1.359352584,1.782888766,-0.8868336222,-0.8474503192,-0.2544613231,-0.170942218,0.9291020647,0.8455829597,1.502947725,1.580766987,-0.1108661827,0.7269802854,0.6828444833,0.6434611803,0.2525939635],\n",
        "#     [0,1,1,0,0,1,1,0,0,0,0,1,1,1,1,0,1,1,1,0]\n",
        "# ])\n",
        "\n",
        "c2 = np.array([\n",
        "    [3,\t4, 3],\n",
        "    [1, 6, 5],\n",
        "    [1,\t6, 4],\n",
        "    [2,\t4, 3],\n",
        "    [3, 4, 5],\n",
        "    [1, 6, 3],\n",
        "    [1, 5, 5],\n",
        "    [3, 4, 4],\n",
        "    [3,\t5, 3],\n",
        "    [1,\t4, 3],\n",
        "    [3,\t6, 3],\n",
        "    [3,\t6, 5],\n",
        "    [1,\t4, 5],\n",
        "    [2,\t6, 5],\n",
        "    [1,\t5, 4],\n",
        "    [2,\t4, 5],\n",
        "    [3,\t6, 4],\n",
        "    [1,\t5, 3],\n",
        "    [1,\t4, 4],\n",
        "    [3,\t5, 5]\n",
        "])\n",
        "\n",
        "f2 = np.array([\n",
        "    [-1.784756126,0],\n",
        "    [2.459396867,1],\n",
        "    [2.257275088,1],\n",
        "    [-1.210910465,0],\n",
        "    [-0.6847118428,0],\n",
        "    [1.359352584,1],\n",
        "    [1.782888766,1],\n",
        "    [-0.8868336222,0],\n",
        "    [-0.8474503192,0],\n",
        "    [-0.2544613231,0],\n",
        "    [-0.170942218,0],\n",
        "    [0.9291020647,1],\n",
        "    [0.8455829597,1],\n",
        "    [1.502947725,1],\n",
        "    [1.580766987,1],\n",
        "    [-0.1108661827,0],\n",
        "    [0.7269802854,1],\n",
        "    [0.6828444833,1],\n",
        "    [0.6434611803,1],\n",
        "    [0.2525939635,0]\n",
        "])\n",
        "\n",
        "# модель багатошарової нейронної мережі\n",
        "model = keras.Sequential()\n",
        "# units - кількість нейронів\n",
        "# input_shape кількість входів\n",
        "# активаційна функція f(x)=x\n",
        "model.add(Dense(units=3, input_shape=(3,), activation='sigmoid'))\n",
        "model.add(Dense(units=2))\n",
        "# loss критерій якості (середня квадратична помилка)\n",
        "# оптимізатор алгоритма градієнтного спуску\n",
        "model.compile(loss='mean_squared_error', optimizer=keras.optimizers.Adam(0.1))\n",
        "# навчання мережі\n",
        "history = model.fit(c2, f2, epochs=500, verbose=0)\n",
        "# графіки\n",
        "plt.plot(history.history['loss'])\n",
        "plt.grid(True)\n",
        "plt.show()"
      ],
      "metadata": {
        "id": "OSHcUqRu8BQY",
        "colab": {
          "base_uri": "https://localhost:8080/",
          "height": 265
        },
        "outputId": "8dfbed8a-05b1-49e6-8be3-8a72fd40dfed"
      },
      "execution_count": null,
      "outputs": [
        {
          "output_type": "display_data",
          "data": {
            "text/plain": [
              "<Figure size 432x288 with 1 Axes>"
            ],
            "image/png": "[encoded data removed]"
          },
          "metadata": {
            "needs_background": "light"
          }
        }
      ]
    },
    {
      "cell_type": "code",
      "source": [
        "a = np.array([ \n",
        "    [2, 6, 3],\n",
        "    [2,\t6, 4],\n",
        "    [2,\t4, 4],\n",
        "    [2,\t5, 3],\n",
        "    [2,\t5, 5],\n",
        "    [3,\t5, 4],\n",
        "    [2,\t5, 4]\n",
        "])\n",
        "ansv = model.predict(a)\n",
        "\n",
        "for i in ansv:\n",
        "    print(i)"
      ],
      "metadata": {
        "colab": {
          "base_uri": "https://localhost:8080/"
        },
        "id": "Q8AAJI4t-QQM",
        "outputId": "5916a342-7eb3-4e99-c503-564034620247"
      },
      "execution_count": null,
      "outputs": [
        {
          "output_type": "stream",
          "name": "stdout",
          "text": [
            "1/1 [==============================] - 0s 45ms/step\n",
            "[0.8750778  0.71172273]\n",
            "[1.4326415 0.9259661]\n",
            "[-0.5662781  0.1579663]\n",
            "[-0.19932267  0.29890755]\n",
            "[1.101548  0.7987525]\n",
            "[-0.5152872   0.17748277]\n",
            "[0.46430355 0.5538967 ]\n"
          ]
        }
      ]
    },
    {
      "cell_type": "code",
      "source": [
        "b = np.array([\n",
        "    [0.402903442, 0],\n",
        "    [1.300825945, 1],\n",
        "    [-0.3129879621, 0],\n",
        "    [-0.2736046591, 0],\n",
        "    [0.8264396236, 1],\n",
        "    [0.05047218417, 0],\n",
        "    [0.6243178442, 1]\n",
        "])\n",
        "b"
      ],
      "metadata": {
        "colab": {
          "base_uri": "https://localhost:8080/"
        },
        "id": "Altl-_buV3u4",
        "outputId": "6cf128c5-7544-487d-a37a-28c3a357db5e"
      },
      "execution_count": null,
      "outputs": [
        {
          "output_type": "execute_result",
          "data": {
            "text/plain": [
              "array([[ 0.40290344,  0.        ],\n",
              "       [ 1.30082594,  1.        ],\n",
              "       [-0.31298796,  0.        ],\n",
              "       [-0.27360466,  0.        ],\n",
              "       [ 0.82643962,  1.        ],\n",
              "       [ 0.05047218,  0.        ],\n",
              "       [ 0.62431784,  1.        ]])"
            ]
          },
          "metadata": {},
          "execution_count": 15
        }
      ]
    }
  ]
}