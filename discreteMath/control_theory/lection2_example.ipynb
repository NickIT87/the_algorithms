{
 "cells": [
  {
   "cell_type": "markdown",
   "id": "666dbec5-d5e2-4e75-8cf5-ae3d3dd8c036",
   "metadata": {},
   "source": [
    "<h4>Уравнение затухающих колебаний физического маятника с приложенным управлением:</h4>"
   ]
  },
  {
   "cell_type": "markdown",
   "id": "5e992088-cc7c-4d87-9b3d-f796f73c0f66",
   "metadata": {},
   "source": [
    "\\begin{aligned}\n",
    "\\ddot{\\varphi}=-\\frac{g}{l}\\sin\\varphi-K\\dot{\\varphi}+\\mathbb{U}\n",
    "\\end{aligned}"
   ]
  },
  {
   "cell_type": "markdown",
   "id": "7641cf83-ec4f-4565-9583-ffdb66b58c3a",
   "metadata": {},
   "source": [
    "<h4>Уравнение движения математического маятника:</h4> \n",
    "<h6>( пренебрегаем точностью синуса угла, заменяем на угол согласно ур-ю 2 )</h6>"
   ]
  },
  {
   "cell_type": "markdown",
   "id": "49c29ac7-ef85-4b83-ba1e-7aa0669e7b89",
   "metadata": {},
   "source": [
    "\\begin{aligned}\n",
    "\\sin\\varphi\\approx\\varphi+\\mathbb{O}\\left(\\varphi^{2}\\right)\n",
    "\\end{aligned}"
   ]
  },
  {
   "cell_type": "markdown",
   "id": "a26f885e-45bd-43ca-a581-ad5bb56c3e5c",
   "metadata": {},
   "source": [
    "\\begin{aligned}\n",
    "\\ddot{\\varphi}=-\\frac{g}{l}\\varphi-K\\dot{\\varphi}+\\mathbb{U}\n",
    "\\end{aligned}"
   ]
  },
  {
   "cell_type": "markdown",
   "id": "3ec45177-636f-46ec-ae8c-d1a9f2b2c7f0",
   "metadata": {},
   "source": [
    "<h4>Согласно 2 закона Ньютона F=ma получим:</h4>"
   ]
  },
  {
   "cell_type": "markdown",
   "id": "a594b6d5-6a5e-4ac1-ae15-e09aed59e8f1",
   "metadata": {},
   "source": [
    "\\begin{aligned}\n",
    "\\left\\{ \n",
    "\\begin{array}{cl} \n",
    "a_{\\tau} & = \\ l\\ddot{\\varphi} \\\\\n",
    "a_{n} & = \\ \\frac{v^2}{l} = \\frac{l^2\\dot{\\varphi}^2}{l} = l\\dot{\\varphi}^2 \n",
    "\\end{array}\n",
    "\\right.\n",
    "\\end{aligned}"
   ]
  },
  {
   "cell_type": "markdown",
   "id": "ed10f560-c997-4103-89fa-a6be96189a24",
   "metadata": {},
   "source": [
    "\\begin{aligned}\n",
    "ma_{\\tau}=F\\tau=\\mathbb{U}-mg\\sin\\varphi\n",
    "\\end{aligned}"
   ]
  },
  {
   "cell_type": "markdown",
   "id": "f1b47e25-5ea3-42ad-8a1f-8f0f143d32d0",
   "metadata": {},
   "source": [
    "\\begin{aligned}\n",
    "\\mathbb{U}=0\n",
    "\\end{aligned}\n",
    "\\begin{aligned}\n",
    "ml\\ddot{\\varphi}=-mg\\sin\\varphi\n",
    "\\end{aligned}\n",
    "\\begin{aligned}\n",
    "\\varphi=-\\frac{g}{l}\\sin\\varphi\n",
    "\\end{aligned}"
   ]
  },
  {
   "cell_type": "markdown",
   "id": "70ab5870-5483-415a-a884-21aada76e889",
   "metadata": {},
   "source": [
    "<h4>Сформируем условия задачи для проверки системы на управляемость:</h4>"
   ]
  },
  {
   "cell_type": "markdown",
   "id": "48fbdb95-7612-47ef-86d5-50c6a4643c05",
   "metadata": {},
   "source": [
    "\\begin{aligned}\n",
    "x = \\binom{x_{1}}{x_{2}}:x_{1}=\\varphi,x_{2}=\\dot{\\varphi};\n",
    "\\end{aligned}\n",
    "\\begin{aligned}\n",
    "\\left\\{ \n",
    "\\begin{array}{cl} \n",
    "\\dot{x_{1}}&=x_{2} \\\\\n",
    "\\dot{x_{2}}&=-\\frac{g}{l}x_{1}-Kx_{2}+\\mathbb{U}\n",
    "\\end{array}\n",
    "\\right.\n",
    "\\end{aligned}\n",
    "\\begin{aligned}\n",
    "\\dot{x}=A_{x}+B_{\\mathbb{U}}\n",
    "\\end{aligned}"
   ]
  },
  {
   "cell_type": "code",
   "execution_count": 1,
   "id": "698089d2-6a87-40d0-9ea4-bdb19fe424fa",
   "metadata": {},
   "outputs": [],
   "source": [
    "import numpy as np\n",
    "import numpy.linalg as LA\n",
    "from scipy.constants import g"
   ]
  },
  {
   "cell_type": "code",
   "execution_count": 18,
   "id": "aef95855-fbea-4882-9856-8dfaff40d690",
   "metadata": {},
   "outputs": [
    {
     "data": {
      "text/plain": [
       "-0.49033249999999995"
      ]
     },
     "execution_count": 18,
     "metadata": {},
     "output_type": "execute_result"
    }
   ],
   "source": [
    "# n = 2\n",
    "l = 20     # length\n",
    "K = 0.08   # constant of friction\n",
    "n_gl = -(g/l)\n",
    "n_gl"
   ]
  },
  {
   "cell_type": "code",
   "execution_count": 21,
   "id": "3c89da60-1d65-4db7-8258-cc8fd27e24cc",
   "metadata": {},
   "outputs": [
    {
     "data": {
      "text/plain": [
       "array([[ 0.       ,  1.       ],\n",
       "       [-0.4903325, -0.08     ]])"
      ]
     },
     "execution_count": 21,
     "metadata": {},
     "output_type": "execute_result"
    }
   ],
   "source": [
    "A = np.array([\n",
    "    [0,     1],\n",
    "    [n_gl, -K]\n",
    "])\n",
    "A"
   ]
  },
  {
   "cell_type": "code",
   "execution_count": 22,
   "id": "3a9698b8-d4f9-4747-8326-0194f24e5d11",
   "metadata": {},
   "outputs": [
    {
     "data": {
      "text/plain": [
       "array([[0],\n",
       "       [1]])"
      ]
     },
     "execution_count": 22,
     "metadata": {},
     "output_type": "execute_result"
    }
   ],
   "source": [
    "B = np.array([[0],[1]])\n",
    "B"
   ]
  },
  {
   "cell_type": "code",
   "execution_count": 23,
   "id": "9f4c8720-47ff-496a-8ca8-726705cc6e89",
   "metadata": {},
   "outputs": [
    {
     "data": {
      "text/plain": [
       "array([[ 1.  ],\n",
       "       [-0.08]])"
      ]
     },
     "execution_count": 23,
     "metadata": {},
     "output_type": "execute_result"
    }
   ],
   "source": [
    "AB = A.dot(B)\n",
    "AB"
   ]
  },
  {
   "cell_type": "code",
   "execution_count": 24,
   "id": "c30a9a7e-30fd-476f-a2f6-8614f696cfbf",
   "metadata": {},
   "outputs": [
    {
     "data": {
      "text/plain": [
       "array([[ 0.  ,  1.  ],\n",
       "       [ 1.  , -0.08]])"
      ]
     },
     "execution_count": 24,
     "metadata": {},
     "output_type": "execute_result"
    }
   ],
   "source": [
    "K_m = np.array([\n",
    "    [B[0][0], AB[0][0]],\n",
    "    [B[1][0], AB[1][0]]\n",
    "])\n",
    "K_m"
   ]
  },
  {
   "cell_type": "code",
   "execution_count": 25,
   "id": "d2bec5e8-1d3c-40b5-a9d6-9b64817da5f2",
   "metadata": {},
   "outputs": [
    {
     "data": {
      "text/plain": [
       "-1.0"
      ]
     },
     "execution_count": 25,
     "metadata": {},
     "output_type": "execute_result"
    }
   ],
   "source": [
    "LA.det(K_m)"
   ]
  },
  {
   "cell_type": "code",
   "execution_count": 26,
   "id": "10c195f3-95e4-4643-ba02-02d482f16236",
   "metadata": {},
   "outputs": [
    {
     "data": {
      "text/plain": [
       "2"
      ]
     },
     "execution_count": 26,
     "metadata": {},
     "output_type": "execute_result"
    }
   ],
   "source": [
    "LA.matrix_rank(K_m)"
   ]
  },
  {
   "cell_type": "markdown",
   "id": "99c2d6d7-5107-4608-a351-727e0987adce",
   "metadata": {},
   "source": [
    "<h4>Вывод: определитель != 0 и ранг = 2, система управляема.</h4>"
   ]
  }
 ],
 "metadata": {
  "kernelspec": {
   "display_name": "Python 3 (ipykernel)",
   "language": "python",
   "name": "python3"
  },
  "language_info": {
   "codemirror_mode": {
    "name": "ipython",
    "version": 3
   },
   "file_extension": ".py",
   "mimetype": "text/x-python",
   "name": "python",
   "nbconvert_exporter": "python",
   "pygments_lexer": "ipython3",
   "version": "3.10.5"
  }
 },
 "nbformat": 4,
 "nbformat_minor": 5
}
