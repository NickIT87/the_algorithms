{
 "cells": [
  {
   "cell_type": "markdown",
   "id": "666dbec5-d5e2-4e75-8cf5-ae3d3dd8c036",
   "metadata": {},
   "source": [
    "<h4>Уравнение затухающих колебаний физического маятника с приложенным управлением:</h4>"
   ]
  },
  {
   "cell_type": "markdown",
   "id": "5e992088-cc7c-4d87-9b3d-f796f73c0f66",
   "metadata": {},
   "source": [
    "\\begin{aligned}\n",
    "\\ddot{\\varphi}=-\\frac{g}{l}\\sin\\varphi-\\mathcal{k}\\dot{\\varphi}+\\mathbb{U}\n",
    "\\end{aligned}"
   ]
  },
  {
   "cell_type": "markdown",
   "id": "7641cf83-ec4f-4565-9583-ffdb66b58c3a",
   "metadata": {},
   "source": [
    "<h4>Уравнение движения математического маятника:</h4> \n",
    "<h6>( пренебрегаем точностью синуса угла, заменяем на угол согласно ур-ю 2 )</h6>"
   ]
  },
  {
   "cell_type": "markdown",
   "id": "49c29ac7-ef85-4b83-ba1e-7aa0669e7b89",
   "metadata": {},
   "source": [
    "\\begin{aligned}\n",
    "\\sin\\varphi\\approx\\varphi+\\mathbb{O}\\left(\\varphi^{2}\\right)\n",
    "\\end{aligned}"
   ]
  },
  {
   "cell_type": "markdown",
   "id": "a26f885e-45bd-43ca-a581-ad5bb56c3e5c",
   "metadata": {},
   "source": [
    "\\begin{aligned}\n",
    "\\ddot{\\varphi}=-\\frac{g}{l}\\varphi-\\mathcal{k}\\dot{\\varphi}+\\mathbb{U}\n",
    "\\end{aligned}"
   ]
  },
  {
   "cell_type": "markdown",
   "id": "3ec45177-636f-46ec-ae8c-d1a9f2b2c7f0",
   "metadata": {},
   "source": [
    "<h4>Согласно 2 закона Ньютона F=ma получим:</h4>"
   ]
  },
  {
   "cell_type": "markdown",
   "id": "a594b6d5-6a5e-4ac1-ae15-e09aed59e8f1",
   "metadata": {},
   "source": [
    "\\begin{aligned}\n",
    "\\left\\{ \n",
    "\\begin{array}{cl} \n",
    "a_{\\tau} & = \\ l\\ddot{\\varphi} \\\\\n",
    "a_{n} & = \\ \\frac{v^2}{l} = \\frac{l^2\\dot{\\varphi}^2}{l} = l\\dot{\\varphi}^2 \n",
    "\\end{array}\n",
    "\\right.\n",
    "\\end{aligned}"
   ]
  },
  {
   "cell_type": "code",
   "execution_count": null,
   "id": "6c99b8a8-c82c-49e5-8ab0-29d5f0fa16b9",
   "metadata": {},
   "outputs": [],
   "source": []
  }
 ],
 "metadata": {
  "kernelspec": {
   "display_name": "Python 3 (ipykernel)",
   "language": "python",
   "name": "python3"
  },
  "language_info": {
   "codemirror_mode": {
    "name": "ipython",
    "version": 3
   },
   "file_extension": ".py",
   "mimetype": "text/x-python",
   "name": "python",
   "nbconvert_exporter": "python",
   "pygments_lexer": "ipython3",
   "version": "3.10.5"
  }
 },
 "nbformat": 4,
 "nbformat_minor": 5
}
