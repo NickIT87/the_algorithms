{
 "cells": [
  {
   "cell_type": "markdown",
   "id": "33ae975b-1564-45b5-aaa7-ddc216a0f36b",
   "metadata": {},
   "source": [
    "исследовать на управляемость систему\n",
    "\n",
    "*X1 = X2,\n",
    "*X2 = U"
   ]
  },
  {
   "cell_type": "code",
   "execution_count": 10,
   "id": "8d974703-01c7-4275-8172-15f92884c930",
   "metadata": {},
   "outputs": [],
   "source": [
    "import numpy as np\n",
    "from numpy import linalg as LA"
   ]
  },
  {
   "cell_type": "code",
   "execution_count": 2,
   "id": "b876a0aa-d2bc-4509-be05-f5c61c6984a7",
   "metadata": {},
   "outputs": [],
   "source": [
    "A = np.array([ [0, 1], [0, 0] ])\n",
    "B = np.array([ [0], [1] ])"
   ]
  },
  {
   "cell_type": "code",
   "execution_count": 4,
   "id": "eb1e8c55-89b2-4ec2-8f91-676318e91f08",
   "metadata": {},
   "outputs": [
    {
     "data": {
      "text/plain": [
       "array([[1],\n",
       "       [0]])"
      ]
     },
     "execution_count": 4,
     "metadata": {},
     "output_type": "execute_result"
    }
   ],
   "source": [
    "AB = A.dot(B)\n",
    "AB"
   ]
  },
  {
   "cell_type": "code",
   "execution_count": 9,
   "id": "735147a2-9b11-4dfe-a221-03c37dab9b22",
   "metadata": {},
   "outputs": [
    {
     "data": {
      "text/plain": [
       "array([[0, 1],\n",
       "       [1, 0]])"
      ]
     },
     "execution_count": 9,
     "metadata": {},
     "output_type": "execute_result"
    }
   ],
   "source": [
    "# K = (B, AB)\n",
    "\n",
    "K = np.array([\n",
    "    [ B[0][0], AB[0][0] ],\n",
    "    [ B[1][0], AB[1][0] ]\n",
    "])\n",
    "K"
   ]
  },
  {
   "cell_type": "code",
   "execution_count": 14,
   "id": "00374374-9ac2-4499-8459-5f2b727b1149",
   "metadata": {},
   "outputs": [
    {
     "data": {
      "text/plain": [
       "-1.0"
      ]
     },
     "execution_count": 14,
     "metadata": {},
     "output_type": "execute_result"
    }
   ],
   "source": [
    "LA.det(K)"
   ]
  },
  {
   "cell_type": "code",
   "execution_count": 12,
   "id": "5646d579-80c7-4535-a010-f5c1e1ce0dc9",
   "metadata": {},
   "outputs": [
    {
     "data": {
      "text/plain": [
       "2"
      ]
     },
     "execution_count": 12,
     "metadata": {},
     "output_type": "execute_result"
    }
   ],
   "source": [
    "LA.matrix_rank(K)"
   ]
  }
 ],
 "metadata": {
  "kernelspec": {
   "display_name": "Python 3 (ipykernel)",
   "language": "python",
   "name": "python3"
  },
  "language_info": {
   "codemirror_mode": {
    "name": "ipython",
    "version": 3
   },
   "file_extension": ".py",
   "mimetype": "text/x-python",
   "name": "python",
   "nbconvert_exporter": "python",
   "pygments_lexer": "ipython3",
   "version": "3.10.5"
  }
 },
 "nbformat": 4,
 "nbformat_minor": 5
}
