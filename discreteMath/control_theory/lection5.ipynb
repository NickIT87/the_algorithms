{
 "cells": [
  {
   "cell_type": "markdown",
   "id": "bfca365a-09b0-45ce-b922-24621ba04dc7",
   "metadata": {},
   "source": [
    "<h4>Алгоритм решения задачи стабилизации для системы:</h4>"
   ]
  },
  {
   "cell_type": "markdown",
   "id": "93bf4775-5af3-47d5-a0a1-1b5bf5790756",
   "metadata": {},
   "source": [
    "\\begin{aligned}\n",
    "\\dot{x} = A_{x} + B_{u}\n",
    "\\end{aligned}\n",
    "\\begin{aligned}\n",
    "x \\in R^n, u \\in R\n",
    "\\end{aligned}"
   ]
  },
  {
   "cell_type": "markdown",
   "id": "e0d15b09-1f75-4c56-bbff-85eb86360894",
   "metadata": {},
   "source": [
    "<h5>1. Запишем матрицу K=(k1, k2, ... kn)</h5>"
   ]
  },
  {
   "cell_type": "markdown",
   "id": "fc49766b-7e56-43d7-918e-a4e66606f04d",
   "metadata": {},
   "source": [
    "<h5>2. Вычислим F = A + BK</h5>"
   ]
  },
  {
   "cell_type": "markdown",
   "id": "b30d0641-a8e7-4dcb-aa1e-1bb322b1d2a1",
   "metadata": {},
   "source": [
    "<h5>3. Запишем характеристический многочлен матрицы F</h5>"
   ]
  },
  {
   "cell_type": "markdown",
   "id": "bae72623-9800-43d5-a7c8-e62c465ac90d",
   "metadata": {},
   "source": [
    "\\begin{aligned}\n",
    "P\\left(\\lambda\\right)=\\det\\left(F-\\lambda I\\right)=C_{n}\\lambda^n+C_{n}-1^{\\lambda^{R-1}}+...+C_{1}\\lambda+C_{0}\n",
    "\\end{aligned}"
   ]
  },
  {
   "cell_type": "markdown",
   "id": "a5361506-23a3-4055-9a30-a454251997fe",
   "metadata": {},
   "source": [
    "<h5>4. Коэффициенты cj зависят от k1,k2...kn.</h5>\n",
    "<h5>Подберем k1,k2...kn так, чтобы все корни многочлена P(lambda) имели отрицательные вещественные части</h5>"
   ]
  },
  {
   "cell_type": "code",
   "execution_count": null,
   "id": "b6113eb6-acc0-4a7e-b5b9-450653480292",
   "metadata": {},
   "outputs": [],
   "source": []
  }
 ],
 "metadata": {
  "kernelspec": {
   "display_name": "Python 3 (ipykernel)",
   "language": "python",
   "name": "python3"
  },
  "language_info": {
   "codemirror_mode": {
    "name": "ipython",
    "version": 3
   },
   "file_extension": ".py",
   "mimetype": "text/x-python",
   "name": "python",
   "nbconvert_exporter": "python",
   "pygments_lexer": "ipython3",
   "version": "3.10.5"
  }
 },
 "nbformat": 4,
 "nbformat_minor": 5
}
