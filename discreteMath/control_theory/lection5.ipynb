{
 "cells": [
  {
   "cell_type": "markdown",
   "id": "bfca365a-09b0-45ce-b922-24621ba04dc7",
   "metadata": {},
   "source": [
    "<h4>Алгоритм решения задачи стабилизации для системы:</h4>"
   ]
  },
  {
   "cell_type": "markdown",
   "id": "93bf4775-5af3-47d5-a0a1-1b5bf5790756",
   "metadata": {},
   "source": [
    "\\begin{aligned}\n",
    "\\dot{x} = A_{x} + B_{u}\n",
    "\\end{aligned}\n",
    "\\begin{aligned}\n",
    "x \\in R^n, u \\in R\n",
    "\\end{aligned}"
   ]
  },
  {
   "cell_type": "markdown",
   "id": "e0d15b09-1f75-4c56-bbff-85eb86360894",
   "metadata": {},
   "source": [
    "<h5>1. Запишем матрицу K=(k1, k2, ... kn)</h5>"
   ]
  },
  {
   "cell_type": "markdown",
   "id": "fc49766b-7e56-43d7-918e-a4e66606f04d",
   "metadata": {},
   "source": [
    "<h5>2. Вычислим F = A + BK</h5>"
   ]
  },
  {
   "cell_type": "markdown",
   "id": "b30d0641-a8e7-4dcb-aa1e-1bb322b1d2a1",
   "metadata": {},
   "source": [
    "<h5>3. Запишем характеристический многочлен матрицы F</h5>"
   ]
  },
  {
   "cell_type": "markdown",
   "id": "bae72623-9800-43d5-a7c8-e62c465ac90d",
   "metadata": {},
   "source": [
    "\\begin{aligned}\n",
    "P\\left(\\lambda\\right)=\\det\\left(F-\\lambda I\\right)=C_{n}\\lambda^n+C_{n}-1^{\\lambda^{R-1}}+...+C_{1}\\lambda+C_{0}\n",
    "\\end{aligned}"
   ]
  },
  {
   "cell_type": "markdown",
   "id": "a5361506-23a3-4055-9a30-a454251997fe",
   "metadata": {},
   "source": [
    "<h5>4. Коэффициенты cj зависят от k1,k2...kn.</h5>\n",
    "<h5>Подберем k1,k2...kn так, чтобы все корни многочлена P(lambda) имели отрицательные вещественные части</h5>"
   ]
  },
  {
   "cell_type": "markdown",
   "id": "baa701c2-8d40-475d-bb57-86d2bf4483b0",
   "metadata": {},
   "source": [
    "<h6>Например, выберем k1, k2, ... kn из условия:</h6>"
   ]
  },
  {
   "cell_type": "markdown",
   "id": "4d450070-fed3-4172-a734-4ec7a54740ff",
   "metadata": {},
   "source": [
    "\\begin{aligned}\n",
    "\\lambda1=\\lambda2= ... \\lambda n=-1\n",
    "\\end{aligned}\n",
    "<h6>т.е.</h6>"
   ]
  },
  {
   "cell_type": "markdown",
   "id": "017b0dd6-5754-4fb2-9729-c1d57477456d",
   "metadata": {},
   "source": [
    "\\begin{aligned}\n",
    "\\pm \\left( \\lambda + 1 \\right)^n\\equiv \\mathrm{P}\\left( \\lambda \\right)\n",
    "\\end{aligned}"
   ]
  },
  {
   "cell_type": "markdown",
   "id": "e02adc7a-b527-4701-8383-f171ad82df2c",
   "metadata": {},
   "source": [
    "<h5>5. Тогда управление с обратной связью u=Kx решает задачу стабилизации системы (1)</h5>"
   ]
  },
  {
   "cell_type": "markdown",
   "id": "4553e46d-6954-483d-b3ae-b77b4ab06da0",
   "metadata": {},
   "source": [
    "<h6>Пример:</h6>"
   ]
  },
  {
   "cell_type": "markdown",
   "id": "27d5f32e-4909-4a6e-90d2-902751642487",
   "metadata": {},
   "source": [
    "\\begin{aligned}\n",
    "\\left\\{ \n",
    "\\begin{array}{cl}\n",
    "\\dot{x_1} & = x_2 \\\\\n",
    "\\dot{x_2} & = \\mathbb{u}\n",
    "\\end{array} \n",
    "\\right.\n",
    "\\end{aligned}\n",
    "\\begin{aligned}\n",
    "n = 2\n",
    "\\end{aligned}"
   ]
  },
  {
   "cell_type": "markdown",
   "id": "744f3fdc-d1b0-4792-957c-8c4900fe7e4b",
   "metadata": {},
   "source": [
    "<h6>K = (k1, k2)</h6>"
   ]
  },
  {
   "cell_type": "code",
   "execution_count": 1,
   "id": "6058d620-812b-4b67-bb9a-55d43a514c57",
   "metadata": {},
   "outputs": [],
   "source": [
    "import numpy as np\n",
    "from numpy import linalg as LA"
   ]
  },
  {
   "cell_type": "code",
   "execution_count": 2,
   "id": "6eea3338-7595-4056-acb4-c67647b52537",
   "metadata": {},
   "outputs": [
    {
     "data": {
      "text/plain": [
       "array([[0, 1],\n",
       "       [0, 0]])"
      ]
     },
     "execution_count": 2,
     "metadata": {},
     "output_type": "execute_result"
    }
   ],
   "source": [
    "A = np.array([ \n",
    "    [0, 1],\n",
    "    [0, 0]\n",
    "])\n",
    "A"
   ]
  },
  {
   "cell_type": "code",
   "execution_count": 3,
   "id": "cf361656-daf1-4e48-a8b0-8b40aa2edcc8",
   "metadata": {},
   "outputs": [
    {
     "data": {
      "text/plain": [
       "array([[0],\n",
       "       [1]])"
      ]
     },
     "execution_count": 3,
     "metadata": {},
     "output_type": "execute_result"
    }
   ],
   "source": [
    "B = np.array([ [0], [1] ])\n",
    "B"
   ]
  },
  {
   "cell_type": "code",
   "execution_count": 4,
   "id": "0d880e7c-b43c-4795-b3de-c9db9e8347cb",
   "metadata": {},
   "outputs": [
    {
     "data": {
      "text/plain": [
       "array([[-1, -2]])"
      ]
     },
     "execution_count": 4,
     "metadata": {},
     "output_type": "execute_result"
    }
   ],
   "source": [
    "K = np.array([ ['-1', '-2'] ], dtype='int')\n",
    "K"
   ]
  },
  {
   "cell_type": "markdown",
   "id": "4f1a2ef5-dba5-4031-9bda-7b37b6147b3a",
   "metadata": {},
   "source": [
    "\\begin{aligned}\n",
    "F=\\begin{pmatrix}0&1\\\\0&0\\end{pmatrix}+\\begin{pmatrix}0\\\\1\\end{pmatrix}\\begin{pmatrix}k_1&k_2\\end{pmatrix}=\\begin{pmatrix}0&1\\\\k_1&k_2\\end{pmatrix}\n",
    "\\end{aligned}"
   ]
  },
  {
   "cell_type": "code",
   "execution_count": 5,
   "id": "80da73f2-610a-49c2-9469-a700f8f98cf0",
   "metadata": {},
   "outputs": [
    {
     "data": {
      "text/plain": [
       "array([[ 0,  1],\n",
       "       [-1, -2]])"
      ]
     },
     "execution_count": 5,
     "metadata": {},
     "output_type": "execute_result"
    }
   ],
   "source": [
    "F = A + B.dot(K)\n",
    "F"
   ]
  },
  {
   "cell_type": "code",
   "execution_count": 6,
   "id": "25f0c8bd-776a-48d0-a2f2-eecd262f4b00",
   "metadata": {},
   "outputs": [
    {
     "data": {
      "text/plain": [
       "array([[ 1,  1],\n",
       "       [-1, -1]])"
      ]
     },
     "execution_count": 6,
     "metadata": {},
     "output_type": "execute_result"
    }
   ],
   "source": [
    "I = np.eye(2, dtype='int')\n",
    "lmbd = -1\n",
    "F - I.dot(lmbd)"
   ]
  },
  {
   "cell_type": "code",
   "execution_count": 7,
   "id": "b91ec0d1-9492-4b8d-bf83-836fc9400ecf",
   "metadata": {},
   "outputs": [
    {
     "data": {
      "text/plain": [
       "0.0"
      ]
     },
     "execution_count": 7,
     "metadata": {},
     "output_type": "execute_result"
    }
   ],
   "source": [
    "Plmbd = LA.det(F - I.dot(lmbd))\n",
    "Plmbd"
   ]
  },
  {
   "cell_type": "markdown",
   "id": "64a54d3a-90ff-493b-a3e4-8bd563e758bc",
   "metadata": {},
   "source": [
    "\\begin{aligned}\n",
    "P\\left(\\lambda\\right)=\\begin{vmatrix}-\\lambda&1\\\\k_1&k_2-\\lambda\\end{vmatrix}=-\\lambda\\left(k_2-\\lambda\\right)-k_1=\\lambda^2-K_2\\lambda-k_1=0\n",
    "\\end{aligned}"
   ]
  },
  {
   "cell_type": "markdown",
   "id": "34f0353f-a441-407a-8b2a-1899c3f5249b",
   "metadata": {},
   "source": [
    "\\begin{aligned}\n",
    "\\lambda^2-K_2\\lambda-k_1\\equiv\\left(\\lambda+1\\right)^2=\\lambda^2+2\\lambda+1\n",
    "\\end{aligned}"
   ]
  },
  {
   "cell_type": "markdown",
   "id": "84af7e99-ac27-4d83-b08b-81b593c9340d",
   "metadata": {},
   "source": [
    "\\begin{aligned}\n",
    "u=\\begin{pmatrix}-1&-2\\end{pmatrix}\\begin{pmatrix}x_1\\\\x_2\\end{pmatrix}=-x_1-2x_2\n",
    "\\end{aligned}"
   ]
  }
 ],
 "metadata": {
  "kernelspec": {
   "display_name": "Python 3 (ipykernel)",
   "language": "python",
   "name": "python3"
  },
  "language_info": {
   "codemirror_mode": {
    "name": "ipython",
    "version": 3
   },
   "file_extension": ".py",
   "mimetype": "text/x-python",
   "name": "python",
   "nbconvert_exporter": "python",
   "pygments_lexer": "ipython3",
   "version": "3.10.6"
  }
 },
 "nbformat": 4,
 "nbformat_minor": 5
}
