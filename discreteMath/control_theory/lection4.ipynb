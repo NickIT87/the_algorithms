{
 "cells": [
  {
   "cell_type": "markdown",
   "id": "67994103-5b13-4cf7-9955-81dc01711888",
   "metadata": {},
   "source": [
    "<h4>Привести систему к канонической форме Бруновского: </h4>"
   ]
  },
  {
   "cell_type": "markdown",
   "id": "3fa1a729-bd10-4626-9330-fd634ce46ea5",
   "metadata": {},
   "source": [
    "\\begin{aligned}\n",
    "\\left\\{ \n",
    "\\begin{array}{cl}\n",
    "\\dot{x_{1}}&= \\ x_{2} + 2x_{3} \\\\\n",
    "\\dot{x_{2}}&= \\ -x_{1} + x_{2} \\\\\n",
    "\\dot{x_{3}}&= \\ x_{2} + \\mathbb{u}\n",
    "\\end{array}\n",
    "\\right.\n",
    "\\end{aligned}\n",
    "\\begin{aligned}\n",
    "\\dot{x}=A_{x}+B_{\\mathbb{u}}, x \\in \\mathbb{R^3}\n",
    "\\end{aligned}"
   ]
  },
  {
   "cell_type": "code",
   "execution_count": 1,
   "id": "f11b8425-30a7-4036-8f61-9ce44007be8b",
   "metadata": {},
   "outputs": [],
   "source": [
    "import numpy as np\n",
    "from numpy import linalg as LA"
   ]
  },
  {
   "cell_type": "code",
   "execution_count": 4,
   "id": "d691dfac-c2f7-4211-bd63-2500a9e0bdc0",
   "metadata": {},
   "outputs": [
    {
     "data": {
      "text/plain": [
       "array([[ 0,  1,  2],\n",
       "       [-1,  1,  0],\n",
       "       [ 0,  1,  0]])"
      ]
     },
     "execution_count": 4,
     "metadata": {},
     "output_type": "execute_result"
    }
   ],
   "source": [
    "A = np.array([ [ 0, 1, 2], [-1, 1, 0], [ 0, 1, 0] ])\n",
    "A"
   ]
  },
  {
   "cell_type": "code",
   "execution_count": 6,
   "id": "4820e06b-7282-44fb-bc1a-98abf28f237a",
   "metadata": {},
   "outputs": [
    {
     "data": {
      "text/plain": [
       "array([[0],\n",
       "       [0],\n",
       "       [1]])"
      ]
     },
     "execution_count": 6,
     "metadata": {},
     "output_type": "execute_result"
    }
   ],
   "source": [
    "B = np.array([ [0], [0], [1] ])\n",
    "B"
   ]
  },
  {
   "cell_type": "code",
   "execution_count": 7,
   "id": "afa8e422-2300-4947-a821-9cf5ff7a42aa",
   "metadata": {},
   "outputs": [
    {
     "data": {
      "text/plain": [
       "array([[2],\n",
       "       [0],\n",
       "       [0]])"
      ]
     },
     "execution_count": 7,
     "metadata": {},
     "output_type": "execute_result"
    }
   ],
   "source": [
    "AB = A.dot(B)\n",
    "AB"
   ]
  },
  {
   "cell_type": "code",
   "execution_count": 10,
   "id": "2d20ea76-5c47-4ed5-bd90-4457bc269c7f",
   "metadata": {},
   "outputs": [
    {
     "data": {
      "text/plain": [
       "array([[ 0],\n",
       "       [-2],\n",
       "       [ 0]])"
      ]
     },
     "execution_count": 10,
     "metadata": {},
     "output_type": "execute_result"
    }
   ],
   "source": [
    "A2B = A.dot(AB)\n",
    "A2B"
   ]
  },
  {
   "cell_type": "code",
   "execution_count": 11,
   "id": "6e7a792b-67ea-4593-be3c-a11e7f685546",
   "metadata": {},
   "outputs": [
    {
     "data": {
      "text/plain": [
       "array([[ 0,  2,  0],\n",
       "       [ 0,  0, -2],\n",
       "       [ 1,  0,  0]])"
      ]
     },
     "execution_count": 11,
     "metadata": {},
     "output_type": "execute_result"
    }
   ],
   "source": [
    "K = np.array([ \n",
    "    [ B[0][0], AB[0][0], A2B[0][0] ],\n",
    "    [ B[1][0], AB[1][0], A2B[1][0] ],\n",
    "    [ B[2][0], AB[2][0], A2B[2][0] ]\n",
    "])\n",
    "K"
   ]
  },
  {
   "cell_type": "code",
   "execution_count": 12,
   "id": "04c06b55-8410-48c6-a49f-3c755c148aa0",
   "metadata": {},
   "outputs": [
    {
     "data": {
      "text/plain": [
       "-4.0"
      ]
     },
     "execution_count": 12,
     "metadata": {},
     "output_type": "execute_result"
    }
   ],
   "source": [
    "LA.det(K)"
   ]
  },
  {
   "cell_type": "code",
   "execution_count": 13,
   "id": "c1520e6a-a7fa-4fff-8ae9-7a13ba0dc086",
   "metadata": {},
   "outputs": [
    {
     "data": {
      "text/plain": [
       "3"
      ]
     },
     "execution_count": 13,
     "metadata": {},
     "output_type": "execute_result"
    }
   ],
   "source": [
    "LA.matrix_rank(K)"
   ]
  },
  {
   "cell_type": "code",
   "execution_count": 14,
   "id": "4abc323a-2b91-4da3-9219-9468c8de51a2",
   "metadata": {},
   "outputs": [
    {
     "data": {
      "text/plain": [
       "array([0, 1, 0])"
      ]
     },
     "execution_count": 14,
     "metadata": {},
     "output_type": "execute_result"
    }
   ],
   "source": [
    "# c = (c1, c2, c3) != 0\n",
    "# cB = 0, cAB = 0\n",
    "c = np.array([ 0, 1, 0 ])\n",
    "c"
   ]
  },
  {
   "cell_type": "markdown",
   "id": "ceee331e-1d10-4825-a078-c59cab2a6e36",
   "metadata": {},
   "source": [
    "\\begin{aligned}\n",
    "\\bar{x} = D_{x}\n",
    "\\end{aligned}\n",
    "\\begin{aligned}\n",
    "\\bar{\\mathbb{u}} = \\alpha_{\\mathbb{u}} + \\beta_{x}\n",
    "\\end{aligned}\n",
    "\\begin{aligned}\n",
    "D = \\begin{pmatrix}\n",
    "c \\\\\n",
    "cA \\\\\n",
    "cA^2\n",
    "\\end{pmatrix}\n",
    "\\end{aligned}\n",
    "\\begin{aligned}\n",
    "\\alpha = cA^2B;\\ \\beta = cA^3\n",
    "\\end{aligned}"
   ]
  },
  {
   "cell_type": "code",
   "execution_count": 16,
   "id": "a225614f-c91a-40cb-a51b-6bb112e68001",
   "metadata": {},
   "outputs": [
    {
     "data": {
      "text/plain": [
       "array([-1,  1,  0])"
      ]
     },
     "execution_count": 16,
     "metadata": {},
     "output_type": "execute_result"
    }
   ],
   "source": [
    "cA = c.dot(A)\n",
    "cA"
   ]
  },
  {
   "cell_type": "code",
   "execution_count": 17,
   "id": "9868a0b6-a537-40dd-89db-e45f84606eb7",
   "metadata": {},
   "outputs": [
    {
     "data": {
      "text/plain": [
       "array([-1,  0, -2])"
      ]
     },
     "execution_count": 17,
     "metadata": {},
     "output_type": "execute_result"
    }
   ],
   "source": [
    "cA2 = cA.dot(A)\n",
    "cA2"
   ]
  },
  {
   "cell_type": "code",
   "execution_count": 18,
   "id": "3391cd99-941b-41d9-a800-53c3248f5210",
   "metadata": {},
   "outputs": [
    {
     "data": {
      "text/plain": [
       "array([[ 0,  1,  0],\n",
       "       [-1,  1,  0],\n",
       "       [-1,  0, -2]])"
      ]
     },
     "execution_count": 18,
     "metadata": {},
     "output_type": "execute_result"
    }
   ],
   "source": [
    "D = np.array([ c, cA, cA2 ])\n",
    "D"
   ]
  },
  {
   "cell_type": "code",
   "execution_count": 21,
   "id": "f9bc67be-11af-4c7e-b591-d89822a804cf",
   "metadata": {},
   "outputs": [
    {
     "data": {
      "text/plain": [
       "array([-2])"
      ]
     },
     "execution_count": 21,
     "metadata": {},
     "output_type": "execute_result"
    }
   ],
   "source": [
    "alpha = cA2.dot(B)\n",
    "alpha"
   ]
  },
  {
   "cell_type": "code",
   "execution_count": 22,
   "id": "9f7e1be4-54d2-4c51-aeb0-42dff16a297d",
   "metadata": {},
   "outputs": [
    {
     "data": {
      "text/plain": [
       "array([ 0, -3, -2])"
      ]
     },
     "execution_count": 22,
     "metadata": {},
     "output_type": "execute_result"
    }
   ],
   "source": [
    "beta = cA2.dot(A)\n",
    "beta"
   ]
  },
  {
   "cell_type": "markdown",
   "id": "dda540f8-874d-42c2-8fc0-f671ba24b9b1",
   "metadata": {},
   "source": [
    "\\begin{aligned}\n",
    "\\bar{x} = D_{x}, \\ \\bar{\\mathbb{u}} = -2\\mathbb{u} -3x_{2} - 2x_{3}\n",
    "\\end{aligned}"
   ]
  }
 ],
 "metadata": {
  "kernelspec": {
   "display_name": "Python 3 (ipykernel)",
   "language": "python",
   "name": "python3"
  },
  "language_info": {
   "codemirror_mode": {
    "name": "ipython",
    "version": 3
   },
   "file_extension": ".py",
   "mimetype": "text/x-python",
   "name": "python",
   "nbconvert_exporter": "python",
   "pygments_lexer": "ipython3",
   "version": "3.10.5"
  }
 },
 "nbformat": 4,
 "nbformat_minor": 5
}
