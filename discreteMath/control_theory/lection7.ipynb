{
 "cells": [
  {
   "cell_type": "markdown",
   "id": "53d52f3c-1c32-4e0c-839a-b48fa09491b4",
   "metadata": {},
   "source": [
    "<h4>Стабилизация линейных систем с наблюдателем в цепи обратной связии</h4>"
   ]
  },
  {
   "cell_type": "code",
   "execution_count": null,
   "id": "d9024844-45fe-4939-a7b5-1843f138f376",
   "metadata": {},
   "outputs": [],
   "source": []
  }
 ],
 "metadata": {
  "kernelspec": {
   "display_name": "Python 3 (ipykernel)",
   "language": "python",
   "name": "python3"
  },
  "language_info": {
   "codemirror_mode": {
    "name": "ipython",
    "version": 3
   },
   "file_extension": ".py",
   "mimetype": "text/x-python",
   "name": "python",
   "nbconvert_exporter": "python",
   "pygments_lexer": "ipython3",
   "version": "3.10.6"
  }
 },
 "nbformat": 4,
 "nbformat_minor": 5
}
