{
 "cells": [
  {
   "cell_type": "markdown",
   "id": "53d52f3c-1c32-4e0c-839a-b48fa09491b4",
   "metadata": {},
   "source": [
    "<h4>Стабилизация линейных систем с наблюдателем в цепи обратной связи</h4>"
   ]
  },
  {
   "cell_type": "markdown",
   "id": "ccce95cb-5657-47c7-9b77-ce9b8e5bac5b",
   "metadata": {},
   "source": [
    "<h5>1. Найти матрицу К как решение задачи стабилизации по состоянию (лекция 5)</h5>"
   ]
  },
  {
   "cell_type": "markdown",
   "id": "33bfd646-4a12-46f5-ad1d-cfb4c47edd99",
   "metadata": {},
   "source": [
    "<h5>2. Найти матрицу F для построения наблюдателя Луенбергера (лекция 6)</h5>"
   ]
  },
  {
   "cell_type": "markdown",
   "id": "e97a2424-da6c-4dab-833c-53769416d3da",
   "metadata": {},
   "source": [
    "<h6>Дано: матрицы A, B, H</h6>\n",
    "<h6>Найти матрицы K, F из условий гурвицевости матриц</h6>\n",
    "<h6>A + BK</h6>\n",
    "<h6>A - FH</h6>"
   ]
  },
  {
   "cell_type": "markdown",
   "id": "fffe731b-ef66-474f-94fd-d0140b83cd51",
   "metadata": {},
   "source": [
    "<h6>Матрица М называется гурвицевой, если все собстенные значения этой матрицы имеют отрицательные вещественные части</h6>"
   ]
  },
  {
   "cell_type": "markdown",
   "id": "cfee5261-69f6-4361-8f1f-a4a6bb29a3c6",
   "metadata": {},
   "source": [
    "\\begin{aligned}\n",
    "\\left\\{ \\begin{array}{cl}\n",
    "\\dot{x_1} & = \\ 2x_1-x_2 \\\\\n",
    "\\dot{x_2} & = \\ x_2 -x_1 \\\\\n",
    "\\dot{x_3} & = \\ x_1 + u\n",
    "\\end{array} \\right.\n",
    "\\end{aligned}"
   ]
  },
  {
   "cell_type": "markdown",
   "id": "61097c8a-d86a-42f5-a121-e86d7630ca8c",
   "metadata": {},
   "source": [
    "\\begin{aligned}\n",
    "y = x_1 + x_2\n",
    "\\end{aligned}"
   ]
  },
  {
   "cell_type": "markdown",
   "id": "5acba4a3-d045-4c7d-b97f-813d01e5b290",
   "metadata": {},
   "source": [
    "\\begin{aligned}\n",
    "\\dot{x} = Ax + Bu\n",
    "\\end{aligned}\n",
    "\\begin{aligned}\n",
    "y=Hx\n",
    "\\end{aligned}"
   ]
  },
  {
   "cell_type": "code",
   "execution_count": 1,
   "id": "2a83d088-e4e4-406c-8d8a-3cffa4f60cd5",
   "metadata": {},
   "outputs": [],
   "source": [
    "import numpy as np\n",
    "from numpy import linalg as LA"
   ]
  },
  {
   "cell_type": "code",
   "execution_count": 2,
   "id": "3f21bdc6-1520-4b85-aab0-840967f5baeb",
   "metadata": {},
   "outputs": [
    {
     "data": {
      "text/plain": [
       "array([[ 2, -1,  0],\n",
       "       [-1,  0,  1],\n",
       "       [ 1,  0,  0]])"
      ]
     },
     "execution_count": 2,
     "metadata": {},
     "output_type": "execute_result"
    }
   ],
   "source": [
    "A = np.array([\n",
    "    [2, -1, 0],\n",
    "    [-1, 0, 1],\n",
    "    [1, 0, 0]\n",
    "])\n",
    "A"
   ]
  },
  {
   "cell_type": "code",
   "execution_count": 3,
   "id": "20cac8f3-a4ec-42b7-acb7-c02093971a5f",
   "metadata": {},
   "outputs": [
    {
     "data": {
      "text/plain": [
       "array([[0],\n",
       "       [0],\n",
       "       [1]])"
      ]
     },
     "execution_count": 3,
     "metadata": {},
     "output_type": "execute_result"
    }
   ],
   "source": [
    "B = np.array([ [0], [0], [1] ])\n",
    "B"
   ]
  },
  {
   "cell_type": "code",
   "execution_count": 9,
   "id": "8e130420-7407-4146-8cd6-eeb66395dbe8",
   "metadata": {},
   "outputs": [
    {
     "data": {
      "text/plain": [
       "array([[1, 1, 0]])"
      ]
     },
     "execution_count": 9,
     "metadata": {},
     "output_type": "execute_result"
    }
   ],
   "source": [
    "H = np.array([ [1, 1, 0] ])\n",
    "H"
   ]
  },
  {
   "cell_type": "markdown",
   "id": "f1439289-75e9-4d83-919e-7fd1435933aa",
   "metadata": {},
   "source": [
    "\\begin{aligned}\n",
    "K = \\left( k_1, k_2, k_3 \\right)\n",
    "\\end{aligned}\n",
    "\\begin{aligned}\n",
    "\\hat{A} = A + BK = \\begin{pmatrix}\n",
    "2    & -1  & 0 \\\\\n",
    "-1   &  0  & 1 \\\\\n",
    "1+k_1&  k_2& k_3\n",
    "\\end{pmatrix}\n",
    "\\end{aligned}"
   ]
  },
  {
   "cell_type": "markdown",
   "id": "8130b75a-9bec-42b1-b06e-384aa2f1d450",
   "metadata": {},
   "source": [
    "\\begin{aligned}\n",
    "P\\left(\\lambda\\right)=\\left| A+BK -\\lambda I \\right| = \\begin{pmatrix}\n",
    "2-\\lambda & -1  & 0 \\\\\n",
    "-1 & -\\lambda & 1 \\\\\n",
    "1+k_1 & k_2  & k_3-\\lambda\n",
    "\\end{pmatrix} = \\left(2-\\lambda\\right)\\lambda \\left(\\lambda-k_3\\right)-1-k_1-k_2 \\left( 2-\\lambda \\right) + \\lambda - k_3 = \\left(2\\lambda - \\lambda^2\\right)\\left(\\lambda-k_3\\right)-1-k_1-2k_2-k_3+\\left(1-k_2\\right)\\lambda=\n",
    "\\end{aligned}"
   ]
  },
  {
   "cell_type": "markdown",
   "id": "2d991a58-3bcc-4062-a648-19eb0951b77d",
   "metadata": {},
   "source": [
    "\\begin{aligned}\n",
    "= 2\\lambda^2-\\lambda^3 -2k_3\\lambda+k_3\\lambda^2 -1-k_1-2k_2-k_3+\\left(1-k_2\\right)\\lambda=\n",
    "\\end{aligned}"
   ]
  },
  {
   "cell_type": "markdown",
   "id": "cabcf2c4-1745-4c61-900c-5c1b98f5a052",
   "metadata": {},
   "source": [
    "\\begin{aligned}\n",
    "P\\left(\\lambda\\right)=P_3\\lambda^3+P_2\\lambda^2+P_1\\lambda+P_0\n",
    "\\end{aligned}\n",
    "\\begin{aligned}\n",
    "P_3 = -1 \\\\\n",
    "P_2 = 2 + K_3 \\\\\n",
    "P_1 = 1-k_2-2k_3 \\\\\n",
    "P_0 = -1-k_1-2k_2-k_3\n",
    "\\end{aligned}"
   ]
  },
  {
   "cell_type": "markdown",
   "id": "a5ab49d4-c4ad-4d9f-8081-0aac1ac5e1ee",
   "metadata": {},
   "source": [
    "\\begin{aligned}\n",
    "P\\left(\\lambda\\right)\\equiv\\pm\\left(\\lambda+1\\right)^3\\equiv\\pm\\left(\\lambda^3+3\\lambda^2+3\\lambda+1\\right)\\equiv-\\lambda^3-3\\lambda^2-3\\lambda-1\n",
    "\\end{aligned}"
   ]
  },
  {
   "cell_type": "markdown",
   "id": "b28b20f3-3d62-4ad0-89bb-4d9edf8fc14f",
   "metadata": {},
   "source": [
    "\\begin{aligned}\n",
    "P_3=-1 \\\\\n",
    "P_2=-3 \\\\\n",
    "P_1=3  \\\\\n",
    "P_0=-1 \\\\\n",
    "k_3 = -5 \\\\\n",
    "k_2 = 8 \\\\\n",
    "k_1 = -11\n",
    "\\end{aligned}"
   ]
  },
  {
   "cell_type": "code",
   "execution_count": 5,
   "id": "df53a9d4-c2e3-44b0-b0b1-2c2f41267a17",
   "metadata": {},
   "outputs": [
    {
     "data": {
      "text/plain": [
       "array([[-11,   8,  -5]])"
      ]
     },
     "execution_count": 5,
     "metadata": {},
     "output_type": "execute_result"
    }
   ],
   "source": [
    "K = np.array([ [-11, 8, -5] ])\n",
    "K"
   ]
  },
  {
   "cell_type": "code",
   "execution_count": 6,
   "id": "1f7f00f0-883c-4347-b077-5b1dcfa9c5f1",
   "metadata": {},
   "outputs": [
    {
     "data": {
      "text/plain": [
       "array([[  2,  -1,   0],\n",
       "       [ -1,   0,   1],\n",
       "       [-10,   8,  -5]])"
      ]
     },
     "execution_count": 6,
     "metadata": {},
     "output_type": "execute_result"
    }
   ],
   "source": [
    "hatA = A + B.dot(K)\n",
    "hatA"
   ]
  },
  {
   "cell_type": "markdown",
   "id": "25d8cdcf-895a-4561-a7e6-4699b111ca7f",
   "metadata": {},
   "source": [
    "<h6>Найдем матрицу F:</h6>"
   ]
  },
  {
   "cell_type": "markdown",
   "id": "f9b62732-ea22-4b58-81cf-aa7ee115a4cb",
   "metadata": {},
   "source": [
    "\\begin{aligned}\n",
    "F = \\begin{pmatrix}\n",
    "f_1 \\\\\n",
    "f_2 \\\\\n",
    "f_3\n",
    "\\end{pmatrix}\n",
    "\\end{aligned}"
   ]
  },
  {
   "cell_type": "markdown",
   "id": "65ed8f0e-2009-4ef1-bdd5-cdbed452c2b9",
   "metadata": {},
   "source": [
    "\\begin{aligned}\n",
    "\\left| A-FH-\\lambda I\\right|\\equiv\\pm\\left(\\lambda+1\\right)^3\n",
    "\\end{aligned}"
   ]
  },
  {
   "cell_type": "markdown",
   "id": "be7a40bb-2eeb-4826-bdd3-6bf96ba2801a",
   "metadata": {},
   "source": [
    "\\begin{aligned}\n",
    "\\begin{pmatrix}\n",
    "2-f_1-\\lambda & -1-f_1       & 0        \\\\\n",
    "-1-f_2        & -f_2-\\lambda & 1        \\\\\n",
    "1-f_3         & -f_3         & -\\lambda\n",
    "\\end{pmatrix}\n",
    "\\end{aligned}"
   ]
  },
  {
   "cell_type": "markdown",
   "id": "e95464fb-3723-4fba-8cfa-2b8f66863d51",
   "metadata": {},
   "source": [
    "\\begin{aligned}\n",
    "3f_2\\lambda + 2\\lambda^2 - f_1\\lambda^2 - \\lambda^2 f_2 - \\lambda^3 - \\lambda f_3 + \\lambda - 1 + 3f_3 + f_1\\lambda - f_1\n",
    "\\end{aligned}"
   ]
  },
  {
   "cell_type": "code",
   "execution_count": 39,
   "id": "a9e81adb-3323-456e-9a60-ef28ef07f948",
   "metadata": {},
   "outputs": [
    {
     "data": {
      "text/plain": [
       "-10.000000000000002"
      ]
     },
     "execution_count": 39,
     "metadata": {},
     "output_type": "execute_result"
    }
   ],
   "source": [
    "l = -1\n",
    "I = np.eye(3, dtype='int')\n",
    "lI = I.dot(l)\n",
    "\n",
    "F = np.array([ [1],[0],[-2] ])\n",
    "\n",
    "FH = F.dot(H)\n",
    "\n",
    "P_l = A - FH - lI\n",
    "LA.det(P_l)"
   ]
  }
 ],
 "metadata": {
  "kernelspec": {
   "display_name": "Python 3 (ipykernel)",
   "language": "python",
   "name": "python3"
  },
  "language_info": {
   "codemirror_mode": {
    "name": "ipython",
    "version": 3
   },
   "file_extension": ".py",
   "mimetype": "text/x-python",
   "name": "python",
   "nbconvert_exporter": "python",
   "pygments_lexer": "ipython3",
   "version": "3.10.6"
  }
 },
 "nbformat": 4,
 "nbformat_minor": 5
}
