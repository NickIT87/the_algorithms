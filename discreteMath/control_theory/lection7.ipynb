{
 "cells": [
  {
   "cell_type": "markdown",
   "id": "53d52f3c-1c32-4e0c-839a-b48fa09491b4",
   "metadata": {},
   "source": [
    "<h4>Стабилизация линейных систем с наблюдателем в цепи обратной связи</h4>"
   ]
  },
  {
   "cell_type": "markdown",
   "id": "ccce95cb-5657-47c7-9b77-ce9b8e5bac5b",
   "metadata": {},
   "source": [
    "<h5>1. Найти матрицу К как решение задачи стабилизации по состоянию (лекция 5)</h5>"
   ]
  },
  {
   "cell_type": "markdown",
   "id": "33bfd646-4a12-46f5-ad1d-cfb4c47edd99",
   "metadata": {},
   "source": [
    "<h5>2. Найти матрицу F для построения наблюдателя Луенбергера (лекция 6)</h5>"
   ]
  },
  {
   "cell_type": "markdown",
   "id": "e97a2424-da6c-4dab-833c-53769416d3da",
   "metadata": {},
   "source": [
    "<h6>Дано: матрицы A, B, H</h6>\n",
    "<h6>Найти матрицы K, F из условий гурвицевости матриц</h6>\n",
    "<h6>A + BK</h6>\n",
    "<h6>A - FH</h6>"
   ]
  },
  {
   "cell_type": "markdown",
   "id": "fffe731b-ef66-474f-94fd-d0140b83cd51",
   "metadata": {},
   "source": [
    "<h6>Матрица М называется гурвицевой, если все собстенные значения этой матрицы имеют отрицательные вещественные части</h6>"
   ]
  },
  {
   "cell_type": "code",
   "execution_count": null,
   "id": "35489f3a-ca1d-401e-88c5-9bcae462a486",
   "metadata": {},
   "outputs": [],
   "source": []
  }
 ],
 "metadata": {
  "kernelspec": {
   "display_name": "Python 3 (ipykernel)",
   "language": "python",
   "name": "python3"
  },
  "language_info": {
   "codemirror_mode": {
    "name": "ipython",
    "version": 3
   },
   "file_extension": ".py",
   "mimetype": "text/x-python",
   "name": "python",
   "nbconvert_exporter": "python",
   "pygments_lexer": "ipython3",
   "version": "3.10.6"
  }
 },
 "nbformat": 4,
 "nbformat_minor": 5
}
