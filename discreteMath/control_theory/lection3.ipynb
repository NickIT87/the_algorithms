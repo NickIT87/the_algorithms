{
 "cells": [
  {
   "cell_type": "markdown",
   "id": "bb6ac744-cf20-438c-8764-a0c378800f9c",
   "metadata": {},
   "source": [
    "<h4><i>Пример 1. </i>Исследовать на наблюдаемость систему:</h4>\n",
    "\\begin{aligned}\n",
    "\\left\\{ \n",
    "\\begin{array}{cl}\n",
    "\\dot{x_{1}}&= \\ x_{2} \\\\\n",
    "\\dot{x_{2}}&= \\ \\mathbb{u}\n",
    "\\end{array}\n",
    "\\right.\n",
    "\\end{aligned}\n",
    "\\begin{aligned}\n",
    "y = x_{1} = Hx\n",
    "\\end{aligned}"
   ]
  },
  {
   "cell_type": "code",
   "execution_count": 9,
   "id": "8d974703-01c7-4275-8172-15f92884c930",
   "metadata": {},
   "outputs": [],
   "source": [
    "import numpy as np\n",
    "from numpy import linalg as LA"
   ]
  },
  {
   "cell_type": "code",
   "execution_count": 10,
   "id": "b876a0aa-d2bc-4509-be05-f5c61c6984a7",
   "metadata": {},
   "outputs": [],
   "source": [
    "A = np.array([ \n",
    "    [0, 1], \n",
    "    [0, 0] \n",
    "])\n",
    "B = np.array([ \n",
    "    [0], \n",
    "    [1] \n",
    "])\n",
    "H = np.array([ 1, 0 ])"
   ]
  },
  {
   "cell_type": "code",
   "execution_count": 11,
   "id": "eb1e8c55-89b2-4ec2-8f91-676318e91f08",
   "metadata": {},
   "outputs": [
    {
     "data": {
      "text/plain": [
       "array([[1],\n",
       "       [0]])"
      ]
     },
     "execution_count": 11,
     "metadata": {},
     "output_type": "execute_result"
    }
   ],
   "source": [
    "AB = A.dot(B)\n",
    "AB"
   ]
  },
  {
   "cell_type": "code",
   "execution_count": 12,
   "id": "735147a2-9b11-4dfe-a221-03c37dab9b22",
   "metadata": {},
   "outputs": [
    {
     "data": {
      "text/plain": [
       "array([[0, 1],\n",
       "       [1, 0]])"
      ]
     },
     "execution_count": 12,
     "metadata": {},
     "output_type": "execute_result"
    }
   ],
   "source": [
    "# K = (B, AB)\n",
    "\n",
    "K = np.array([\n",
    "    [ B[0][0], AB[0][0] ],\n",
    "    [ B[1][0], AB[1][0] ]\n",
    "])\n",
    "K"
   ]
  },
  {
   "cell_type": "code",
   "execution_count": 13,
   "id": "00374374-9ac2-4499-8459-5f2b727b1149",
   "metadata": {},
   "outputs": [
    {
     "data": {
      "text/plain": [
       "-1.0"
      ]
     },
     "execution_count": 13,
     "metadata": {},
     "output_type": "execute_result"
    }
   ],
   "source": [
    "LA.det(K)"
   ]
  },
  {
   "cell_type": "code",
   "execution_count": 14,
   "id": "5646d579-80c7-4535-a010-f5c1e1ce0dc9",
   "metadata": {},
   "outputs": [
    {
     "data": {
      "text/plain": [
       "2"
      ]
     },
     "execution_count": 14,
     "metadata": {},
     "output_type": "execute_result"
    }
   ],
   "source": [
    "LA.matrix_rank(K)"
   ]
  },
  {
   "cell_type": "markdown",
   "id": "a2c5e809-f968-4973-8399-ad778936933b",
   "metadata": {},
   "source": [
    "<h4>проверка на наблюдаемость:</h4>"
   ]
  },
  {
   "cell_type": "code",
   "execution_count": 15,
   "id": "3286c869-b13a-45de-b786-e5d2c6e1b491",
   "metadata": {},
   "outputs": [
    {
     "data": {
      "text/plain": [
       "array([0, 1])"
      ]
     },
     "execution_count": 15,
     "metadata": {},
     "output_type": "execute_result"
    }
   ],
   "source": [
    "HA = H.dot(A)\n",
    "HA"
   ]
  },
  {
   "cell_type": "code",
   "execution_count": 16,
   "id": "b172ecc2-159f-455b-84ce-1ac596469779",
   "metadata": {},
   "outputs": [
    {
     "data": {
      "text/plain": [
       "array([[1, 0],\n",
       "       [0, 1]])"
      ]
     },
     "execution_count": 16,
     "metadata": {},
     "output_type": "execute_result"
    }
   ],
   "source": [
    "res_m = np.array([\n",
    "    H,\n",
    "    HA\n",
    "])\n",
    "res_m"
   ]
  },
  {
   "cell_type": "code",
   "execution_count": 19,
   "id": "51e15a97-4353-434e-b939-2fa42b55ba9d",
   "metadata": {},
   "outputs": [
    {
     "data": {
      "text/plain": [
       "2"
      ]
     },
     "execution_count": 19,
     "metadata": {},
     "output_type": "execute_result"
    }
   ],
   "source": [
    "LA.matrix_rank(res_m)"
   ]
  },
  {
   "cell_type": "code",
   "execution_count": 20,
   "id": "ea339b15-93af-4c24-b81d-ca82458fb1c6",
   "metadata": {},
   "outputs": [
    {
     "data": {
      "text/plain": [
       "1.0"
      ]
     },
     "execution_count": 20,
     "metadata": {},
     "output_type": "execute_result"
    }
   ],
   "source": [
    "LA.det(res_m)"
   ]
  },
  {
   "cell_type": "markdown",
   "id": "88a6b9c7-463c-4b01-9ae5-236f4b1e9e57",
   "metadata": {},
   "source": [
    "<i>Det != 0; rank = n. Система наблюдаема по критерию Калмана.</i>"
   ]
  },
  {
   "cell_type": "markdown",
   "id": "ccb38a2d-14dc-45c3-a2fa-0e0e65e341bf",
   "metadata": {},
   "source": [
    "<h4>Пример 2.</h4>"
   ]
  },
  {
   "cell_type": "code",
   "execution_count": null,
   "id": "c7ea2a2e-56cc-43a8-bdf8-8ea1d2cc53a7",
   "metadata": {},
   "outputs": [],
   "source": []
  }
 ],
 "metadata": {
  "kernelspec": {
   "display_name": "Python 3 (ipykernel)",
   "language": "python",
   "name": "python3"
  },
  "language_info": {
   "codemirror_mode": {
    "name": "ipython",
    "version": 3
   },
   "file_extension": ".py",
   "mimetype": "text/x-python",
   "name": "python",
   "nbconvert_exporter": "python",
   "pygments_lexer": "ipython3",
   "version": "3.10.5"
  }
 },
 "nbformat": 4,
 "nbformat_minor": 5
}
