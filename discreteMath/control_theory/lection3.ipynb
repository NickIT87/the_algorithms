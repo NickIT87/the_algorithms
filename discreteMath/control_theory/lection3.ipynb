{
 "cells": [
  {
   "cell_type": "markdown",
   "id": "bb6ac744-cf20-438c-8764-a0c378800f9c",
   "metadata": {},
   "source": [
    "<h4><i>Пример 1. </i>Исследовать на наблюдаемость систему:</h4>\n",
    "\\begin{aligned}\n",
    "\\left\\{ \n",
    "\\begin{array}{cl}\n",
    "\\dot{x_{1}}&= \\ x_{2} \\\\\n",
    "\\dot{x_{2}}&= \\ \\mathbb{u}\n",
    "\\end{array}\n",
    "\\right.\n",
    "\\end{aligned}\n",
    "\\begin{aligned}\n",
    "y = x_{1} = Hx\n",
    "\\end{aligned}"
   ]
  },
  {
   "cell_type": "code",
   "execution_count": 70,
   "id": "8d974703-01c7-4275-8172-15f92884c930",
   "metadata": {},
   "outputs": [],
   "source": [
    "import numpy as np\n",
    "from numpy import linalg as LA"
   ]
  },
  {
   "cell_type": "code",
   "execution_count": 71,
   "id": "b876a0aa-d2bc-4509-be05-f5c61c6984a7",
   "metadata": {},
   "outputs": [],
   "source": [
    "A = np.array([ \n",
    "    [0, 1], \n",
    "    [0, 0] \n",
    "])\n",
    "B = np.array([ \n",
    "    [0], \n",
    "    [1] \n",
    "])\n",
    "H = np.array([ 1, 0 ])"
   ]
  },
  {
   "cell_type": "code",
   "execution_count": 72,
   "id": "eb1e8c55-89b2-4ec2-8f91-676318e91f08",
   "metadata": {},
   "outputs": [
    {
     "data": {
      "text/plain": [
       "array([[1],\n",
       "       [0]])"
      ]
     },
     "execution_count": 72,
     "metadata": {},
     "output_type": "execute_result"
    }
   ],
   "source": [
    "AB = A.dot(B)\n",
    "AB"
   ]
  },
  {
   "cell_type": "code",
   "execution_count": 73,
   "id": "735147a2-9b11-4dfe-a221-03c37dab9b22",
   "metadata": {},
   "outputs": [
    {
     "data": {
      "text/plain": [
       "array([[0, 1],\n",
       "       [1, 0]])"
      ]
     },
     "execution_count": 73,
     "metadata": {},
     "output_type": "execute_result"
    }
   ],
   "source": [
    "# K = (B, AB)\n",
    "\n",
    "K = np.array([\n",
    "    [ B[0][0], AB[0][0] ],\n",
    "    [ B[1][0], AB[1][0] ]\n",
    "])\n",
    "K"
   ]
  },
  {
   "cell_type": "code",
   "execution_count": 74,
   "id": "00374374-9ac2-4499-8459-5f2b727b1149",
   "metadata": {},
   "outputs": [
    {
     "data": {
      "text/plain": [
       "-1.0"
      ]
     },
     "execution_count": 74,
     "metadata": {},
     "output_type": "execute_result"
    }
   ],
   "source": [
    "LA.det(K)"
   ]
  },
  {
   "cell_type": "code",
   "execution_count": 75,
   "id": "5646d579-80c7-4535-a010-f5c1e1ce0dc9",
   "metadata": {},
   "outputs": [
    {
     "data": {
      "text/plain": [
       "2"
      ]
     },
     "execution_count": 75,
     "metadata": {},
     "output_type": "execute_result"
    }
   ],
   "source": [
    "LA.matrix_rank(K)"
   ]
  },
  {
   "cell_type": "markdown",
   "id": "a2c5e809-f968-4973-8399-ad778936933b",
   "metadata": {},
   "source": [
    "<h4>проверка на наблюдаемость:</h4>"
   ]
  },
  {
   "cell_type": "code",
   "execution_count": 76,
   "id": "3286c869-b13a-45de-b786-e5d2c6e1b491",
   "metadata": {},
   "outputs": [
    {
     "data": {
      "text/plain": [
       "array([0, 1])"
      ]
     },
     "execution_count": 76,
     "metadata": {},
     "output_type": "execute_result"
    }
   ],
   "source": [
    "HA = H.dot(A)\n",
    "HA"
   ]
  },
  {
   "cell_type": "code",
   "execution_count": 77,
   "id": "b172ecc2-159f-455b-84ce-1ac596469779",
   "metadata": {},
   "outputs": [
    {
     "data": {
      "text/plain": [
       "array([[1, 0],\n",
       "       [0, 1]])"
      ]
     },
     "execution_count": 77,
     "metadata": {},
     "output_type": "execute_result"
    }
   ],
   "source": [
    "res_m = np.array([\n",
    "    H,\n",
    "    HA\n",
    "])\n",
    "res_m"
   ]
  },
  {
   "cell_type": "code",
   "execution_count": 78,
   "id": "51e15a97-4353-434e-b939-2fa42b55ba9d",
   "metadata": {},
   "outputs": [
    {
     "data": {
      "text/plain": [
       "2"
      ]
     },
     "execution_count": 78,
     "metadata": {},
     "output_type": "execute_result"
    }
   ],
   "source": [
    "LA.matrix_rank(res_m)"
   ]
  },
  {
   "cell_type": "code",
   "execution_count": 79,
   "id": "ea339b15-93af-4c24-b81d-ca82458fb1c6",
   "metadata": {},
   "outputs": [
    {
     "data": {
      "text/plain": [
       "1.0"
      ]
     },
     "execution_count": 79,
     "metadata": {},
     "output_type": "execute_result"
    }
   ],
   "source": [
    "LA.det(res_m)"
   ]
  },
  {
   "cell_type": "markdown",
   "id": "88a6b9c7-463c-4b01-9ae5-236f4b1e9e57",
   "metadata": {},
   "source": [
    "<i>Det != 0; rank = n. Система наблюдаема по критерию Калмана.</i>"
   ]
  },
  {
   "cell_type": "markdown",
   "id": "ccb38a2d-14dc-45c3-a2fa-0e0e65e341bf",
   "metadata": {},
   "source": [
    "<h4>Пример 2.</h4>"
   ]
  },
  {
   "cell_type": "markdown",
   "id": "cbce8aef-c629-4cc1-8044-08d07ee83a4a",
   "metadata": {},
   "source": [
    "\\begin{aligned}\n",
    "y = x_{2}\n",
    "\\end{aligned}"
   ]
  },
  {
   "cell_type": "code",
   "execution_count": 80,
   "id": "4fe2f0cd-65bc-4ca8-92ff-9deddbec1519",
   "metadata": {},
   "outputs": [
    {
     "data": {
      "text/plain": [
       "array([0, 1])"
      ]
     },
     "execution_count": 80,
     "metadata": {},
     "output_type": "execute_result"
    }
   ],
   "source": [
    "H2 = np.array([ 0, 1 ])\n",
    "H2"
   ]
  },
  {
   "cell_type": "code",
   "execution_count": 81,
   "id": "03625eee-21d3-499f-8311-81f88b43c360",
   "metadata": {},
   "outputs": [
    {
     "data": {
      "text/plain": [
       "array([0, 0])"
      ]
     },
     "execution_count": 81,
     "metadata": {},
     "output_type": "execute_result"
    }
   ],
   "source": [
    "HA2 = H2.dot(A)\n",
    "HA2"
   ]
  },
  {
   "cell_type": "code",
   "execution_count": 82,
   "id": "2fe2d9d9-d743-4522-9b0d-e1948fb195ac",
   "metadata": {},
   "outputs": [
    {
     "data": {
      "text/plain": [
       "array([[0, 1],\n",
       "       [0, 0]])"
      ]
     },
     "execution_count": 82,
     "metadata": {},
     "output_type": "execute_result"
    }
   ],
   "source": [
    "res_m2 = np.array([\n",
    "    H2,\n",
    "    HA2\n",
    "])\n",
    "res_m2"
   ]
  },
  {
   "cell_type": "code",
   "execution_count": 83,
   "id": "89142301-4dc0-4aea-8540-41c88982d019",
   "metadata": {},
   "outputs": [
    {
     "data": {
      "text/plain": [
       "1"
      ]
     },
     "execution_count": 83,
     "metadata": {},
     "output_type": "execute_result"
    }
   ],
   "source": [
    "LA.matrix_rank(res_m2)"
   ]
  },
  {
   "cell_type": "code",
   "execution_count": 84,
   "id": "fa4f0f81-62f5-4d5a-8743-22ebba070e2b",
   "metadata": {},
   "outputs": [
    {
     "data": {
      "text/plain": [
       "0.0"
      ]
     },
     "execution_count": 84,
     "metadata": {},
     "output_type": "execute_result"
    }
   ],
   "source": [
    "LA.det(res_m2)"
   ]
  },
  {
   "cell_type": "markdown",
   "id": "e45e1510-9673-4039-8667-6412bd7680b7",
   "metadata": {},
   "source": [
    "<h4>Система не наблюдаема.</h4>"
   ]
  },
  {
   "cell_type": "markdown",
   "id": "25473612-1f96-42b1-8b45-92d769f7bbdb",
   "metadata": {},
   "source": [
    "<h4>Пример 3.</h4>"
   ]
  },
  {
   "cell_type": "markdown",
   "id": "b271e580-919b-4fe9-91e5-9a8b3dac2173",
   "metadata": {},
   "source": [
    "\\begin{aligned}\n",
    "\\left\\{ \\begin{array}{cl}\n",
    "\\dot{x_{1}} & = \\ x_{1}-x_{2}-x_{3} \\\\\n",
    "\\dot{x_{2}} & = \\ -x_{1}+x_{2}+\\mathbb{u} \\\\\n",
    "\\dot{x_{3}} & = \\ 2x_{1}-3x_{3}-2\\mathbb{u}\n",
    "\\end{array} \\right.\n",
    "\\end{aligned}\n",
    "\\begin{aligned}\n",
    "y = x_{1}+x_{2}\n",
    "\\end{aligned}"
   ]
  },
  {
   "cell_type": "code",
   "execution_count": 85,
   "id": "94e4ef7a-8a82-4800-9a73-887fd5e98a7d",
   "metadata": {},
   "outputs": [
    {
     "data": {
      "text/plain": [
       "array([[ 1, -1, -1],\n",
       "       [-1,  1,  0],\n",
       "       [ 2,  0, -3]])"
      ]
     },
     "execution_count": 85,
     "metadata": {},
     "output_type": "execute_result"
    }
   ],
   "source": [
    "A_3 = np.array([\n",
    "    [ 1, -1, -1],\n",
    "    [-1,  1,  0],\n",
    "    [ 2,  0, -3]\n",
    "])\n",
    "A_3"
   ]
  },
  {
   "cell_type": "code",
   "execution_count": 86,
   "id": "598c6f12-7393-4a72-8e99-09510fd66bf1",
   "metadata": {},
   "outputs": [
    {
     "data": {
      "text/plain": [
       "array([[ 0],\n",
       "       [ 1],\n",
       "       [-2]])"
      ]
     },
     "execution_count": 86,
     "metadata": {},
     "output_type": "execute_result"
    }
   ],
   "source": [
    "B_3 = np.array([\n",
    "    [ 0],\n",
    "    [ 1],\n",
    "    [-2]\n",
    "])\n",
    "B_3"
   ]
  },
  {
   "cell_type": "code",
   "execution_count": 87,
   "id": "5dc2e3bb-9dc5-4151-b73a-50a4802a52ee",
   "metadata": {},
   "outputs": [
    {
     "data": {
      "text/plain": [
       "array([[1],\n",
       "       [1],\n",
       "       [6]])"
      ]
     },
     "execution_count": 87,
     "metadata": {},
     "output_type": "execute_result"
    }
   ],
   "source": [
    "AB_3 = A_3.dot(B_3)\n",
    "AB_3"
   ]
  },
  {
   "cell_type": "code",
   "execution_count": 88,
   "id": "a10730ca-caa0-4ad7-b706-c50f0654ffc3",
   "metadata": {},
   "outputs": [
    {
     "data": {
      "text/plain": [
       "array([[ -6],\n",
       "       [  0],\n",
       "       [-16]])"
      ]
     },
     "execution_count": 88,
     "metadata": {},
     "output_type": "execute_result"
    }
   ],
   "source": [
    "A2B_3 = A_3.dot(AB_3)\n",
    "A2B_3"
   ]
  },
  {
   "cell_type": "code",
   "execution_count": 89,
   "id": "6d98815d-5e81-40d9-b4ba-c4dcbffefa7d",
   "metadata": {},
   "outputs": [
    {
     "data": {
      "text/plain": [
       "array([[  0,   1,  -6],\n",
       "       [  1,   1,   0],\n",
       "       [ -2,   6, -16]])"
      ]
     },
     "execution_count": 89,
     "metadata": {},
     "output_type": "execute_result"
    }
   ],
   "source": [
    "K_3 = np.array([ \n",
    "    [B_3[0][0], AB_3[0][0], A2B_3[0][0]],\n",
    "    [B_3[1][0], AB_3[1][0], A2B_3[1][0]],\n",
    "    [B_3[2][0], AB_3[2][0], A2B_3[2][0]]\n",
    "])\n",
    "K_3"
   ]
  },
  {
   "cell_type": "code",
   "execution_count": 90,
   "id": "80b12b16-d03b-407f-9e31-f28cbebfc238",
   "metadata": {},
   "outputs": [
    {
     "data": {
      "text/plain": [
       "-31.999999999999986"
      ]
     },
     "execution_count": 90,
     "metadata": {},
     "output_type": "execute_result"
    }
   ],
   "source": [
    "LA.det(K_3)"
   ]
  },
  {
   "cell_type": "code",
   "execution_count": 91,
   "id": "8a72d230-9a45-4c5d-8016-7a3c5ce07515",
   "metadata": {},
   "outputs": [
    {
     "data": {
      "text/plain": [
       "3"
      ]
     },
     "execution_count": 91,
     "metadata": {},
     "output_type": "execute_result"
    }
   ],
   "source": [
    "LA.matrix_rank(K_3)"
   ]
  },
  {
   "cell_type": "code",
   "execution_count": 92,
   "id": "46da3327-60e9-419b-9b1e-0a7c9725d07b",
   "metadata": {},
   "outputs": [
    {
     "data": {
      "text/plain": [
       "array([1, 1, 0])"
      ]
     },
     "execution_count": 92,
     "metadata": {},
     "output_type": "execute_result"
    }
   ],
   "source": [
    "H_3 = np.array([1, 1, 0])\n",
    "H_3"
   ]
  },
  {
   "cell_type": "code",
   "execution_count": 93,
   "id": "354c8624-7adf-4ca0-9691-ec772aed7776",
   "metadata": {},
   "outputs": [
    {
     "data": {
      "text/plain": [
       "array([ 0,  0, -1])"
      ]
     },
     "execution_count": 93,
     "metadata": {},
     "output_type": "execute_result"
    }
   ],
   "source": [
    "HA_3 = H_3.dot(A_3)\n",
    "HA_3"
   ]
  },
  {
   "cell_type": "code",
   "execution_count": 94,
   "id": "642a7dee-0b60-49b7-a9d7-6a2fa3441feb",
   "metadata": {},
   "outputs": [
    {
     "data": {
      "text/plain": [
       "array([-2,  0,  3])"
      ]
     },
     "execution_count": 94,
     "metadata": {},
     "output_type": "execute_result"
    }
   ],
   "source": [
    "HA2_3 = HA_3.dot(A_3)\n",
    "HA2_3"
   ]
  },
  {
   "cell_type": "code",
   "execution_count": 95,
   "id": "b709590b-e88b-4ad6-98af-2130e7ce79e7",
   "metadata": {},
   "outputs": [
    {
     "data": {
      "text/plain": [
       "array([[ 1,  1,  0],\n",
       "       [ 0,  0, -1],\n",
       "       [-2,  0,  3]])"
      ]
     },
     "execution_count": 95,
     "metadata": {},
     "output_type": "execute_result"
    }
   ],
   "source": [
    "res_m3 = np.array([\n",
    "    H_3,\n",
    "    HA_3,\n",
    "    HA2_3\n",
    "])\n",
    "res_m3"
   ]
  },
  {
   "cell_type": "code",
   "execution_count": 96,
   "id": "f0952f00-f163-474e-ae31-b7dc8cf0dbdd",
   "metadata": {},
   "outputs": [
    {
     "data": {
      "text/plain": [
       "3"
      ]
     },
     "execution_count": 96,
     "metadata": {},
     "output_type": "execute_result"
    }
   ],
   "source": [
    "LA.matrix_rank(res_m3)"
   ]
  },
  {
   "cell_type": "code",
   "execution_count": 97,
   "id": "7a8f1760-e4f4-4d91-97de-e931751c1b7c",
   "metadata": {},
   "outputs": [
    {
     "data": {
      "text/plain": [
       "2.0"
      ]
     },
     "execution_count": 97,
     "metadata": {},
     "output_type": "execute_result"
    }
   ],
   "source": [
    "LA.det(res_m3)"
   ]
  },
  {
   "cell_type": "markdown",
   "id": "454fe9f7-4af4-49d8-af5f-406f409becf4",
   "metadata": {},
   "source": [
    "<h4>Система наблюдаема по критерию Калмана.</h4>"
   ]
  }
 ],
 "metadata": {
  "kernelspec": {
   "display_name": "Python 3 (ipykernel)",
   "language": "python",
   "name": "python3"
  },
  "language_info": {
   "codemirror_mode": {
    "name": "ipython",
    "version": 3
   },
   "file_extension": ".py",
   "mimetype": "text/x-python",
   "name": "python",
   "nbconvert_exporter": "python",
   "pygments_lexer": "ipython3",
   "version": "3.10.5"
  }
 },
 "nbformat": 4,
 "nbformat_minor": 5
}
