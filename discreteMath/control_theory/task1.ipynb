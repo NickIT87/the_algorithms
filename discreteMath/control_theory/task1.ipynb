{
 "cells": [
  {
   "cell_type": "markdown",
   "id": "91d9f3cd-9a72-4c34-987c-3aa34bc5e9f9",
   "metadata": {},
   "source": [
    "<p> *x1 = x1 + 2x2 - x3 - u1 </p>\n",
    "<p> *x2 = -x1 + x4 + u1 + u2 </p>\n",
    "<p> *x3 = 5x1 - 3x2 - x3 + x4 + u1 - 2u2 </p>\n",
    "<p> *x4 = -x1 - x2 - x3 + x4 </p>"
   ]
  },
  {
   "cell_type": "code",
   "execution_count": 1,
   "id": "e5f685fd-b086-4907-93b1-95bbd1beefef",
   "metadata": {},
   "outputs": [],
   "source": [
    "import numpy as np\n",
    "from numpy import linalg as LA"
   ]
  },
  {
   "cell_type": "code",
   "execution_count": 2,
   "id": "1b599743-7205-42c5-9cbc-b354300a57b9",
   "metadata": {},
   "outputs": [
    {
     "data": {
      "text/plain": [
       "array([[ 1,  2, -1,  0],\n",
       "       [-1,  0,  0,  1],\n",
       "       [ 5, -3, -1,  1],\n",
       "       [-1, -1, -1,  1]])"
      ]
     },
     "execution_count": 2,
     "metadata": {},
     "output_type": "execute_result"
    }
   ],
   "source": [
    "A = np.array([[1, 2, -1, 0], [-1, 0, 0, 1], [5, -3, -1, 1], [-1, -1, -1, 1]])\n",
    "A"
   ]
  },
  {
   "cell_type": "code",
   "execution_count": 3,
   "id": "91c81c7f-e415-402e-8e76-88dccc6cba45",
   "metadata": {},
   "outputs": [
    {
     "data": {
      "text/plain": [
       "array([[-1,  0],\n",
       "       [ 1,  1],\n",
       "       [ 1, -2],\n",
       "       [ 0,  0]])"
      ]
     },
     "execution_count": 3,
     "metadata": {},
     "output_type": "execute_result"
    }
   ],
   "source": [
    "B = np.array([[-1, 0], [1, 1], [1, -2], [0, 0]])\n",
    "B"
   ]
  },
  {
   "cell_type": "code",
   "execution_count": 4,
   "id": "dfc49bc1-fa47-4350-b4a8-d9b38d168f2c",
   "metadata": {},
   "outputs": [
    {
     "data": {
      "text/plain": [
       "array([[ 0,  4],\n",
       "       [ 1,  0],\n",
       "       [-9, -1],\n",
       "       [-1,  1]])"
      ]
     },
     "execution_count": 4,
     "metadata": {},
     "output_type": "execute_result"
    }
   ],
   "source": [
    "AB = A.dot(B)\n",
    "AB"
   ]
  },
  {
   "cell_type": "code",
   "execution_count": 5,
   "id": "e4b9e51e-9803-4d6a-9f82-34386cc387ff",
   "metadata": {},
   "outputs": [
    {
     "data": {
      "text/plain": [
       "array([[11,  5],\n",
       "       [-1, -3],\n",
       "       [ 5, 22],\n",
       "       [ 7, -2]])"
      ]
     },
     "execution_count": 5,
     "metadata": {},
     "output_type": "execute_result"
    }
   ],
   "source": [
    "A2B = A.dot(AB)\n",
    "A2B"
   ]
  },
  {
   "cell_type": "code",
   "execution_count": 6,
   "id": "12a2b183-2bb4-40ac-b9ab-00b7bbadbfa3",
   "metadata": {},
   "outputs": [
    {
     "data": {
      "text/plain": [
       "array([[  4, -23],\n",
       "       [ -4,  -7],\n",
       "       [ 60,  10],\n",
       "       [ -8, -26]])"
      ]
     },
     "execution_count": 6,
     "metadata": {},
     "output_type": "execute_result"
    }
   ],
   "source": [
    "A3B = A.dot(A2B)\n",
    "A3B"
   ]
  },
  {
   "cell_type": "code",
   "execution_count": 7,
   "id": "ec18b64e-fb99-4571-9506-43299343d074",
   "metadata": {},
   "outputs": [
    {
     "data": {
      "text/plain": [
       "array([[ -1,   0,   0,   4,  11,   5,   4, -23],\n",
       "       [  1,   1,   1,   0,  -1,  -3,  -4,  -7],\n",
       "       [  1,  -2,  -9,  -1,   5,  22,  60,  10],\n",
       "       [  0,   0,  -1,   1,   7,  -2,  -8, -26]])"
      ]
     },
     "execution_count": 7,
     "metadata": {},
     "output_type": "execute_result"
    }
   ],
   "source": [
    "K = np.array([\n",
    "    [B[0][0], B[0][1], AB[0][0], AB[0][1], A2B[0][0], A2B[0][1], A3B[0][0], A3B[0][1]],\n",
    "    [B[1][0], B[1][1], AB[1][0], AB[1][1], A2B[1][0], A2B[1][1], A3B[1][0], A3B[1][1]],\n",
    "    [B[2][0], B[2][1], AB[2][0], AB[2][1], A2B[2][0], A2B[2][1], A3B[2][0], A3B[2][1]],\n",
    "    [B[3][0], B[3][1], AB[3][0], AB[3][1], A2B[3][0], A2B[3][1], A3B[3][0], A3B[3][1]],\n",
    "])\n",
    "K"
   ]
  },
  {
   "cell_type": "code",
   "execution_count": 8,
   "id": "44b973bd-76e1-4872-8af0-22565f4be279",
   "metadata": {},
   "outputs": [
    {
     "data": {
      "text/plain": [
       "4"
      ]
     },
     "execution_count": 8,
     "metadata": {},
     "output_type": "execute_result"
    }
   ],
   "source": [
    "LA.matrix_rank(K)"
   ]
  },
  {
   "cell_type": "code",
   "execution_count": 9,
   "id": "0239174c-ac81-4863-b565-7e75a849c1c0",
   "metadata": {},
   "outputs": [
    {
     "data": {
      "text/plain": [
       "array([[-1,  0, 11,  4],\n",
       "       [ 1,  1, -1, -4],\n",
       "       [ 1, -9,  5, 60],\n",
       "       [ 0, -1,  7, -8]])"
      ]
     },
     "execution_count": 9,
     "metadata": {},
     "output_type": "execute_result"
    }
   ],
   "source": [
    "# Если все элементы строки или столбца можно представить как сумму двух слагаемых, \n",
    "# то определитель такой матрицы равен сумме определителей двух соответствующих матриц:\n",
    "\n",
    "s1 = np.array([\n",
    "    [B[0][0], AB[0][0], A2B[0][0], A3B[0][0]],\n",
    "    [B[1][0], AB[1][0], A2B[1][0], A3B[1][0]],\n",
    "    [B[2][0], AB[2][0], A2B[2][0], A3B[2][0]],\n",
    "    [B[3][0], AB[3][0], A2B[3][0], A3B[3][0]]\n",
    "])\n",
    "s1"
   ]
  },
  {
   "cell_type": "code",
   "execution_count": 10,
   "id": "e11953b2-1340-48af-b696-b3f9e91d4aa6",
   "metadata": {},
   "outputs": [
    {
     "data": {
      "text/plain": [
       "array([[  0,   4,   5, -23],\n",
       "       [  1,   0,  -3,  -7],\n",
       "       [ -2,  -1,  22,  10],\n",
       "       [  0,   1,  -2, -26]])"
      ]
     },
     "execution_count": 10,
     "metadata": {},
     "output_type": "execute_result"
    }
   ],
   "source": [
    "s2 = np.array([\n",
    "    [B[0][1], AB[0][1], A2B[0][1], A3B[0][1]],\n",
    "    [B[1][1], AB[1][1], A2B[1][1], A3B[1][1]],\n",
    "    [B[2][1], AB[2][1], A2B[2][1], A3B[2][1]],\n",
    "    [B[3][1], AB[3][1], A2B[3][1], A3B[3][1]]\n",
    "])\n",
    "s2"
   ]
  },
  {
   "cell_type": "code",
   "execution_count": 11,
   "id": "8df54ee7-6437-4334-8552-a379a236e7cc",
   "metadata": {},
   "outputs": [
    {
     "data": {
      "text/plain": [
       "3460.0000000000005"
      ]
     },
     "execution_count": 11,
     "metadata": {},
     "output_type": "execute_result"
    }
   ],
   "source": [
    "LA.det(s1) + LA.det(s2)"
   ]
  },
  {
   "cell_type": "code",
   "execution_count": 12,
   "id": "8bfe2619-2179-432c-bbb0-177e4f0ede0c",
   "metadata": {},
   "outputs": [
    {
     "data": {
      "text/plain": [
       "True"
      ]
     },
     "execution_count": 12,
     "metadata": {},
     "output_type": "execute_result"
    }
   ],
   "source": [
    "(LA.det(s1) + LA.det(s2)) > 0"
   ]
  },
  {
   "cell_type": "code",
   "execution_count": 13,
   "id": "eb705bb4-0a59-4d3a-a7f6-4aea7fc190ca",
   "metadata": {},
   "outputs": [
    {
     "data": {
      "text/plain": [
       "array([[ -1,   4,  16,  19],\n",
       "       [  2,   1,  -4, -11],\n",
       "       [ -1, -10,  27,  70],\n",
       "       [  0,   0,   5, -34]])"
      ]
     },
     "execution_count": 13,
     "metadata": {},
     "output_type": "execute_result"
    }
   ],
   "source": [
    "s3 = np.array([\n",
    "    [-1, 4, 16, 19],\n",
    "    [2, 1, -4, -11],\n",
    "    [-1, -10, 27, 70],\n",
    "    [0, 0, 5, -34]\n",
    "])\n",
    "s3"
   ]
  },
  {
   "cell_type": "code",
   "execution_count": 15,
   "id": "18148d98-a696-413b-ad8c-05665622f634",
   "metadata": {},
   "outputs": [
    {
     "data": {
      "text/plain": [
       "41758.000000000044"
      ]
     },
     "execution_count": 15,
     "metadata": {},
     "output_type": "execute_result"
    }
   ],
   "source": [
    "LA.det(s3) + LA.det(s3)"
   ]
  }
 ],
 "metadata": {
  "kernelspec": {
   "display_name": "Python 3 (ipykernel)",
   "language": "python",
   "name": "python3"
  },
  "language_info": {
   "codemirror_mode": {
    "name": "ipython",
    "version": 3
   },
   "file_extension": ".py",
   "mimetype": "text/x-python",
   "name": "python",
   "nbconvert_exporter": "python",
   "pygments_lexer": "ipython3",
   "version": "3.10.5"
  }
 },
 "nbformat": 4,
 "nbformat_minor": 5
}
