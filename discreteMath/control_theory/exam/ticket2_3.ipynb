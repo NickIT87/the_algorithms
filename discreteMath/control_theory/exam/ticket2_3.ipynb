{
 "cells": [
  {
   "cell_type": "code",
   "execution_count": 1,
   "id": "8c86625a-f432-49b3-a55f-00c955066d35",
   "metadata": {},
   "outputs": [],
   "source": [
    "import numpy as np\n",
    "from numpy import linalg as LA"
   ]
  },
  {
   "cell_type": "code",
   "execution_count": 2,
   "id": "2c255bb5-ef1a-41a0-8e12-7c1e83cdddf6",
   "metadata": {},
   "outputs": [
    {
     "data": {
      "text/plain": [
       "array([[0, 0, 0],\n",
       "       [1, 0, 1],\n",
       "       [0, 0, 0]])"
      ]
     },
     "execution_count": 2,
     "metadata": {},
     "output_type": "execute_result"
    }
   ],
   "source": [
    "A = np.array([\n",
    "    [0, 0, 0],\n",
    "    [1, 0, 1],\n",
    "    [0, 0, 0]\n",
    "]) \n",
    "A"
   ]
  },
  {
   "cell_type": "code",
   "execution_count": 3,
   "id": "96d814c0-333d-4047-9c61-171811f492a6",
   "metadata": {},
   "outputs": [
    {
     "data": {
      "text/plain": [
       "array([[1, 0],\n",
       "       [1, 1],\n",
       "       [0, 1]])"
      ]
     },
     "execution_count": 3,
     "metadata": {},
     "output_type": "execute_result"
    }
   ],
   "source": [
    "B = np.array([\n",
    "    [1, 0],\n",
    "    [1, 1],\n",
    "    [0, 1]\n",
    "])\n",
    "B"
   ]
  },
  {
   "cell_type": "code",
   "execution_count": 4,
   "id": "7c284548-01e6-4db3-9f62-0ee29c45b58c",
   "metadata": {},
   "outputs": [
    {
     "data": {
      "text/plain": [
       "array([[0, 0],\n",
       "       [1, 1],\n",
       "       [0, 0]])"
      ]
     },
     "execution_count": 4,
     "metadata": {},
     "output_type": "execute_result"
    }
   ],
   "source": [
    "AB = A.dot(B)\n",
    "AB"
   ]
  },
  {
   "cell_type": "code",
   "execution_count": 5,
   "id": "705bfabe-537a-49a9-aabc-f7a6c1633a33",
   "metadata": {},
   "outputs": [
    {
     "data": {
      "text/plain": [
       "array([[0, 0],\n",
       "       [0, 0],\n",
       "       [0, 0]])"
      ]
     },
     "execution_count": 5,
     "metadata": {},
     "output_type": "execute_result"
    }
   ],
   "source": [
    "A2B = A.dot(AB)\n",
    "A2B"
   ]
  },
  {
   "cell_type": "code",
   "execution_count": 12,
   "id": "d99bcc73-9e95-4375-98a8-104352b71ca5",
   "metadata": {},
   "outputs": [
    {
     "data": {
      "text/plain": [
       "array([[1, 0, 0, 0, 0, 0],\n",
       "       [1, 1, 1, 1, 0, 0],\n",
       "       [0, 1, 0, 0, 0, 0]])"
      ]
     },
     "execution_count": 12,
     "metadata": {},
     "output_type": "execute_result"
    }
   ],
   "source": [
    "K = np.array([\n",
    "    [ B[0][0], B[0][1], AB[0][0], AB[0][1], A2B[0][0], A2B[0][1] ],\n",
    "    [ B[1][0], B[1][1], AB[1][0], AB[1][1], A2B[1][0], A2B[1][1] ],\n",
    "    [ B[2][0], B[2][1], AB[2][0], AB[2][1], A2B[2][0], A2B[2][1] ]\n",
    "])\n",
    "K"
   ]
  },
  {
   "cell_type": "code",
   "execution_count": 13,
   "id": "3120f15f-b6d7-4909-a6cd-92367d74c466",
   "metadata": {},
   "outputs": [
    {
     "data": {
      "text/plain": [
       "3"
      ]
     },
     "execution_count": 13,
     "metadata": {},
     "output_type": "execute_result"
    }
   ],
   "source": [
    "LA.matrix_rank(K)"
   ]
  },
  {
   "cell_type": "code",
   "execution_count": 16,
   "id": "7a4c3650-62e7-4510-b90b-0a850e9658e2",
   "metadata": {},
   "outputs": [
    {
     "data": {
      "text/plain": [
       "0.0"
      ]
     },
     "execution_count": 16,
     "metadata": {},
     "output_type": "execute_result"
    }
   ],
   "source": [
    "K2 = np.array([\n",
    "    [B[0][0], AB[0][0], A2B[0][0]],\n",
    "    [B[1][0], AB[1][0], A2B[1][0]],\n",
    "    [B[2][0], AB[2][0], A2B[2][0]]\n",
    "])\n",
    "\n",
    "LA.det(K2)"
   ]
  },
  {
   "cell_type": "code",
   "execution_count": 18,
   "id": "7c081d03-9fcd-442b-a23f-8c6343de9824",
   "metadata": {},
   "outputs": [
    {
     "data": {
      "text/plain": [
       "array([[1, 0, 0],\n",
       "       [1, 1, 0],\n",
       "       [0, 0, 0]])"
      ]
     },
     "execution_count": 18,
     "metadata": {},
     "output_type": "execute_result"
    }
   ],
   "source": [
    "K2"
   ]
  },
  {
   "cell_type": "code",
   "execution_count": 17,
   "id": "01280c33-2ea8-47d7-afaa-d6cc34fd2815",
   "metadata": {},
   "outputs": [
    {
     "data": {
      "text/plain": [
       "0.0"
      ]
     },
     "execution_count": 17,
     "metadata": {},
     "output_type": "execute_result"
    }
   ],
   "source": [
    "K3 = np.array([\n",
    "    [B[0][1], AB[0][1], A2B[0][1]],\n",
    "    [B[1][1], AB[1][1], A2B[1][1]],\n",
    "    [B[2][1], AB[2][1], A2B[2][1]]\n",
    "])\n",
    "\n",
    "LA.det(K3)"
   ]
  },
  {
   "cell_type": "code",
   "execution_count": 19,
   "id": "85bca4ef-000d-44c6-872c-7b57573780a4",
   "metadata": {},
   "outputs": [
    {
     "data": {
      "text/plain": [
       "array([[0, 0, 0],\n",
       "       [1, 1, 0],\n",
       "       [1, 0, 0]])"
      ]
     },
     "execution_count": 19,
     "metadata": {},
     "output_type": "execute_result"
    }
   ],
   "source": [
    "K3"
   ]
  },
  {
   "cell_type": "code",
   "execution_count": 20,
   "id": "342eac34-a196-4076-a98c-54d523311c12",
   "metadata": {},
   "outputs": [
    {
     "data": {
      "text/plain": [
       "0.0"
      ]
     },
     "execution_count": 20,
     "metadata": {},
     "output_type": "execute_result"
    }
   ],
   "source": [
    "K4 = np.array([\n",
    "    [0, 0, 0],\n",
    "    [1, 0, 0],\n",
    "    [0, 0, 0]\n",
    "])\n",
    "\n",
    "LA.det(K4)"
   ]
  }
 ],
 "metadata": {
  "kernelspec": {
   "display_name": "Python 3 (ipykernel)",
   "language": "python",
   "name": "python3"
  },
  "language_info": {
   "codemirror_mode": {
    "name": "ipython",
    "version": 3
   },
   "file_extension": ".py",
   "mimetype": "text/x-python",
   "name": "python",
   "nbconvert_exporter": "python",
   "pygments_lexer": "ipython3",
   "version": "3.10.6"
  }
 },
 "nbformat": 4,
 "nbformat_minor": 5
}
