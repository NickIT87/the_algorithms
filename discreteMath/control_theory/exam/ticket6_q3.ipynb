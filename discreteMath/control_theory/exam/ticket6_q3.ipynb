{
 "cells": [
  {
   "cell_type": "markdown",
   "id": "9a1f3b23-c074-4ce5-89ae-832b56f507e0",
   "metadata": {},
   "source": [
    "<h4>Привести до канонічної форми Бруновського систему:</h4>"
   ]
  },
  {
   "cell_type": "markdown",
   "id": "88e92d91-87b5-44d4-a613-2155ea32c0a0",
   "metadata": {},
   "source": [
    "\\begin{aligned}\n",
    "\\left\\{ \\begin{array}{cl}\n",
    "\\dot{x_1} & = \\ x_1 + 2x_3   \\\\\n",
    "\\dot{x_2} & = \\ -x_1-x_2     \\\\\n",
    "\\dot{x_3} & = \\ -x_1+5x_3-2u\n",
    "\\end{array} \\right.\n",
    "\\end{aligned}"
   ]
  },
  {
   "cell_type": "code",
   "execution_count": 1,
   "id": "8c2f0570-e93f-4f6c-b35e-967235d6be61",
   "metadata": {},
   "outputs": [],
   "source": [
    "import numpy as np"
   ]
  },
  {
   "cell_type": "code",
   "execution_count": 3,
   "id": "567255c7-422d-4984-9e68-f4ac7fd3275d",
   "metadata": {},
   "outputs": [
    {
     "data": {
      "text/plain": [
       "array([[ 1,  0,  2],\n",
       "       [-1, -2,  0],\n",
       "       [-1,  0,  5]])"
      ]
     },
     "execution_count": 3,
     "metadata": {},
     "output_type": "execute_result"
    }
   ],
   "source": [
    "A = np.array([\n",
    "    [1, 0, 2],\n",
    "    [-1, -2, 0],\n",
    "    [-1, 0, 5]\n",
    "])\n",
    "A"
   ]
  },
  {
   "cell_type": "code",
   "execution_count": 4,
   "id": "1816c61f-2c9b-4b80-9fc9-0759547eb4fb",
   "metadata": {},
   "outputs": [
    {
     "data": {
      "text/plain": [
       "array([[ 0],\n",
       "       [ 0],\n",
       "       [-2]])"
      ]
     },
     "execution_count": 4,
     "metadata": {},
     "output_type": "execute_result"
    }
   ],
   "source": [
    "B = np.array([ [0],[0],[-2] ])\n",
    "B"
   ]
  },
  {
   "cell_type": "code",
   "execution_count": 25,
   "id": "a4f0ea4c-c277-4dd1-8b22-cf37e269f8cb",
   "metadata": {},
   "outputs": [],
   "source": [
    "# cB = cAB = 0\n",
    "c = np.array([ 0, 1, 0 ])"
   ]
  },
  {
   "cell_type": "code",
   "execution_count": 26,
   "id": "907dcb4d-d85c-4e20-837e-ec8d0e6a725b",
   "metadata": {},
   "outputs": [
    {
     "data": {
      "text/plain": [
       "array([0])"
      ]
     },
     "execution_count": 26,
     "metadata": {},
     "output_type": "execute_result"
    }
   ],
   "source": [
    "c.dot(B)"
   ]
  },
  {
   "cell_type": "code",
   "execution_count": 27,
   "id": "0ea225ee-6f78-49fa-bf05-f0b2ac42e2c7",
   "metadata": {},
   "outputs": [
    {
     "data": {
      "text/plain": [
       "array([0])"
      ]
     },
     "execution_count": 27,
     "metadata": {},
     "output_type": "execute_result"
    }
   ],
   "source": [
    "c.dot(A.dot(B))"
   ]
  },
  {
   "cell_type": "code",
   "execution_count": 28,
   "id": "eaa8f30b-27c7-4c32-892f-853185e20b98",
   "metadata": {},
   "outputs": [
    {
     "data": {
      "text/plain": [
       "array([-1, -2,  0])"
      ]
     },
     "execution_count": 28,
     "metadata": {},
     "output_type": "execute_result"
    }
   ],
   "source": [
    "cA = c.dot(A)\n",
    "cA"
   ]
  },
  {
   "cell_type": "code",
   "execution_count": 29,
   "id": "d9803182-8fbc-4340-974d-744878d6b7fc",
   "metadata": {},
   "outputs": [
    {
     "data": {
      "text/plain": [
       "array([ 1,  4, -2])"
      ]
     },
     "execution_count": 29,
     "metadata": {},
     "output_type": "execute_result"
    }
   ],
   "source": [
    "cA2 = cA.dot(A)\n",
    "cA2"
   ]
  },
  {
   "cell_type": "code",
   "execution_count": 30,
   "id": "691fbc55-d9a4-41d6-b154-af46978ed7da",
   "metadata": {},
   "outputs": [
    {
     "data": {
      "text/plain": [
       "array([[ 0,  1,  0],\n",
       "       [-1, -2,  0],\n",
       "       [ 1,  4, -2]])"
      ]
     },
     "execution_count": 30,
     "metadata": {},
     "output_type": "execute_result"
    }
   ],
   "source": [
    "D = np.array([ c, cA, cA2 ])\n",
    "D"
   ]
  },
  {
   "cell_type": "code",
   "execution_count": 31,
   "id": "38dd7412-4505-414a-b6ac-8bb79f817854",
   "metadata": {},
   "outputs": [
    {
     "data": {
      "text/plain": [
       "array([4])"
      ]
     },
     "execution_count": 31,
     "metadata": {},
     "output_type": "execute_result"
    }
   ],
   "source": [
    "alpha = cA2.dot(B)\n",
    "alpha"
   ]
  },
  {
   "cell_type": "code",
   "execution_count": 32,
   "id": "2e44c01f-f16b-4ccf-a79b-ca9b23c46d40",
   "metadata": {},
   "outputs": [
    {
     "data": {
      "text/plain": [
       "array([-1, -8, -8])"
      ]
     },
     "execution_count": 32,
     "metadata": {},
     "output_type": "execute_result"
    }
   ],
   "source": [
    "beta = cA2.dot(A)\n",
    "beta"
   ]
  },
  {
   "cell_type": "markdown",
   "id": "85a02fee-f0f6-4bba-98c9-f182a6fcacd4",
   "metadata": {},
   "source": [
    "\\begin{aligned}\n",
    "\\bar{x}=Dx, \\ \\bar{u}=4u-x_1-8x_2-8x_3\n",
    "\\end{aligned}"
   ]
  }
 ],
 "metadata": {
  "kernelspec": {
   "display_name": "Python 3 (ipykernel)",
   "language": "python",
   "name": "python3"
  },
  "language_info": {
   "codemirror_mode": {
    "name": "ipython",
    "version": 3
   },
   "file_extension": ".py",
   "mimetype": "text/x-python",
   "name": "python",
   "nbconvert_exporter": "python",
   "pygments_lexer": "ipython3",
   "version": "3.10.6"
  }
 },
 "nbformat": 4,
 "nbformat_minor": 5
}
