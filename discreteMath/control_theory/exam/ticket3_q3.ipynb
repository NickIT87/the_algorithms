{
 "cells": [
  {
   "cell_type": "markdown",
   "id": "b4d40a52-d4ba-4840-bd64-3f831bfd0d5a",
   "metadata": {},
   "source": [
    "<h4>Перевірити ранговий критерій керованості Калмана для системи:</h4>\n",
    "\\begin{aligned}\n",
    "\\left\\{ \\begin{array}{cl}\n",
    "\\dot{x_1} & = \\ -2x_2-x_3   \\\\\n",
    "\\dot{x_2} & = \\ x_1+x_2+2u  \\\\\n",
    "\\dot{x_3} & = \\ -7x_1+2x_3-u\n",
    "\\end{array} \\right.\n",
    "\\end{aligned}"
   ]
  },
  {
   "cell_type": "code",
   "execution_count": 1,
   "id": "b9798951-4f0b-4e4a-a8c6-d42d1eab5c34",
   "metadata": {},
   "outputs": [],
   "source": [
    "import numpy as np\n",
    "from numpy import linalg as LA"
   ]
  },
  {
   "cell_type": "code",
   "execution_count": 2,
   "id": "752c598b-524e-4209-8779-fa0e705bf2b6",
   "metadata": {},
   "outputs": [
    {
     "data": {
      "text/plain": [
       "array([[ 0, -2, -1],\n",
       "       [ 1,  1,  0],\n",
       "       [-7,  0,  2]])"
      ]
     },
     "execution_count": 2,
     "metadata": {},
     "output_type": "execute_result"
    }
   ],
   "source": [
    "A = np.array([\n",
    "    [0, -2, -1],\n",
    "    [1, 1, 0],\n",
    "    [-7, 0, 2]\n",
    "])\n",
    "A"
   ]
  },
  {
   "cell_type": "code",
   "execution_count": 3,
   "id": "a37256c6-a519-4d0d-a698-a6d29c20e587",
   "metadata": {},
   "outputs": [
    {
     "data": {
      "text/plain": [
       "array([[ 0],\n",
       "       [ 2],\n",
       "       [-1]])"
      ]
     },
     "execution_count": 3,
     "metadata": {},
     "output_type": "execute_result"
    }
   ],
   "source": [
    "B = np.array([ [0], [2], [-1] ])\n",
    "B"
   ]
  },
  {
   "cell_type": "code",
   "execution_count": 4,
   "id": "a379ac44-6a45-49f1-b43b-cdaadcedf8a0",
   "metadata": {},
   "outputs": [
    {
     "data": {
      "text/plain": [
       "array([[-3],\n",
       "       [ 2],\n",
       "       [-2]])"
      ]
     },
     "execution_count": 4,
     "metadata": {},
     "output_type": "execute_result"
    }
   ],
   "source": [
    "AB = A.dot(B)\n",
    "AB"
   ]
  },
  {
   "cell_type": "code",
   "execution_count": 5,
   "id": "8078bb0b-3a0a-46f7-b6d5-938c8a080c15",
   "metadata": {},
   "outputs": [
    {
     "data": {
      "text/plain": [
       "array([[-2],\n",
       "       [-1],\n",
       "       [17]])"
      ]
     },
     "execution_count": 5,
     "metadata": {},
     "output_type": "execute_result"
    }
   ],
   "source": [
    "A2B = A.dot(AB)\n",
    "A2B"
   ]
  },
  {
   "cell_type": "code",
   "execution_count": 6,
   "id": "3681ad6f-77db-41ea-8ec7-61d57943cca1",
   "metadata": {},
   "outputs": [
    {
     "data": {
      "text/plain": [
       "array([[ 0, -3, -2],\n",
       "       [ 2,  2, -1],\n",
       "       [-1, -2, 17]])"
      ]
     },
     "execution_count": 6,
     "metadata": {},
     "output_type": "execute_result"
    }
   ],
   "source": [
    "K = np.array([ \n",
    "    [B[0][0], AB[0][0], A2B[0][0]], # 0\n",
    "    [B[1][0], AB[1][0], A2B[1][0]], # 1\n",
    "    [B[2][0], AB[2][0], A2B[2][0]], # 2\n",
    "])\n",
    "K"
   ]
  },
  {
   "cell_type": "code",
   "execution_count": 7,
   "id": "5f1dab72-dde6-4585-b7e7-4aa1611c6858",
   "metadata": {},
   "outputs": [
    {
     "data": {
      "text/plain": [
       "3"
      ]
     },
     "execution_count": 7,
     "metadata": {},
     "output_type": "execute_result"
    }
   ],
   "source": [
    "LA.matrix_rank(K)"
   ]
  },
  {
   "cell_type": "code",
   "execution_count": 8,
   "id": "a0013fdd-4aea-4c80-8831-37fed390a2fa",
   "metadata": {},
   "outputs": [
    {
     "data": {
      "text/plain": [
       "103.00000000000001"
      ]
     },
     "execution_count": 8,
     "metadata": {},
     "output_type": "execute_result"
    }
   ],
   "source": [
    "LA.det(K)"
   ]
  }
 ],
 "metadata": {
  "kernelspec": {
   "display_name": "Python 3 (ipykernel)",
   "language": "python",
   "name": "python3"
  },
  "language_info": {
   "codemirror_mode": {
    "name": "ipython",
    "version": 3
   },
   "file_extension": ".py",
   "mimetype": "text/x-python",
   "name": "python",
   "nbconvert_exporter": "python",
   "pygments_lexer": "ipython3",
   "version": "3.10.6"
  }
 },
 "nbformat": 4,
 "nbformat_minor": 5
}
