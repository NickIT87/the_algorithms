{
 "cells": [
  {
   "cell_type": "markdown",
   "id": "77503aa4-1804-4c21-a0d6-a5baa90f8f57",
   "metadata": {},
   "source": [
    "<h4>Алгоритм построения наблюдателя Луенбергера:</h4>\n",
    "<h5>1. записать матрицу: </h5>\n",
    "\\begin{aligned}\n",
    "F = (f1,f2,...,fn)^T\n",
    "\\end{aligned}"
   ]
  },
  {
   "cell_type": "markdown",
   "id": "cfa977c0-1fb6-4eb0-beba-05a534f8d16d",
   "metadata": {},
   "source": [
    "<h5>2. Вычислить матрицу W = A - FH</h5>"
   ]
  },
  {
   "cell_type": "markdown",
   "id": "2b3eab0c-b2af-4257-9334-b0c5ead71abc",
   "metadata": {},
   "source": [
    "<h5>3. Записать характеристический многочлен матрицы W:</h5>\n",
    "\\begin{aligned}\n",
    "P\\left(\\lambda\\right)=\\left| W-\\lambda I \\right|\n",
    "\\end{aligned}"
   ]
  },
  {
   "cell_type": "markdown",
   "id": "a634e23f-7802-444d-be70-00d463a7925f",
   "metadata": {},
   "source": [
    "<h5>4. Коэффициенты многочлена P зависят от f1,f2,...,fn.</h5>\n",
    "<h5>Подобрать f1,f2,...,fn так, чтобы все корни уравнения:</h5>\n",
    "\\begin{aligned}\n",
    "P\\left(\\lambda\\right)=0\n",
    "\\end{aligned}\n",
    "<h5>обладали свойством:</h5>\n",
    "\\begin{aligned}\n",
    "Re\\left(\\lambda_j\\right)<0,\\text{  }& j=1,2,...,n\n",
    "\\end{aligned}"
   ]
  },
  {
   "cell_type": "markdown",
   "id": "eed2f573-a3ad-4fd3-8610-90c0c9c7c56e",
   "metadata": {},
   "source": [
    "<h5>В частности, можно определить f1, ..., fn из условия:  </h5>\n",
    "\\begin{aligned}\n",
    "P\\left( \\lambda \\right)\\equiv \\pm \\left( \\lambda+1 \\right)^n\n",
    "\\end{aligned}"
   ]
  },
  {
   "cell_type": "markdown",
   "id": "c7e8ffa1-967e-4a29-a312-161c46a4db1a",
   "metadata": {},
   "source": [
    "<h5>Тогда система:</h5>\n",
    "\\begin{aligned}\n",
    "\\dot{Z}= \\left( A-FH \\right)Z+Bu+Fy\n",
    "\\end{aligned}\n",
    "<h5>называется наблюдателем Луенбергера для системы:</h5>"
   ]
  },
  {
   "cell_type": "markdown",
   "id": "7fb11bb8-89c1-463b-83f6-8277e728f456",
   "metadata": {},
   "source": [
    "<h5>(3)</h5>\n",
    "\\begin{aligned}\n",
    "\\dot{x}=Ax+Bu,\\text{  }x\\in R^n, u\\in R^m\n",
    "\\end{aligned}\n",
    "<h5>(4)</h5>\n",
    "\\begin{aligned}\n",
    "y=Hx,\\text{  }y \\in R^r\n",
    "\\end{aligned}"
   ]
  },
  {
   "cell_type": "markdown",
   "id": "99a8259f-c142-4deb-a7ee-633923dc0e33",
   "metadata": {},
   "source": [
    "<h4>Пример:</h4>\n",
    "\\begin{aligned}\n",
    "\\left\\{ \\begin{array}{cl}\n",
    "\\dot{x_1} & = x_2 \\\\\n",
    "\\dot{x_2} & = x_3 \\\\\n",
    "\\dot{x_3} & = u\n",
    "\\end{array} \\right.\n",
    "\\end{aligned}"
   ]
  },
  {
   "cell_type": "markdown",
   "id": "0fd4802d-62dc-498d-9d2b-114e5a75a0ea",
   "metadata": {},
   "source": [
    "\\begin{aligned}\n",
    "y=x_1\n",
    "\\end{aligned}\n",
    "\\begin{aligned}\n",
    "\\dot{x}=Ax+Bu\n",
    "\\end{aligned}\n",
    "\\begin{aligned}\n",
    "y=Hx\n",
    "\\end{aligned}"
   ]
  },
  {
   "cell_type": "code",
   "execution_count": null,
   "id": "c8f8e9ab-1993-4d12-9e2a-1fd6428723d7",
   "metadata": {},
   "outputs": [],
   "source": []
  }
 ],
 "metadata": {
  "kernelspec": {
   "display_name": "Python 3 (ipykernel)",
   "language": "python",
   "name": "python3"
  },
  "language_info": {
   "codemirror_mode": {
    "name": "ipython",
    "version": 3
   },
   "file_extension": ".py",
   "mimetype": "text/x-python",
   "name": "python",
   "nbconvert_exporter": "python",
   "pygments_lexer": "ipython3",
   "version": "3.10.6"
  }
 },
 "nbformat": 4,
 "nbformat_minor": 5
}
