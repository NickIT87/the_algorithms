{
 "cells": [
  {
   "cell_type": "markdown",
   "id": "77503aa4-1804-4c21-a0d6-a5baa90f8f57",
   "metadata": {},
   "source": [
    "<h4>Алгоритм построения наблюдателя Луенбергера:</h4>\n",
    "<h5>1. записать матрицу: </h5>\n",
    "\\begin{aligned}\n",
    "F = (f_{1},f_{2},...,f_{n})^T\n",
    "\\end{aligned}"
   ]
  },
  {
   "cell_type": "markdown",
   "id": "cfa977c0-1fb6-4eb0-beba-05a534f8d16d",
   "metadata": {},
   "source": [
    "<h5>2. Вычислить матрицу W = A - FH</h5>"
   ]
  },
  {
   "cell_type": "markdown",
   "id": "2b3eab0c-b2af-4257-9334-b0c5ead71abc",
   "metadata": {},
   "source": [
    "<h5>3. Записать характеристический многочлен матрицы W:</h5>\n",
    "\\begin{aligned}\n",
    "P\\left(\\lambda\\right)=\\left| W-\\lambda I \\right|\n",
    "\\end{aligned}"
   ]
  },
  {
   "cell_type": "markdown",
   "id": "a634e23f-7802-444d-be70-00d463a7925f",
   "metadata": {
    "tags": []
   },
   "source": [
    "<h5>4. Коэффициенты многочлена P зависят от f1,f2,...,fn.</h5>\n",
    "<h5>Подобрать f1,f2,...,fn так, чтобы все корни уравнения:</h5>\n",
    "\\begin{aligned}\n",
    "P\\left(\\lambda\\right)=0\n",
    "\\end{aligned}\n",
    "<h5>обладали свойством:</h5>\n",
    "\\begin{aligned}\n",
    "Re\\left(\\lambda_j\\right)<0,\\text{  }& j=1,2,...,n\n",
    "\\end{aligned}"
   ]
  },
  {
   "cell_type": "markdown",
   "id": "eed2f573-a3ad-4fd3-8610-90c0c9c7c56e",
   "metadata": {},
   "source": [
    "<h5>В частности, можно определить f1, ..., fn из условия:  </h5>\n",
    "\\begin{aligned}\n",
    "P\\left( \\lambda \\right)\\equiv \\pm \\left( \\lambda+1 \\right)^n\n",
    "\\end{aligned}"
   ]
  },
  {
   "cell_type": "markdown",
   "id": "c7e8ffa1-967e-4a29-a312-161c46a4db1a",
   "metadata": {},
   "source": [
    "<h5>Тогда система:</h5>\n",
    "\\begin{aligned}\n",
    "\\dot{Z}= \\left( A-FH \\right)Z+Bu+Fy\n",
    "\\end{aligned}\n",
    "<h5>называется наблюдателем Луенбергера для системы:</h5>"
   ]
  },
  {
   "cell_type": "markdown",
   "id": "7fb11bb8-89c1-463b-83f6-8277e728f456",
   "metadata": {},
   "source": [
    "<h5>(3)</h5>\n",
    "\\begin{aligned}\n",
    "\\dot{x}=Ax+Bu,\\text{  }x\\in R^n, u\\in R^m\n",
    "\\end{aligned}\n",
    "<h5>(4)</h5>\n",
    "\\begin{aligned}\n",
    "y=Hx,\\text{  }y \\in R^r\n",
    "\\end{aligned}"
   ]
  },
  {
   "cell_type": "markdown",
   "id": "99a8259f-c142-4deb-a7ee-633923dc0e33",
   "metadata": {},
   "source": [
    "<h4>Пример:</h4>\n",
    "\\begin{aligned}\n",
    "\\left\\{ \\begin{array}{cl}\n",
    "\\dot{x_1} & = x_2 \\\\\n",
    "\\dot{x_2} & = x_3 \\\\\n",
    "\\dot{x_3} & = u\n",
    "\\end{array} \\right.\n",
    "\\end{aligned}"
   ]
  },
  {
   "cell_type": "markdown",
   "id": "0fd4802d-62dc-498d-9d2b-114e5a75a0ea",
   "metadata": {},
   "source": [
    "\\begin{aligned}\n",
    "y=x_1\n",
    "\\end{aligned}\n",
    "\\begin{aligned}\n",
    "\\dot{x}=Ax+Bu\n",
    "\\end{aligned}\n",
    "\\begin{aligned}\n",
    "y=Hx\n",
    "\\end{aligned}"
   ]
  },
  {
   "cell_type": "code",
   "execution_count": 2,
   "id": "c8f8e9ab-1993-4d12-9e2a-1fd6428723d7",
   "metadata": {},
   "outputs": [],
   "source": [
    "import numpy as np\n",
    "from numpy import linalg as LA"
   ]
  },
  {
   "cell_type": "code",
   "execution_count": 3,
   "id": "53023f37-8422-4201-beaa-16f9de49976f",
   "metadata": {},
   "outputs": [
    {
     "data": {
      "text/plain": [
       "array([[0, 1, 0],\n",
       "       [0, 0, 1],\n",
       "       [0, 0, 0]])"
      ]
     },
     "execution_count": 3,
     "metadata": {},
     "output_type": "execute_result"
    }
   ],
   "source": [
    "A = np.array([\n",
    "    [0, 1, 0],\n",
    "    [0, 0, 1],\n",
    "    [0, 0, 0]\n",
    "])\n",
    "A"
   ]
  },
  {
   "cell_type": "code",
   "execution_count": 4,
   "id": "3202e23e-b425-4e20-aa08-6077f54df884",
   "metadata": {},
   "outputs": [
    {
     "data": {
      "text/plain": [
       "array([[0],\n",
       "       [0],\n",
       "       [1]])"
      ]
     },
     "execution_count": 4,
     "metadata": {},
     "output_type": "execute_result"
    }
   ],
   "source": [
    "B = np.array([\n",
    "    [0],\n",
    "    [0],\n",
    "    [1]\n",
    "])\n",
    "B"
   ]
  },
  {
   "cell_type": "code",
   "execution_count": 5,
   "id": "484055e2-1712-4aff-9dbf-bdddc5b60f4b",
   "metadata": {},
   "outputs": [
    {
     "data": {
      "text/plain": [
       "array([[1, 0, 0]])"
      ]
     },
     "execution_count": 5,
     "metadata": {},
     "output_type": "execute_result"
    }
   ],
   "source": [
    "H = np.array([ [1, 0, 0] ])\n",
    "H"
   ]
  },
  {
   "cell_type": "markdown",
   "id": "0ffd2ef8-87fb-4afe-ad69-b9143db8d366",
   "metadata": {},
   "source": [
    "\\begin{aligned}\n",
    "F = \\begin{pmatrix}\n",
    "f_{1} \\\\\n",
    "f_{2} \\\\\n",
    "f_{3}\n",
    "\\end{pmatrix}\n",
    "\\end{aligned}"
   ]
  },
  {
   "cell_type": "markdown",
   "id": "90868e31-c611-43d3-9a39-e4335389539a",
   "metadata": {},
   "source": [
    "\\begin{aligned}\n",
    "W=A-\\begin{pmatrix}f_1 \\\\f_2 \\\\f_3\\end{pmatrix}\\left(1, 0, 0 \\right)=\\begin{pmatrix}\n",
    "-f_1 &1  &0  \\\\\n",
    "-f_2 &0  &1  \\\\\n",
    "-f_3 &0  &0 \n",
    "\\end{pmatrix}\n",
    "\\end{aligned}"
   ]
  },
  {
   "cell_type": "markdown",
   "id": "e8a841ce-f1a7-407c-b118-522cd7e058ed",
   "metadata": {},
   "source": [
    "\\begin{aligned}\n",
    "P\\left( \\lambda \\right) = \\begin{pmatrix}\n",
    "-f_1-\\lambda & 1        & 0  \\\\\n",
    "-f_2         & -\\lambda & 1  \\\\\n",
    "-f_3         & 0        & -\\lambda \n",
    "\\end{pmatrix} \n",
    "= \\lambda^2 \\left( \\lambda + f_1 \\right)-f_3-f_2\\lambda\n",
    "= -\\lambda^3 - f_1\\lambda^2-f_2\\lambda-f_3\n",
    "\\end{aligned}"
   ]
  },
  {
   "cell_type": "markdown",
   "id": "8ed70e5a-3971-4413-ae6b-bba4230ac186",
   "metadata": {},
   "source": [
    "\\begin{aligned}\n",
    "P\\left(\\lambda\\right)\\equiv-\\left(\\lambda+1\\right)^3\\equiv-\\lambda^3-3\\lambda^2-3\\lambda-1\n",
    "\\end{aligned}"
   ]
  },
  {
   "cell_type": "markdown",
   "id": "26316a73-b5b0-45a8-be78-dea7fd96fbe3",
   "metadata": {},
   "source": [
    "\\begin{aligned}\n",
    "f_1 = 3,\n",
    "f_2 = 3,\n",
    "f_3 = 1\n",
    "\\end{aligned}"
   ]
  },
  {
   "cell_type": "code",
   "execution_count": 28,
   "id": "f71b7d76-c8e4-48d9-bc1a-65891bdaad3f",
   "metadata": {},
   "outputs": [
    {
     "data": {
      "text/plain": [
       "array([[3],\n",
       "       [3],\n",
       "       [1]])"
      ]
     },
     "execution_count": 28,
     "metadata": {},
     "output_type": "execute_result"
    }
   ],
   "source": [
    "F = np.array([\n",
    "    [3],\n",
    "    [3],\n",
    "    [1]\n",
    "])\n",
    "F"
   ]
  },
  {
   "cell_type": "code",
   "execution_count": 29,
   "id": "bb2cbe3d-39ed-4545-b2f8-51e7582c5742",
   "metadata": {},
   "outputs": [
    {
     "data": {
      "text/plain": [
       "array([[-3,  1,  0],\n",
       "       [-3,  0,  1],\n",
       "       [-1,  0,  0]])"
      ]
     },
     "execution_count": 29,
     "metadata": {},
     "output_type": "execute_result"
    }
   ],
   "source": [
    "W = A - F.dot(H)\n",
    "W"
   ]
  },
  {
   "cell_type": "code",
   "execution_count": 32,
   "id": "20036c34-e8c0-4654-8ff3-bb627943b8ce",
   "metadata": {},
   "outputs": [
    {
     "data": {
      "text/plain": [
       "-1.0"
      ]
     },
     "execution_count": 32,
     "metadata": {},
     "output_type": "execute_result"
    }
   ],
   "source": [
    "LA.det(W)"
   ]
  },
  {
   "cell_type": "code",
   "execution_count": 37,
   "id": "75635493-2e36-4c34-8935-52b0be23fad5",
   "metadata": {},
   "outputs": [
    {
     "data": {
      "text/plain": [
       "array([[-3,  1,  0],\n",
       "       [-3,  0,  1],\n",
       "       [-1,  0,  0]])"
      ]
     },
     "execution_count": 37,
     "metadata": {},
     "output_type": "execute_result"
    }
   ],
   "source": [
    "lmbda = 0\n",
    "I = np.eye(3, dtype='int')\n",
    "Plmbda = W - lmbda * I\n",
    "Plmbda"
   ]
  }
 ],
 "metadata": {
  "kernelspec": {
   "display_name": "Python 3 (ipykernel)",
   "language": "python",
   "name": "python3"
  },
  "language_info": {
   "codemirror_mode": {
    "name": "ipython",
    "version": 3
   },
   "file_extension": ".py",
   "mimetype": "text/x-python",
   "name": "python",
   "nbconvert_exporter": "python",
   "pygments_lexer": "ipython3",
   "version": "3.10.6"
  }
 },
 "nbformat": 4,
 "nbformat_minor": 5
}
