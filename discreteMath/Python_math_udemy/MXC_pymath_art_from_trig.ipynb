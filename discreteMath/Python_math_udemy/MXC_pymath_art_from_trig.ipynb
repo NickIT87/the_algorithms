{
 "cells": [
  {
   "cell_type": "markdown",
   "metadata": {},
   "source": [
    "# COURSE: Master math by coding in Python\n",
    "## SECTION: Art from Trigonometry\n",
    "\n",
    "#### https://www.udemy.com/course/math-with-python/?couponCode=MXC-DISC4ALL\n",
    "#### INSTRUCTOR: sincxpress.com\n",
    "\n",
    "Note about this code: Each video in this section of the course corresponds to a section of code below. Please note that this code roughly matches the code shown in the live recording, but is not exactly the same -- the variable names, order of lines, and parameters may be slightly different. "
   ]
  },
  {
   "cell_type": "code",
   "execution_count": null,
   "metadata": {},
   "outputs": [],
   "source": []
  },
  {
   "cell_type": "code",
   "execution_count": null,
   "metadata": {},
   "outputs": [],
   "source": [
    "import numpy as np\n",
    "import matplotlib.pyplot as plt"
   ]
  },
  {
   "cell_type": "markdown",
   "metadata": {},
   "source": [
    "# VIDEO: Astroid radial curve"
   ]
  },
  {
   "cell_type": "code",
   "execution_count": null,
   "metadata": {},
   "outputs": [],
   "source": [
    "t = np.linspace(-6*np.pi,6*np.pi,1000)\n",
    "\n",
    "a = t\n",
    "\n",
    "x = a * np.cos(t)**3\n",
    "y = a * np.sin(t)**3\n",
    "\n",
    "plt.plot(x,y,'m',linewidth=3)\n",
    "plt.axis('off')\n",
    "plt.axis('square')\n",
    "\n",
    "plt.show()"
   ]
  },
  {
   "cell_type": "markdown",
   "metadata": {},
   "source": [
    "### Exercise"
   ]
  },
  {
   "cell_type": "code",
   "execution_count": null,
   "metadata": {},
   "outputs": [],
   "source": [
    "fig,ax = plt.subplots(3,3,figsize=(10,6))\n",
    "row, col = np.indices((3, 3))\n",
    "\n",
    "for i in range(9):\n",
    "    x = t**i * np.cos(t)**3\n",
    "    y = t**i * np.sin(t)**3\n",
    "    \n",
    "    r = row.ravel()[i]\n",
    "    c = col.ravel()[i]\n",
    "    \n",
    "    ax[r,c].plot(x,y,'k')\n",
    "    ax[r,c].axis('off')\n",
    "    ax[r,c].axis('square')\n",
    "    ax[r,c].set_xlabel('a=t$^%s$'%i)\n",
    "    \n",
    "plt.show()"
   ]
  },
  {
   "cell_type": "markdown",
   "metadata": {},
   "source": [
    "# VIDEO: Rose curves"
   ]
  },
  {
   "cell_type": "code",
   "execution_count": null,
   "metadata": {},
   "outputs": [],
   "source": [
    "k = 2\n",
    "\n",
    "# If k is an integer, the curve will be rose-shaped with\n",
    "#   2k petals if k is even, and\n",
    "#    k petals if k is odd.\n",
    "\n",
    "t = np.linspace(0,4*np.pi,1000)\n",
    "\n",
    "x = np.cos(k*t) * np.cos(t)\n",
    "y = np.cos(k*t) * np.sin(t)\n",
    "\n",
    "plt.plot(x,y,'m',linewidth=3)\n",
    "plt.axis('square')\n",
    "plt.axis('off')\n",
    "plt.show()\n"
   ]
  },
  {
   "cell_type": "markdown",
   "metadata": {},
   "source": [
    "### Exercise"
   ]
  },
  {
   "cell_type": "code",
   "execution_count": null,
   "metadata": {},
   "outputs": [],
   "source": [
    "fig,ax = plt.subplots(3,3,figsize=(10,6))\n",
    "row, col = np.indices((3, 3))\n",
    "\n",
    "kk = np.linspace(0,1.5,9)\n",
    "\n",
    "for i in range(9):\n",
    "    \n",
    "    k = kk[i]#i/2\n",
    "    \n",
    "    x = np.cos(k*t) * np.cos(t)\n",
    "    y = np.cos(k*t) * np.sin(t)\n",
    "    \n",
    "    r = row.ravel()[i]\n",
    "    c = col.ravel()[i]\n",
    "    \n",
    "    ax[r,c].plot(x,y,'k')\n",
    "    ax[r,c].axis('off')\n",
    "    ax[r,c].axis('square')\n",
    "    ax[r,c].set_title('k=%s'%k)\n",
    "    \n",
    "plt.show()"
   ]
  },
  {
   "cell_type": "markdown",
   "metadata": {},
   "source": [
    "# VIDEO: Squircle"
   ]
  },
  {
   "cell_type": "code",
   "execution_count": null,
   "metadata": {},
   "outputs": [],
   "source": [
    "x = np.linspace(-1,1,2001)\n",
    "\n",
    "y = ( 1 - x**4 )**(1/4)\n",
    "\n",
    "plt.plot(x,y,'k',linewidth=3)\n",
    "plt.plot(x,-y,'k',linewidth=3)\n",
    "\n",
    "plt.axis('square')\n",
    "plt.axis('off')\n",
    "plt.show()"
   ]
  },
  {
   "cell_type": "markdown",
   "metadata": {},
   "source": [
    "# VIDEO: Logarithmic spiral"
   ]
  },
  {
   "cell_type": "code",
   "execution_count": null,
   "metadata": {},
   "outputs": [],
   "source": [
    "t = np.linspace(0,10*np.pi,1000)\n",
    "\n",
    "k = -3\n",
    "\n",
    "x = np.cos(t) * np.exp(t/k)\n",
    "y = np.sin(t) * np.exp(t/k)\n",
    "\n",
    "plt.plot(x,y,'m',linewidth=3)\n",
    "plt.axis('square')\n",
    "plt.axis('off')\n",
    "plt.show()"
   ]
  },
  {
   "cell_type": "markdown",
   "metadata": {},
   "source": [
    "### Exercise"
   ]
  },
  {
   "cell_type": "code",
   "execution_count": null,
   "metadata": {},
   "outputs": [],
   "source": [
    "\n",
    "N = 150\n",
    "\n",
    "# eds = exponential decays\n",
    "eds = np.linspace(-6,-2,N)\n",
    "\n",
    "for i in range(N):\n",
    "    x = np.cos(t) * np.exp(t/eds[i])\n",
    "    y = np.sin(t) * np.exp(t/eds[i])\n",
    "    plt.plot(x,y,color=[i/N,0,i/N])\n",
    "    \n",
    "plt.axis('square')\n",
    "plt.axis('off')\n",
    "plt.show()"
   ]
  },
  {
   "cell_type": "markdown",
   "metadata": {},
   "source": [
    "# VIDEO: Logistic map"
   ]
  },
  {
   "cell_type": "code",
   "execution_count": null,
   "metadata": {},
   "outputs": [],
   "source": [
    "%matplotlib notebook\n",
    "\n",
    "N = 500\n",
    "rs = np.linspace(1,4,1000)\n",
    "endcap = np.arange(round(N*.9),N)\n",
    "\n",
    "for ri in range(len(rs)):\n",
    "    x = np.ones(N)/2\n",
    "    \n",
    "    for n in range(N-1):\n",
    "        x[n+1] = rs[ri]*x[n]*(1-x[n]) + .2*np.sin(2*np.pi*x[n])**2\n",
    "        \n",
    "    u = np.unique(x[endcap])\n",
    "    r = rs[ri]*np.ones(len(u))\n",
    "    plt.plot(r,u,'.',markersize=1,color=[(np.sin(ri/len(rs)/2)+1)/2,1-ri/len(rs),.5])\n",
    "\n",
    "plt.show()"
   ]
  }
 ],
 "metadata": {
  "kernelspec": {
   "display_name": "Python 3",
   "language": "python",
   "name": "python3"
  },
  "language_info": {
   "codemirror_mode": {
    "name": "ipython",
    "version": 3
   },
   "file_extension": ".py",
   "mimetype": "text/x-python",
   "name": "python",
   "nbconvert_exporter": "python",
   "pygments_lexer": "ipython3",
   "version": "3.7.3"
  }
 },
 "nbformat": 4,
 "nbformat_minor": 2
}
