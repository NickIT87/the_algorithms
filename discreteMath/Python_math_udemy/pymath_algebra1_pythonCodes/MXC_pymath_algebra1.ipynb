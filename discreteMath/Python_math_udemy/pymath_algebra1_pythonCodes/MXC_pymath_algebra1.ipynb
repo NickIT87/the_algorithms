{
 "cells": [
  {
   "cell_type": "markdown",
   "metadata": {},
   "source": [
    "# COURSE: Master math by coding in Python\n",
    "## SECTION: Algebra 1\n",
    "\n",
    "#### https://www.udemy.com/course/math-with-python/?couponCode=MXC-DISC4ALL\n",
    "#### INSTRUCTOR: sincxpress.com\n",
    "\n",
    "Note about this code: Each video in this section of the course corresponds to a section of code below. Please note that this code roughly matches the code shown in the live recording, but is not exactly the same -- the variable names, order of lines, and parameters may be slightly different. "
   ]
  },
  {
   "cell_type": "code",
   "execution_count": null,
   "metadata": {},
   "outputs": [],
   "source": []
  },
  {
   "cell_type": "code",
   "execution_count": null,
   "metadata": {},
   "outputs": [],
   "source": [
    "# It's generally good practice to import all required modules at the top of the script!\n",
    "import sympy as sym\n",
    "import numpy as np\n",
    "from IPython.display import display, Math"
   ]
  },
  {
   "cell_type": "markdown",
   "metadata": {},
   "source": [
    "# VIDEO: Solving for x"
   ]
  },
  {
   "cell_type": "code",
   "execution_count": null,
   "metadata": {},
   "outputs": [],
   "source": [
    "x = sym.symbols('x')\n",
    "\n",
    "# the expression we want to solve is 2x+4=9\n",
    "expr = 2*x + 4 -9\n",
    "\n",
    "sym.solve(expr,x)"
   ]
  },
  {
   "cell_type": "code",
   "execution_count": null,
   "metadata": {},
   "outputs": [],
   "source": [
    "# make it look a bit nicer\n",
    "\n",
    "sol = sym.solve(expr,x)\n",
    "\n",
    "display('The solution to %s is %g'%(expr,sol[0]))\n",
    "\n",
    "# or\n",
    "display(Math('\\\\text{The solution to }%s\\\\text{ is x=}%g' %(sym.latex(expr),sol[0])))"
   ]
  },
  {
   "cell_type": "code",
   "execution_count": null,
   "metadata": {},
   "outputs": [],
   "source": [
    "# can input the equation directly into the solve function\n",
    "sym.solve(x**2 - 4,x)"
   ]
  },
  {
   "cell_type": "code",
   "execution_count": null,
   "metadata": {},
   "outputs": [],
   "source": [
    "# notice the solution is stored as a list, with one solution per element\n",
    "sol = sym.solve(x**2 - 4,x)\n",
    "\n",
    "print( type(sol) )\n",
    "print( len(sol) )"
   ]
  },
  {
   "cell_type": "code",
   "execution_count": null,
   "metadata": {},
   "outputs": [],
   "source": [
    "# we can print them all out:\n",
    "for i in range(0,len(sol)):\n",
    "    print('Solution #' + str(i+1) + ' is ' + str(sol[i]))\n"
   ]
  },
  {
   "cell_type": "code",
   "execution_count": null,
   "metadata": {},
   "outputs": [],
   "source": [
    "y = sym.symbols('y')\n",
    "\n",
    "expr = x/4 - x*y + 5\n",
    "\n",
    "print( \"Solved for x: \" + str(sym.solve(expr,x)[0]) )\n",
    "print( \"Solved for y: \" + str(sym.solve(expr,y)) )\n"
   ]
  },
  {
   "cell_type": "markdown",
   "metadata": {},
   "source": [
    "### Exercises"
   ]
  },
  {
   "cell_type": "code",
   "execution_count": null,
   "metadata": {
    "scrolled": true
   },
   "outputs": [],
   "source": [
    "# 1)\n",
    "# simplify and solve for q\n",
    "q = sym.symbols('q')\n",
    "eq = 3*q + 4/q + 3 - 5*q - 1/q - 1\n",
    "\n",
    "display(Math(sym.latex(eq.simplify()))) \n",
    "display(Math('q='+sym.latex(sym.solve(eq,q))))"
   ]
  },
  {
   "cell_type": "code",
   "execution_count": null,
   "metadata": {},
   "outputs": [],
   "source": [
    "# 2)\n",
    "eq = 2*q + 3*q**2 - 5/q - 4/q**3\n",
    "\n",
    "display(Math(sym.latex(eq)))\n",
    "display(Math(sym.latex(sym.simplify(eq))))\n",
    "display(Math(sym.latex(sym.cancel(eq)))) # puts into p/q form with integer coefficients"
   ]
  },
  {
   "cell_type": "code",
   "execution_count": null,
   "metadata": {},
   "outputs": [],
   "source": [
    "# 3)\n",
    "# simplify this expression. confirm on your own using paper-and-pencil\n",
    "expr = (sym.sqrt(3) + sym.sqrt(15)*q) / (sym.sqrt(2) + sym.sqrt(10)*q)\n",
    "display(Math(sym.latex(expr)))\n",
    "display(Math(sym.latex(sym.simplify(expr))))"
   ]
  },
  {
   "cell_type": "code",
   "execution_count": null,
   "metadata": {},
   "outputs": [],
   "source": [
    "sym.simplify( expr.subs(q,10) )"
   ]
  },
  {
   "cell_type": "code",
   "execution_count": null,
   "metadata": {},
   "outputs": [],
   "source": [
    "expr.subs(q,10).evalf()"
   ]
  },
  {
   "cell_type": "markdown",
   "metadata": {},
   "source": [
    "# VIDEO: Expanding terms"
   ]
  },
  {
   "cell_type": "code",
   "execution_count": null,
   "metadata": {},
   "outputs": [],
   "source": [
    "# define our terms\n",
    "from sympy.abc import x\n",
    "\n",
    "term1 = (4*x + 5)\n",
    "term2 = x\n",
    "\n",
    "print( term1*term2 )\n",
    "print( sym.expand(term1*term2) )\n",
    "print( Math(sym.latex(sym.expand(term1*term2)) ))"
   ]
  },
  {
   "cell_type": "code",
   "execution_count": null,
   "metadata": {},
   "outputs": [],
   "source": [
    "term3 = x - 7 # note that parentheses are not necessary!\n",
    "\n",
    "display(Math( sym.latex(term1*term3) ))\n",
    "display(Math( sym.latex( sym.expand(term1*term3) )))"
   ]
  },
  {
   "cell_type": "code",
   "execution_count": null,
   "metadata": {},
   "outputs": [],
   "source": [
    "# with two variables\n",
    "y = sym.symbols('y')\n",
    "\n",
    "expr = x*(2*y**2 - 5**x/x)\n",
    "sym.expand(expr)"
   ]
  },
  {
   "cell_type": "code",
   "execution_count": null,
   "metadata": {},
   "outputs": [],
   "source": [
    "# three expressions and three variables!!\n",
    "# but first, what variables have we already created??\n",
    "%whos\n"
   ]
  },
  {
   "cell_type": "code",
   "execution_count": null,
   "metadata": {},
   "outputs": [],
   "source": [
    "z = sym.symbols('z')\n",
    "\n",
    "term1 = (3 + x)\n",
    "term2 = (y - 4*z)\n",
    "term3 = (5/z + 3*x)\n",
    "\n",
    "display(Math(sym.latex(term1*term2*term3)))\n",
    "display(Math(sym.latex(sym.expand(term1*term2*term3))))\n",
    "display(Math(sym.latex(sym.simplify(sym.expand(term1*term2*term3)))))"
   ]
  },
  {
   "cell_type": "markdown",
   "metadata": {},
   "source": [
    "### Exercises"
   ]
  },
  {
   "cell_type": "code",
   "execution_count": null,
   "metadata": {},
   "outputs": [],
   "source": [
    "# a function of two variables\n",
    "Fxy = (4+x)*(2-y)\n",
    "print(Fxy.subs({x:2,y:-2}))"
   ]
  },
  {
   "cell_type": "code",
   "execution_count": null,
   "metadata": {},
   "outputs": [],
   "source": [
    "numrange = range(0,3)\n",
    "for i in numrange:\n",
    "    for j in numrange:\n",
    "        print('When x=%g and y=%g, f(x,y)=%g' %(i,j,Fxy.subs({x:i,y:j})) )"
   ]
  },
  {
   "cell_type": "markdown",
   "metadata": {},
   "source": [
    "# VIDEO: Creating and accessing matrices with numpy"
   ]
  },
  {
   "cell_type": "code",
   "execution_count": null,
   "metadata": {},
   "outputs": [],
   "source": [
    "A = np.array( [ [1,2],[3,4] ] )\n",
    "print(A)\n",
    "\n",
    "# make it look nicer\n",
    "display(Math(sym.latex(sym.sympify(A))))"
   ]
  },
  {
   "cell_type": "code",
   "execution_count": null,
   "metadata": {},
   "outputs": [],
   "source": [
    "# initializing a matrix with zeros\n",
    "\n",
    "numrange = range(0,5)\n",
    "\n",
    "mat = np.zeros([len(numrange),len(numrange)])\n",
    "print(mat)"
   ]
  },
  {
   "cell_type": "code",
   "execution_count": null,
   "metadata": {},
   "outputs": [],
   "source": [
    "# populating matrices using row-col indexing\n",
    "\n",
    "mat[0,1] = 1\n",
    "# mat[5,8] = 4\n",
    "mat"
   ]
  },
  {
   "cell_type": "code",
   "execution_count": null,
   "metadata": {},
   "outputs": [],
   "source": [
    "# can also use variables for indices\n",
    "i = 2\n",
    "j = 1\n",
    "mat[i,j] = 4.5\n",
    "\n",
    "display(Math(sym.latex(sym.sympify(mat))))"
   ]
  },
  {
   "cell_type": "code",
   "execution_count": null,
   "metadata": {},
   "outputs": [],
   "source": [
    "# now use a for-loop\n",
    "\n",
    "numrange = range(0,3)\n",
    "for i in numrange:\n",
    "    for j in numrange:\n",
    "        mat[i][j] = (-1)**(i+j)\n",
    "\n",
    "mat"
   ]
  },
  {
   "cell_type": "markdown",
   "metadata": {},
   "source": [
    "### Exercise"
   ]
  },
  {
   "cell_type": "code",
   "execution_count": null,
   "metadata": {},
   "outputs": [],
   "source": [
    "x,y = sym.symbols('x y')\n",
    "Fxy = (4+x)*(2-y)\n",
    "\n",
    "numrange = range(0,3)\n",
    "\n",
    "funout = np.zeros((len(numrange),len(numrange)))\n",
    "\n",
    "for i in numrange:\n",
    "    for j in numrange:\n",
    "        funout[i,j] = Fxy.subs({x:i,y:j})\n",
    "\n",
    "display(Math(sym.latex(sym.sympify(funout))))"
   ]
  },
  {
   "cell_type": "markdown",
   "metadata": {},
   "source": [
    "### Exercise: Create a multiplication table"
   ]
  },
  {
   "cell_type": "code",
   "execution_count": null,
   "metadata": {},
   "outputs": [],
   "source": [
    "nums = range(1,11)\n",
    "\n",
    "multmat = np.zeros((len(nums),len(nums)),dtype=int)\n",
    "\n",
    "for i in nums:\n",
    "    for j in nums:\n",
    "        multmat[i-1,j-1] = i*j\n",
    "\n",
    "        \n",
    "display(Math(sym.latex(sym.sympify(multmat)))) # no display without display\n",
    "\n",
    "x = 3"
   ]
  },
  {
   "cell_type": "markdown",
   "metadata": {},
   "source": [
    "# VIDEO: Associative, commutative, and distributive properties"
   ]
  },
  {
   "cell_type": "markdown",
   "metadata": {},
   "source": [
    "### Associative"
   ]
  },
  {
   "cell_type": "code",
   "execution_count": null,
   "metadata": {},
   "outputs": [],
   "source": [
    "from sympy.abc import x,y\n",
    "\n",
    "expr1 = x*(4*y)\n",
    "expr2 = (x*4)*y\n",
    "\n",
    "# show that two equations are equal by subtracting them!\n",
    "expr1 - expr2"
   ]
  },
  {
   "cell_type": "markdown",
   "metadata": {},
   "source": [
    "### Commutative"
   ]
  },
  {
   "cell_type": "code",
   "execution_count": null,
   "metadata": {},
   "outputs": [],
   "source": [
    "# create three expressions\n",
    "e1 = x*4*y\n",
    "e2 = 4*x*y\n",
    "e3 = y*x*4"
   ]
  },
  {
   "cell_type": "code",
   "execution_count": null,
   "metadata": {},
   "outputs": [],
   "source": [
    "# quick reminder about substitution in sympy\n",
    "display( e1.subs(x,3) )\n",
    "\n",
    "# multiple subsitutions\n",
    "e3.subs({x:2,y:3})"
   ]
  },
  {
   "cell_type": "code",
   "execution_count": null,
   "metadata": {},
   "outputs": [],
   "source": [
    "# now back to the task!\n",
    "print( e1.subs({x:3,y:4}) )\n",
    "print( e2.subs({x:3,y:4}) )\n",
    "print( e3.subs({x:3,y:4}) )"
   ]
  },
  {
   "cell_type": "markdown",
   "metadata": {},
   "source": [
    "### Distributive"
   ]
  },
  {
   "cell_type": "code",
   "execution_count": null,
   "metadata": {},
   "outputs": [],
   "source": [
    "# another way of creating symbolic variables\n",
    "from sympy.abc import a, b, c, d\n",
    "\n",
    "expr = (a+b)*(c+d)\n",
    "expr"
   ]
  },
  {
   "cell_type": "code",
   "execution_count": null,
   "metadata": {},
   "outputs": [],
   "source": [
    "sym.expand(expr)"
   ]
  },
  {
   "cell_type": "code",
   "execution_count": null,
   "metadata": {},
   "outputs": [],
   "source": [
    "sym.expand( (a+d)*(a-d) )"
   ]
  },
  {
   "cell_type": "code",
   "execution_count": null,
   "metadata": {},
   "outputs": [],
   "source": [
    "# embedding expressions\n",
    "a,x,y,z = sym.symbols('a,x,y,z')\n",
    "\n",
    "x = 3*y + z\n",
    "a = 4*x\n",
    "\n",
    "display(a)"
   ]
  },
  {
   "cell_type": "markdown",
   "metadata": {},
   "source": [
    "### Exercises"
   ]
  },
  {
   "cell_type": "code",
   "execution_count": null,
   "metadata": {},
   "outputs": [],
   "source": [
    "# with these two expressions, show that the commutative rule applies\n",
    "\n",
    "w,x,y,z = sym.symbols('w,x,y,z')\n",
    "\n",
    "x = w*(4-w)+1/w**2*(1+w)\n",
    "expr1 = x*(y+z)\n",
    "expr2 = 3/x+x**2\n",
    "\n",
    "display(Math(sym.latex(expr1*expr2)))\n",
    "display(Math(sym.latex(sym.simplify(expr1*expr2))))\n",
    "display(Math(sym.latex(expr2*expr1 - expr1*expr2)))\n"
   ]
  },
  {
   "cell_type": "markdown",
   "metadata": {},
   "source": [
    "# VIDEO: Creating and working with Python lists"
   ]
  },
  {
   "cell_type": "code",
   "execution_count": null,
   "metadata": {},
   "outputs": [],
   "source": [
    "# a list is a collection of things, and created using brackets []\n",
    "# A simple example is a list of numbers\n",
    "\n",
    "lst = [1,3,4,7]\n",
    "print( lst )\n",
    "print(type(lst))"
   ]
  },
  {
   "cell_type": "code",
   "execution_count": null,
   "metadata": {},
   "outputs": [],
   "source": [
    "# you can access individual list elements\n",
    "lst[2]"
   ]
  },
  {
   "cell_type": "code",
   "execution_count": null,
   "metadata": {},
   "outputs": [],
   "source": [
    "# -1 is for the final element\n",
    "lst[-1]"
   ]
  },
  {
   "cell_type": "code",
   "execution_count": null,
   "metadata": {},
   "outputs": [],
   "source": [
    "# \"slicing\"\n",
    "\n",
    "# print the first N list items\n",
    "N = 2\n",
    "lst[:N]\n"
   ]
  },
  {
   "cell_type": "code",
   "execution_count": null,
   "metadata": {},
   "outputs": [],
   "source": [
    "# print the last k items\n",
    "k = 2\n",
    "lst[-k:]\n"
   ]
  },
  {
   "cell_type": "code",
   "execution_count": null,
   "metadata": {},
   "outputs": [],
   "source": [
    "# print items n through k\n",
    "lst = [1,2,3,4,5,6,7,8,9]\n",
    "\n",
    "n = 3\n",
    "k = 7\n",
    "\n",
    "lst[n-1:k]\n"
   ]
  },
  {
   "cell_type": "code",
   "execution_count": null,
   "metadata": {},
   "outputs": [],
   "source": [
    "# a list of strings\n",
    "name = ['hello','my','name','is','Mike']\n",
    "\n",
    "# access each element using a for-loop\n",
    "for i in range(len(name)):\n",
    "    print(name[i])"
   ]
  },
  {
   "cell_type": "code",
   "execution_count": null,
   "metadata": {},
   "outputs": [],
   "source": [
    "# simpler!\n",
    "for i in name:\n",
    "    print(i)"
   ]
  },
  {
   "cell_type": "code",
   "execution_count": null,
   "metadata": {},
   "outputs": [],
   "source": [
    "# lists can also hold more than one variable type\n",
    "alist = [1,2,'cookies',[4,5]]\n",
    "\n",
    "for i in alist:\n",
    "    print(i)"
   ]
  },
  {
   "cell_type": "code",
   "execution_count": null,
   "metadata": {},
   "outputs": [],
   "source": [
    "# getting items from a list-within-a-list\n",
    "\n",
    "print( alist[-1] )\n",
    "\n",
    "print( alist[-1][1] )"
   ]
  },
  {
   "cell_type": "code",
   "execution_count": null,
   "metadata": {},
   "outputs": [],
   "source": [
    "# the term 'list' is reserved:\n",
    "alist2 = list( (1,2,'cookies',[4,5]) )\n",
    "\n",
    "for i in alist2:\n",
    "    print(i)"
   ]
  },
  {
   "cell_type": "code",
   "execution_count": null,
   "metadata": {},
   "outputs": [],
   "source": [
    "# importantly, we will use lists for sympy expressions!\n",
    "# list_of_expressions\n",
    "expr_list = [ 4*x**2 , 3+x , (1-x)/(1+x) ]"
   ]
  },
  {
   "cell_type": "markdown",
   "metadata": {},
   "source": [
    "### Exercises"
   ]
  },
  {
   "cell_type": "code",
   "execution_count": null,
   "metadata": {},
   "outputs": [],
   "source": [
    "# use sympy to expand and simplify these expressions\n",
    "x = sym.symbols('x')\n",
    "\n",
    "e1 = 2*x + x*(4-6*x) + x\n",
    "e2 = -x * (2/x + 4/(x**2)) + (4+x)/(4*x)\n",
    "e3 = (x + 3)*(x-3)*x*(1/(9*x))\n",
    "\n",
    "# make a list of the expressions\n",
    "exprs = [e1,e2,e3]\n",
    "\n",
    "for i in range(0,3):\n",
    "    display(Math('%s \\\\quad \\\\Longleftrightarrow \\\\quad %s' %(sym.latex(exprs[i]),sym.latex(sym.expand(exprs[i])))))\n"
   ]
  },
  {
   "cell_type": "markdown",
   "metadata": {},
   "source": [
    "# VIDEO: More on \"slicing\" in Python"
   ]
  },
  {
   "cell_type": "code",
   "execution_count": null,
   "metadata": {},
   "outputs": [],
   "source": [
    "# create an array (vector) of numbers\n",
    "vec = [10,11,12,13,14,15,16,17,18,19,20]\n",
    "# or\n",
    "vec = list(range(10,21))\n",
    "\n",
    "print(vec)"
   ]
  },
  {
   "cell_type": "code",
   "execution_count": null,
   "metadata": {},
   "outputs": [],
   "source": [
    "# indexing a single item\n",
    "vec[2]"
   ]
  },
  {
   "cell_type": "code",
   "execution_count": null,
   "metadata": {},
   "outputs": [],
   "source": [
    "# indexing multiple items (aka slicing)\n",
    "vec[2:4]"
   ]
  },
  {
   "cell_type": "code",
   "execution_count": null,
   "metadata": {},
   "outputs": [],
   "source": [
    "# from one element to the end\n",
    "vec[4:]"
   ]
  },
  {
   "cell_type": "code",
   "execution_count": null,
   "metadata": {},
   "outputs": [],
   "source": [
    "# from the first element to a specific element\n",
    "vec[:3]"
   ]
  },
  {
   "cell_type": "code",
   "execution_count": null,
   "metadata": {},
   "outputs": [],
   "source": [
    "# the last element\n",
    "vec[-1]\n",
    "\n",
    "# penultimate element\n",
    "vec[-2]\n"
   ]
  },
  {
   "cell_type": "code",
   "execution_count": null,
   "metadata": {},
   "outputs": [],
   "source": [
    "# from the end to the beginning\n",
    "vec[::-1]"
   ]
  },
  {
   "cell_type": "code",
   "execution_count": null,
   "metadata": {},
   "outputs": [],
   "source": [
    "# with non-1 stepping\n",
    "vec[0:5:2]"
   ]
  },
  {
   "cell_type": "markdown",
   "metadata": {},
   "source": [
    "# VIDEO: Greatest common denominator"
   ]
  },
  {
   "cell_type": "code",
   "execution_count": null,
   "metadata": {},
   "outputs": [],
   "source": [
    "# reminder: GCD is the largest integer that can divide both numbers without a remainder\n",
    "\n",
    "# we'll use the math package for this!\n",
    "import math\n",
    "\n",
    "math.gcd(95,100)"
   ]
  },
  {
   "cell_type": "code",
   "execution_count": null,
   "metadata": {},
   "outputs": [],
   "source": [
    "# GCD is defined for integers!\n",
    "math.gcd(1,.3)"
   ]
  },
  {
   "cell_type": "code",
   "execution_count": null,
   "metadata": {},
   "outputs": [],
   "source": [
    "math.gcd(0,3)"
   ]
  },
  {
   "cell_type": "code",
   "execution_count": null,
   "metadata": {},
   "outputs": [],
   "source": [
    "# application: reduce fraction to lowest term\n",
    "\n",
    "a = 16\n",
    "b = 88\n",
    "\n",
    "fact = math.gcd(a,b)\n",
    "\n",
    "display(Math('\\\\frac{%g}{%g} \\\\quad = \\\\quad \\\\frac{%g}{%g} \\\\times \\\\frac{%g}{%g}' %(a,b,a/fact,b/fact,fact,fact)))\n"
   ]
  },
  {
   "cell_type": "markdown",
   "metadata": {},
   "source": [
    "### Exercises"
   ]
  },
  {
   "cell_type": "code",
   "execution_count": null,
   "metadata": {},
   "outputs": [],
   "source": [
    "# show this property using symbols, and give an example with numbers.\n",
    "\n",
    "# gcd(m·a, m·b) = m·gcd(a, b)\n",
    "\n",
    "a,b,c = sym.symbols('a,b,c')\n",
    "\n",
    "display( sym.gcd(c*a,c*b) )\n",
    "display( c*sym.gcd(a,b) )\n",
    "\n",
    "\n",
    "# now with real numbers\n",
    "a = 5\n",
    "b = 6\n",
    "c = 7\n",
    "display( math.gcd(c*a,c*b) )\n",
    "display( c*math.gcd(a,b))\n"
   ]
  },
  {
   "cell_type": "code",
   "execution_count": null,
   "metadata": {},
   "outputs": [],
   "source": [
    "# double loop and store in matrix\n",
    "import numpy as np\n",
    "\n",
    "N = 10\n",
    "gcdMat = np.zeros((10,15))+99\n",
    "\n",
    "for i in range(0,10):\n",
    "    for j in range(0,15):\n",
    "        gcdMat[i,j] = math.gcd(i+1,j+1)\n",
    "        \n",
    "display(Math(sym.latex(sym.sympify(gcdMat))))"
   ]
  },
  {
   "cell_type": "markdown",
   "metadata": {},
   "source": [
    "# VIDEO: Introduction to dictionaries"
   ]
  },
  {
   "cell_type": "code",
   "execution_count": null,
   "metadata": {},
   "outputs": [],
   "source": [
    "# create a dictionary\n",
    "D = dict(fruit=['banana','apple'],numbers=[1,3,4,2,5])\n",
    "\n",
    "print(D)"
   ]
  },
  {
   "cell_type": "code",
   "execution_count": null,
   "metadata": {},
   "outputs": [],
   "source": [
    "# list the \"keys\"\n",
    "D.keys()"
   ]
  },
  {
   "cell_type": "code",
   "execution_count": null,
   "metadata": {},
   "outputs": [],
   "source": [
    "# get the information from the numbers\n",
    "D['numbers']"
   ]
  },
  {
   "cell_type": "code",
   "execution_count": null,
   "metadata": {},
   "outputs": [],
   "source": [
    "# or this way\n",
    "D.get('fruit')[0]"
   ]
  },
  {
   "cell_type": "code",
   "execution_count": null,
   "metadata": {},
   "outputs": [],
   "source": [
    "len(D)"
   ]
  },
  {
   "cell_type": "code",
   "execution_count": null,
   "metadata": {},
   "outputs": [],
   "source": [
    "# print out all information in a loop!\n",
    "for items in D.keys(): # .keys() is implied!\n",
    "    print(D[items])"
   ]
  },
  {
   "cell_type": "code",
   "execution_count": null,
   "metadata": {},
   "outputs": [],
   "source": [
    "# make a dictionary of equations\n",
    "x,y = sym.symbols('x,y')\n",
    "\n",
    "D = dict(eqsWithX=[x/3-6,x*2+3],eqsWithY=[y-y/4,y-5])\n",
    "D.keys()\n",
    "\n",
    "Dkeys = list(D)\n",
    "\n",
    "# access individual keys\n",
    "D[Dkeys[0]]\n"
   ]
  },
  {
   "cell_type": "markdown",
   "metadata": {},
   "source": [
    "### Exercise"
   ]
  },
  {
   "cell_type": "code",
   "execution_count": null,
   "metadata": {},
   "outputs": [],
   "source": [
    "# let's make a new dictionary\n",
    "x,y = sym.symbols('x,y')\n",
    "\n",
    "# count number of x's and y's in the equation\n",
    "D = dict(eqsWithX=[4*x-6,x**2-9],eqsWithY=[sym.sin(y)])\n",
    "\n",
    "# solve them in a loop\n",
    "for keyi in D:\n",
    "    \n",
    "    print('Equations solving for ' + keyi[-1] + ':')\n",
    "    \n",
    "    for i in D[keyi]:\n",
    "        \n",
    "        fullEQ     = sym.latex(sym.sympify(i)) + ' = 0'\n",
    "        middlepart = '\\\\quad\\\\quad \\\\Rightarrow\\\\quad\\\\quad ' + keyi[-1] + ' = '\n",
    "        soln       = sym.latex(sym.solve(i))\n",
    "        \n",
    "        display(Math( '\\\\quad\\\\quad ' + fullEQ + middlepart + soln ))\n",
    "\n"
   ]
  },
  {
   "cell_type": "markdown",
   "metadata": {},
   "source": [
    "# VIDEO: Prime factorization"
   ]
  },
  {
   "cell_type": "code",
   "execution_count": null,
   "metadata": {},
   "outputs": [],
   "source": [
    "# factor an integer into the product of prime numbers\n",
    "number = 48\n",
    "\n",
    "# Use the sympy function factorint. The output is a dictionary!\n",
    "fact_dict = sym.factorint(number)\n",
    "print(fact_dict)"
   ]
  },
  {
   "cell_type": "code",
   "execution_count": null,
   "metadata": {},
   "outputs": [],
   "source": [
    "# just print the prime numbers\n",
    "primenumbers = list( fact_dict.keys() )\n",
    "\n",
    "print('The prime factors of ' + str(number) + ' are ' + str(primenumbers))\n",
    "\n",
    "fact_dict[primenumbers[1]]"
   ]
  },
  {
   "cell_type": "code",
   "execution_count": null,
   "metadata": {},
   "outputs": [],
   "source": [
    "# test on prime number\n",
    "sym.factorint(4)"
   ]
  },
  {
   "cell_type": "markdown",
   "metadata": {},
   "source": [
    "### Exercise"
   ]
  },
  {
   "cell_type": "code",
   "execution_count": null,
   "metadata": {},
   "outputs": [],
   "source": [
    "# loop through numbers and report whether each number is composite or prime\n",
    "\n",
    "nums = range(2,51)\n",
    "for i in nums:\n",
    "    di = sym.factorint(i)\n",
    "    ks = list(di.keys())\n",
    "    if len(di)==1 and di[ks[0]]==1:\n",
    "        print('%s is a prime number' %i)\n",
    "    else:\n",
    "        print('%s is a composite number with prime factors %s' %(i,list(di.keys())))\n"
   ]
  },
  {
   "cell_type": "markdown",
   "metadata": {},
   "source": [
    "# VIDEO: Solving inequalities"
   ]
  },
  {
   "cell_type": "code",
   "execution_count": null,
   "metadata": {},
   "outputs": [],
   "source": [
    "x = sym.symbols('x')\n",
    "\n",
    "expr = 4*x > 8\n",
    "sym.solve(expr)"
   ]
  },
  {
   "cell_type": "code",
   "execution_count": null,
   "metadata": {},
   "outputs": [],
   "source": [
    "display(Math(sym.latex(sym.solve(expr))))"
   ]
  },
  {
   "cell_type": "code",
   "execution_count": null,
   "metadata": {},
   "outputs": [],
   "source": [
    "sym.oo > 10000093847529345"
   ]
  },
  {
   "cell_type": "code",
   "execution_count": null,
   "metadata": {},
   "outputs": [],
   "source": [
    "expr = (x-1)*(x+3) > 0\n",
    "\n",
    "display(Math(sym.latex(sym.solve(expr))))"
   ]
  },
  {
   "cell_type": "code",
   "execution_count": null,
   "metadata": {},
   "outputs": [],
   "source": [
    "# sym.solve will return the expression if not enough information\n",
    "\n",
    "a,b,c = sym.symbols('a,b,c')\n",
    "\n",
    "expr = a*x > b**2/c\n",
    "display(Math(sym.latex(expr)))\n",
    "\n",
    "sym.solve(expr)#,x)"
   ]
  },
  {
   "cell_type": "code",
   "execution_count": null,
   "metadata": {},
   "outputs": [],
   "source": [
    "# a slightly richer problem\n",
    "sym.solve( 2*x**2>8 )"
   ]
  },
  {
   "cell_type": "markdown",
   "metadata": {},
   "source": [
    "### Exercise"
   ]
  },
  {
   "cell_type": "code",
   "execution_count": null,
   "metadata": {},
   "outputs": [],
   "source": [
    "expr = (3*x/2) + (4-5*x)/3 <= 2 - (5*(2-x))/4\n",
    "\n",
    "display(Math(sym.latex(expr)))\n",
    "sym.solve(expr)"
   ]
  },
  {
   "cell_type": "markdown",
   "metadata": {},
   "source": [
    "# VIDEO: Adding polynomials"
   ]
  },
  {
   "cell_type": "code",
   "execution_count": null,
   "metadata": {},
   "outputs": [],
   "source": [
    "from sympy.abc import x\n",
    "\n",
    "# straight-forward version\n",
    "p1 = 2*x**3 + x**2 - x\n",
    "p2 = x**3 - x**4 - 4*x**2\n",
    "print( p1+p2 )\n",
    "\n",
    "display(Math('(%s) + (%s) \\quad=\\quad (%s)' %(sym.latex(p1),sym.latex(p2),sym.latex(p1+p2) )))"
   ]
  },
  {
   "cell_type": "code",
   "execution_count": null,
   "metadata": {},
   "outputs": [],
   "source": [
    "# Using the Poly class\n",
    "p1 = sym.Poly(2*x**6 + x**2 - x)\n",
    "\n",
    "p1"
   ]
  },
  {
   "cell_type": "code",
   "execution_count": null,
   "metadata": {},
   "outputs": [],
   "source": [
    "# can implement several methods on the polynomial object\n",
    "print( p1.eval(10) )\n",
    "\n",
    "print( p1.degree() )"
   ]
  },
  {
   "cell_type": "code",
   "execution_count": null,
   "metadata": {},
   "outputs": [],
   "source": [
    "# create a second polynomial\n",
    "p2 = sym.Poly(x**3 - x**4 - .4*x**2)\n",
    "print( p1-p2 )\n",
    "\n",
    "# can also call the add method on the polynomial objects\n",
    "p1.add(p2)\n",
    "p1.sub(p2)\n",
    "print(p1.sub(p2))\n",
    "print(p1)\n"
   ]
  },
  {
   "cell_type": "markdown",
   "metadata": {},
   "source": [
    "### Exercise"
   ]
  },
  {
   "cell_type": "code",
   "execution_count": null,
   "metadata": {},
   "outputs": [],
   "source": [
    "# create a list of polynomials\n",
    "# loop through. if order is even, sum the coeffs. if order is odd, count the number of coeffs\n",
    "\n",
    "polys = [ sym.Poly(2*x + x**2), sym.Poly(-x**3 + 4*x), sym.Poly(x**5-x**4+1/4*x+4) ]\n",
    "\n",
    "for poli in polys:\n",
    "    if poli.degree()%2==0:\n",
    "        print('The degree of %s is even, and the coefficients sum to %s.' %(poli.as_expr(),sum(poli.coeffs())))\n",
    "    else:\n",
    "        print('The degree of %s is odd, and there are %s coefficients.' %(poli.as_expr(),len(poli.coeffs())))"
   ]
  },
  {
   "cell_type": "markdown",
   "metadata": {},
   "source": [
    "# VIDEO: Multiplying polynomials"
   ]
  },
  {
   "cell_type": "code",
   "execution_count": null,
   "metadata": {},
   "outputs": [],
   "source": [
    "x = sym.symbols('x')\n",
    "\n",
    "x**2 * x**3"
   ]
  },
  {
   "cell_type": "code",
   "execution_count": null,
   "metadata": {},
   "outputs": [],
   "source": [
    "# a litte more complicated\n",
    "p1 = 4*x**2 - 2*x\n",
    "p2 = x**3 + 1\n",
    "\n",
    "p1*p2"
   ]
  },
  {
   "cell_type": "code",
   "execution_count": null,
   "metadata": {},
   "outputs": [],
   "source": [
    "# the way your math teacher would want it written out\n",
    "print( sym.expand( p1*p2 ) )\n",
    "\n",
    "display(Math(sym.latex(p1*p2)))\n",
    "display(Math(sym.latex(sym.expand(p1*p2))))\n"
   ]
  },
  {
   "cell_type": "code",
   "execution_count": null,
   "metadata": {},
   "outputs": [],
   "source": [
    "# check our work from the slides!\n",
    "x,y = sym.symbols('x,y')\n",
    "\n",
    "poly1 = x**5 + 2*x*y + y**2\n",
    "poly2 = x - 3*x*y\n",
    "\n",
    "poly1*poly2"
   ]
  },
  {
   "cell_type": "code",
   "execution_count": null,
   "metadata": {},
   "outputs": [],
   "source": [
    "display(Math(sym.latex(sym.expand( poly1*poly2 ))))"
   ]
  },
  {
   "cell_type": "markdown",
   "metadata": {},
   "source": [
    "### Exercise"
   ]
  },
  {
   "cell_type": "code",
   "execution_count": null,
   "metadata": {},
   "outputs": [],
   "source": [
    "# with x's and y's, substitute before vs after multiplication\n",
    "x,y = sym.symbols('x,y')\n",
    "\n",
    "fxy = 4*x**4 - 9*y**3 - 3*x**2 + x*y**2\n",
    "gxy = 4/5*y**3 - x**3 + 6*x**2*y\n",
    "\n",
    "display(Math( '(%s)\\quad\\\\times\\quad(%s) \\quad=\\quad %s' %(sym.latex(fxy),sym.latex(gxy),sym.latex(sym.expand(fxy*gxy)) )))\n"
   ]
  },
  {
   "cell_type": "code",
   "execution_count": null,
   "metadata": {},
   "outputs": [],
   "source": [
    "xval = 5\n",
    "yval = -2\n",
    "\n",
    "# first substitute and then multiply\n",
    "fxy_subs = fxy.subs({x:xval,y:yval})\n",
    "gxy_subs = gxy.subs({x:xval,y:yval})\n",
    "print('Separate substitution: %s' %(fxy_subs*gxy_subs))\n",
    "\n",
    "# multiply then substitute\n",
    "fg = (fxy*gxy).subs({x:xval,y:yval})\n",
    "print('Multiplied substitution: %s' %fg)\n"
   ]
  },
  {
   "cell_type": "markdown",
   "metadata": {},
   "source": [
    "# VIDEO: Dividing by polynomials"
   ]
  },
  {
   "cell_type": "code",
   "execution_count": null,
   "metadata": {
    "scrolled": true
   },
   "outputs": [],
   "source": [
    "p1 = 4*x**5 - x\n",
    "p2 = 2*x**3-x\n",
    "\n",
    "display(Math('\\\\frac{%s}{%s} = %s' %(sym.latex(p1),sym.latex(p2),sym.latex(p1/p2)) ))\n",
    "display(Math('\\\\frac{%s}{%s} = %s' %(sym.latex(p1),sym.latex(p2),sym.latex(sym.expand(p1/p2))) ))\n",
    "display(Math('\\\\frac{%s}{%s} = %s' %(sym.latex(p1),sym.latex(p2),sym.latex(sym.simplify(p1/p2))) ))\n"
   ]
  },
  {
   "cell_type": "code",
   "execution_count": null,
   "metadata": {},
   "outputs": [],
   "source": [
    "# with two variables\n",
    "x,y = sym.symbols('x,y')\n",
    "\n",
    "pNum = x**3 + y**2 - 4*x**2*y + x*y + 4*y\n",
    "pDen = x + y\n",
    "\n",
    "display(Math('\\\\frac{%s}{%s} = %s' %(sym.latex(pNum),sym.latex(pDen),sym.latex(sym.simplify(pNum/pDen))) ))\n"
   ]
  },
  {
   "cell_type": "markdown",
   "metadata": {},
   "source": [
    "### Exercise"
   ]
  },
  {
   "cell_type": "code",
   "execution_count": null,
   "metadata": {},
   "outputs": [],
   "source": [
    "# first, a primer on sym.fraction\n",
    "\n",
    "num = sym.sympify(3)/sym.sympify(4)\n",
    "# num = sym.sympify(3/4)\n",
    "\n",
    "finfo = sym.fraction(num)\n",
    "print(type(finfo))\n",
    "print(finfo[0])\n",
    "\n",
    "# can also isolate the numerator separately\n",
    "num = sym.fraction(num)[0]\n",
    "print(num)"
   ]
  },
  {
   "cell_type": "code",
   "execution_count": null,
   "metadata": {},
   "outputs": [],
   "source": [
    "\n",
    "# use a loop to find the integer value of y that makes this equation simplify\n",
    "pNum = x**6 + 2*x**4 + 6*x  - y\n",
    "pDen = x**3 + 3\n",
    "\n",
    "\n",
    "for i in range(5,16):\n",
    "    \n",
    "    pnum = pNum.subs({y:i})\n",
    "    display(Math('\\\\frac{%s}{%s} = %s' %(sym.latex(pnum),sym.latex(pDen),sym.latex(sym.simplify(pnum/pDen))) ))\n",
    "    \n",
    "    if sym.fraction(sym.simplify(pnum/pDen))[1]==1:\n",
    "        rightnumber = i\n",
    "\n",
    "print( 'When y=%g, there is no denominator!' %rightnumber)\n"
   ]
  },
  {
   "cell_type": "markdown",
   "metadata": {},
   "source": [
    "# VIDEO: Factoring polynomials"
   ]
  },
  {
   "cell_type": "code",
   "execution_count": null,
   "metadata": {},
   "outputs": [],
   "source": [
    "x,y = sym.symbols('x,y')\n",
    "\n",
    "po = x**2 + 4*x + 3\n",
    "sym.factor(po)"
   ]
  },
  {
   "cell_type": "code",
   "execution_count": null,
   "metadata": {},
   "outputs": [],
   "source": [
    "# with output\n",
    "\n",
    "fac = sym.factor(po)\n",
    "print(fac)"
   ]
  },
  {
   "cell_type": "code",
   "execution_count": null,
   "metadata": {},
   "outputs": [],
   "source": [
    "# not every polynomial can be factored!\n",
    "po = x**2 + 4*x - 3\n",
    "\n",
    "sym.factor(po)"
   ]
  },
  {
   "cell_type": "code",
   "execution_count": null,
   "metadata": {},
   "outputs": [],
   "source": [
    "expr = 2*y**3 - 2*y**2 - 18*y + 18\n",
    "sym.factor(expr)"
   ]
  },
  {
   "cell_type": "code",
   "execution_count": null,
   "metadata": {},
   "outputs": [],
   "source": [
    "# multiple variables\n",
    "expr = 2*x**3*y - 2*x**2*y**2 + 2*x**2*y + 6*x**2 - 6*x*y + 6*x\n",
    "sym.factor(expr)\n"
   ]
  },
  {
   "cell_type": "markdown",
   "metadata": {},
   "source": [
    "### Exercise"
   ]
  },
  {
   "cell_type": "code",
   "execution_count": null,
   "metadata": {},
   "outputs": [],
   "source": [
    "# test whether factorable, print if so.\n",
    "\n",
    "exprs = [ x**2+4*x+3 , 2*y**2-1 , 3*y**2+12*y ]\n",
    "\n",
    "for expri in exprs:\n",
    "    tmp = str( sym.factor(expri) )\n",
    "    \n",
    "    if tmp.find('(')!=-1:\n",
    "        display(Math('%s \\\\quad\\\\Rightarrow\\\\quad %s' %(sym.latex(sym.expand(expri)),sym.latex(sym.factor(expri)))))\n",
    "    else:\n",
    "        display(Math('%s \\\\quad\\\\Rightarrow\\\\quad\\\\text{ not factorable!}' %sym.latex(sym.expand(expri))))\n",
    "    "
   ]
  },
  {
   "cell_type": "markdown",
   "metadata": {},
   "source": [
    "# VIDEO: Algebra 1 BUG HUNT!"
   ]
  },
  {
   "cell_type": "code",
   "execution_count": null,
   "metadata": {},
   "outputs": [],
   "source": [
    "# from sympy.abc import x2\n",
    "x2 = sym.symbols('x2')\n",
    "\n",
    "x2 = 4"
   ]
  },
  {
   "cell_type": "code",
   "execution_count": null,
   "metadata": {},
   "outputs": [],
   "source": [
    "a,b,c,d = sym.symbols('a,b,c,d')\n",
    "\n",
    "expr = 4*b + 5*a*a - c**3 + 5*d\n"
   ]
  },
  {
   "cell_type": "code",
   "execution_count": null,
   "metadata": {},
   "outputs": [],
   "source": [
    "import math\n",
    "math.gcd(30,50)"
   ]
  },
  {
   "cell_type": "code",
   "execution_count": null,
   "metadata": {},
   "outputs": [],
   "source": [
    "from sympy.abc import x\n",
    "\n",
    "expr = 4*x - 8\n",
    "sym.solve(expr)"
   ]
  },
  {
   "cell_type": "code",
   "execution_count": null,
   "metadata": {},
   "outputs": [],
   "source": [
    "import numpy as np\n",
    "\n",
    "A = np.array( [ [1,2],[3,4] ] )\n",
    "# make it look nice\n",
    "display(Math(sym.latex(sym.sympify(A))))"
   ]
  },
  {
   "cell_type": "code",
   "execution_count": null,
   "metadata": {},
   "outputs": [],
   "source": [
    "fact_dict = sym.factorint(44)\n",
    "allkeys = fact_dict.keys()\n",
    "\n",
    "for i in fact_dict:\n",
    "    print('%g was present %g times.' %(i,fact_dict[i]))\n"
   ]
  },
  {
   "cell_type": "code",
   "execution_count": null,
   "metadata": {},
   "outputs": [],
   "source": [
    "x,y = sym.symbols('x,y')\n",
    "\n",
    "expr = 4*x - 5*y**2\n",
    "\n",
    "expr.subs({x:5})\n"
   ]
  },
  {
   "cell_type": "code",
   "execution_count": null,
   "metadata": {},
   "outputs": [],
   "source": [
    "# goal is to show a fraction\n",
    "\n",
    "f = sym.sympify(5)/9\n",
    "\n",
    "display(Math(sym.latex(f)))\n"
   ]
  },
  {
   "cell_type": "code",
   "execution_count": null,
   "metadata": {},
   "outputs": [],
   "source": [
    "# print the last 3 items from a list\n",
    "lst = [1,3,2,5,4,6,7,5,3,7]\n",
    "lst[-3:]\n"
   ]
  },
  {
   "cell_type": "code",
   "execution_count": null,
   "metadata": {},
   "outputs": [],
   "source": [
    "from sympy.abc import x,y\n",
    "\n",
    "expr = 2*x + 4*y\n",
    "\n",
    "# solve for y\n",
    "sym.solve(expr,y)"
   ]
  },
  {
   "cell_type": "code",
   "execution_count": null,
   "metadata": {},
   "outputs": [],
   "source": [
    "import numpy as np\n",
    "\n",
    "A = np.array( [ [1,2],[3,4] ] )\n",
    "\n",
    "# set the element in the second row, second column to 9\n",
    "A[1,1] = 9\n",
    "print(A)"
   ]
  }
 ],
 "metadata": {
  "kernelspec": {
   "display_name": "Python 3",
   "language": "python",
   "name": "python3"
  },
  "language_info": {
   "codemirror_mode": {
    "name": "ipython",
    "version": 3
   },
   "file_extension": ".py",
   "mimetype": "text/x-python",
   "name": "python",
   "nbconvert_exporter": "python",
   "pygments_lexer": "ipython3",
   "version": "3.7.3"
  }
 },
 "nbformat": 4,
 "nbformat_minor": 2
}
