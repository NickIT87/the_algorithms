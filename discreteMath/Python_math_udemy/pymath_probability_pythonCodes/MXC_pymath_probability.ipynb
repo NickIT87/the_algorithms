{
  "cells": [
    {
      "cell_type": "markdown",
      "metadata": {
        "id": "uafzrvEhcr2L"
      },
      "source": [
        "# COURSE: Master math by coding in Python\n",
        "## SECTION: Probability theory\n",
        "\n",
        "#### https://www.udemy.com/course/math-with-python/?couponCode=MXC-DISC4ALL\n",
        "#### INSTRUCTOR: sincxpress.com\n",
        "\n",
        "Note about this code: Each video in this section of the course corresponds to a section of code below. Please note that this code roughly matches the code shown in the live recording, but is not exactly the same -- the variable names, order of lines, and parameters may be slightly different."
      ]
    },
    {
      "cell_type": "code",
      "execution_count": null,
      "metadata": {
        "id": "n7MrOyGbcr2N"
      },
      "outputs": [],
      "source": []
    },
    {
      "cell_type": "code",
      "execution_count": null,
      "metadata": {
        "id": "EITFOSJNcr2N"
      },
      "outputs": [],
      "source": [
        "import numpy as np\n",
        "import matplotlib.pyplot as plt"
      ]
    },
    {
      "cell_type": "markdown",
      "metadata": {
        "id": "gATHquzccr2O"
      },
      "source": [
        "# VIDEO: Histograms and probability densities"
      ]
    },
    {
      "cell_type": "code",
      "execution_count": null,
      "metadata": {
        "id": "4-jDXu8Ccr2O"
      },
      "outputs": [],
      "source": [
        "data = [1,2,2,2,2,3,4,5,6,6,6,6,7,8,9,8,6,3]\n",
        "\n",
        "plt.hist(data)\n",
        "plt.xlabel('Value')\n",
        "plt.ylabel('Number of appearances (count)')\n",
        "plt.show()\n",
        "\n",
        "# with outputs\n",
        "histdata = np.histogram(data,bins=np.arange(1,11))\n",
        "print(histdata)\n",
        "plt.bar(histdata[1][:-1],histdata[0])\n",
        "plt.xlabel('Value')\n",
        "plt.ylabel('Number of appearances (count)')\n",
        "plt.show()\n"
      ]
    },
    {
      "cell_type": "code",
      "execution_count": null,
      "metadata": {
        "id": "LvkDfD_5cr2O"
      },
      "outputs": [],
      "source": [
        "# convert to probability\n",
        "x = histdata[1][:-1]\n",
        "y = histdata[0]\n",
        "yP = y/np.sum(y)\n",
        "\n",
        "plt.bar(x,yP)\n",
        "plt.plot(x,yP,'m')\n",
        "plt.xlabel('Value')\n",
        "plt.xticks(np.arange(1,10))\n",
        "plt.ylabel('Proportion of total (%)')\n",
        "plt.show()"
      ]
    },
    {
      "cell_type": "code",
      "execution_count": null,
      "metadata": {
        "id": "b5Q7KELdcr2O"
      },
      "outputs": [],
      "source": [
        "# another option: normalize to max=1 (not a probability distribution, but often useful)\n",
        "yN = y/np.max(y)\n",
        "\n",
        "plt.bar(x,yN)\n",
        "plt.xlabel('Value')\n",
        "plt.ylabel('Proportion (norm.)')\n",
        "plt.show()"
      ]
    },
    {
      "cell_type": "markdown",
      "metadata": {
        "id": "knY5X-KEcr2O"
      },
      "source": [
        "### Exercise"
      ]
    },
    {
      "cell_type": "code",
      "execution_count": null,
      "metadata": {
        "id": "PaK4VHBicr2P"
      },
      "outputs": [],
      "source": [
        "# pdensities of x, x^2, and x^3\n",
        "x = np.linspace(-3,3,1000)\n",
        "\n",
        "fig,ax = plt.subplots(2,3)\n",
        "fig.set_size_inches(10,6) # width, height in inches\n",
        "\n",
        "for i in range(3):\n",
        "\n",
        "    # histogram of the function\n",
        "    y = x**(i+1)\n",
        "    hd = np.histogram(y,50)\n",
        "    yp = hd[0] / sum(hd[0])\n",
        "\n",
        "    # plot the function\n",
        "    ax[0,i].plot(x,y)\n",
        "    ax[0,i].set_title('$y=x^{%g}$' %(i+1))\n",
        "\n",
        "    # plot its distribution\n",
        "    ax[1,i].plot(hd[1][:-1],yp)\n",
        "\n",
        "\n",
        "plt.show()"
      ]
    },
    {
      "cell_type": "markdown",
      "metadata": {
        "id": "oF--WERtcr2P"
      },
      "source": [
        "# VIDEO: Virtual coin tosses"
      ]
    },
    {
      "cell_type": "code",
      "execution_count": null,
      "metadata": {
        "id": "WLM-9yWTcr2P"
      },
      "outputs": [],
      "source": [
        "# p(heads), which one is weighted?\n",
        "\n",
        "faircoin = .5\n",
        "biascoin = .6\n",
        "\n",
        "nTrials = 10\n",
        "\n",
        "# initialize\n",
        "results = np.zeros((2,nTrials))\n",
        "\n",
        "for i in range(nTrials):\n",
        "    results[0,i] = np.random.rand()>faircoin\n",
        "    results[1,i] = np.random.rand()>biascoin\n",
        "\n",
        "\n",
        "plt.plot(results[0,:]-.05,'s',markersize=10)\n",
        "plt.plot(results[1,:]+.05,'s',markersize=10)\n",
        "plt.yticks([0,1],['Tails','Heads'])\n",
        "plt.xlabel('Flip #')\n",
        "plt.ylim([-.5,1.5])\n",
        "plt.legend(['Fair','Biased'])\n",
        "plt.show()"
      ]
    },
    {
      "cell_type": "code",
      "execution_count": null,
      "metadata": {
        "id": "M5G6mONucr2P"
      },
      "outputs": [],
      "source": [
        "import pandas as pd\n",
        "df = pd.DataFrame(results,dtype='int',index=['fair','biased'])\n",
        "df"
      ]
    },
    {
      "cell_type": "code",
      "execution_count": null,
      "metadata": {
        "id": "K8P9hyaUcr2P"
      },
      "outputs": [],
      "source": [
        "df['Ave.'] = df.mean(axis=1)\n",
        "df"
      ]
    },
    {
      "cell_type": "markdown",
      "metadata": {
        "id": "GdJ3spfJcr2P"
      },
      "source": [
        "### Exercise"
      ]
    },
    {
      "cell_type": "code",
      "execution_count": null,
      "metadata": {
        "id": "W0XOcsWvcr2P"
      },
      "outputs": [],
      "source": [
        "# weighted die. 2-6 have equal probability, 1 has twice probability as any other flip. make histogram after 50 rolls\n",
        "\n",
        "n = 50\n",
        "\n",
        "outcomes = np.zeros(6)\n",
        "\n",
        "pureprobs = np.array([2,1,1,1,1,1])\n",
        "pureprobs = pureprobs/np.sum(pureprobs)\n",
        "\n",
        "for i in range(n):\n",
        "\n",
        "    # roll 7-sided die\n",
        "    dieroll = np.random.randint(0,7)\n",
        "\n",
        "    # impose bias\n",
        "    if dieroll==6:\n",
        "        dieroll=0\n",
        "\n",
        "    # increment the outcome\n",
        "    outcomes[dieroll] += 1\n",
        "\n",
        "plt.bar(range(1,7),outcomes/n,color='k',label='Empirical (proportion)')\n",
        "plt.plot(range(1,7),pureprobs,'ms-',markersize=10,label='Theoretical (probability)')\n",
        "plt.xlabel('Die face')\n",
        "plt.ylabel('Probability/proportion')\n",
        "\n",
        "for i in range(1,7):\n",
        "    plt.text(i,outcomes[i-1]/n-.025,'hi')#'%s%%' %int(100*np.round(outcomes[i-1]/n,2)),\\\n",
        "             #fontsize=12,horizontalalignment='center',color='w')\n",
        "\n",
        "plt.legend()\n",
        "plt.show()\n"
      ]
    },
    {
      "cell_type": "markdown",
      "metadata": {
        "id": "lfHiknLucr2Q"
      },
      "source": [
        "# VIDEO: Building distributions from random numbers"
      ]
    },
    {
      "cell_type": "code",
      "execution_count": null,
      "metadata": {
        "id": "xOW6Gnyicr2Q"
      },
      "outputs": [],
      "source": [
        "# review of normal distribution\n",
        "\n",
        "shift = 5\n",
        "stretch = 2\n",
        "n = 1000\n",
        "\n",
        "pnts = np.random.randn(n)*stretch + shift\n",
        "print('Mean of %g, std of %g' %(np.mean(pnts),np.std(pnts)))\n",
        "\n",
        "fig,ax = plt.subplots(1,2,figsize=(6,3))\n",
        "ax[0].plot(pnts,'s',alpha=.5)\n",
        "ax[1].hist(pnts,100)\n",
        "\n",
        "plt.show()"
      ]
    },
    {
      "cell_type": "code",
      "execution_count": null,
      "metadata": {
        "id": "o6xC54lPcr2Q"
      },
      "outputs": [],
      "source": [
        "# review of uniform distribution\n",
        "\n",
        "shift = 5\n",
        "stretch = 2\n",
        "n = 1000\n",
        "\n",
        "pnts = np.random.rand(n)*stretch + shift-.5*stretch\n",
        "print('Mean of %g, range of %g' %(np.mean(pnts),np.max(pnts)-np.min(pnts)))\n",
        "\n",
        "fig,ax = plt.subplots(2,1,figsize=(4,6))\n",
        "ax[0].plot(pnts,'s',alpha=.5)\n",
        "ax[1].hist(pnts,bins=[4,4.1,5.2,5.5,6],edgecolor='k')\n",
        "\n",
        "plt.show()"
      ]
    },
    {
      "cell_type": "code",
      "execution_count": null,
      "metadata": {
        "id": "0vQNb1eEcr2Q"
      },
      "outputs": [],
      "source": [
        "# Poisson distribution\n",
        "lam = 3.4\n",
        "\n",
        "pnts = np.random.poisson(lam,n)\n",
        "print('Mean of %g, variance of %g' %(np.mean(pnts),np.var(pnts)))\n",
        "\n",
        "fig,ax = plt.subplots(2,1,figsize=(4,6))\n",
        "ax[0].plot(pnts,'s',alpha=.5)\n",
        "ax[1].hist(pnts,bins=np.arange(0,np.max(pnts)+1),edgecolor='w')\n",
        "\n",
        "plt.show()"
      ]
    },
    {
      "cell_type": "code",
      "execution_count": null,
      "metadata": {
        "id": "eG21gY1Pcr2Q"
      },
      "outputs": [],
      "source": [
        "stretch = 1\n",
        "shift = np.log(2)\n",
        "\n",
        "pnts = np.random.lognormal(shift,stretch,n)\n",
        "print('Mean of %g, variance of %g' %(np.mean(pnts),np.var(pnts)))\n",
        "\n",
        "fig,ax = plt.subplots(2,1,figsize=(4,6))\n",
        "ax[0].plot(pnts,'s',alpha=.5)\n",
        "ax[1].hist(pnts,100)\n",
        "\n",
        "plt.show()"
      ]
    },
    {
      "cell_type": "markdown",
      "metadata": {
        "id": "ITk376vYcr2Q"
      },
      "source": [
        "### Exercise"
      ]
    },
    {
      "cell_type": "code",
      "execution_count": null,
      "metadata": {
        "id": "IRG9mHBFcr2Q"
      },
      "outputs": [],
      "source": [
        "# transform any distribution into Gaussian\n",
        "from scipy.stats import rankdata\n",
        "\n",
        "n = 500\n",
        "\n",
        "orig_data  = 2**np.random.randn(n)\n",
        "\n",
        "# rank transform\n",
        "trans_data = rankdata( orig_data )\n",
        "\n",
        "# add a data point to the top\n",
        "trans_data = np.append(trans_data,np.max(trans_data)+1)\n",
        "\n",
        "trans_data = 2*(trans_data/np.max(trans_data))-1\n",
        "trans_data = np.delete(trans_data,n)\n",
        "\n",
        "trans_data = np.arctanh( trans_data )\n",
        "\n",
        "\n",
        "fig,ax = plt.subplots(1,2)\n",
        "\n",
        "ax[0].hist(orig_data,30)\n",
        "ax[0].set_xlabel('Value')\n",
        "ax[0].set_ylabel('Count')\n",
        "\n",
        "ax[1].hist(trans_data,30)\n",
        "ax[1].set_xlabel('Value')\n",
        "ax[1].set_ylabel('Count')\n",
        "\n",
        "plt.show()"
      ]
    },
    {
      "cell_type": "markdown",
      "metadata": {
        "id": "Gn8riEoLcr2Q"
      },
      "source": [
        "# VIDEO: The central limit theorem"
      ]
    },
    {
      "cell_type": "code",
      "execution_count": null,
      "metadata": {
        "id": "nyTz6azvcr2Q"
      },
      "outputs": [],
      "source": [
        "# generate data from various distributions, then sum\n",
        "\n",
        "n = 2000\n",
        "\n",
        "sig1 = np.sin(np.linspace(0,6*np.pi,n))\n",
        "sig2 = np.random.rand(n)*2-1\n",
        "\n",
        "signal = sig1 + sig2\n",
        "\n",
        "\n",
        "# plot the two individual features and their distributions\n",
        "fig,ax = plt.subplots(2,3,figsize=(10,4))\n",
        "\n",
        "ax[0,0].plot(sig1,'s',alpha=.2)\n",
        "ax[0,0].set_title('Sine wave')\n",
        "ax[1,0].hist(sig1,100)\n",
        "\n",
        "ax[0,1].plot(sig2,'s',alpha=.2)\n",
        "ax[0,1].set_title('Uniform numbers')\n",
        "ax[1,1].hist(sig2,100)\n",
        "\n",
        "ax[0,2].plot(signal,'s',alpha=.2)\n",
        "ax[0,2].set_title('Combined signal')\n",
        "ax[1,2].hist(signal,100)\n",
        "\n",
        "for i in np.matrix.flatten(ax):\n",
        "    i.set_yticks([])\n",
        "    i.set_xticks([])\n",
        "\n",
        "plt.show()"
      ]
    },
    {
      "cell_type": "code",
      "execution_count": null,
      "metadata": {
        "id": "xXSwYQu4cr2Q"
      },
      "outputs": [],
      "source": [
        "# show using seaborn\n",
        "\n",
        "import seaborn as sns\n",
        "sns.set()\n",
        "\n",
        "sns.histplot(signal,kde=True,bins=100)\n",
        "plt.show()"
      ]
    },
    {
      "cell_type": "markdown",
      "metadata": {
        "id": "qAnq6-4xcr2Q"
      },
      "source": [
        "### Exercise"
      ]
    },
    {
      "cell_type": "code",
      "execution_count": null,
      "metadata": {
        "id": "7wK58i_Pcr2Q"
      },
      "outputs": [],
      "source": [
        "# fit to Gaussian should improve with larger N. increase N in a loop and extract pdensity\n",
        "\n",
        "ns = np.arange(50,10000,100)\n",
        "nbins = 50\n",
        "\n",
        "allhist = np.zeros((len(ns),nbins))\n",
        "\n",
        "for i in range(len(ns)):\n",
        "    sig1 = np.sin(np.linspace(0,6*np.pi,ns[i]))\n",
        "    sig2 = np.random.rand(ns[i])*2-1\n",
        "\n",
        "    [allhist[i,:],binedges] = np.histogram(sig1+sig2,nbins,density=True)\n",
        "\n",
        "plt.pcolor(binedges[0:-1],ns,allhist,vmax=.6,cmap='Purples') # viridis\n",
        "plt.xlabel('Data value')\n",
        "plt.ylabel('Points in sample')\n",
        "plt.gca().invert_xaxis()\n",
        "plt.colorbar()\n",
        "plt.show()"
      ]
    },
    {
      "cell_type": "markdown",
      "metadata": {
        "id": "AphCY0o2cr2Q"
      },
      "source": [
        "# VIDEO: Joint probability distributions"
      ]
    },
    {
      "cell_type": "code",
      "execution_count": null,
      "metadata": {
        "id": "LCJifUe-cr2Q"
      },
      "outputs": [],
      "source": [
        "n = 1000\n",
        "\n",
        "x = np.random.randn(n)\n",
        "y = np.random.randn(n)**2\n",
        "\n",
        "plt.hist2d(x,y,30,vmax=10)\n",
        "plt.xlabel('$x$')\n",
        "plt.ylabel('$x^2$')\n",
        "plt.show()"
      ]
    },
    {
      "cell_type": "code",
      "execution_count": null,
      "metadata": {
        "id": "2xLHEve3cr2Q"
      },
      "outputs": [],
      "source": [
        "sns.jointplot(x=x,y=y,kind='scatter',color=[.8,.3,.9]).plot_joint(sns.kdeplot)\n",
        "plt.xlabel('$x$')\n",
        "plt.ylabel('$x^2$')\n",
        "plt.show()"
      ]
    },
    {
      "cell_type": "markdown",
      "metadata": {
        "id": "g8OrYPXVcr2R"
      },
      "source": [
        "### Exercise"
      ]
    },
    {
      "cell_type": "code",
      "execution_count": null,
      "metadata": {
        "id": "t0WhqQp4cr2R"
      },
      "outputs": [],
      "source": [
        "# import data with pandas, name variables x and y, determine (visually) how many clusters are in the data\n",
        "\n",
        "import pandas as pd\n",
        "data = pd.read_csv('data.csv',header=None,names=['x','y'])\n",
        "data\n",
        "\n",
        "sns.jointplot(x=data['x'],y=data['y'],kind='kde',levels=5).plot_joint(sns.scatterplot)\n",
        "plt.show()"
      ]
    },
    {
      "cell_type": "markdown",
      "metadata": {
        "id": "xUIqOCOvcr2R"
      },
      "source": [
        "# VIDEO: Probability BUG HUNT!"
      ]
    },
    {
      "cell_type": "code",
      "execution_count": null,
      "metadata": {
        "id": "3-k-K8kScr2R"
      },
      "outputs": [],
      "source": [
        "# Show the Laplace probability distribution\n",
        "x = np.linspace(-5,5,10000)\n",
        "data = np.exp(-np.abs(x))\n",
        "\n",
        "dataP = data/np.sum(data)\n",
        "print(sum(dataP))\n",
        "\n",
        "plt.plot(x,dataP)\n",
        "plt.xlabel('Value')\n",
        "plt.ylabel('Probability')\n",
        "plt.show()"
      ]
    },
    {
      "cell_type": "code",
      "execution_count": null,
      "metadata": {
        "id": "ikUmOTTHcr2R"
      },
      "outputs": [],
      "source": [
        "# shifted/stretched normal distribution\n",
        "\n",
        "shift = -10\n",
        "stretch = 3\n",
        "n = 10000\n",
        "\n",
        "pnts = np.random.randn(n)*stretch + shift\n",
        "\n",
        "fig,ax = plt.subplots(1,2,figsize=(6,3))\n",
        "ax[0].plot(pnts,'s',alpha=.5)\n",
        "xlim = ax[0].get_xlim()\n",
        "ax[0].plot(xlim,[shift,shift],'r--')\n",
        "ax[0].set_title('Data')\n",
        "\n",
        "ax[1].hist(pnts,100)\n",
        "ylim = ax[1].get_ylim()\n",
        "ax[1].plot([shift,shift],ylim,'r--')\n",
        "ax[1].set_title('Distribution')\n",
        "\n",
        "plt.show()"
      ]
    },
    {
      "cell_type": "code",
      "execution_count": null,
      "metadata": {
        "id": "qFwSQhVocr2R"
      },
      "outputs": [],
      "source": [
        "# generate data from various distributions, then sum\n",
        "\n",
        "n = 20000\n",
        "\n",
        "sig1 = np.cos(np.linspace(0,6*np.pi,n))\n",
        "sig2 = np.random.rand(n)**2\n",
        "sig2 = sig2 - np.mean(sig2)\n",
        "\n",
        "signal = sig1 + sig2\n",
        "\n",
        "# get probability distributions\n",
        "hd1 = np.histogram(sig1,50)\n",
        "hd2 = np.histogram(sig2,50)\n",
        "\n",
        "# histogram of summed signals, not summed histograms\n",
        "hd3 = np.histogram(sig1+sig2,50)\n",
        "\n",
        "\n",
        "# plot the two individual features and their distributions\n",
        "fig,ax = plt.subplots(2,3,figsize=(10,4))\n",
        "\n",
        "ax[0,0].plot(sig1,'s',alpha=.2)\n",
        "ax[0,0].set_title('Sine wave')\n",
        "ax[1,0].plot(hd1[1][:-1],hd1[0])\n",
        "\n",
        "ax[0,1].plot(sig2,'s',alpha=.2)\n",
        "ax[0,1].set_title('Squared uniform numbers')\n",
        "ax[1,1].plot(hd2[1][:-1],hd2[0])\n",
        "\n",
        "ax[0,2].plot(signal,'s',alpha=.2)\n",
        "ax[0,2].set_title('Combined signal')\n",
        "ax[1,2].plot(hd1[1][:-1],hd3[0])\n",
        "\n",
        "for i in np.matrix.flatten(ax):\n",
        "    i.set_yticks([])\n",
        "    i.set_xticks([])\n",
        "\n",
        "plt.show()"
      ]
    },
    {
      "cell_type": "code",
      "execution_count": null,
      "metadata": {
        "id": "oy0ysyTlcr2R"
      },
      "outputs": [],
      "source": [
        "# \"Dumbbell curve\"\n",
        "n = 1000\n",
        "x = np.linspace(-1,1,n)\n",
        "\n",
        "y = np.append( x**2 * np.sqrt(1-x**2), -x**2 * np.sqrt(1-x**2) )\n",
        "\n",
        "plt.plot(np.append(x,x),y,'k')\n",
        "plt.axis('off')\n",
        "plt.show()\n",
        "\n",
        "import seaborn as sns\n",
        "\n",
        "sns.jointplot(x=np.append(x,x),y=y,kind='scatter',color=[.2,.9,.7]).plot_joint(sns.kdeplot)\n",
        "plt.show()"
      ]
    },
    {
      "cell_type": "code",
      "source": [],
      "metadata": {
        "id": "PqK-8-E-dnu8"
      },
      "execution_count": null,
      "outputs": []
    }
  ],
  "metadata": {
    "kernelspec": {
      "display_name": "Python 3",
      "language": "python",
      "name": "python3"
    },
    "language_info": {
      "codemirror_mode": {
        "name": "ipython",
        "version": 3
      },
      "file_extension": ".py",
      "mimetype": "text/x-python",
      "name": "python",
      "nbconvert_exporter": "python",
      "pygments_lexer": "ipython3",
      "version": "3.7.3"
    },
    "colab": {
      "provenance": []
    }
  },
  "nbformat": 4,
  "nbformat_minor": 0
}