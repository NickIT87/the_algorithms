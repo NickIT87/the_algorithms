{
 "cells": [
  {
   "cell_type": "markdown",
   "metadata": {},
   "source": [
    "# COURSE: Master math by coding in Python\n",
    "## SECTION: Probability theory\n",
    "\n",
    "#### https://www.udemy.com/course/math-with-python/?couponCode=MXC-DISC4ALL\n",
    "#### INSTRUCTOR: sincxpress.com\n",
    "\n",
    "Note about this code: Each video in this section of the course corresponds to a section of code below. Please note that this code roughly matches the code shown in the live recording, but is not exactly the same -- the variable names, order of lines, and parameters may be slightly different. "
   ]
  },
  {
   "cell_type": "code",
   "execution_count": null,
   "metadata": {},
   "outputs": [],
   "source": []
  },
  {
   "cell_type": "code",
   "execution_count": null,
   "metadata": {},
   "outputs": [],
   "source": [
    "import numpy as np\n",
    "import matplotlib.pyplot as plt"
   ]
  },
  {
   "cell_type": "markdown",
   "metadata": {},
   "source": [
    "# VIDEO: Probability BUG HUNT!"
   ]
  },
  {
   "cell_type": "code",
   "execution_count": null,
   "metadata": {},
   "outputs": [],
   "source": [
    "# Show the Laplace probability distribution\n",
    "x = np.linspace(-5,5,10000)\n",
    "data = np.exp(-np.abs(x))\n",
    "\n",
    "plt.plot(x,data)\n",
    "plt.xlabel('Value')\n",
    "plt.ylabel('Probability')\n",
    "plt.show()"
   ]
  },
  {
   "cell_type": "code",
   "execution_count": null,
   "metadata": {},
   "outputs": [],
   "source": [
    "# shifted/stretched normal distribution\n",
    "\n",
    "shift = -10\n",
    "stretch = 3\n",
    "n = 10000\n",
    "\n",
    "pnts = np.random.randn(n)*shift + stretch\n",
    "\n",
    "fig,ax = plt.subplots(1,2,figsize=(6,3))\n",
    "ax[0].plot(pnts,'s',alpha=.5)\n",
    "xlim = ax[0].get_xlim()\n",
    "ax[0].plot(xlim,[shift,shift],'r--')\n",
    "ax[0].set_title('Data')\n",
    "\n",
    "ax[1].hist(pnts,100)\n",
    "ylim = ax[1].get_ylim()\n",
    "ax[1].plot([shift,shift],ylim,'r--')\n",
    "ax[1].set_title('Distribution')\n",
    "\n",
    "plt.show()"
   ]
  },
  {
   "cell_type": "code",
   "execution_count": null,
   "metadata": {},
   "outputs": [],
   "source": [
    "# generate data from various distributions, then sum\n",
    "\n",
    "n = 20000\n",
    "\n",
    "sig1 = np.cos(np.linspace(0,6*np.pi,n))\n",
    "sig2 = np.random.rand(n)**2\n",
    "sig2 = sig2 - np.mean(sig2)\n",
    "\n",
    "signal = sig1 + sig2\n",
    "\n",
    "# get probability distributions\n",
    "hd1 = np.histogram(sig1,50)\n",
    "hd2 = np.histogram(sig2,50)\n",
    "\n",
    "\n",
    "# plot the two individual features and their distributions\n",
    "fig,ax = plt.subplots(2,3,figsize=(10,4))\n",
    "\n",
    "ax[0,0].plot(sig1,'s',alpha=.2)\n",
    "ax[0,0].set_title('Sine wave')\n",
    "ax[1,0].plot(hd1[1][:-1],hd1[0])\n",
    "\n",
    "ax[0,1].plot(sig2,'s',alpha=.2)\n",
    "ax[0,1].set_title('Squared uniform numbers')\n",
    "ax[1,1].plot(hd2[1][:-1],hd2[0])\n",
    "\n",
    "ax[0,2].plot(signal,'s',alpha=.2)\n",
    "ax[0,2].set_title('Combined signal')\n",
    "ax[1,2].plot(hd1[1][:-1],hd1[0]+hd2[0])\n",
    "\n",
    "for i in np.matrix.flatten(ax):\n",
    "    i.set_yticks([])\n",
    "    i.set_xticks([])\n",
    "\n",
    "plt.show()"
   ]
  },
  {
   "cell_type": "code",
   "execution_count": null,
   "metadata": {},
   "outputs": [],
   "source": [
    "# \"Dumbbell curve\"\n",
    "n = 1000\n",
    "x = np.linspace(-1,2,n)\n",
    "\n",
    "y = np.append( x**2 * np.sqrt(1-x**2), -x**2 * np.sqrt(1-x**2) )\n",
    "\n",
    "plt.plot(x,y)\n",
    "plt.show()\n",
    "\n",
    "sns.jointplot(x=y,y=y,kind='scatterbrain',color=[.2,.9,.7]).plot_joint(sns.kdeplot)\n",
    "plt.show()"
   ]
  }
 ],
 "metadata": {
  "kernelspec": {
   "display_name": "Python 3",
   "language": "python",
   "name": "python3"
  },
  "language_info": {
   "codemirror_mode": {
    "name": "ipython",
    "version": 3
   },
   "file_extension": ".py",
   "mimetype": "text/x-python",
   "name": "python",
   "nbconvert_exporter": "python",
   "pygments_lexer": "ipython3",
   "version": "3.7.3"
  }
 },
 "nbformat": 4,
 "nbformat_minor": 2
}
