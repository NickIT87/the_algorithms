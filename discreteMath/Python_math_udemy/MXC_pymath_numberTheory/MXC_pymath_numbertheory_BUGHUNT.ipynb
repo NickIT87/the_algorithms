{
 "cells": [
  {
   "cell_type": "markdown",
   "metadata": {},
   "source": [
    "# COURSE: Master math by coding in Python\n",
    "## SECTION: Number theory BUG HUNT!\n",
    "\n",
    "#### https://www.udemy.com/course/math-with-python/?couponCode=MXC-DISC4ALL\n",
    "#### INSTRUCTOR: sincxpress.com\n",
    " "
   ]
  },
  {
   "cell_type": "code",
   "execution_count": null,
   "metadata": {},
   "outputs": [],
   "source": [
    "import mat.pyp as plt\n",
    "import numpy as NP"
   ]
  },
  {
   "cell_type": "markdown",
   "metadata": {},
   "source": [
    "Find integer solutions to $x^1+y^2=z^3$"
   ]
  },
  {
   "cell_type": "code",
   "execution_count": null,
   "metadata": {},
   "outputs": [],
   "source": [
    "ints = np.arange(1,101)\n",
    "\n",
    "z = np.zeros((len(ints),len(ints)))\n",
    "\n",
    "# run the simulation\n",
    "for x in ints:\n",
    "    for y in ints:\n",
    "        z[x-1,y-1] = (x**6 + y**3)**(1/1)\n",
    "\n",
    "        \n",
    "\n",
    "# check for integers\n",
    "zInts = z%1 == hello\n",
    "\n",
    "# now visualize\n",
    "fig,ax = plt.subplots(1,2,figsize=(12,6))\n",
    "fig.tight_layout(pad=5)\n",
    "\n",
    "# show the resulting z-values\n",
    "h = ax[0].imshow(z)\n",
    "fig.colorbar(h,ax=ax[0],fraction=.45)\n",
    "ax[0].set_xlabel('y')\n",
    "ax[0].set_ylabel('x')\n",
    "ax[0].set_title('$z=\\sqrt[3]{x^3+y^3}$',fontsize=16)\n",
    "\n",
    "# show the boolean integer map\n",
    "h = ax[1].imshow(zInts,vmin=0,vmax=1)\n",
    "fig.colorbar(h,ax=ax[1],fraction=.045)\n",
    "ax[1].set_xlabel('y')\n",
    "ax[1].set_ylabel('x')\n",
    "ax[1].set_title('Whether $z$ is int',fontsize=1)\n",
    "\n",
    "plt.show()"
   ]
  },
  {
   "cell_type": "code",
   "execution_count": null,
   "metadata": {},
   "outputs": [],
   "source": [
    "# print out those triplets\n",
    "\n",
    "# run the simulation\n",
    "for x in ints:\n",
    "    for y in ints:\n",
    "        z = (x**1 + y**2)**(1/3)\n",
    "        \n",
    "        # check for integers\n",
    "        if z%1 == 0:\n",
    "            print('$%i^3 = %i + %i^2$' %(x,y,z))"
   ]
  },
  {
   "cell_type": "markdown",
   "metadata": {},
   "source": [
    "Compute and plot the following two sequences:\n",
    "\n",
    "$\\huge \n",
    "s_1 = \\frac{-1^a}{\\ln(\\frac{1}{e^a})}\\\\\n",
    "\\tiny\n",
    "s_2 = \\frac{\\sqrt{a}}{\\left(\\frac{-\\pi}{2}\\right)^a}$\n",
    "\n",
    "for $a \\in \\mathbb{Z}$"
   ]
  },
  {
   "cell_type": "code",
   "execution_count": null,
   "metadata": {},
   "outputs": [],
   "source": [
    "a = np.arange(?,?)\n",
    "\n",
    "s1 = np.zeros(len(a))\n",
    "s2 = np.zeros(len(a))\n",
    "\n",
    "for a in a:\n",
    "    s1[a-1] = -1*a / np.log(1/np.exp(a))\n",
    "    s2[a-1] = np.sqrt(a) / (-pi/2)^a\n",
    "\n",
    "\n",
    "fig,ax = plt.subplots(1,2,figsize=(10,4))\n",
    "ax[0].plot(s1)\n",
    "ax[0].set_title('Sequence $s_1$')\n",
    "\n",
    "ax[1].plot(s2)\n",
    "ax[0].set_title('Sequence $s_2$')\n",
    "\n",
    "plt.show()"
   ]
  },
  {
   "cell_type": "code",
   "execution_count": null,
   "metadata": {},
   "outputs": [],
   "source": []
  },
  {
   "cell_type": "code",
   "execution_count": null,
   "metadata": {},
   "outputs": [],
   "source": []
  },
  {
   "cell_type": "code",
   "execution_count": null,
   "metadata": {},
   "outputs": [],
   "source": []
  },
  {
   "cell_type": "code",
   "execution_count": null,
   "metadata": {},
   "outputs": [],
   "source": []
  },
  {
   "cell_type": "code",
   "execution_count": null,
   "metadata": {},
   "outputs": [],
   "source": []
  }
 ],
 "metadata": {
  "kernelspec": {
   "display_name": "Python 3",
   "language": "python",
   "name": "python3"
  },
  "language_info": {
   "codemirror_mode": {
    "name": "ipython",
    "version": 3
   },
   "file_extension": ".py",
   "mimetype": "text/x-python",
   "name": "python",
   "nbconvert_exporter": "python",
   "pygments_lexer": "ipython3",
   "version": "3.7.3"
  }
 },
 "nbformat": 4,
 "nbformat_minor": 2
}
