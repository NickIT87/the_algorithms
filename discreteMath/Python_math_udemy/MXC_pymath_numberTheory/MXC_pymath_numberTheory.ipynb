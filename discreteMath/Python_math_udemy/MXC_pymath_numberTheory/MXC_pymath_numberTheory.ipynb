{
 "cells": [
  {
   "cell_type": "markdown",
   "metadata": {
    "id": "bhWV8oes-wKR"
   },
   "source": [
    "# COURSE: Master math by coding in Python\n",
    "## SECTION: Number theory\n",
    "\n",
    "#### https://www.udemy.com/course/math-with-python/?couponCode=MXC-DISC4ALL\n",
    "#### INSTRUCTOR: sincxpress.com\n",
    "\n",
    "Note about this code: Each video in this section of the course corresponds to a section of code below. Please note that this code roughly matches the code shown in the live recording, but is not exactly the same -- the variable names, order of lines, and parameters may be slightly different. "
   ]
  },
  {
   "cell_type": "code",
   "execution_count": null,
   "metadata": {
    "id": "JL_0UKJOj1YP"
   },
   "outputs": [],
   "source": [
    "# import all necessary modules\n",
    "import numpy as np\n",
    "import matplotlib.pyplot as plt\n",
    "import sympy as sym"
   ]
  },
  {
   "cell_type": "markdown",
   "metadata": {
    "id": "yKMCcer4RVPp"
   },
   "source": [
    "# VIDEO: Counting perfect numbers"
   ]
  },
  {
   "cell_type": "code",
   "execution_count": null,
   "metadata": {
    "id": "NYtF0SBKRXBE"
   },
   "outputs": [],
   "source": [
    "# From https://en.wikipedia.org/wiki/Perfect_number:\n",
    "# \"A perfect number is a positive integer that is equal to the sum of its positive divisors, excluding itself.\"\n",
    "\n",
    "\n",
    "# create a function that tests whether the input is a perfect number\n",
    "def test4perfect(number):\n",
    "\n",
    "    # initialize\n",
    "    divisors = []\n",
    "\n",
    "    # find integer divisors\n",
    "    for d in range(1,number):\n",
    "        if number%d == 0:\n",
    "            divisors.append(d)\n",
    "  \n",
    "    # test for equality\n",
    "    return sum(divisors)==number"
   ]
  },
  {
   "cell_type": "code",
   "execution_count": null,
   "metadata": {
    "id": "1K1V4k58uRBp"
   },
   "outputs": [],
   "source": [
    "test4perfect(30)"
   ]
  },
  {
   "cell_type": "code",
   "execution_count": null,
   "metadata": {
    "id": "3GshFtY1uGUS"
   },
   "outputs": [],
   "source": [
    "perfect = []\n",
    "\n",
    "for number in range(2,10001):\n",
    "    if test4perfect(number):\n",
    "        perfect.append(number)\n",
    "\n",
    "print(perfect)"
   ]
  },
  {
   "cell_type": "markdown",
   "metadata": {
    "id": "S7MsydfFJHhG"
   },
   "source": [
    "### Exercise"
   ]
  },
  {
   "cell_type": "code",
   "execution_count": null,
   "metadata": {},
   "outputs": [],
   "source": [
    "# implement the function as a list-comprehension\n",
    "\n",
    "def test4perfect(number):\n",
    "    return number == sum([d for d in range (1,number) if number%d==0])"
   ]
  },
  {
   "cell_type": "code",
   "execution_count": null,
   "metadata": {},
   "outputs": [],
   "source": [
    "## list comprehension intro\n",
    "\n",
    "# as a loop\n",
    "lst = []\n",
    "for i in range(10):\n",
    "    lst.append(i**2)\n",
    "    \n",
    "# as list comprehension\n",
    "lst2 = [i**2 for i in range(10)]\n",
    "\n",
    "print(lst)\n",
    "print(lst2)"
   ]
  },
  {
   "cell_type": "code",
   "execution_count": null,
   "metadata": {},
   "outputs": [],
   "source": []
  },
  {
   "cell_type": "markdown",
   "metadata": {
    "id": "qCq5Dnp_Rnvm"
   },
   "source": [
    "# VIDEO: Euclid's Pythagorean triplets\n",
    "\n",
    "$a=m^{2}-n^{2}\\\\\n",
    "b=2mn\\\\\n",
    "c=m^{2}+n^{2}\\\\\n",
    "m>n$\n",
    "\n"
   ]
  },
  {
   "cell_type": "code",
   "execution_count": null,
   "metadata": {
    "id": "qkkTllfibgom"
   },
   "outputs": [],
   "source": [
    "# specify range of numbers\n",
    "numberrange = np.arange(2,51)\n",
    "\n",
    "# initialize empty lists\n",
    "a = []\n",
    "b = []\n",
    "c = []\n",
    "\n",
    "for m in numberrange:\n",
    "    for n in numberrange:\n",
    "        a.append( m**2 - n**2 )\n",
    "        b.append( 2*m*n )\n",
    "        c.append( m**2 + n**2 )\n"
   ]
  },
  {
   "cell_type": "code",
   "execution_count": null,
   "metadata": {
    "id": "tSYcX3G_o1Dz"
   },
   "outputs": [],
   "source": [
    "fig,ax = plt.subplots(1,figsize=(10,7))\n",
    "plt.scatter(a,b,c=c, marker='o',alpha=.5,linewidths=.5,edgecolors='k')\n",
    "plt.axis('off')\n",
    "plt.show()"
   ]
  },
  {
   "cell_type": "code",
   "execution_count": null,
   "metadata": {
    "id": "_lePYQjFwkPM"
   },
   "outputs": [],
   "source": [
    "check = np.array(a)**2 + np.array(b)**2 - np.array(c)**2\n",
    "\n",
    "plt.plot(check,'o')\n",
    "plt.ylabel('$y \\quad = \\quad a^2+b^2-c^2$')\n",
    "plt.show()"
   ]
  },
  {
   "cell_type": "code",
   "execution_count": null,
   "metadata": {
    "id": "p3D0pJBFzFFv"
   },
   "outputs": [],
   "source": []
  },
  {
   "cell_type": "markdown",
   "metadata": {
    "id": "h62n_sWCAlZR"
   },
   "source": [
    "### Exercise"
   ]
  },
  {
   "cell_type": "code",
   "execution_count": null,
   "metadata": {},
   "outputs": [],
   "source": [
    "# the code written above does not strictly conform to the equations. Find what's wrong and fix it!"
   ]
  },
  {
   "cell_type": "code",
   "execution_count": null,
   "metadata": {},
   "outputs": [],
   "source": [
    "# initialize empty lists\n",
    "a = []\n",
    "b = []\n",
    "c = []\n",
    "\n",
    "for m in numberrange:\n",
    "    for n in range(numberrange[0],m):\n",
    "        a.append( m**2 - n**2 )\n",
    "        b.append( 2*m*n )\n",
    "        c.append( m**2 + n**2 )\n",
    "\n",
    "fig,ax = plt.subplots(1,figsize=(7,7))\n",
    "plt.scatter(a,b,c=c, marker='o',alpha=.5,linewidths=.5,edgecolors='k')\n",
    "plt.axis('off')\n",
    "plt.show()"
   ]
  },
  {
   "cell_type": "code",
   "execution_count": null,
   "metadata": {},
   "outputs": [],
   "source": []
  },
  {
   "cell_type": "code",
   "execution_count": null,
   "metadata": {},
   "outputs": [],
   "source": []
  },
  {
   "cell_type": "markdown",
   "metadata": {
    "id": "sISzM_Fl9cCn"
   },
   "source": [
    "# VIDEO: Fermat's theorem"
   ]
  },
  {
   "cell_type": "markdown",
   "metadata": {
    "id": "LV4pVB6l9g1N"
   },
   "source": [
    "There are no integer solutions to $x^3+y^3=z^3$"
   ]
  },
  {
   "cell_type": "code",
   "execution_count": null,
   "metadata": {
    "id": "Rrj_sFXQDqJN"
   },
   "outputs": [],
   "source": [
    "ints = np.arange(1,101)\n",
    "\n",
    "z = np.zeros((len(ints),len(ints)))\n",
    "\n",
    "# run the simulation\n",
    "for x in ints:\n",
    "    for y in ints:\n",
    "        z[x-1,y-1] = (x**3 + y**3)**(1/3)\n"
   ]
  },
  {
   "cell_type": "code",
   "execution_count": null,
   "metadata": {
    "id": "AEFlPR729_1x"
   },
   "outputs": [],
   "source": [
    "# check for integers\n",
    "zInts = z%1 == 0\n"
   ]
  },
  {
   "cell_type": "code",
   "execution_count": null,
   "metadata": {
    "colab": {
     "base_uri": "https://localhost:8080/",
     "height": 386
    },
    "id": "FDE9IN_r-FhI",
    "outputId": "45b7699d-a368-43d9-d41a-80d713590b9b"
   },
   "outputs": [],
   "source": [
    "\n",
    "# now visualize\n",
    "fig,ax = plt.subplots(1,2,figsize=(12,6))\n",
    "fig.tight_layout(pad=5)\n",
    "\n",
    "# show the resulting z-values\n",
    "h = ax[0].imshow(z)\n",
    "fig.colorbar(h,ax=ax[0],fraction=.045)\n",
    "ax[0].set_xlabel('y')\n",
    "ax[0].set_ylabel('x')\n",
    "ax[0].set_title('$z=\\sqrt[3]{x^3+y^3}$',fontsize=16)\n",
    "\n",
    "# show the boolean integer map\n",
    "h = ax[1].imshow(zInts,vmin=0,vmax=1)\n",
    "fig.colorbar(h,ax=ax[1],fraction=.045)\n",
    "ax[1].set_xlabel('y')\n",
    "ax[1].set_ylabel('x')\n",
    "ax[1].set_title('Whether $z$ is int',fontsize=16)\n",
    "\n",
    "plt.show()"
   ]
  },
  {
   "cell_type": "markdown",
   "metadata": {
    "id": "XiR9JHTk-GrY"
   },
   "source": [
    "### Exercise: \"Fermat's stairway to heaven\""
   ]
  },
  {
   "cell_type": "code",
   "execution_count": null,
   "metadata": {},
   "outputs": [],
   "source": [
    "# Modify the code to create a map of integer Pythagorean triplets"
   ]
  },
  {
   "cell_type": "code",
   "execution_count": null,
   "metadata": {
    "id": "OBTVqVmb-HSA"
   },
   "outputs": [],
   "source": []
  },
  {
   "cell_type": "markdown",
   "metadata": {
    "id": "WhG-EE9eo1YB"
   },
   "source": [
    "# VIDEO: Plotting number sequences\n"
   ]
  },
  {
   "cell_type": "code",
   "execution_count": null,
   "metadata": {
    "id": "II1kBlVORp9M"
   },
   "outputs": [],
   "source": [
    "# initialize\n",
    "s1 = np.array([])\n",
    "s2 = np.array([])\n",
    "s3 = np.array([])\n",
    "s4 = np.array([])\n",
    "xx = np.arange(1,81)\n",
    "\n",
    "\n",
    "# generate the sequences\n",
    "for n in xx:\n",
    "    s1 = np.append(s1,n/(n+1))\n",
    "    s2 = np.append(s2,(n+1)/n)\n",
    "    s3 = np.append(s3,n/sum(np.arange(1,n+1)))\n",
    "    s4 = np.append(s4,(-1)**n/np.sqrt(n))\n",
    "\n",
    "\n",
    "# plotting\n",
    "fig,ax = plt.subplots(1,figsize=(10,7))\n",
    "plt.plot(xx,s1,label='$a/(a+1)$')\n",
    "plt.plot(xx,s2,label='$(a+1)/a$')\n",
    "plt.plot(xx,s3,label='$a/\\Sigma(a)$')\n",
    "plt.plot(xx,s4,label='$-1^a/\\sqrt{a}$')\n",
    "plt.legend(loc='upper right',fontsize=16)\n",
    "plt.show()"
   ]
  },
  {
   "cell_type": "code",
   "execution_count": null,
   "metadata": {
    "id": "utMhyJh-zNFz"
   },
   "outputs": [],
   "source": []
  },
  {
   "cell_type": "markdown",
   "metadata": {
    "id": "JtQstBsu0xZT"
   },
   "source": [
    "### Exercise"
   ]
  },
  {
   "cell_type": "code",
   "execution_count": null,
   "metadata": {},
   "outputs": [],
   "source": [
    "# The series above are all convergent. Create a divergent series."
   ]
  },
  {
   "cell_type": "code",
   "execution_count": null,
   "metadata": {},
   "outputs": [],
   "source": [
    "# repeat without a for-loop!\n",
    "\n",
    "# the a's\n",
    "aSeq = np.arange(1,N)\n",
    "\n",
    "# the sequences\n",
    "s1 = aSeq/(aSeq+1)\n",
    "s2 = (aSeq+1)/aSeq\n",
    "s3 = aSeq/np.cumsum(aSeq)\n",
    "s4 = (-1)**aSeq/np.sqrt(aSeq)\n",
    "\n",
    "# examples of divergent sequences\n",
    "# s3 = np.cumsum(aSeq)/aSeq\n",
    "# s4 = np.sqrt(aSeq)/(-1)**aSeq\n",
    "\n",
    "# plotting\n",
    "fig,ax = plt.subplots(1,figsize=(10,7))\n",
    "plt.plot(xx,s1,label='$a/(a+1)$')\n",
    "plt.plot(xx,s2,label='$(a+1)/a$')\n",
    "plt.plot(xx,s3,label='$a/\\Sigma(a)$')\n",
    "plt.plot(xx,s4,label='$-1^a/\\sqrt{a}$')\n",
    "plt.legend(loc='upper right',fontsize=16)\n",
    "plt.show()"
   ]
  },
  {
   "cell_type": "code",
   "execution_count": null,
   "metadata": {},
   "outputs": [],
   "source": []
  },
  {
   "cell_type": "markdown",
   "metadata": {
    "id": "c17uqLHC0x1J"
   },
   "source": [
    "# VIDEO: Heron's method of square roots"
   ]
  },
  {
   "cell_type": "code",
   "execution_count": null,
   "metadata": {
    "id": "k1RUmn8tOKPi"
   },
   "outputs": [],
   "source": [
    "# Let's test the algorithm in a simple example\n",
    "num = 100\n",
    "\n",
    "# initialze the first guess\n",
    "x = num/3\n",
    "\n",
    "# now run through the algorithm\n",
    "for n in range(5):\n",
    "    x = ( x + num/x )/2\n",
    "    print(x)\n",
    "\n",
    "x"
   ]
  },
  {
   "cell_type": "code",
   "execution_count": null,
   "metadata": {
    "id": "CJXd06MIRn0d"
   },
   "outputs": [],
   "source": [
    "# define the numbers to compute\n",
    "nums2sqrt = np.linspace(2,101,50)\n",
    "\n",
    "# range of algorithm iterations\n",
    "niterations = np.arange(3,9)\n",
    "\n",
    "\n",
    "# initialize matrix of estimates\n",
    "err = np.zeros((len(niterations),len(nums2sqrt)))\n",
    "\n",
    "\n",
    "# loop over the numbers to compute\n",
    "for ni,num in enumerate(nums2sqrt):\n",
    "  \n",
    "    # loop over number of iterations\n",
    "    for ii,iters in enumerate(niterations):\n",
    "  \n",
    "        # initial guess\n",
    "        x = num/3\n",
    "      \n",
    "        # implement algorithm\n",
    "        for n in range(iters):\n",
    "            x = ( x + num/x )/2\n",
    "      \n",
    "        # store error magnitude\n",
    "        err[ii,ni] = abs(x-np.sqrt(num))\n"
   ]
  },
  {
   "cell_type": "code",
   "execution_count": null,
   "metadata": {
    "id": "uOQCIiLygR7C"
   },
   "outputs": [],
   "source": [
    "plt.imshow(-np.log(err),aspect=10,extent=[nums2sqrt[0],nums2sqrt[-1],niterations[-1],niterations[0]])\n",
    "plt.xlabel('Number')\n",
    "plt.ylabel('Iterations')\n",
    "plt.title('-log(error)')\n",
    "plt.show()"
   ]
  },
  {
   "cell_type": "markdown",
   "metadata": {
    "id": "kOLHbqhrKxb-"
   },
   "source": [
    "### Exercise"
   ]
  },
  {
   "cell_type": "code",
   "execution_count": null,
   "metadata": {},
   "outputs": [],
   "source": [
    "# Exercise: Heron's mosquito space ship #13\n",
    "# select target number to compute square root of\n",
    "targnum = 13\n",
    "\n",
    "# range of starting values\n",
    "starting = np.linspace(-targnum,targnum,40)\n",
    "\n",
    "# number of iterations (fixed)\n",
    "niters = 5\n",
    "\n",
    "# initialize output matrix\n",
    "sqrtAlgResults = np.zeros((len(starting),niters+1))\n",
    "\n",
    "\n",
    "# loop over starting numbers\n",
    "for idx,startnum in enumerate(starting):\n",
    "    \n",
    "    # initialize starting number as a list!\n",
    "    x = [startnum]\n",
    "    \n",
    "    # now run through the algorithm\n",
    "    for n in range(niters):\n",
    "        betterguess = ( x[n] + targnum/x[n] )/2\n",
    "        x.append( betterguess )\n",
    "    \n",
    "    sqrtAlgResults[idx,:] = x\n",
    "\n",
    "\n",
    "# finally, plot the results\n",
    "fig,ax = plt.subplots(1,figsize=(8,6))\n",
    "plt.plot(np.arange(niters+1),sqrtAlgResults.T,linewidth=2)\n",
    "plt.xlabel('Algorithm iteration')\n",
    "plt.ylabel('Numerical approximation')\n",
    "plt.title('Estimating $\\sqrt{%g}$ = %g' %(targnum,sqrtAlgResults[-1,-1]))\n",
    "plt.show()"
   ]
  },
  {
   "cell_type": "code",
   "execution_count": null,
   "metadata": {},
   "outputs": [],
   "source": []
  },
  {
   "cell_type": "code",
   "execution_count": null,
   "metadata": {},
   "outputs": [],
   "source": []
  },
  {
   "cell_type": "markdown",
   "metadata": {
    "id": "ILrxpFoAxpb3"
   },
   "source": [
    "# VIDEO: Smooth numbers\n",
    "\n",
    "\n"
   ]
  },
  {
   "cell_type": "code",
   "execution_count": null,
   "metadata": {
    "id": "S8OcwXHo9z_O"
   },
   "outputs": [],
   "source": [
    "# largest number to search in\n",
    "maxN = 10000\n",
    "\n",
    "# find the largest prime factor\n",
    "largestPrimeFact = np.zeros(maxN+1,dtype=int)/0\n",
    "\n",
    "for i in range(2,maxN+1): # note: start at 2! not zero!\n",
    "    largestPrimeFact[i] = np.max(sym.primefactors(i))\n",
    "\n",
    "# show the smooth numbers on a plot\n",
    "fig,ax = plt.subplots(1,figsize=(10,7))\n",
    "plt.plot(largestPrimeFact,'k.',markersize=.5)\n",
    "plt.xlabel('Number')\n",
    "plt.ylabel('Largest prime factor')\n",
    "plt.show()"
   ]
  },
  {
   "cell_type": "code",
   "execution_count": null,
   "metadata": {
    "id": "xNqiaTBN90Li"
   },
   "outputs": [],
   "source": [
    "# count the number of occurrences of maximum prime factors\n",
    "\n",
    "# find all unique max primes (basically all the primes)\n",
    "uniqueMaxPrimes = np.unique(largestPrimeFact)\n",
    "\n",
    "# count the number of times each max-prime appears\n",
    "num = np.zeros(len(uniqueMaxPrimes),dtype=int)\n",
    "for i,u in enumerate(uniqueMaxPrimes):\n",
    "    num[i] = np.sum(largestPrimeFact==u)\n",
    "\n",
    "# and visualize the counts by the smooth numbers\n",
    "plt.plot(uniqueMaxPrimes,num,'k.')\n",
    "plt.xlabel('Max prime number')\n",
    "plt.ylabel('Number of occurrences')\n",
    "plt.xlim([-1,500])\n",
    "plt.title('%s is the modal max prime factor' %uniqueMaxPrimes[np.argmax(num)])\n",
    "plt.show()"
   ]
  },
  {
   "cell_type": "markdown",
   "metadata": {
    "id": "B1q7f4UoTT0i"
   },
   "source": [
    "### Exercise"
   ]
  },
  {
   "cell_type": "code",
   "execution_count": null,
   "metadata": {
    "id": "Vszl_kf49gHn"
   },
   "outputs": [],
   "source": [
    "# list all of the 5-smooth numbers up to maxN\n",
    "numberlist = np.arange(maxN+1)\n",
    "\n",
    "print('All 5-smooth numbers up to 10000:')\n",
    "print( numberlist[largestPrimeFact<=5] )\n",
    "\n",
    "# check against https://oeis.org/A051037"
   ]
  },
  {
   "cell_type": "code",
   "execution_count": null,
   "metadata": {},
   "outputs": [],
   "source": [
    "sym.primefactors(4374)"
   ]
  },
  {
   "cell_type": "code",
   "execution_count": null,
   "metadata": {},
   "outputs": [],
   "source": [
    "# adjust the previous code to plot the count of k-smooth numbers\n",
    "\n",
    "# count the number of times each smooth number appears\n",
    "smoothCount = np.zeros(len(uniqueMaxPrimes),dtype=int)\n",
    "for i,u in enumerate(uniqueMaxPrimes):\n",
    "    smoothCount[i] = len(numberlist[largestPrimeFact<=u])\n",
    "\n",
    "\n",
    "# and visualize the counts by the smooth numbers\n",
    "plt.plot(uniqueMaxPrimes,smoothCount,'k.')\n",
    "plt.xlabel('Smooth number')\n",
    "plt.ylabel('Number of occurrences')\n",
    "plt.xlim([-1,500])\n",
    "plt.title('K-smooth number frequencies')\n",
    "plt.show()"
   ]
  },
  {
   "cell_type": "code",
   "execution_count": null,
   "metadata": {
    "id": "PYS-dL_s3zFT"
   },
   "outputs": [],
   "source": []
  }
 ],
 "metadata": {
  "colab": {
   "collapsed_sections": [],
   "name": "MasPy_numberTheory_solution.ipynb",
   "provenance": []
  },
  "kernelspec": {
   "display_name": "Python 3",
   "language": "python",
   "name": "python3"
  },
  "language_info": {
   "codemirror_mode": {
    "name": "ipython",
    "version": 3
   },
   "file_extension": ".py",
   "mimetype": "text/x-python",
   "name": "python",
   "nbconvert_exporter": "python",
   "pygments_lexer": "ipython3",
   "version": "3.7.3"
  }
 },
 "nbformat": 4,
 "nbformat_minor": 1
}
