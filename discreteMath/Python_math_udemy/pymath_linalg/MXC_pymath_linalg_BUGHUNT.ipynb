{
 "cells": [
  {
   "cell_type": "markdown",
   "metadata": {},
   "source": [
    "# COURSE: Master math by coding in Python\n",
    "## SECTION: Linear algebra\n",
    "\n",
    "#### www.udemy.com/master-math-with-python\n",
    "#### INSTRUCTOR: sincxpress.com\n",
    "\n",
    "Note about this code: Each video in this section of the course corresponds to a section of code below. Please note that this code roughly matches the code shown in the live recording, but is not exactly the same -- the variable names, order of lines, and parameters may be slightly different. "
   ]
  },
  {
   "cell_type": "code",
   "execution_count": null,
   "metadata": {},
   "outputs": [],
   "source": []
  },
  {
   "cell_type": "markdown",
   "metadata": {},
   "source": [
    "# Linear algebra BUG HUNT!!"
   ]
  },
  {
   "cell_type": "code",
   "execution_count": null,
   "metadata": {},
   "outputs": [],
   "source": [
    "# create a column vector\n",
    "cv = np.array([ (-2, 3 )])\n",
    "\n",
    "display(Math(sym.latex(sym.sympify(cv))))"
   ]
  },
  {
   "cell_type": "code",
   "execution_count": null,
   "metadata": {},
   "outputs": [],
   "source": [
    "# visualize scalar-vector multiplication\n",
    "\n",
    "v = np.array([-2,2])\n",
    "s = .7\n",
    "\n",
    "sv = np.array([s,s]).T@v\n",
    "plt.plot([0,v[0]],[0,v[1]],'ro-',linewidth=3,label='v')\n",
    "plt.plot([0,sv],[0,sv],'o-',linewidth=3,label='%sv')\n",
    "    \n",
    "plt.axis = 'square'\n",
    "plt.legend()\n",
    "plt.axis([-3,3,-3,3])\n",
    "plt.grid()\n",
    "plt.show()"
   ]
  },
  {
   "cell_type": "code",
   "execution_count": null,
   "metadata": {},
   "outputs": [],
   "source": [
    "# algorithm to compute the dot product\n",
    "v = np.random.randn(7)\n",
    "w = np.random.randn(8)\n",
    "\n",
    "dp1 = 0\n",
    "for i in range(0,len(v)):\n",
    "    dp1 = dp1 + v[i]*w[1]\n",
    "\n",
    "dp2 = np.dot(v,w)\n",
    "\n",
    "print(str(dp1) + '\\t' + str(dp2))"
   ]
  },
  {
   "cell_type": "code",
   "execution_count": null,
   "metadata": {},
   "outputs": [],
   "source": [
    "# number of data points\n",
    "n = 10\n",
    "\n",
    "# data\n",
    "data1 = np.arange(0,n) + np.random.randn(n)\n",
    "data2 = np.arange(0,n) + np.random.randn(n)\n",
    "\n",
    "# compute correlation\n",
    "numer = np.dot(data1,data2)\n",
    "denom = np.sqrt( np.dot(data1,data1) ) * np.sqrt(np.dot(data2,data2))\n",
    "r1 = numer/denom\n",
    "\n",
    "# confirm with numpy function\n",
    "r2 = np.corrcoef(data1,data2)[1][0]\n",
    "\n",
    "print(r1)\n",
    "print(r2)"
   ]
  },
  {
   "cell_type": "code",
   "execution_count": null,
   "metadata": {},
   "outputs": [],
   "source": [
    "# outer product computation\n",
    "o1 = np.random.randint(0,10,7)\n",
    "o2 = np.random.randint(0,10,4)\n",
    "\n",
    "outermat = np.zeros((len(o1),len(o2)))\n",
    "\n",
    "for i in range(len(o2)):\n",
    "    outermat[i,:] = o1*o2[i]\n",
    "    \n",
    "print(outermat-np.outer(o1,o2))"
   ]
  },
  {
   "cell_type": "code",
   "execution_count": null,
   "metadata": {},
   "outputs": [],
   "source": [
    "# matrix multiplication\n",
    "A = np.random.randn(5,5)\n",
    "I = np.eye(5)\n",
    "\n",
    "A*I"
   ]
  },
  {
   "cell_type": "code",
   "execution_count": null,
   "metadata": {},
   "outputs": [],
   "source": [
    "# matrix multiplication\n",
    "A = np.random.randn(8,5)\n",
    "I = np.eye(5)\n",
    "\n",
    "print(A)\n",
    "print(' ')\n",
    "print(A*I)"
   ]
  },
  {
   "cell_type": "code",
   "execution_count": null,
   "metadata": {},
   "outputs": [],
   "source": [
    "# random matrices are invertible\n",
    "A = np.random.randint(-5,6,(5,5))\n",
    "Ainv = np.inv(A)\n",
    "\n",
    "np.round(A@Ainv,4)"
   ]
  },
  {
   "cell_type": "code",
   "execution_count": null,
   "metadata": {},
   "outputs": [],
   "source": [
    "# plot the eigenspectrum\n",
    "# the matrix\n",
    "M = np.random.randint(-5,5,(5,5))\n",
    "M = M@M.T\n",
    "\n",
    "# its eigendecomposition\n",
    "eigvecs,eigvals = np.linalg.eig(M)\n",
    "\n",
    "plt.plot(np.matrix.flatten(eigvals),'s-')\n",
    "plt.xlabel('Components')\n",
    "plt.ylabel('Eigenvalues')\n",
    "\n",
    "plt.show()"
   ]
  },
  {
   "cell_type": "code",
   "execution_count": null,
   "metadata": {},
   "outputs": [],
   "source": [
    "# Reconstruct a matrix based on its SVD\n",
    "A = np.random.randint(-10,11,(10,20))\n",
    "\n",
    "U,s,V = np.linalg.svd(A)\n",
    "\n",
    "# reconstruct S\n",
    "S = np.diag(s)\n",
    "\n",
    "Arecon = U@V@S\n",
    "\n",
    "fig,ax = plt.subplots(1,3)\n",
    "\n",
    "ax[0].imshow(A,vmin=-10,vmax=10)\n",
    "ax[0].set_title('A')\n",
    "\n",
    "ax[1].imshow(Arecon,vmin=-10,vmax=10)\n",
    "ax[1].set_title('Arecon')\n",
    "\n",
    "ax[2].imshow(A-Arecon,vmin=-10,vmax=10)\n",
    "ax[2].set_title('A-Arecon')\n",
    "\n",
    "plt.show()"
   ]
  }
 ],
 "metadata": {
  "kernelspec": {
   "display_name": "Python 3",
   "language": "python",
   "name": "python3"
  },
  "language_info": {
   "codemirror_mode": {
    "name": "ipython",
    "version": 3
   },
   "file_extension": ".py",
   "mimetype": "text/x-python",
   "name": "python",
   "nbconvert_exporter": "python",
   "pygments_lexer": "ipython3",
   "version": "3.7.3"
  }
 },
 "nbformat": 4,
 "nbformat_minor": 2
}
