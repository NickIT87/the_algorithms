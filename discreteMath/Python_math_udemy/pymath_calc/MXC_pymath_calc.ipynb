{
 "cells": [
  {
   "cell_type": "markdown",
   "metadata": {},
   "source": [
    "# COURSE: Master math by coding in Python\n",
    "## SECTION: Calculus\n",
    "\n",
    "#### https://www.udemy.com/course/math-with-python/?couponCode=MXC-DISC4ALL\n",
    "#### INSTRUCTOR: sincxpress.com\n",
    "\n",
    "Note about this code: Each video in this section of the course corresponds to a section of code below. Please note that this code roughly matches the code shown in the live recording, but is not exactly the same -- the variable names, order of lines, and parameters may be slightly different. "
   ]
  },
  {
   "cell_type": "code",
   "execution_count": null,
   "metadata": {},
   "outputs": [],
   "source": []
  },
  {
   "cell_type": "code",
   "execution_count": null,
   "metadata": {},
   "outputs": [],
   "source": [
    "import sympy as sym\n",
    "import matplotlib.pyplot as plt\n",
    "import numpy as np\n",
    "from scipy.signal import find_peaks\n",
    "from IPython.display import display,Math"
   ]
  },
  {
   "cell_type": "markdown",
   "metadata": {},
   "source": [
    "# VIDEO: Computing limits of a function"
   ]
  },
  {
   "cell_type": "code",
   "execution_count": null,
   "metadata": {},
   "outputs": [],
   "source": [
    "x = sym.symbols('x')\n",
    "\n",
    "# the function\n",
    "fx = x**3\n",
    "\n",
    "# limit\n",
    "lim_pnt = 1.5\n",
    "lim = sym.limit(fx,x,lim_pnt)\n",
    "\n",
    "display(Math('\\\\lim_{x\\\\to %g} %s = %g' %(lim_pnt,sym.latex(fx),lim)))"
   ]
  },
  {
   "cell_type": "code",
   "execution_count": null,
   "metadata": {},
   "outputs": [],
   "source": [
    "# evaluate the function in a range\n",
    "xx = np.linspace(-5,5,200)\n",
    "fxx = sym.lambdify(x,fx) # a function for evaluating a sympy function\n",
    "\n",
    "# show it in a plot\n",
    "plt.plot(xx,fxx(xx))\n",
    "\n",
    "# make the plot look a bit nicer\n",
    "plt.plot(lim_pnt,lim,'ro')\n",
    "plt.xlim([-5,5])\n",
    "plt.ylim([-10,10])\n",
    "plt.xlabel('x')\n",
    "plt.ylabel('f(x) = $%s$' %sym.latex(fx))\n",
    "\n",
    "plt.show()"
   ]
  },
  {
   "cell_type": "code",
   "execution_count": null,
   "metadata": {},
   "outputs": [],
   "source": [
    "# the function\n",
    "fx = (x**2)/(x-2)\n",
    "fxx = sym.lambdify(x,fx) # a function for evaluating a sympy function\n",
    "\n",
    "\n",
    "xx = np.linspace(1,3,100)\n",
    "\n",
    "# limit\n",
    "lim_pnt = 2\n",
    "lim = sym.limit(fx,x,lim_pnt,dir='+')\n",
    "\n",
    "display(Math('\\\\lim_{x\\\\to %g^+} %s = %g' %(lim_pnt,sym.latex(fx),lim)))\n",
    "\n",
    "# show it in a plot\n",
    "plt.plot(xx,fxx(xx))\n",
    "\n",
    "# make the plot look a bit nicer\n",
    "plt.plot(lim_pnt,lim,'ro')\n",
    "plt.xlim([1,3])\n",
    "plt.xlabel('x')\n",
    "plt.ylabel('f(x) = $%s$' %sym.latex(fx))\n",
    "\n",
    "plt.show()"
   ]
  },
  {
   "cell_type": "markdown",
   "metadata": {},
   "source": [
    "### Exercise"
   ]
  },
  {
   "cell_type": "code",
   "execution_count": null,
   "metadata": {},
   "outputs": [],
   "source": [
    "fx = sym.sqrt(x+1)*sym.exp(-x)\n",
    "gx = sym.cos(x + sym.sin(x))\n",
    "\n",
    "## start by plotting the functions\n",
    "fxx = sym.lambdify(x,fx)\n",
    "gxx = sym.lambdify(x,gx)\n",
    "\n",
    "xx = np.linspace(0,10,100)\n",
    "\n",
    "# show it in a plot\n",
    "plt.plot(xx,fxx(xx),label='f(x)')\n",
    "plt.plot(xx,gxx(xx),label='g(x)')\n",
    "\n",
    "# make the plot look a bit nicer\n",
    "plt.xlabel('x')\n",
    "plt.legend()\n",
    "\n",
    "plt.show()"
   ]
  },
  {
   "cell_type": "code",
   "execution_count": null,
   "metadata": {},
   "outputs": [],
   "source": [
    "# compute the limits separately at x=5\n",
    "lim_pnt = 5\n",
    "lim_fx = sym.limit(fx,x,lim_pnt)\n",
    "lim_gx = sym.limit(gx,x,lim_pnt)\n",
    "\n",
    "display(Math('\\\\frac{\\\\lim_{x\\\\to %g} f(x)}{\\\\lim_{x\\\\to %g} g(x)} = \\\\frac{%g}{%g} = %g' \\\n",
    "             %(lim_pnt,lim_pnt,lim_fx,lim_gx,lim_fx/lim_gx)))\n",
    "\n",
    "# now compute limit of fx/gx\n",
    "lim_fg = sym.limit(fx/gx,x,lim_pnt)\n",
    "\n",
    "display(Math('\\\\lim_{x\\\\to %g} \\\\frac{f(x)}{g(x)} = %g' %(lim_pnt,lim_fg)))\n"
   ]
  },
  {
   "cell_type": "markdown",
   "metadata": {},
   "source": [
    "# VIDEO: Piece-wise functions"
   ]
  },
  {
   "cell_type": "code",
   "execution_count": null,
   "metadata": {},
   "outputs": [],
   "source": [
    "# list function pieces\n",
    "from sympy.abc import x\n",
    "piece1 = 0\n",
    "piece2 = -2*x\n",
    "piece3 = x**3/10\n",
    "\n",
    "# put them together with conditions\n",
    "fx = sym.Piecewise( (piece1,x<0),(piece2,(x>=0) & (x<3)),(piece3,x>=3) )\n",
    "\n",
    "# evaluate the function in a range\n",
    "xx = np.linspace(-3,5,1000)\n",
    "fxx = sym.lambdify(x,fx)\n",
    "\n",
    "# show it in a plot\n",
    "plt.plot(xx,fxx(xx),'k')\n",
    "\n",
    "# make the plot look a bit nicer\n",
    "plt.xlabel('x')\n",
    "plt.ylabel('f(x)')\n",
    "plt.show()"
   ]
  },
  {
   "cell_type": "markdown",
   "metadata": {},
   "source": [
    "### Exercise"
   ]
  },
  {
   "cell_type": "code",
   "execution_count": null,
   "metadata": {},
   "outputs": [],
   "source": [
    "# function pieces\n",
    "x = sym.symbols('x')\n",
    "\n",
    "f = x**3\n",
    "g = sym.log(x,2)\n",
    "\n",
    "fx = sym.Piecewise( (f,x<=0),(g,x>0) )\n",
    "\n",
    "# print out the function definition\n",
    "display(Math('f(x) = ' + sym.latex(fx)))\n",
    "\n",
    "\n",
    "# evaluate the function in a range\n",
    "xx = np.linspace(-2,2,1000)\n",
    "fxx = sym.lambdify(x,fx)\n",
    "\n",
    "# show it in a plot\n",
    "with plt.xkcd():\n",
    "    plt.plot(xx,fxx(xx),'k')\n",
    "\n",
    "# make the plot look a bit nicer\n",
    "plt.xlim([-2,2])\n",
    "plt.ylim([-10,3])\n",
    "plt.xlabel('x')\n",
    "plt.ylabel('y')\n",
    "\n",
    "plt.show()"
   ]
  },
  {
   "cell_type": "markdown",
   "metadata": {},
   "source": [
    "# VIDEO: Derivatives of polynomials"
   ]
  },
  {
   "cell_type": "code",
   "execution_count": null,
   "metadata": {},
   "outputs": [],
   "source": [
    "x = sym.symbols('x')\n",
    "\n",
    "fx = x**2\n",
    "\n",
    "sym.diff(fx)"
   ]
  },
  {
   "cell_type": "code",
   "execution_count": null,
   "metadata": {},
   "outputs": [],
   "source": [
    "# Leibniz notation\n",
    "display(Math('f(x) = %s, \\\\quad \\\\frac{df}{dx} = %s' %(sym.latex(fx),sym.latex(sym.diff(fx)))))\n",
    "\n",
    "# Lagrange notation\n",
    "display(Math('f(x) = %s, \\\\quad f\\' = %s' %(sym.latex(fx),sym.latex(sym.diff(fx)))))\n",
    "\n",
    "# Newton notation\n",
    "display(Math('f(x) = %s, \\\\quad \\\\ddot{f} = %s' %(sym.latex(fx),sym.latex(sym.diff(sym.diff(fx))))))"
   ]
  },
  {
   "cell_type": "code",
   "execution_count": null,
   "metadata": {},
   "outputs": [],
   "source": [
    "import sympy.plotting.plot as symplot\n",
    "\n",
    "# plot\n",
    "\n",
    "fx = (3-x**3)\n",
    "\n",
    "# generate the first plot\n",
    "p = symplot(fx,(x,-5,5),show=False)\n",
    "p[0].label = '$f(x) = %s$' %sym.latex(fx) # create a label for the legend\n",
    "\n",
    "# extend to show the second plot as well\n",
    "p.extend( symplot(sym.diff(fx),show=False) )\n",
    "p[1].label = '$f(x)\\' = %s$' %sym.latex(sym.diff(fx))\n",
    "\n",
    "# some plotting adjustments\n",
    "p.ylim = [-5,5]\n",
    "p.xlim = [-3,3]\n",
    "p[0].line_color = 'r'\n",
    "p.legend = True # activate the legend\n",
    "\n",
    "# and show the plot\n",
    "p.show()\n"
   ]
  },
  {
   "cell_type": "markdown",
   "metadata": {},
   "source": [
    "### Exercise"
   ]
  },
  {
   "cell_type": "code",
   "execution_count": null,
   "metadata": {},
   "outputs": [],
   "source": [
    "f = 3 + 2*x - 5*x**2 + 7*x**4\n",
    "g = 4*x**2 + x**5\n",
    "\n",
    "df = sym.diff(f)\n",
    "dg = sym.diff(g)\n",
    "\n",
    "d_f_times_g = sym.diff(f*g)\n",
    "df_times_dg = sym.diff(f) * sym.diff(g)\n",
    "\n",
    "\n",
    "display(Math('\\\\text{Without applying the product rule:}'))\n",
    "display(Math('\\\\quad (f\\\\times g)\\' = %s' %sym.latex(sym.expand(d_f_times_g))))\n",
    "display(Math('\\\\quad f\\' \\\\times g\\' = %s' %sym.latex(sym.expand(df_times_dg))))"
   ]
  },
  {
   "cell_type": "code",
   "execution_count": null,
   "metadata": {},
   "outputs": [],
   "source": [
    "# apply the product rule\n",
    "display(Math('\\\\text{With the product rule: }'))\n",
    "display(Math('\\\\quad (f\\\\times g)\\' = %s' %sym.latex(sym.expand(d_f_times_g))))\n",
    "display(Math('\\\\quad f\\'\\\\times g+f\\\\times g\\' = %s' %sym.latex(sym.expand(df*g+f*dg))))"
   ]
  },
  {
   "cell_type": "code",
   "execution_count": null,
   "metadata": {},
   "outputs": [],
   "source": [
    "# try again for addition\n",
    "dfPlusg  = sym.diff(f+g)\n",
    "\n",
    "display(Math('(f+ g)\\' = %s' %sym.latex(sym.expand(dfPlusg))))\n",
    "display(Math('f\\' + g\\' = %s' %sym.latex(sym.expand(df+dg))))"
   ]
  },
  {
   "cell_type": "markdown",
   "metadata": {},
   "source": [
    "# VIDEO: Derivatives of trig functions"
   ]
  },
  {
   "cell_type": "code",
   "execution_count": null,
   "metadata": {},
   "outputs": [],
   "source": [
    "q = sym.symbols('q')\n",
    "\n",
    "print(sym.diff( sym.cos(q) ))\n",
    "print(sym.diff( sym.sin(q) ))"
   ]
  },
  {
   "cell_type": "code",
   "execution_count": null,
   "metadata": {},
   "outputs": [],
   "source": [
    "# show the cyclicity of sin/cos derivatives\n",
    "x = sym.symbols('x')\n",
    "\n",
    "f = sym.cos(x)\n",
    "\n",
    "for i in range(0,8):\n",
    "    display(Math('\\\\frac{d}{dx}%s = %s' %(sym.latex(f),sym.latex(sym.diff(f)))))\n",
    "    f = sym.diff(f)"
   ]
  },
  {
   "cell_type": "code",
   "execution_count": null,
   "metadata": {},
   "outputs": [],
   "source": [
    "import sympy.plotting.plot as symplot\n",
    "\n",
    "f = sym.cos(x)\n",
    "\n",
    "for i in range(0,4):\n",
    "    if i==0:\n",
    "        p = symplot(f,show=False,line_color=(i/5,i/4,i/5),label=sym.latex(f))\n",
    "    else:\n",
    "        p.extend( symplot(f,show=False,line_color=(i/5,i/4,i/5),label=sym.latex(f)) )\n",
    "    f = sym.diff(f)\n",
    "    \n",
    "p.legend = True\n",
    "p.xlim = [-3,3]\n",
    "p.show()"
   ]
  },
  {
   "cell_type": "markdown",
   "metadata": {},
   "source": [
    "### Exercise"
   ]
  },
  {
   "cell_type": "code",
   "execution_count": null,
   "metadata": {},
   "outputs": [],
   "source": [
    "a = sym.symbols('a')\n",
    "\n",
    "f = sym.cos(x + sym.sin(x)) + a\n",
    "\n",
    "colors = 'brkm'\n",
    "\n",
    "\n",
    "for ai in range(0,4):\n",
    "    if ai==0:\n",
    "        p = symplot(f.subs(a,ai),show=False,label='a=%s' %ai)\n",
    "    else:\n",
    "        p.extend( symplot(f.subs(a,ai),line_color=colors[ai],show=False,label='a=%s' %ai) )\n",
    "\n",
    "p.title = 'The functions'\n",
    "p.legend = True\n",
    "p.show()\n",
    "\n",
    "\n",
    "for ai in range(0,4):\n",
    "    if ai==0:\n",
    "        p = symplot(sym.diff(f.subs(a,ai)),show=False,label='a=%s' %ai)\n",
    "    else:\n",
    "        p.extend( symplot(sym.diff(f.subs(a,ai)),line_color=colors[ai],show=False,label='a=%s' %ai) )\n",
    "\n",
    "p.title = 'Their derivatives'\n",
    "p.legend = True\n",
    "p.show()"
   ]
  },
  {
   "cell_type": "markdown",
   "metadata": {},
   "source": [
    "# VIDEO: Graphing a function tangent line"
   ]
  },
  {
   "cell_type": "code",
   "execution_count": null,
   "metadata": {},
   "outputs": [],
   "source": [
    "x = sym.symbols('x')\n",
    "\n",
    "# define function and its derivative\n",
    "f = x**2\n",
    "df = sym.diff(f)\n",
    "\n",
    "# select x point\n",
    "xa = 1\n",
    "\n",
    "# define function and derivative values at that point\n",
    "fa = f.subs(x,xa)\n",
    "df_a = df.subs(x,xa)\n",
    "\n",
    "## evaluate function and its derivative\n",
    "xx     = np.linspace(-2,2,200)\n",
    "f_fun  = sym.lambdify(x,f)(xx)\n",
    "df_fun = sym.lambdify(x,df)(xx)\n",
    "\n",
    "# compute the tangent line\n",
    "tanline = df_a * (xx - xa) + fa\n",
    "\n",
    "# plot it!\n",
    "plt.plot(xx,f_fun,label='f(x)')\n",
    "plt.plot(xx,tanline,label='tangent')\n",
    "plt.plot(xa,fa,'ro')\n",
    "\n",
    "plt.axis('square')\n",
    "plt.axis([-3,3,-3,3])\n",
    "ax = plt.gca()\n",
    "plt.plot(ax.get_xlim(),[0,0],'k--')\n",
    "plt.plot([0,0],ax.get_xlim(),'k--')\n",
    "plt.xlabel('X')\n",
    "plt.ylabel('f(x)')\n",
    "plt.legend()\n",
    "\n",
    "plt.show()"
   ]
  },
  {
   "cell_type": "markdown",
   "metadata": {},
   "source": [
    "### Exercise"
   ]
  },
  {
   "cell_type": "code",
   "execution_count": null,
   "metadata": {},
   "outputs": [],
   "source": [
    "# make a function that computes the tangent line, loop through lots of points\n",
    "\n",
    "def computetangent(f,xa,bnds):\n",
    "    # define function and derivative values at that point\n",
    "    df = sym.diff(f)\n",
    "    fa = f.subs(x,xa)\n",
    "    df_a = df.subs(x,xa)\n",
    "\n",
    "    # evaluate the tangent line\n",
    "    xx = np.linspace(bnds[0],bnds[1],200)\n",
    "    return df_a * (xx - xa) + fa"
   ]
  },
  {
   "cell_type": "code",
   "execution_count": null,
   "metadata": {},
   "outputs": [],
   "source": [
    "x = sym.symbols('x')\n",
    "f = x**2\n",
    "xx = np.linspace(-2,2,200)\n",
    "f_fun  = sym.lambdify(x,f)(xx)\n",
    "\n",
    "\n",
    "for i in xx:\n",
    "    yy = computetangent(f,i,xx[[0,-1]])\n",
    "    plt.plot(xx,yy,color=[abs(i)/3,abs(i)/4,abs(i)/2])\n",
    "\n",
    "\n",
    "# plot it!\n",
    "plt.plot(xx,f_fun,'k',linewidth=2)\n",
    "\n",
    "plt.axis('square')\n",
    "plt.axis([-2,2,-1,3])\n",
    "plt.axis('off')\n",
    "plt.show()"
   ]
  },
  {
   "cell_type": "markdown",
   "metadata": {},
   "source": [
    "# VIDEO: Finding critical points of a function"
   ]
  },
  {
   "cell_type": "code",
   "execution_count": null,
   "metadata": {},
   "outputs": [],
   "source": [
    "# The empirical method (useful for df=0; won't work for non-differentiable points)\n",
    "\n",
    "# create a function\n",
    "x = np.linspace(-5,5,1000) # vs 1001\n",
    "fx = x**2 * np.exp(-x**2)\n",
    "\n",
    "# extrema\n",
    "localmax = find_peaks(fx)[0]\n",
    "localmin = find_peaks(-fx)[0]\n",
    "print('The critical points are ' + str(x[localmax]) + ' ' + str(x[localmin]))\n",
    "\n",
    "# compute its derivative\n",
    "dfx = np.diff(fx)/np.mean(np.diff(x)) # scale by dx!\n",
    "\n",
    "# plot everything\n",
    "plt.plot(x,fx,label='y')\n",
    "plt.plot(x[0:-1],dfx,label='dy/dx')\n",
    "plt.plot(x[localmax],fx[localmax],'ro',label='local max.')\n",
    "plt.plot(x[localmin],fx[localmin],'gs',label='local min.')\n",
    "plt.plot(x[[0,-1]],[0,0],'--',c=[.7,.7,.7])\n",
    "\n",
    "plt.legend()\n",
    "plt.xlim(x[[0,-1]])\n",
    "plt.show()"
   ]
  },
  {
   "cell_type": "code",
   "execution_count": null,
   "metadata": {},
   "outputs": [],
   "source": [
    "# The analytic (symbolic) method\n",
    "\n",
    "x = sym.symbols('x')\n",
    "fx = x**2 * sym.exp(-x**2)\n",
    "\n",
    "# derivative in sympy, solve\n",
    "dfx = sym.diff(fx,x)\n",
    "critpoints = sym.solve(dfx)\n",
    "print('The critical points are: ' + str(critpoints))\n",
    "\n",
    "\n",
    "# some sympy plotting\n",
    "p = sym.plot(fx,(x,-5,5),show=False)\n",
    "p.extend( sym.plot(dfx,(x,-5,5),show=False,line_color='r') )\n",
    "\n",
    "p[0].label = 'y'\n",
    "p[1].label = 'dy/dx'\n",
    "p.legend = True\n",
    "p.show()"
   ]
  },
  {
   "cell_type": "markdown",
   "metadata": {},
   "source": [
    "### Exercise"
   ]
  },
  {
   "cell_type": "code",
   "execution_count": null,
   "metadata": {},
   "outputs": [],
   "source": [
    "# what values of 'a' give this function a critical point at x=1 or x=2?\n",
    "a,x = sym.symbols('a,x')\n",
    "\n",
    "baseexpr = x**2 * sym.exp(-a*x**2)\n",
    "arange = np.arange(0,2.25,.25)\n",
    "xrange = np.linspace(-3,3,100)\n",
    "\n",
    "# setup plots\n",
    "fig,ax = plt.subplots(1,2)\n",
    "\n",
    "for ai in arange:\n",
    "    \n",
    "    fx = baseexpr.subs(a,ai)\n",
    "    dfx = sym.diff(fx)\n",
    "    critpnts = sym.solve( dfx )\n",
    "    \n",
    "    # also plot the function in subplot1 and its derivative in subplot2\n",
    "    ax[0].plot(xrange,sym.lambdify(x,fx)(xrange))\n",
    "    ax[1].plot(xrange,sym.lambdify(x,dfx)(xrange))\n",
    "    \n",
    "    \n",
    "    if 1 in critpnts:\n",
    "        display(Math('\\\\Rightarrow %s\\\\text{ has a critical point at x=1! Woohoo!!}' %sym.latex(fx)))\n",
    "    elif 2 in critpnts:\n",
    "        display(Math('\\\\Rightarrow %s\\\\text{ has a critical point at x=2! Woohoo!!}' %sym.latex(fx)))\n",
    "    else:\n",
    "        display(Math('\\\\quad %s\\\\text{ has NO critical point at x=2. :(}' %sym.latex(fx)))\n",
    "\n",
    "\n",
    "\n",
    "# some adjustments to the function plot\n",
    "ax[0].set_ylim([0,2])\n",
    "ax[0].set_title('Function')\n",
    "ax[0].plot([1,1],[0,2],'--',c='gray')\n",
    "ax[0].plot([2,2],[0,2],'--',c='gray')\n",
    "\n",
    "# adjustments to the derivative plot\n",
    "ax[1].set_ylim([-1.5,1.5])\n",
    "ax[1].plot(xrange[[0,-1]],[0,0],'--',c='gray')\n",
    "ax[1].plot([1,1],[-1.5,1.5],'--',c='gray')\n",
    "ax[1].plot([2,2],[-1.5,1.5],'--',c='gray')\n",
    "# ax[1].set_xlim([.5,2.5])\n",
    "ax[1].set_title('Its derivative')\n",
    "fig.set_size_inches(8,4)\n",
    "\n",
    "plt.show()"
   ]
  },
  {
   "cell_type": "markdown",
   "metadata": {},
   "source": [
    "# VIDEO: Partial derivatives"
   ]
  },
  {
   "cell_type": "code",
   "execution_count": null,
   "metadata": {},
   "outputs": [],
   "source": [
    "from sympy.abc import x,y\n",
    "\n",
    "f = x**2 + x*y**2\n",
    "\n",
    "display(Math('\\\\frac{\\\\partial f}{\\\\partial x} = %s' %sym.latex(sym.diff(f,x))))\n",
    "display(Math('\\\\frac{\\\\partial f}{\\\\partial y} = %s' %sym.latex(sym.diff(f,y))))"
   ]
  },
  {
   "cell_type": "markdown",
   "metadata": {},
   "source": [
    "### Exercise"
   ]
  },
  {
   "cell_type": "code",
   "execution_count": null,
   "metadata": {},
   "outputs": [],
   "source": [
    "p = sym.plotting.plot3d(f,(x,-3,3),title='$f(x,y)=%s$' %sym.latex(f))\n",
    "p = sym.plotting.plot3d(sym.diff(f,x),(x,-3,3),(y,-3,3),title='$f_x=%s$' %sym.latex(sym.diff(f,x)))\n",
    "p = sym.plotting.plot3d(sym.diff(f,y),(x,-3,3),(y,-3,3),title='$f_y=%s$' %sym.latex(sym.diff(f,y)))"
   ]
  },
  {
   "cell_type": "markdown",
   "metadata": {},
   "source": [
    "# VIDEO: Indefinite and definite integrals"
   ]
  },
  {
   "cell_type": "code",
   "execution_count": null,
   "metadata": {},
   "outputs": [],
   "source": [
    "x = sym.symbols('x')\n",
    "\n",
    "# a simple function\n",
    "f = x\n",
    "\n",
    "# indefinite integration\n",
    "sym.integrate(f) # notice no constant term"
   ]
  },
  {
   "cell_type": "code",
   "execution_count": null,
   "metadata": {},
   "outputs": [],
   "source": [
    "# definite integation (within bounds)\n",
    "sym.integrate(f,(x,0,1))"
   ]
  },
  {
   "cell_type": "code",
   "execution_count": null,
   "metadata": {},
   "outputs": [],
   "source": [
    "# plotting...\n",
    "\n",
    "lowbnd = 2 # add later\n",
    "\n",
    "f = x**3 / (x-lowbnd)\n",
    "intf = sym.integrate(f)\n",
    "p = sym.plotting.plot(f,show=False)\n",
    "p.extend( sym.plotting.plot(intf,(x,2.1,10),show=False,line_color='r') )\n",
    "\n",
    "p.xlim = [-10,10]\n",
    "p.ylim = [-200,200]\n",
    "\n",
    "p[0].label = '$f(x)$'\n",
    "p[1].label = '$\\\\int f(x)dx$'\n",
    "p.legend = True\n",
    "p.show()\n",
    "\n",
    "display(Math('f(x) = %s' %sym.latex(f)))\n",
    "display(Math('\\\\int f(x) dx = %s' %sym.latex(intf)))"
   ]
  },
  {
   "cell_type": "markdown",
   "metadata": {},
   "source": [
    "### Exercise"
   ]
  },
  {
   "cell_type": "code",
   "execution_count": null,
   "metadata": {},
   "outputs": [],
   "source": [
    "# show that the antiderivative (indefinite integral) of the derivative is the original function\n",
    "\n",
    "f = 2*x**3 + sym.sin(x)\n",
    "\n",
    "df = sym.diff(f)\n",
    "idf = sym.integrate(df)\n",
    "\n",
    "display(Math('f(x)=%s' %sym.latex(f)))\n",
    "display(Math('f\\'=%s' %sym.latex(df)))\n",
    "display(Math('\\\\int (f\\')dx=%s' %sym.latex(idf)))"
   ]
  },
  {
   "cell_type": "markdown",
   "metadata": {},
   "source": [
    "# VIDEO: Area between two curves"
   ]
  },
  {
   "cell_type": "code",
   "execution_count": null,
   "metadata": {},
   "outputs": [],
   "source": [
    "x = sym.symbols('x')\n",
    "\n",
    "symf = x**2\n",
    "symg = x\n",
    "\n",
    "f = sym.lambdify(x,symf)\n",
    "g = sym.lambdify(x,symg)\n",
    "\n",
    "xx = np.linspace(-2,2,40)\n",
    "\n",
    "plt.plot(xx,f(xx))\n",
    "plt.plot(xx,g(xx),'r')\n",
    "\n",
    "plt.legend(['$f(x)=%s$'%sym.latex(symf),'$g(x)=%s$'%sym.latex(symg)])\n",
    "plt.axis([-.25,1.25,-.5,1.5])\n",
    "plt.show()"
   ]
  },
  {
   "cell_type": "code",
   "execution_count": null,
   "metadata": {
    "scrolled": true
   },
   "outputs": [],
   "source": [
    "from matplotlib.patches import Polygon\n",
    "\n",
    "xinter = np.linspace(0,1,100)\n",
    "points = np.vstack((g(xinter),f(xinter))).T\n",
    "p = Polygon(points,facecolor='k',alpha=.3)\n",
    "\n",
    "fig, ax = plt.subplots()\n",
    "ax.add_patch(p)\n",
    "\n",
    "\n",
    "plt.plot(xx,f(xx))\n",
    "plt.plot(xx,g(xx),'r')\n",
    "\n",
    "plt.legend(['$f(x)=%s$'%sym.latex(symf),'$g(x)=%s$'%sym.latex(symg)])\n",
    "plt.axis([-.25,1.25,-.5,1.5])\n",
    "plt.show()"
   ]
  },
  {
   "cell_type": "markdown",
   "metadata": {},
   "source": [
    "### Exercise"
   ]
  },
  {
   "cell_type": "markdown",
   "metadata": {},
   "source": [
    "### Computing the area between two functions\n",
    "The area between two functions is given by the formula $A = \\int_{a}^{b}f(x) - g(x) dx$\n",
    "\n",
    "In our example, $f(x)=x^2$ and $g(x)=x$\n",
    "\n",
    "Therefore, $A = \\int_{a}^{b}(x^2 - x) dx$\n",
    "\n",
    "We will compute the area between the two crossing points, that is, where the two functions are equal. This is given by the two solutions to the equation\n",
    "$$x^2=x$$\n",
    "\n",
    "The two solutions are $x=0$ and $x=1$. This gives us the definite integral of\n",
    "$$A = \\int_{0}^{1}(x^2 - x) dx$$\n",
    "\n",
    "The final answer will be given in the code below."
   ]
  },
  {
   "cell_type": "code",
   "execution_count": null,
   "metadata": {},
   "outputs": [],
   "source": [
    "# find intersection points\n",
    "fg_intersect = sym.solve(symf-symg)\n",
    "display(Math('f(x)\\\\text{ and }g(x) \\\\text{ intersect at } x=%s,%s' %(fg_intersect[0],fg_intersect[1])))\n",
    "\n",
    "# compute area and print results!\n",
    "A = sym.integrate(symf-symg,(x,fg_intersect[0],fg_intersect[1]))\n",
    "display(Math('\\\\text{The area between the functions is } A = %s' %A))"
   ]
  },
  {
   "cell_type": "markdown",
   "metadata": {},
   "source": [
    "# VIDEO: Calculus BUG HUNT!!"
   ]
  },
  {
   "cell_type": "code",
   "execution_count": null,
   "metadata": {},
   "outputs": [],
   "source": [
    "# evaluate a function in a range\n",
    "from sympy.abc import x\n",
    "\n",
    "fx = (4*x**3 + 2*x**2 - x) / (-4*x**4 + 2*x**2)\n",
    "\n",
    "xrange = np.linspace(-2,2,200)\n",
    "fxx = sym.lambdify(x,fx)\n",
    "\n",
    "plt.plot(xrange,fxx(xrange))\n",
    "plt.ylim([-20,20])\n",
    "plt.xlim(xrange[[0,-1]])\n",
    "plt.show()"
   ]
  },
  {
   "cell_type": "code",
   "execution_count": null,
   "metadata": {},
   "outputs": [],
   "source": [
    "# compute the limit\n",
    "x = sym.symbols('x')\n",
    "fx = 1/(x+3)\n",
    "\n",
    "lim_pnt = -3\n",
    "lim = sym.limit(fx,x,lim_pnt,dir='+')\n",
    "\n",
    "display(Math('\\\\lim_{x\\\\to %g^+} %s = %s' %(lim_pnt,sym.latex(fx),sym.latex(lim))))\n",
    "p = sym.plotting.plot(fx,show=False)\n",
    "p.ylim = [-10,10]\n",
    "p.show()"
   ]
  },
  {
   "cell_type": "code",
   "execution_count": null,
   "metadata": {},
   "outputs": [],
   "source": [
    "# piece-wise function\n",
    "from sympy.abc import x\n",
    "\n",
    "piece1 = x**2\n",
    "piece2 = 4*sym.exp(-x**2)\n",
    "\n",
    "# put them together with conditions\n",
    "fx = sym.Piecewise( (piece1,x<0) , (piece2,x>=0) )\n",
    "\n",
    "# evaluate the function in a range\n",
    "xx = np.linspace(-2,2,1000)\n",
    "fxx = sym.lambdify(x,fx)\n",
    "\n",
    "# show it in a plot\n",
    "plt.plot(xx,fxx(xx),'k')\n",
    "\n",
    "plt.show()"
   ]
  },
  {
   "cell_type": "code",
   "execution_count": null,
   "metadata": {},
   "outputs": [],
   "source": [
    "# show the first and second derivatives of sin(x)\n",
    "x = np.linspace(-2*np.pi,2*np.pi,200)\n",
    "dt = np.diff(x[0:2])\n",
    "\n",
    "y = np.sin(x)\n",
    "dy = np.diff(y)\n",
    "ddy = np.diff(y,2)\n",
    "\n",
    "plt.plot(x,y,label='y')\n",
    "plt.plot(x[0:-1],dy/dt,'--',label='dy',alpha=.6)\n",
    "plt.plot(x[0:-2],ddy/dt**2,':',label='d$^2$y',alpha=.3)\n",
    "\n",
    "plt.legend(framealpha=1)\n",
    "plt.show()"
   ]
  },
  {
   "cell_type": "code",
   "execution_count": null,
   "metadata": {},
   "outputs": [],
   "source": [
    "# Compute critical points using sympy\n",
    "\n",
    "x = sym.symbols('x')\n",
    "fx = x**2 * sym.exp(-x**2)\n",
    "\n",
    "# derivative in sympy, solve\n",
    "dfx = sym.diff(fx,x)\n",
    "critpoints = sym.solve(dfx)\n",
    "print('The critical points are: ' + str(critpoints))\n",
    "\n",
    "\n",
    "# plot the function derivative and its critical points\n",
    "y = sym.lambdify(x,dfx)\n",
    "xx = np.linspace(-3,3,200)\n",
    "\n",
    "plt.plot(xx,y(xx))\n",
    "plt.plot([-3,3],[0,0],'k--')\n",
    "plt.xlim([-3,3])\n",
    "\n",
    "for i in critpoints:\n",
    "    plt.plot(i,0,'ro')\n",
    "\n",
    "plt.title('Function derivative')\n",
    "plt.show()"
   ]
  },
  {
   "cell_type": "code",
   "execution_count": null,
   "metadata": {},
   "outputs": [],
   "source": [
    "# Compute the area between two curves (not the same thing as Between Two Ferns)\n",
    "from matplotlib.patches import Polygon\n",
    "\n",
    "\n",
    "x = sym.symbols('x')\n",
    "f1sym = sym.cos(x)\n",
    "f2sym = x\n",
    "\n",
    "xx = np.linspace(0,np.pi/3,100)\n",
    "f1 = np.cos(xx)\n",
    "f2 = xx\n",
    "\n",
    "fintersect = np.argmin(abs(f1-f2))\n",
    "\n",
    "# compute area\n",
    "A = sym.integrate(f1sym-f2sym,(x,xx[0],xx[fintersect]))\n",
    "\n",
    "traceX = np.concatenate((xx[0:fintersect],xx[fintersect:0:-1]))\n",
    "traceY = np.concatenate((f1[0:fintersect],f2[fintersect:0:-1]))\n",
    "\n",
    "points = np.vstack((traceX,traceY)).T\n",
    "p = Polygon(points,facecolor='k',alpha=.3)\n",
    "\n",
    "fig, ax = plt.subplots()\n",
    "ax.add_patch(p)\n",
    "\n",
    "plt.plot(xx,f1, xx,f2)\n",
    "plt.title('The shaded area is %s' %A)\n",
    "plt.show()\n"
   ]
  }
 ],
 "metadata": {
  "kernelspec": {
   "display_name": "Python 3",
   "language": "python",
   "name": "python3"
  },
  "language_info": {
   "codemirror_mode": {
    "name": "ipython",
    "version": 3
   },
   "file_extension": ".py",
   "mimetype": "text/x-python",
   "name": "python",
   "nbconvert_exporter": "python",
   "pygments_lexer": "ipython3",
   "version": "3.7.4"
  }
 },
 "nbformat": 4,
 "nbformat_minor": 2
}
