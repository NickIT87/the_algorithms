{
 "cells": [
  {
   "cell_type": "code",
   "execution_count": null,
   "metadata": {},
   "outputs": [],
   "source": [
    "import numpy as np\n",
    "import matplotlib.pyplot as plt"
   ]
  },
  {
   "cell_type": "markdown",
   "metadata": {},
   "source": [
    "# Trigonometry BUG HUNT!"
   ]
  },
  {
   "cell_type": "code",
   "execution_count": null,
   "metadata": {},
   "outputs": [],
   "source": [
    "# plot a series of random numbers\n",
    "s = np.randn(100,1)\n",
    "plt.imshow(s)\n",
    "plt.show()"
   ]
  },
  {
   "cell_type": "code",
   "execution_count": null,
   "metadata": {},
   "outputs": [],
   "source": [
    "# create and image a matrix of random integers between (and including) 3 and 20\n",
    "\n",
    "mat = np.random.randint(3,20,30,20)\n",
    "\n",
    "plt.imshow(mat)\n",
    "plt.colorbar()\n",
    "plt.show()"
   ]
  },
  {
   "cell_type": "code",
   "execution_count": null,
   "metadata": {},
   "outputs": [],
   "source": [
    "# create 100 random phase angles [0,2pi] and show unit vectors with those angles\n",
    "\n",
    "n = 100\n",
    "\n",
    "randphases = np.random.rand(n)+2*pi\n",
    "\n",
    "for i in range(0,n):\n",
    "    plt.polar(randphases[i],1,'o',color=np.random.rand(3),markersize=20,alpha=.3)\n",
    "    \n",
    "plt.show()\n"
   ]
  },
  {
   "cell_type": "code",
   "execution_count": null,
   "metadata": {},
   "outputs": [],
   "source": [
    "# create an outwards spiral using phase angles and amplitudes\n",
    "\n",
    "n = 100\n",
    "a = np.linspace(0,1,n)\n",
    "p = np.linspace(0,4*np.pi,n)\n",
    "\n",
    "plt.plot(p,A);"
   ]
  },
  {
   "cell_type": "code",
   "execution_count": null,
   "metadata": {},
   "outputs": [],
   "source": [
    "# convert radians to degrees\n",
    "\n",
    "n = 10\n",
    "rad = np.logspace(np.log10(1),np.log10(360),n)\n",
    "\n",
    "print(np.rad2deg(rad))"
   ]
  },
  {
   "cell_type": "code",
   "execution_count": null,
   "metadata": {},
   "outputs": [],
   "source": [
    "# famous equality in trigonometry\n",
    "\n",
    "ang = np.logspace(np.log10(0),np.log10(2*np.pi),10)\n",
    "np.cos(ang)*2 + np.sin(ang)*2"
   ]
  },
  {
   "cell_type": "code",
   "execution_count": null,
   "metadata": {},
   "outputs": [],
   "source": [
    "# create euler's number\n",
    "p = np.pi/4\n",
    "m = .5\n",
    "\n",
    "eulr = 1j*np.exp(m*p)\n",
    "\n",
    "# now extract magnitude and phase\n",
    "mag = np.abs(eulr)\n",
    "ang = np.angle(eulr)\n",
    "\n",
    "# then plot\n",
    "plt.polar([0,mag],[0,ang],'b',linewidth=3)\n",
    "plt.show()"
   ]
  }
 ],
 "metadata": {
  "kernelspec": {
   "display_name": "Python 3",
   "language": "python",
   "name": "python3"
  },
  "language_info": {
   "codemirror_mode": {
    "name": "ipython",
    "version": 3
   },
   "file_extension": ".py",
   "mimetype": "text/x-python",
   "name": "python",
   "nbconvert_exporter": "python",
   "pygments_lexer": "ipython3",
   "version": "3.7.3"
  }
 },
 "nbformat": 4,
 "nbformat_minor": 2
}
