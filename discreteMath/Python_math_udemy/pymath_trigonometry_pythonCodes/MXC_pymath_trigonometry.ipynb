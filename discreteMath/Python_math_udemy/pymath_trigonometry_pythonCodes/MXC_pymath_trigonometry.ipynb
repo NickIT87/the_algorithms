{
 "cells": [
  {
   "cell_type": "markdown",
   "metadata": {},
   "source": [
    "# COURSE: Master math by coding in Python\n",
    "## SECTION: Trigonometry\n",
    "\n",
    "#### https://www.udemy.com/course/math-with-python/?couponCode=MXC-DISC4ALL\n",
    "#### INSTRUCTOR: sincxpress.com\n",
    "\n",
    "Note about this code: Each video in this section of the course corresponds to a section of code below. Please note that this code roughly matches the code shown in the live recording, but is not exactly the same -- the variable names, order of lines, and parameters may be slightly different. "
   ]
  },
  {
   "cell_type": "code",
   "execution_count": null,
   "metadata": {},
   "outputs": [],
   "source": []
  },
  {
   "cell_type": "code",
   "execution_count": null,
   "metadata": {},
   "outputs": [],
   "source": [
    "import sympy as sym\n",
    "import numpy as np\n",
    "import matplotlib.pyplot as plt\n",
    "from IPython.display import display,Math"
   ]
  },
  {
   "cell_type": "markdown",
   "metadata": {},
   "source": [
    "# VIDEO: Introduction to random numbers"
   ]
  },
  {
   "cell_type": "code",
   "execution_count": null,
   "metadata": {},
   "outputs": [],
   "source": [
    "# use the numpy module\n",
    "np.random.rand(1)"
   ]
  },
  {
   "cell_type": "code",
   "execution_count": null,
   "metadata": {},
   "outputs": [],
   "source": [
    "# make a plot of these numbers\n",
    "nums = np.random.rand(1000)\n",
    "\n",
    "plt.plot(nums,'s')\n",
    "plt.title('Uniformly distributed random numbers')\n",
    "plt.xlabel('Index')\n",
    "plt.ylabel('Value')\n",
    "plt.show()\n",
    "\n",
    "plt.hist(nums)\n",
    "plt.title('Histogram of said numbers')\n",
    "plt.xlabel('Value')\n",
    "plt.ylabel('Bin count')\n",
    "plt.show()"
   ]
  },
  {
   "cell_type": "code",
   "execution_count": null,
   "metadata": {},
   "outputs": [],
   "source": [
    "# generating random numbers in a specific range\n",
    "\n",
    "# parameters\n",
    "minval = 2\n",
    "maxval = 17\n",
    "\n",
    "# random numbers in range [0 1]\n",
    "randangs = np.random.rand(1000)\n",
    "\n",
    "# modulate those numbers to parameters\n",
    "randangs = randangs*(maxval-minval) + minval\n",
    "\n",
    "\n",
    "plt.plot(randangs,'s')\n",
    "plt.title('Uniformly distributed random numbers')\n",
    "plt.xlabel('Index')\n",
    "plt.ylabel('Value')\n",
    "plt.show()\n",
    "\n",
    "plt.hist(randangs)\n",
    "plt.title('Histogram of said numbers')\n",
    "plt.xlabel('Value')\n",
    "plt.ylabel('Bin count')\n",
    "plt.show()"
   ]
  },
  {
   "cell_type": "code",
   "execution_count": null,
   "metadata": {},
   "outputs": [],
   "source": [
    "# normally distributed random numbers\n",
    "nums = np.random.randn(1000)\n",
    "\n",
    "plt.subplot(211)\n",
    "plt.plot(nums,'s',markersize=5,alpha=.3)\n",
    "plt.title('Normally distributed random numbers')\n",
    "plt.xlabel('Index')\n",
    "plt.ylabel('Value')\n",
    "\n",
    "plt.subplot(212)\n",
    "plt.hist(nums)\n",
    "plt.title('Histogram of said numbers')\n",
    "plt.xlabel('Value')\n",
    "plt.ylabel('Bin count')\n",
    "plt.show()"
   ]
  },
  {
   "cell_type": "markdown",
   "metadata": {},
   "source": [
    "### Exercise"
   ]
  },
  {
   "cell_type": "code",
   "execution_count": null,
   "metadata": {},
   "outputs": [],
   "source": [
    "# generate normally distributed random numbers with a mean of 15 and a standard deviation of 4.3\n",
    "desired_mean = 15\n",
    "desired_std = 4.3\n",
    "\n",
    "nums = desired_mean + desired_std*np.random.randn(1000)\n",
    "\n",
    "plt.subplot(121)\n",
    "plt.plot(nums,'s')\n",
    "plt.xlabel('Index')\n",
    "plt.ylabel('Value')\n",
    "\n",
    "plt.subplot(122)\n",
    "plt.hist(nums)\n",
    "plt.xlabel('Value')\n",
    "plt.ylabel('Bin count')\n",
    "plt.show()\n",
    "\n",
    "print('This distribution has a mean of %g and a standard deviation of %g' %(np.mean(nums),np.std(nums)))\n"
   ]
  },
  {
   "cell_type": "code",
   "execution_count": null,
   "metadata": {},
   "outputs": [],
   "source": [
    "# to be more exact:\n",
    "\n",
    "# generate normal random numbers\n",
    "nums = np.random.randn(1000)\n",
    "\n",
    "# enforce mean of 0\n",
    "nums = nums - np.mean(nums)\n",
    "\n",
    "# enforce std of 1\n",
    "nums = nums/np.std(nums)\n",
    "\n",
    "nums = nums*desired_std + desired_mean\n",
    "\n",
    "\n",
    "\n",
    "plt.subplot(121)\n",
    "plt.plot(nums,'s')\n",
    "plt.xlabel('Index')\n",
    "plt.ylabel('Value')\n",
    "\n",
    "plt.subplot(122)\n",
    "plt.hist(nums)\n",
    "plt.xlabel('Value')\n",
    "plt.ylabel('Bin count')\n",
    "plt.show()\n",
    "\n",
    "print('This distribution has a mean of %g and a standard deviation of %g' %(np.mean(nums),np.std(nums)))\n"
   ]
  },
  {
   "cell_type": "markdown",
   "metadata": {},
   "source": [
    "# VIDEO: Exercise: Plotting random phase angles"
   ]
  },
  {
   "cell_type": "code",
   "execution_count": null,
   "metadata": {},
   "outputs": [],
   "source": [
    "\n",
    "angs = np.random.randn(100) # not this one!\n",
    "angs = np.random.rand(100)*2*np.pi\n",
    "\n",
    "for i in angs:\n",
    "    plt.plot([0,np.cos(i)],[0,np.sin(i)])\n",
    "\n",
    "plt.axis('square')\n",
    "plt.axis([-1,1,-1,1])\n",
    "plt.axis('off')\n",
    "plt.show()"
   ]
  },
  {
   "cell_type": "markdown",
   "metadata": {},
   "source": [
    "# VIDEO: Converting between radians and degrees"
   ]
  },
  {
   "cell_type": "code",
   "execution_count": null,
   "metadata": {},
   "outputs": [],
   "source": [
    "# the \"manual\" method, part 1: implement the formula!\n",
    "\n",
    "# specify in degrees\n",
    "deg = 180\n",
    "\n",
    "# print the conversion (note that the algorithm is implemented in-line!)\n",
    "print( \"%g degrees is %g radians.\" %(deg,deg*np.pi/180) )"
   ]
  },
  {
   "cell_type": "code",
   "execution_count": null,
   "metadata": {},
   "outputs": [],
   "source": [
    "# the \"manual\" method, part 2: implement the formula!\n",
    "\n",
    "# specify in radians\n",
    "rad = np.pi\n",
    "\n",
    "# print the conversion (note that the algorithm is implemented in-line!)\n",
    "print( \"%g radians is %g degrees.\" %(rad,180*rad/np.pi) )"
   ]
  },
  {
   "cell_type": "code",
   "execution_count": null,
   "metadata": {},
   "outputs": [],
   "source": [
    "# but the above implementations are not completely satisfactory, because angles are circular (e.g., 2pi = 0)\n",
    "\n",
    "rad = np.pi*3\n",
    "\n",
    "deg = (180*rad/np.pi)%360\n",
    "\n",
    "print( \"%g radians is %g degrees.\" %(rad,deg) )"
   ]
  },
  {
   "cell_type": "code",
   "execution_count": null,
   "metadata": {},
   "outputs": [],
   "source": [
    "# or use a Python function\n",
    "\n",
    "deg = 180*4\n",
    "np.deg2rad(deg)"
   ]
  },
  {
   "cell_type": "code",
   "execution_count": null,
   "metadata": {},
   "outputs": [],
   "source": [
    "# some silliness with embedding functions inside functions\n",
    "\n",
    "np.rad2deg( np.deg2rad(180) )"
   ]
  },
  {
   "cell_type": "markdown",
   "metadata": {},
   "source": [
    "### Exercise"
   ]
  },
  {
   "cell_type": "code",
   "execution_count": null,
   "metadata": {},
   "outputs": [],
   "source": [
    "# make a function that asks for a number and unit, then converts and makes a plot\n",
    "def angle_convert_plot():\n",
    "    \n",
    "    # input from user\n",
    "    angle = eval(input('What angle to convert? ') )\n",
    "    unit  = input('Which unit did you input (radian or degree)? ')\n",
    "    \n",
    "    # do the conversion\n",
    "    if unit[0].lower()=='r':\n",
    "        rad = angle\n",
    "        deg = np.rad2deg(angle)\n",
    "    elif unit[0].lower()=='d':\n",
    "        deg = angle\n",
    "        rad = np.deg2rad(angle)\n",
    "    else:\n",
    "        raise ValueError('Unknown unit!')\n",
    "    \n",
    "    # convert to <360\n",
    "    deg = deg%360\n",
    "    rad = rad%(2*np.pi)\n",
    "    \n",
    "    # make the graph\n",
    "    plt.plot([0,np.cos(rad)],[0,np.sin(rad)],'r',linewidth=3)\n",
    "    plt.plot([0,1],[0,0],'r',linewidth=3)\n",
    "    plt.axis('square')\n",
    "    plt.axis([-1,1,-1,1])\n",
    "    plt.grid()\n",
    "    plt.title('Angle of %g$^o$, or %g rad.' %(deg,rad))\n",
    "    \n",
    "    plt.show()\n"
   ]
  },
  {
   "cell_type": "code",
   "execution_count": null,
   "metadata": {},
   "outputs": [],
   "source": [
    "angle_convert_plot()"
   ]
  },
  {
   "cell_type": "markdown",
   "metadata": {},
   "source": [
    "# VIDEO: The Pythagorean theorem"
   ]
  },
  {
   "cell_type": "code",
   "execution_count": null,
   "metadata": {},
   "outputs": [],
   "source": [
    "a = 8\n",
    "b = 4\n",
    "\n",
    "# compute c\n",
    "c = np.sqrt(a**2 + b**2)\n",
    "\n",
    "# draw the triangle\n",
    "plt.plot([0,a],[0,0],'k',linewidth=2)\n",
    "plt.plot([0,0],[0,b],'k')\n",
    "plt.plot([0,a],[b,0],'k')\n",
    "\n",
    "# plot right-angle\n",
    "plt.plot([.3,.3],[0,.3],'k',linewidth=1)\n",
    "plt.plot([0,.3],[.3,.3],'k',linewidth=1)\n",
    "\n",
    "plt.text(a/3,.25,'a='+str(a),fontsize=15)\n",
    "plt.text(.1,b/3,'b='+str(b),fontsize=15)\n",
    "plt.text(a/2+.1,b/2,'c='+str(np.round(c,3)),fontsize=15)\n",
    "\n",
    "axlim = np.max((a,b))+.5\n",
    "plt.axis('square')\n",
    "plt.axis([-.5,axlim,-.5,axlim])\n",
    "plt.axis('off')\n",
    "plt.show()"
   ]
  },
  {
   "cell_type": "markdown",
   "metadata": {},
   "source": [
    "### Exercise"
   ]
  },
  {
   "cell_type": "code",
   "execution_count": null,
   "metadata": {},
   "outputs": [],
   "source": [
    "# compute magnitude and angle of complex number\n",
    "\n",
    "z = np.complex(3,4)\n",
    "\n",
    "mag1 = np.sqrt( np.real(z)**2 + np.imag(z)**2 )\n",
    "mag2 = np.abs(z)\n",
    "print(mag1,mag2)\n"
   ]
  },
  {
   "cell_type": "code",
   "execution_count": null,
   "metadata": {},
   "outputs": [],
   "source": [
    "ang1 = np.arctan2(np.imag(z),np.real(z))\n",
    "ang2 = np.angle(z)\n",
    "\n",
    "print(ang1,ang2)"
   ]
  },
  {
   "cell_type": "markdown",
   "metadata": {},
   "source": [
    "# VIDEO: Graphing resolution for sine, cosine, and tangent"
   ]
  },
  {
   "cell_type": "code",
   "execution_count": null,
   "metadata": {},
   "outputs": [],
   "source": [
    "# specify the radians (\"time\")\n",
    "\n",
    "x = np.linspace(0,6*np.pi,400)\n",
    "\n",
    "plt.plot(x,np.sin(x),'r',label='$\\sin(\\\\theta)$')\n",
    "plt.plot(x,np.cos(x),'b',label='$\\cos(\\\\theta)$')\n",
    "plt.legend()\n",
    "plt.xlabel('Radians ($\\pi$)')\n",
    "plt.ylabel('Function value')\n",
    "plt.show()"
   ]
  },
  {
   "cell_type": "code",
   "execution_count": null,
   "metadata": {},
   "outputs": [],
   "source": [
    "# plot tangent\n",
    "\n",
    "x = np.linspace(0,4*np.pi,100)\n",
    "\n",
    "plt.plot(x,np.tan(x),'k',label='$\\\\tan(\\\\theta)$')\n",
    "plt.legend()\n",
    "plt.xlabel('Rad.')\n",
    "plt.xticks(np.arange(x[0],x[-1],np.pi/2))\n",
    "plt.ylabel('Function value')\n",
    "plt.show()"
   ]
  },
  {
   "cell_type": "code",
   "execution_count": null,
   "metadata": {},
   "outputs": [],
   "source": [
    "# illustrate that tan = sin/cos\n",
    "\n",
    "ang = np.random.rand(1)[0]*2*np.pi\n",
    "\n",
    "tan = np.tan(ang)\n",
    "sc  = np.sin(ang) / np.cos(ang)\n",
    "\n",
    "print( sc - tan )"
   ]
  },
  {
   "cell_type": "code",
   "execution_count": null,
   "metadata": {},
   "outputs": [],
   "source": [
    "# famous equality in trigonometry\n",
    "\n",
    "ang = np.linspace(0,2*np.pi,10)\n",
    "\n",
    "np.cos(ang)**2 + np.sin(ang)**2"
   ]
  },
  {
   "cell_type": "markdown",
   "metadata": {},
   "source": [
    "### Exercise"
   ]
  },
  {
   "cell_type": "code",
   "execution_count": null,
   "metadata": {},
   "outputs": [],
   "source": [
    "\n",
    "x = np.linspace(-2*np.pi,2*np.pi,200)\n",
    "\n",
    "y1 = np.sin(x + np.cos(x))\n",
    "y2 = np.cos(x + np.sin(x))\n",
    "\n",
    "plt.plot(x,y1,x,y2)\n",
    "plt.legend(['$\\sin(x+\\cos(x))$','cos(x+sin(x))'])\n",
    "plt.show()\n"
   ]
  },
  {
   "cell_type": "code",
   "execution_count": null,
   "metadata": {},
   "outputs": [],
   "source": [
    "\n",
    "th = sym.pi*7/6\n",
    "theta = float(th)\n",
    "\n",
    "x = np.linspace(0,theta%(2*np.pi),100)\n",
    "\n",
    "# plot unit circle\n",
    "plt.plot(np.cos(np.linspace(0,2*np.pi)),np.sin(np.linspace(0,2*np.pi)),color='gray')\n",
    "plt.plot([-1.1,1.1],[0,0],'--',color=[.8,.8,.8])\n",
    "plt.plot([0,0],[-1.1,1.1],'--',color=[.8,.8,.8])\n",
    "\n",
    "# plot arc\n",
    "plt.plot(np.cos(x),np.sin(x),'k',linewidth=3)\n",
    "\n",
    "# plot vector to point\n",
    "plt.plot([0,np.cos(theta)],[0,np.sin(theta)],'k:',linewidth=1)\n",
    "plt.plot(np.cos(theta),np.sin(theta),'ko')\n",
    "\n",
    "# plot cosine part\n",
    "plt.plot([0,0],[0,np.sin(theta)],'r',linewidth=2,label='sin part')\n",
    "plt.plot([np.cos(theta),0],[np.sin(theta),np.sin(theta)],'r:',linewidth=1)\n",
    "plt.plot([np.cos(theta),0],[0,0],'g',linewidth=2,label='cos part')\n",
    "plt.plot([np.cos(theta),np.cos(theta)],[0,np.sin(theta)],'g:',linewidth=1)\n",
    "\n",
    "plt.title('$\\\\theta=%s$' %sym.latex(th))\n",
    "plt.axis([-1.1,1.1,-1.1,1.1])\n",
    "plt.gca().set_aspect('equal')\n",
    "plt.legend()\n",
    "plt.show()"
   ]
  },
  {
   "cell_type": "markdown",
   "metadata": {},
   "source": [
    "# VIDEO: Euler's formula"
   ]
  },
  {
   "cell_type": "code",
   "execution_count": null,
   "metadata": {},
   "outputs": [],
   "source": [
    "# Euler's formula: me^ik = cos(k)+isin(k)\n",
    "\n",
    "# create euler's number\n",
    "k = np.pi/4\n",
    "m = 2.3\n",
    "\n",
    "cis = m*(np.cos(k) + 1j*np.sin(k))\n",
    "eul = m*np.exp(1j*k)\n",
    "\n",
    "print(cis)\n",
    "print(eul)"
   ]
  },
  {
   "cell_type": "code",
   "execution_count": null,
   "metadata": {},
   "outputs": [],
   "source": [
    "# now extract magnitude and phase\n",
    "mag = np.abs(eul)\n",
    "ang = np.angle(eul)\n",
    "\n",
    "# then plot\n",
    "plt.polar([0,ang],[0,mag],'b',linewidth=3)\n",
    "# plt.plot(k,m,'ro')\n",
    "\n",
    "plt.xlabel('Cos axis'), plt.ylabel('Sin axis')\n",
    "plt.title('me$^{i\\phi}$, m=%g, $\\phi=$%g' %(mag,ang))\n",
    "plt.show()"
   ]
  },
  {
   "cell_type": "markdown",
   "metadata": {},
   "source": [
    "### Exercise"
   ]
  },
  {
   "cell_type": "code",
   "execution_count": null,
   "metadata": {},
   "outputs": [],
   "source": [
    "# write a function that will input a cosine/sine pair and output euler's formula with aa graph\n",
    "\n",
    "def eulerFromCosSin():\n",
    "    \n",
    "    re = eval( input('cosine part: ') )\n",
    "    im = eval( input('sine part: ') )\n",
    "    \n",
    "    m = np.round( np.sqrt(re**2 + im**2) ,2)\n",
    "    k = np.round( np.arctan2(im,re) ,2)\n",
    "    \n",
    "    plt.polar([0,k],[0,m],'b',linewidth=3)\n",
    "    plt.title('me$^{i\\phi}$, m=%g, $\\phi=$%g' %(m,np.round(k,2)))\n",
    "    plt.thetagrids([0,45,130,215,250])\n",
    "    plt.show()\n",
    "    "
   ]
  },
  {
   "cell_type": "code",
   "execution_count": null,
   "metadata": {},
   "outputs": [],
   "source": [
    "eulerFromCosSin()"
   ]
  },
  {
   "cell_type": "markdown",
   "metadata": {},
   "source": [
    "# VIDEO: Exercise: Random exploding Euler"
   ]
  },
  {
   "cell_type": "code",
   "execution_count": null,
   "metadata": {},
   "outputs": [],
   "source": [
    "nvects = 200\n",
    "ms = np.random.rand(nvects)\n",
    "ps = np.random.rand(nvects)*2*np.pi\n",
    "\n",
    "for i in range(0,nvects):\n",
    "    \n",
    "    randnum = np.random.rand()\n",
    "    \n",
    "    if randnum<.4:\n",
    "        color = [1,.2,.7]\n",
    "    elif randnum>.4 and randnum<.8:\n",
    "        color = [.7,.2,1]\n",
    "    else:\n",
    "        color = [0,1,0]\n",
    "        \n",
    "    plt.polar([0,ps[i]],[0,ms[i]],color=color)\n",
    "        \n",
    "        \n",
    "plt.axis('off')\n",
    "plt.show()\n"
   ]
  },
  {
   "cell_type": "markdown",
   "metadata": {},
   "source": [
    "# VIDEO: Exercise: make random snakes with trigonometry!"
   ]
  },
  {
   "cell_type": "code",
   "execution_count": null,
   "metadata": {},
   "outputs": [],
   "source": [
    "angs = np.linspace(0,8*np.pi,1000)\n",
    "\n",
    "cs = np.random.rand()\n",
    "ss = np.random.rand()\n",
    "\n",
    "x = np.cos(cs*angs)\n",
    "y = np.sin(ss*angs)\n",
    "\n",
    "# x = np.append(x,x[0])\n",
    "# y = np.append(y,y[0])\n",
    "\n",
    "plt.plot(x,y,'k')\n",
    "plt.axis('square')\n",
    "plt.axis([-1.1,1.1,-1.1,1.1])\n",
    "plt.title('r$_1$ = %s, r$_2$ = %s' %(np.round(cs,2),np.round(ss,2)))\n",
    "plt.axis('off')\n",
    "plt.show()"
   ]
  },
  {
   "cell_type": "markdown",
   "metadata": {},
   "source": [
    "# VIDEO: Trigonometry BUG HUNT!"
   ]
  },
  {
   "cell_type": "code",
   "execution_count": null,
   "metadata": {},
   "outputs": [],
   "source": [
    "# plot a series of random numbers\n",
    "s = np.random.randn(100,1)\n",
    "plt.plot(s)\n",
    "plt.show()"
   ]
  },
  {
   "cell_type": "code",
   "execution_count": null,
   "metadata": {},
   "outputs": [],
   "source": [
    "# create and image a matrix of random integers between (and including) 3 and 20\n",
    "\n",
    "mat = np.random.randint(3,21,(30,20))\n",
    "\n",
    "plt.imshow(mat)\n",
    "plt.colorbar()\n",
    "plt.show()\n",
    "print(np.max(mat))"
   ]
  },
  {
   "cell_type": "code",
   "execution_count": null,
   "metadata": {},
   "outputs": [],
   "source": [
    "# create 100 random phase angles [0,2pi] and show unit vectors with those angles\n",
    "\n",
    "n = 100\n",
    "\n",
    "randphases = np.random.rand(n)*2*np.pi\n",
    "\n",
    "for i in range(0,n):\n",
    "    plt.polar([0,randphases[i]],[0,1],'o-',color=np.random.rand(3),markersize=20,alpha=.3)\n",
    "    \n",
    "plt.show()\n"
   ]
  },
  {
   "cell_type": "code",
   "execution_count": null,
   "metadata": {},
   "outputs": [],
   "source": [
    "# create an outwards spiral using phase angles and amplitudes\n",
    "\n",
    "n = 100\n",
    "a = np.linspace(0,1,n)\n",
    "p = np.linspace(0,4*np.pi,n)\n",
    "\n",
    "plt.polar(p,a,'m',linewidth=3)\n",
    "plt.axis('off')\n",
    "plt.show()"
   ]
  },
  {
   "cell_type": "code",
   "execution_count": null,
   "metadata": {},
   "outputs": [],
   "source": [
    "# convert radians to degrees\n",
    "\n",
    "n = 10\n",
    "rad = np.logspace(np.log10(.001),np.log10(np.pi*2),n)\n",
    "\n",
    "print(np.rad2deg(rad))"
   ]
  },
  {
   "cell_type": "code",
   "execution_count": null,
   "metadata": {},
   "outputs": [],
   "source": [
    "# famous equality in trigonometry\n",
    "\n",
    "ang = np.logspace(np.log10(.001),np.log10(2*np.pi),10)\n",
    "np.cos(ang)**2 + np.sin(ang)**2"
   ]
  },
  {
   "cell_type": "code",
   "execution_count": null,
   "metadata": {},
   "outputs": [],
   "source": [
    "# create euler's number\n",
    "p = np.pi/4\n",
    "m = .5\n",
    "\n",
    "eulr = m*np.exp(1j*p)\n",
    "\n",
    "# now extract magnitude and phase\n",
    "mag = np.abs(eulr)\n",
    "ang = np.angle(eulr)\n",
    "\n",
    "# then plot\n",
    "plt.polar([0,ang],[0,mag],'b',linewidth=3)\n",
    "plt.show()"
   ]
  }
 ],
 "metadata": {
  "kernelspec": {
   "display_name": "Python 3",
   "language": "python",
   "name": "python3"
  },
  "language_info": {
   "codemirror_mode": {
    "name": "ipython",
    "version": 3
   },
   "file_extension": ".py",
   "mimetype": "text/x-python",
   "name": "python",
   "nbconvert_exporter": "python",
   "pygments_lexer": "ipython3",
   "version": "3.7.3"
  }
 },
 "nbformat": 4,
 "nbformat_minor": 2
}
