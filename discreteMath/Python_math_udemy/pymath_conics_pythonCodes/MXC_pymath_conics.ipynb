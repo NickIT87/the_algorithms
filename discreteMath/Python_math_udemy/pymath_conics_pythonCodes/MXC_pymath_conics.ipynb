{
 "cells": [
  {
   "cell_type": "markdown",
   "metadata": {},
   "source": [
    "# COURSE: Master math by coding in Python\n",
    "## SECTION: Grahping conic sections\n",
    "\n",
    "#### https://www.udemy.com/course/math-with-python/?couponCode=MXC-DISC4ALL\n",
    "#### INSTRUCTOR: sincxpress.com\n",
    "\n",
    "Note about this code: Each video in this section of the course corresponds to a section of code below. Please note that this code roughly matches the code shown in the live recording, but is not exactly the same -- the variable names, order of lines, and parameters may be slightly different. "
   ]
  },
  {
   "cell_type": "code",
   "execution_count": null,
   "metadata": {},
   "outputs": [],
   "source": []
  },
  {
   "cell_type": "code",
   "execution_count": null,
   "metadata": {},
   "outputs": [],
   "source": [
    "import numpy as np\n",
    "import sympy as sym\n",
    "import matplotlib.pyplot as plt"
   ]
  },
  {
   "cell_type": "markdown",
   "metadata": {},
   "source": [
    "# VIDEO: Graphing parabolas"
   ]
  },
  {
   "cell_type": "code",
   "execution_count": null,
   "metadata": {},
   "outputs": [],
   "source": [
    "# parameters\n",
    "n = 100\n",
    "a = 1\n",
    "h = 1\n",
    "k = -2\n",
    "\n",
    "# x-axis points to evaluate the function\n",
    "x = np.linspace(-2,4,n)\n",
    "\n",
    "# create the function\n",
    "y = a*(x-h)**2 + k\n",
    "\n",
    "# and plot it!\n",
    "plt.plot(x,y)\n",
    "plt.grid()\n",
    "plt.axis('square')\n",
    "plt.show()\n"
   ]
  },
  {
   "cell_type": "code",
   "execution_count": null,
   "metadata": {},
   "outputs": [],
   "source": [
    "# parameters\n",
    "n = 100\n",
    "a = 1\n",
    "h = 1\n",
    "k = -2\n",
    "\n",
    "# x-axis points to evaluate the function\n",
    "x = np.linspace(-2,4,n)\n",
    "\n",
    "# create the function\n",
    "y = a*(x-h)**2 + k\n",
    "\n",
    "# and plot it!\n",
    "plt.plot(y,x)\n",
    "\n",
    "plt.grid()\n",
    "plt.axis('square')\n",
    "plt.show()\n"
   ]
  },
  {
   "cell_type": "markdown",
   "metadata": {},
   "source": [
    "### Exercise"
   ]
  },
  {
   "cell_type": "code",
   "execution_count": null,
   "metadata": {},
   "outputs": [],
   "source": [
    "# draw the vertex, focus, and directrix\n",
    "\n",
    "x = np.linspace(-6,6,40)\n",
    "y = (x-2)**2/2 + 1\n",
    "\n",
    "# 1) convert to standard parabola equation\n",
    "# 4*p*(y-k) = (x-h)**2\n",
    "# 2) write standard equation\n",
    "h = 2\n",
    "k = 1\n",
    "p = 1/2 # 2=4p\n",
    "\n",
    "\n",
    "# plot the parabola\n",
    "plt.plot(x,y,label='Parabola')\n",
    "\n",
    "# plot the vertex\n",
    "plt.plot(h,k,'ro',label='Vertex')\n",
    "\n",
    "# plot the focus\n",
    "plt.plot(h,k+p,'go',label='focus')\n",
    "\n",
    "# plot the directrix\n",
    "d = k-p\n",
    "plt.plot(x[[0,-1]],[d,d],label='directrix')\n",
    "\n",
    "plt.legend()\n",
    "plt.axis('square')\n",
    "plt.axis([x[0],x[-1],d-.5,10])\n",
    "plt.grid()\n",
    "plt.show()"
   ]
  },
  {
   "cell_type": "markdown",
   "metadata": {},
   "source": [
    "# VIDEO: Creating contours from meshes in Python"
   ]
  },
  {
   "cell_type": "code",
   "execution_count": null,
   "metadata": {},
   "outputs": [],
   "source": [
    "X,Y = np.meshgrid(range(0,10),range(0,15))\n",
    "\n",
    "plt.subplot(121)\n",
    "plt.pcolormesh(X,edgecolors='k',linewidth=.1)\n",
    "# plt.gca().set_aspect('equal')\n",
    "plt.title('X')\n",
    "\n",
    "plt.subplot(122)\n",
    "plt.pcolormesh(Y,edgecolors='k',linewidth=.1)\n",
    "plt.gca().set_aspect('equal')\n",
    "plt.title('Y')\n",
    "\n",
    "plt.show()"
   ]
  },
  {
   "cell_type": "code",
   "execution_count": null,
   "metadata": {
    "scrolled": true
   },
   "outputs": [],
   "source": [
    "x = np.linspace(0,2*np.pi,50)\n",
    "y = np.linspace(0,4*np.pi,50)\n",
    "\n",
    "X,Y = np.meshgrid(x,y)\n",
    "\n",
    "F = np.cos(X) + np.sin(Y)\n",
    "plt.imshow(F,extent=[x[0],x[-1],y[0],y[-1]])\n",
    "plt.show()"
   ]
  },
  {
   "cell_type": "markdown",
   "metadata": {},
   "source": [
    "### Exercise"
   ]
  },
  {
   "cell_type": "code",
   "execution_count": null,
   "metadata": {},
   "outputs": [],
   "source": [
    "# Make a gaussian\n",
    "x = np.linspace(-2,2,100)\n",
    "s = 2\n",
    "\n",
    "# create the gaussian\n",
    "X,Y = np.meshgrid(x,x)\n",
    "gauss2d = np.exp( -(X**2+Y**2)/s )\n",
    "\n",
    "# and plot\n",
    "plt.imshow(gauss2d,extent=[x[0],x[-1],x[0],x[-1]])\n",
    "plt.axis('off')\n",
    "plt.show()"
   ]
  },
  {
   "cell_type": "markdown",
   "metadata": {},
   "source": [
    "# VIDEO: Graphing circles"
   ]
  },
  {
   "cell_type": "code",
   "execution_count": null,
   "metadata": {},
   "outputs": [],
   "source": [
    "# circle parameters\n",
    "a = 2\n",
    "b = -3\n",
    "r = 3\n",
    "\n",
    "# grid space\n",
    "axlim = r + np.max((abs(a),abs(b)))\n",
    "x = np.linspace(-axlim,axlim,100)\n",
    "y = np.linspace(-axlim,axlim,100)\n",
    "X,Y = np.meshgrid(x,y)\n",
    "\n",
    "# create the function\n",
    "Fxy = (X-a)**2 + (Y-b)**2 - r**2\n",
    "\n",
    "# draw it as a contour\n",
    "plt.contour(X,Y,Fxy,0)\n",
    "\n",
    "# draw a dot in the center\n",
    "plt.plot(a,b,'go')\n",
    "\n",
    "# draw guide lines\n",
    "plt.plot([-axlim,axlim],[0,0],'k--')\n",
    "plt.plot([0,0],[-axlim,axlim],'k--')\n",
    "\n",
    "plt.gca().set_aspect('equal')\n",
    "plt.show()"
   ]
  },
  {
   "cell_type": "markdown",
   "metadata": {},
   "source": [
    "### Exercise"
   ]
  },
  {
   "cell_type": "code",
   "execution_count": null,
   "metadata": {},
   "outputs": [],
   "source": [
    "# circle parameters\n",
    "a = [-1.5,1.5]\n",
    "\n",
    "# grid space\n",
    "axlim = 5\n",
    "x = np.linspace(-axlim,axlim,100)\n",
    "y = np.linspace(-axlim,axlim,100)\n",
    "X,Y = np.meshgrid(x,y)\n",
    "\n",
    "for r in np.linspace(.5,3,15):\n",
    "    for ai in a:\n",
    "        Fxy = (X-ai)**2 + Y**2 - r**2\n",
    "        plt.contour(X,Y,Fxy,0,colors=[(r/3,r/3,r/3)])\n",
    "    \n",
    "plt.gca().set_aspect('equal')\n",
    "plt.plot(a,[0,0],'k',linewidth=3)\n",
    "plt.axis('off')\n",
    "plt.show()"
   ]
  },
  {
   "cell_type": "markdown",
   "metadata": {},
   "source": [
    "# VIDEO: Graphing ellipses"
   ]
  },
  {
   "cell_type": "code",
   "execution_count": null,
   "metadata": {},
   "outputs": [],
   "source": [
    "# parameters\n",
    "a = 2\n",
    "b = 3\n",
    "h = 1\n",
    "k = 2\n",
    "\n",
    "# grid space\n",
    "axlim = np.max((a,b)) + np.max((abs(h),abs(k)))\n",
    "x = np.linspace(-axlim,axlim,100)\n",
    "y = np.linspace(-axlim,axlim,100)\n",
    "X,Y = np.meshgrid(x,y)\n",
    "\n",
    "# create the function\n",
    "Fxy = (X-h)**2/a**2 + (Y-k)**2/b**2 - 1\n",
    "\n",
    "# draw it as a contour\n",
    "plt.contour(X,Y,Fxy,0)\n",
    "\n",
    "# draw a dot in the center\n",
    "plt.plot(h,k,'go')\n",
    "\n",
    "# draw guide lines\n",
    "plt.plot([-axlim,axlim],[0,0],'--',color=[.8,.8,.8])\n",
    "plt.plot([0,0],[-axlim,axlim],'k--',color=[.8,.8,.8]) # color overwrites k\n",
    "\n",
    "plt.gca().set_aspect('equal')\n",
    "plt.show()"
   ]
  },
  {
   "cell_type": "markdown",
   "metadata": {},
   "source": [
    "### Exercise"
   ]
  },
  {
   "cell_type": "code",
   "execution_count": null,
   "metadata": {},
   "outputs": [],
   "source": [
    "# parameters\n",
    "n = 16\n",
    "a = abs(np.linspace(4,-4,n))\n",
    "b = 4\n",
    "h = 0\n",
    "k = np.linspace(-4,4,n)\n",
    "\n",
    "# grid space\n",
    "axlim = 8\n",
    "x = np.linspace(-axlim,axlim,100)\n",
    "y = np.linspace(-axlim,axlim,100)\n",
    "X,Y = np.meshgrid(x,y)\n",
    "\n",
    "for i in range(0,n):\n",
    "    Fxy = (X-h)**2/a[i]**2 + (Y-k[i])**2/b**2 - 1\n",
    "    plt.contour(X,Y,Fxy,0,colors=[(i/n,0,i/n)])\n",
    "\n",
    "\n",
    "plt.gca().set_aspect('equal')\n",
    "plt.axis('off')\n",
    "plt.show()"
   ]
  },
  {
   "cell_type": "markdown",
   "metadata": {},
   "source": [
    "# VIDEO: Graphing hyperbolas"
   ]
  },
  {
   "cell_type": "code",
   "execution_count": null,
   "metadata": {},
   "outputs": [],
   "source": [
    "# parameters\n",
    "a = 1\n",
    "b = .5\n",
    "h = 1\n",
    "k = 2\n",
    "\n",
    "# grid space\n",
    "axlim = 2* (np.max((a,b)) + np.max((abs(h),abs(k))))\n",
    "x = np.linspace(-axlim,axlim,100)\n",
    "X,Y = np.meshgrid(x,x)\n",
    "\n",
    "# create the function\n",
    "Fxy = (X-h)**2/a**2 - (Y-k)**2/b**2 - 1\n",
    "\n",
    "# draw it as a contour\n",
    "plt.contour(X,Y,Fxy,0)\n",
    "\n",
    "# draw a dot in the center\n",
    "plt.plot(h,k,'go')\n",
    "\n",
    "# draw guide lines\n",
    "plt.plot([-axlim,axlim],[0,0],'--',color=[.8,.8,.8])\n",
    "plt.plot([0,0],[-axlim,axlim],'k--',color=[.8,.8,.8]) # color overwrites k\n",
    "\n",
    "plt.gca().set_aspect('equal')\n",
    "plt.show()"
   ]
  },
  {
   "cell_type": "markdown",
   "metadata": {},
   "source": [
    "### Exercise"
   ]
  },
  {
   "cell_type": "code",
   "execution_count": null,
   "metadata": {},
   "outputs": [],
   "source": [
    "# parameters\n",
    "n = 16\n",
    "a = np.linspace(1,5,n)\n",
    "b = np.linspace(1,5,n)\n",
    "\n",
    "# grid space\n",
    "axlim = 8\n",
    "x = np.linspace(-axlim,axlim,100)\n",
    "y = np.linspace(-axlim,axlim,100)\n",
    "X,Y = np.meshgrid(x,y)\n",
    "\n",
    "for i in range(0,n):\n",
    "    Fxy = X**2/a[i]**2 - Y**2/b[i]**2 - 1\n",
    "    plt.contour(X,Y,Fxy,0,colors=[(i/n,0,i/n)])\n",
    "\n",
    "    Fxy = -X**2/a[i]**2 + Y**2/b[i]**2 - 1\n",
    "    plt.contour(X,Y,Fxy,0,colors=[(0,i/n,i/n)])\n",
    "\n",
    "plt.gca().set_aspect('equal')\n",
    "plt.axis('off')\n",
    "plt.show()"
   ]
  },
  {
   "cell_type": "markdown",
   "metadata": {},
   "source": [
    "# VIDEO: Conics BUG HUNT!"
   ]
  },
  {
   "cell_type": "code",
   "execution_count": null,
   "metadata": {},
   "outputs": [],
   "source": [
    "# Make a gaussian\n",
    "x = np.linspace(-2,2,100)\n",
    "\n",
    "# create the gaussian\n",
    "X,Y = np.meshgrid(x,x)\n",
    "gauss2d = np.exp( -(X**2+Y**2) )\n",
    "\n",
    "# and plot\n",
    "plt.imshow(gauss2d)\n",
    "plt.axis('off')\n",
    "plt.show()"
   ]
  },
  {
   "cell_type": "code",
   "execution_count": null,
   "metadata": {},
   "outputs": [],
   "source": [
    "# draw a circle using meshgrid\n",
    "r = 2\n",
    "\n",
    "# grid space\n",
    "x = np.linspace(-r,r,100)\n",
    "y = np.linspace(-r,r,100)\n",
    "X,Y = np.meshgrid(x,y)\n",
    "\n",
    "# create the function\n",
    "Fxy = X**2 + Y**2 - r**2\n",
    "\n",
    "# draw it\n",
    "plt.imshow(Fxy)\n",
    "plt.contour(Fxy,0,colors='k')\n",
    "\n",
    "plt.axis('off')\n",
    "plt.show()"
   ]
  },
  {
   "cell_type": "code",
   "execution_count": null,
   "metadata": {},
   "outputs": [],
   "source": [
    "# parameters\n",
    "a = 1\n",
    "b = 2\n",
    "h = 2\n",
    "k = -3\n",
    "\n",
    "# grid space\n",
    "axlim = np.max((a,b)) + np.max((abs(h),abs(k)))\n",
    "x = np.linspace(-axlim,axlim,100)\n",
    "y = np.linspace(-axlim,axlim,100)\n",
    "X,Y = np.meshgrid(x,y)\n",
    "\n",
    "# create the function\n",
    "Fxy = (X-h)**2/a**2 + (Y-k)**2/b**2 - 1\n",
    "\n",
    "# draw it as a contour\n",
    "plt.contour(X,Y,Fxy,0)\n",
    "plt.plot(h,k,'go')\n",
    "\n",
    "# draw guide lines\n",
    "plt.grid()\n",
    "plt.title('Ellipse centered at (x,y)=(%s,%s)' %(h,k))\n",
    "plt.gca().set_aspect('equal')\n",
    "plt.show()"
   ]
  },
  {
   "cell_type": "code",
   "execution_count": null,
   "metadata": {},
   "outputs": [],
   "source": [
    "# hyperbola! (not an \"X\")\n",
    "\n",
    "# parameters\n",
    "a = 1\n",
    "b = .5\n",
    "h = 1\n",
    "k = 2\n",
    "\n",
    "# grid space\n",
    "axlim = 2* (np.max((a,b)) + np.max((abs(h),abs(k))))\n",
    "x = np.linspace(-axlim,axlim,100)\n",
    "y = np.linspace(-axlim,axlim,100)\n",
    "X,Y = np.meshgrid(x,y)\n",
    "\n",
    "# create the function\n",
    "Fxy = (X-h)**2/a**2 - (Y-k)**2/b**2 - 1\n",
    "\n",
    "# draw it as a contour\n",
    "plt.contour(X,Y,Fxy,0)\n",
    "\n",
    "# draw a dot in the center\n",
    "plt.plot(h,k,'go')\n",
    "\n",
    "# draw guide lines\n",
    "plt.plot([-axlim,axlim],[0,0],'--',color=[.8,.8,.8])\n",
    "plt.plot([0,0],[-axlim,axlim],'--',color=[.8,.8,.8])\n",
    "\n",
    "plt.gca().set_aspect('equal')\n",
    "plt.show()"
   ]
  }
 ],
 "metadata": {
  "kernelspec": {
   "display_name": "Python 3",
   "language": "python",
   "name": "python3"
  },
  "language_info": {
   "codemirror_mode": {
    "name": "ipython",
    "version": 3
   },
   "file_extension": ".py",
   "mimetype": "text/x-python",
   "name": "python",
   "nbconvert_exporter": "python",
   "pygments_lexer": "ipython3",
   "version": "3.7.3"
  }
 },
 "nbformat": 4,
 "nbformat_minor": 2
}
