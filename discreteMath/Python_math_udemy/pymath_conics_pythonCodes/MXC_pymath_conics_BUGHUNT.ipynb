{
 "cells": [
  {
   "cell_type": "code",
   "execution_count": null,
   "metadata": {},
   "outputs": [],
   "source": [
    "import numpy as np\n",
    "import matplotlib.pyplot as plt"
   ]
  },
  {
   "cell_type": "markdown",
   "metadata": {},
   "source": [
    "# Conics BUG HUNT!"
   ]
  },
  {
   "cell_type": "code",
   "execution_count": null,
   "metadata": {},
   "outputs": [],
   "source": [
    "# Make a gaussian\n",
    "x = np.linspace(-2,2,100)\n",
    "\n",
    "# create the gaussian\n",
    "X,Y = np.meshgrid(x,x)\n",
    "gauss2d = np.exp( -(X**2+Y)**2 )\n",
    "\n",
    "# and plot\n",
    "plt.imshow(gauss2d)\n",
    "plt.axis('off')\n",
    "plt.show()"
   ]
  },
  {
   "cell_type": "code",
   "execution_count": null,
   "metadata": {},
   "outputs": [],
   "source": [
    "# draw a circle using meshgrid\n",
    "r = 3\n",
    "\n",
    "# grid space\n",
    "x = np.linspace(-r,r,100)\n",
    "X,Y = np.meshgrid(x)\n",
    "\n",
    "# create the function\n",
    "Fxy = X**2 + Y**2 - r**2\n",
    "\n",
    "# draw it\n",
    "plt.imshow(Fxy)\n",
    "\n",
    "plt.axis('off')\n",
    "plt.show()"
   ]
  },
  {
   "cell_type": "code",
   "execution_count": null,
   "metadata": {},
   "outputs": [],
   "source": [
    "# parameters\n",
    "a = 1\n",
    "b = 2\n",
    "h = 2\n",
    "k = -3\n",
    "\n",
    "# grid space\n",
    "axlim = np.max((a,b)) + np.max((abs(h),abs(k)))\n",
    "x = np.linspace(-axlim,axlim,100)\n",
    "y = np.linspace(-axlim,axlim,100)\n",
    "X,Y = np.meshgrid(x,y)\n",
    "\n",
    "# create the function\n",
    "Fxy = X**2/a**2 + Y**2/b**2\n",
    "\n",
    "# draw it as a contour\n",
    "plt.contour(X,Y,Fxy,0)\n",
    "\n",
    "# draw guide lines\n",
    "plt.grid()\n",
    "plt.title('Ellipse centered at (x,y)=(%s,%s)' %(h,k))\n",
    "plt.gca().set_aspect('equal')\n",
    "plt.show()"
   ]
  },
  {
   "cell_type": "code",
   "execution_count": null,
   "metadata": {},
   "outputs": [],
   "source": [
    "# hyperbola! (not an \"X\")\n",
    "\n",
    "# parameters\n",
    "a = 1\n",
    "b = .5\n",
    "h = 1\n",
    "k = 2\n",
    "\n",
    "# grid space\n",
    "axlim = 2* (np.max((a,b)) + np.max((abs(h),abs(k))))\n",
    "x = np.linspace(-axlim,axlim,100)\n",
    "y = np.linspace(-axlim,axlim,100)\n",
    "X,Y = np.meshgrid(x,y)\n",
    "\n",
    "# create the function\n",
    "Fxy = (X-h)**2/a**2 - (Y-k)**2/b**2\n",
    "\n",
    "# draw it as a contour\n",
    "plt.contour(X,Y,Fxy,0)\n",
    "\n",
    "# draw a dot in the center\n",
    "plt.plot(h,k,'go')\n",
    "\n",
    "# draw guide lines\n",
    "plt.plot([-axlim,axlim],[0,0],'--',color=[.8,.8,.8])\n",
    "plt.plot([0,0],[-axlim,axlim],'k--',color=[.8,.8,.8]) # color overwrites k\n",
    "\n",
    "plt.gca().set_aspect('equal')\n",
    "plt.show()"
   ]
  }
 ],
 "metadata": {
  "kernelspec": {
   "display_name": "Python 3",
   "language": "python",
   "name": "python3"
  },
  "language_info": {
   "codemirror_mode": {
    "name": "ipython",
    "version": 3
   },
   "file_extension": ".py",
   "mimetype": "text/x-python",
   "name": "python",
   "nbconvert_exporter": "python",
   "pygments_lexer": "ipython3",
   "version": "3.7.3"
  }
 },
 "nbformat": 4,
 "nbformat_minor": 2
}
