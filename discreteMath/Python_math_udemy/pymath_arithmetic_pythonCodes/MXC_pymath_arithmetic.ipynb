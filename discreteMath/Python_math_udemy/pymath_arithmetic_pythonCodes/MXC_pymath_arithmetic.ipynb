{
 "cells": [
  {
   "cell_type": "markdown",
   "metadata": {},
   "source": [
    "# COURSE: Master math by coding in Python\n",
    "## SECTION: Arithmetic\n",
    "\n",
    "#### https://www.udemy.com/course/math-with-python/?couponCode=MXC-DISC4ALL\n",
    "#### INSTRUCTOR: sincxpress.com\n",
    "\n",
    "Note about this code: Each video in this section of the course corresponds to a section of code below. Please note that this code roughly matches the code shown in the live recording, but is not exactly the same -- the variable names, order of lines, and parameters may be slightly different. "
   ]
  },
  {
   "cell_type": "code",
   "execution_count": null,
   "metadata": {},
   "outputs": [],
   "source": []
  },
  {
   "cell_type": "markdown",
   "metadata": {},
   "source": [
    "# VIDEO: Addition, subtraction, multiplication, division"
   ]
  },
  {
   "cell_type": "markdown",
   "metadata": {},
   "source": [
    "#### Addition"
   ]
  },
  {
   "cell_type": "code",
   "execution_count": null,
   "metadata": {},
   "outputs": [],
   "source": [
    "# use Python like a calculator\n",
    "4+5 # press Ctrl-Enter to find the answer!"
   ]
  },
  {
   "cell_type": "code",
   "execution_count": null,
   "metadata": {},
   "outputs": [],
   "source": [
    "# can use multiple numbers at the same time:\n",
    "4 + 3/4 + 9.4"
   ]
  },
  {
   "cell_type": "markdown",
   "metadata": {},
   "source": [
    "#### Subtraction"
   ]
  },
  {
   "cell_type": "code",
   "execution_count": null,
   "metadata": {},
   "outputs": [],
   "source": [
    "# exactly how you'd think it should work!\n",
    "4 - 3 - 1"
   ]
  },
  {
   "cell_type": "markdown",
   "metadata": {},
   "source": [
    "#### Multiplication"
   ]
  },
  {
   "cell_type": "code",
   "execution_count": null,
   "metadata": {},
   "outputs": [],
   "source": [
    "# Use * to indicate multiplication (not x!)\n",
    "3*4 "
   ]
  },
  {
   "cell_type": "code",
   "execution_count": null,
   "metadata": {
    "scrolled": true
   },
   "outputs": [],
   "source": [
    "# can mix operations\n",
    "3*4 - 3*2"
   ]
  },
  {
   "cell_type": "markdown",
   "metadata": {},
   "source": [
    "#### Division"
   ]
  },
  {
   "cell_type": "code",
   "execution_count": null,
   "metadata": {},
   "outputs": [],
   "source": [
    "# use /\n",
    "3/4"
   ]
  },
  {
   "cell_type": "code",
   "execution_count": null,
   "metadata": {},
   "outputs": [],
   "source": [
    "# error! Always use the forward slash\n",
    "3\\4"
   ]
  },
  {
   "cell_type": "markdown",
   "metadata": {},
   "source": [
    "### Exercises!"
   ]
  },
  {
   "cell_type": "code",
   "execution_count": null,
   "metadata": {},
   "outputs": [],
   "source": [
    "#1)\n",
    "5 - (2/4) * (3/5)"
   ]
  },
  {
   "cell_type": "code",
   "execution_count": null,
   "metadata": {},
   "outputs": [],
   "source": [
    "#2)\n",
    "(4-5) / 3+5*6"
   ]
  },
  {
   "cell_type": "markdown",
   "metadata": {},
   "source": [
    "# VIDEO: Using variables in place of numbers"
   ]
  },
  {
   "cell_type": "code",
   "execution_count": null,
   "metadata": {},
   "outputs": [],
   "source": [
    "# create a variable by assigning a number to it\n",
    "x = 17"
   ]
  },
  {
   "cell_type": "code",
   "execution_count": null,
   "metadata": {},
   "outputs": [],
   "source": [
    "# then use that variable in place of a number\n",
    "x - 2"
   ]
  },
  {
   "cell_type": "code",
   "execution_count": null,
   "metadata": {},
   "outputs": [],
   "source": [
    "# you can re-assign variables whenever you need to\n",
    "x = 10\n",
    "# note that nothing prints out to the screen here. \n",
    "# We didn't ask Python to compute anything, just to set a variable."
   ]
  },
  {
   "cell_type": "code",
   "execution_count": null,
   "metadata": {},
   "outputs": [],
   "source": [
    "# you can even use a variable to reassign itself!\n",
    "x = x-2*5\n",
    "x"
   ]
  },
  {
   "cell_type": "code",
   "execution_count": null,
   "metadata": {},
   "outputs": [],
   "source": [
    "# multiple variables can be really useful\n",
    "x = 10\n",
    "y = 20\n"
   ]
  },
  {
   "cell_type": "code",
   "execution_count": null,
   "metadata": {},
   "outputs": [],
   "source": [
    "x + y*z # can't use a variable before it's created!"
   ]
  },
  {
   "cell_type": "code",
   "execution_count": null,
   "metadata": {},
   "outputs": [],
   "source": [
    "z = 30\n",
    "x + y*z"
   ]
  },
  {
   "cell_type": "code",
   "execution_count": null,
   "metadata": {},
   "outputs": [],
   "source": [
    "# only the final line of code will print out an answer;\n",
    "# otherwise, you can use the print() function\n",
    "\n",
    "40+10\n",
    "\n",
    "50+3\n",
    "\n",
    "print(40+3)\n",
    "print(10+6)"
   ]
  },
  {
   "cell_type": "markdown",
   "metadata": {},
   "source": [
    "### Exercises"
   ]
  },
  {
   "cell_type": "code",
   "execution_count": null,
   "metadata": {},
   "outputs": [],
   "source": [
    "# 1)\n",
    "x = 7\n",
    "y = -2\n",
    "z = 5\n",
    "\n",
    "# 1)\n",
    "3*x*(4+y)"
   ]
  },
  {
   "cell_type": "code",
   "execution_count": null,
   "metadata": {},
   "outputs": [],
   "source": [
    "# 2)\n",
    "-y - (x+3)/z"
   ]
  },
  {
   "cell_type": "markdown",
   "metadata": {},
   "source": [
    "# VIDEO: Printing out equations in IPython"
   ]
  },
  {
   "cell_type": "code",
   "execution_count": null,
   "metadata": {},
   "outputs": [],
   "source": [
    "# the line below will import special functions that are not otherwise available in the main Python environment\n",
    "from IPython.display import display, Math\n",
    "\n",
    "display('4 + 3 = 7')\n",
    "\n",
    "display('4 + 3 = ' + str(4+3))\n"
   ]
  },
  {
   "cell_type": "code",
   "execution_count": null,
   "metadata": {},
   "outputs": [],
   "source": [
    "# can also use string variables for printing\n",
    "\n",
    "expr = '4+5-9 = 0'\n",
    "\n",
    "display(expr)\n",
    "display(Math(expr)) # note that this line produces slightly nicer output"
   ]
  },
  {
   "cell_type": "code",
   "execution_count": null,
   "metadata": {},
   "outputs": [],
   "source": [
    "# mixing variable types in outputs\n",
    "x = 4\n",
    "y = 5\n",
    "\n",
    "display(Math( str(x) + ' + ' + str(y) + ' = ' + str(x+y) )) # note: plus sign here is for concatenating strings, not for summing!"
   ]
  },
  {
   "cell_type": "code",
   "execution_count": null,
   "metadata": {},
   "outputs": [],
   "source": [
    "# without using latex\n",
    "display(Math('4/5 = .8'))\n",
    "\n",
    "# with latex (much nicer!)\n",
    "display(Math('\\\\frac{4}{5} = ' + str(4/5)))\n"
   ]
  },
  {
   "cell_type": "code",
   "execution_count": null,
   "metadata": {},
   "outputs": [],
   "source": [
    "# alternative method for integrating numbers with string text\n",
    "display(Math('\\\\frac{4}{5} = %g' %(4/5)))\n",
    "\n",
    "# Note: We'll be using the basics of substitution (%g and %s) in this course; for more details and formatting options, see\n",
    "# https://docs.python.org/3/library/stdtypes.html#printf-style-string-formatting\n"
   ]
  },
  {
   "cell_type": "code",
   "execution_count": null,
   "metadata": {},
   "outputs": [],
   "source": [
    "# more variables in the same line\n",
    "\n",
    "x = 3.4\n",
    "y = 17\n",
    "\n",
    "display(Math('%g \\\\times %g = %g' %(x,y,x*y)))\n"
   ]
  },
  {
   "cell_type": "markdown",
   "metadata": {},
   "source": [
    "### Exercises"
   ]
  },
  {
   "cell_type": "code",
   "execution_count": null,
   "metadata": {},
   "outputs": [],
   "source": [
    "x = 7\n",
    "y = -2\n",
    "z = 5\n",
    "\n",
    "# 1)\n",
    "ans = 3*x*(4+y)\n",
    "display(Math('3x(4+y) = ' + str(ans)))\n",
    "display(Math('3\\\\times%g(4+%g) = %g' %(x,y,ans) ))\n",
    "\n",
    "\n",
    "# 2)\n",
    "ans = -y - (x+3)/z\n",
    "display(Math('-y - \\\\frac{x+3}{z} = %g'%ans))\n",
    "\n",
    "display(Math('-%g - \\\\frac{%g+3}{%g} = %g'%(y,x,z,ans)))"
   ]
  },
  {
   "cell_type": "markdown",
   "metadata": {},
   "source": [
    "# VIDEO: Exponents (powers)"
   ]
  },
  {
   "cell_type": "code",
   "execution_count": null,
   "metadata": {},
   "outputs": [],
   "source": [
    "# use **\n",
    "3**2"
   ]
  },
  {
   "cell_type": "code",
   "execution_count": null,
   "metadata": {},
   "outputs": [],
   "source": [
    "# careful not to confuse with ^\n",
    "3^1\n",
    "# this is actually the symbol for the XOR logical problem"
   ]
  },
  {
   "cell_type": "code",
   "execution_count": null,
   "metadata": {},
   "outputs": [],
   "source": [
    "# variables can also be useful\n",
    "x = 2\n",
    "3**x"
   ]
  },
  {
   "cell_type": "code",
   "execution_count": null,
   "metadata": {},
   "outputs": [],
   "source": [
    "# Note about importing functions or modules: You need to do this only once per session.\n",
    "# Thus, you don't need the following line if you've already imported these functions.\n",
    "# On the other hand, it doesn't hurt to import multiple times ;)\n",
    "from IPython.display import display, Math\n",
    "\n",
    "\n",
    "# using the print function\n",
    "print( 2**x )\n",
    "\n",
    "# print out the whole equation\n",
    "display(Math('x^%g = %g'%(x,2**x)))"
   ]
  },
  {
   "cell_type": "code",
   "execution_count": null,
   "metadata": {},
   "outputs": [],
   "source": [
    "# the law of exponents\n",
    "print(3**3)\n",
    "print(3*3*3)"
   ]
  },
  {
   "cell_type": "code",
   "execution_count": null,
   "metadata": {},
   "outputs": [],
   "source": [
    "print( 3**2 * 3**4 )\n",
    "print( 3**(2+4) )"
   ]
  },
  {
   "cell_type": "code",
   "execution_count": null,
   "metadata": {},
   "outputs": [],
   "source": [
    "# square root as fractional power\n",
    "x**(1/2)"
   ]
  },
  {
   "cell_type": "markdown",
   "metadata": {},
   "source": [
    "### Exercises"
   ]
  },
  {
   "cell_type": "code",
   "execution_count": null,
   "metadata": {},
   "outputs": [],
   "source": [
    "x = 5\n",
    "y = 5.1\n",
    "\n",
    "# 1)\n",
    "ans = x**(3/4) * 4**y\n",
    "display(Math('x^{3/4}\\\\times 4^y = %g'%ans))\n",
    "\n",
    "# 2)\n",
    "solution = (3**3) / (x**y)\n",
    "display(Math('\\\\frac{3^3}{x^y} = %g'%solution))\n",
    "\n",
    "# 3)\n",
    "ans = 10**(x-4)\n",
    "display(Math('10^{x-4} = %g'%ans))"
   ]
  },
  {
   "cell_type": "markdown",
   "metadata": {},
   "source": [
    "# VIDEO: Using for-loops to compute powers"
   ]
  },
  {
   "cell_type": "code",
   "execution_count": null,
   "metadata": {},
   "outputs": [],
   "source": [
    "# basic for loop construction\n",
    "\n",
    "for i in [0,1,2,3]:\n",
    "    print(i)\n"
   ]
  },
  {
   "cell_type": "code",
   "execution_count": null,
   "metadata": {},
   "outputs": [],
   "source": [
    "# using the range function\n",
    "list( range(0,3) )"
   ]
  },
  {
   "cell_type": "code",
   "execution_count": null,
   "metadata": {},
   "outputs": [],
   "source": [
    "for i in range(0,3):\n",
    "    print('This is the %gth element.'%i)"
   ]
  },
  {
   "cell_type": "code",
   "execution_count": null,
   "metadata": {},
   "outputs": [],
   "source": [
    "for i in range(0,5):\n",
    "    num = i**2\n",
    "    print(num)"
   ]
  },
  {
   "cell_type": "markdown",
   "metadata": {},
   "source": [
    "### Exercises"
   ]
  },
  {
   "cell_type": "code",
   "execution_count": null,
   "metadata": {},
   "outputs": [],
   "source": [
    "# write code to print the following:\n",
    "# 2 to the power of 0 is 1\n",
    "# and so on for 2**0 through 2**9\n",
    "\n",
    "base = 2\n",
    "\n",
    "for i in range(0,10):\n",
    "    print('%g to the power of %g is %g'%(base,i,base**i))"
   ]
  },
  {
   "cell_type": "markdown",
   "metadata": {},
   "source": [
    "# VIDEO: Order of operations"
   ]
  },
  {
   "cell_type": "markdown",
   "metadata": {
    "scrolled": true
   },
   "source": [
    "## Reminder about order of operations:\n",
    "PEMDAS:\n",
    "\n",
    "    Parentheses\n",
    "    Exponents\n",
    "    Multiplication\n",
    "    Division\n",
    "    Addition\n",
    "    Subtraction\n",
    "    \n",
    "(Please excuse my dear aunt Sally)\n"
   ]
  },
  {
   "cell_type": "code",
   "execution_count": null,
   "metadata": {},
   "outputs": [],
   "source": [
    "# examples from slides\n",
    "\n",
    "print( 4 + 3 * 2 - 1 ) # spacing has no effect\n"
   ]
  },
  {
   "cell_type": "code",
   "execution_count": null,
   "metadata": {},
   "outputs": [],
   "source": [
    "# will this be 24 or 10?\n",
    "4 + 2 * 3"
   ]
  },
  {
   "cell_type": "code",
   "execution_count": null,
   "metadata": {},
   "outputs": [],
   "source": [
    "# how about this one? can you make the be 7 or -11?\n",
    "2 - 4 + 9"
   ]
  },
  {
   "cell_type": "markdown",
   "metadata": {},
   "source": [
    "### Exercises"
   ]
  },
  {
   "cell_type": "code",
   "execution_count": null,
   "metadata": {},
   "outputs": [],
   "source": [
    "# add parentheses as needed to make the following equations true\n",
    "\n",
    "# 1) \n",
    "print( 4*5/(7+3) )\n",
    "\n",
    "# 2)\n",
    "print( 9/(3+6)-1 )\n"
   ]
  },
  {
   "cell_type": "markdown",
   "metadata": {},
   "source": [
    "# VIDEO: Testing inequalities and Boolean data type"
   ]
  },
  {
   "cell_type": "code",
   "execution_count": null,
   "metadata": {},
   "outputs": [],
   "source": [
    "# The result of the below expression can only be True or False\n",
    "4>5"
   ]
  },
  {
   "cell_type": "code",
   "execution_count": null,
   "metadata": {},
   "outputs": [],
   "source": [
    "print(5<5.1)"
   ]
  },
  {
   "cell_type": "code",
   "execution_count": null,
   "metadata": {},
   "outputs": [],
   "source": [
    "b = 10 > 3*3.33334\n",
    "\n",
    "print(b)\n",
    "print(type(b)) # the variable class is boolean"
   ]
  },
  {
   "cell_type": "code",
   "execution_count": null,
   "metadata": {},
   "outputs": [],
   "source": [
    "4 >= 2+2"
   ]
  },
  {
   "cell_type": "code",
   "execution_count": null,
   "metadata": {},
   "outputs": [],
   "source": [
    "5 <= 3*2-1.00000000001"
   ]
  },
  {
   "cell_type": "code",
   "execution_count": null,
   "metadata": {},
   "outputs": [],
   "source": [
    "# testing for equalities requires two equals signs\n",
    "\n",
    "# 4 = 4\n",
    "4 == 4\n",
    "\n",
    "test = 4 == 5\n",
    "print(test)\n"
   ]
  },
  {
   "cell_type": "markdown",
   "metadata": {},
   "source": [
    "### Exercises"
   ]
  },
  {
   "cell_type": "code",
   "execution_count": null,
   "metadata": {},
   "outputs": [],
   "source": [
    "# which variable value(s) will make the following inequalities true?\n",
    "# comment out the incorrect answers!\n",
    "x = 2\n",
    "x = 3\n",
    "x = 4\n",
    "\n",
    "# 1)\n",
    "print( 4*x+3 < 17-x**2 )\n",
    "\n",
    "#2) \n",
    "print( 8*x - 2 <= -3*x + 42 )"
   ]
  },
  {
   "cell_type": "markdown",
   "metadata": {},
   "source": [
    "# VIDEO: If-statements and logical operators"
   ]
  },
  {
   "cell_type": "code",
   "execution_count": null,
   "metadata": {},
   "outputs": [],
   "source": [
    "# start with basics:\n",
    "if 4+2 == 6:\n",
    "    print('True!')\n",
    "else:\n",
    "    print('Nope!')"
   ]
  },
  {
   "cell_type": "code",
   "execution_count": null,
   "metadata": {},
   "outputs": [],
   "source": [
    "# using variables\n",
    "\n",
    "x1 = 3\n",
    "x2 = 4\n",
    "\n",
    "if x1>x2:\n",
    "    print('%g is greater than %g' %(x1,x2))\n",
    "elif x1<x2:\n",
    "    print('%g is greater than %g' %(x2,x1))\n",
    "else:\n",
    "    print('%g is equal to %g' %(x1,x2))\n"
   ]
  },
  {
   "cell_type": "code",
   "execution_count": null,
   "metadata": {},
   "outputs": [],
   "source": [
    "# with logical operators\n",
    "\n",
    "x = 1\n",
    "y = 2\n",
    "z = 3\n",
    "\n",
    "if x+y<z or x-z>y:\n",
    "    print('Yeah, the first thing.')\n",
    "elif 2*x+y>z and 2*z-x>y:\n",
    "    print('the second thing')\n"
   ]
  },
  {
   "cell_type": "markdown",
   "metadata": {},
   "source": [
    "### Exercise"
   ]
  },
  {
   "cell_type": "code",
   "execution_count": null,
   "metadata": {},
   "outputs": [],
   "source": [
    "from IPython.display import display, Math\n",
    "\n",
    "for i in range(0,4):\n",
    "    for j in range(0,5):\n",
    "        if j>0 and i>0:\n",
    "            display(Math('%g^{-%g} = %g' %(i,j,i**-j)))"
   ]
  },
  {
   "cell_type": "markdown",
   "metadata": {},
   "source": [
    "# VIDEO: Absolute value"
   ]
  },
  {
   "cell_type": "code",
   "execution_count": null,
   "metadata": {},
   "outputs": [],
   "source": [
    "a = -4\n",
    "abs(a)"
   ]
  },
  {
   "cell_type": "code",
   "execution_count": null,
   "metadata": {},
   "outputs": [],
   "source": [
    "b = abs(a)\n",
    "a,b"
   ]
  },
  {
   "cell_type": "code",
   "execution_count": null,
   "metadata": {},
   "outputs": [],
   "source": [
    "# printing out with latex\n",
    "x = -4.3\n",
    "\n",
    "# If the following line crashes, you need to import the display and Math functions as shown earlier\n",
    "display(Math('|%g| = %g' %(x,abs(x)) ))"
   ]
  },
  {
   "cell_type": "markdown",
   "metadata": {},
   "source": [
    "### Exercise"
   ]
  },
  {
   "cell_type": "code",
   "execution_count": null,
   "metadata": {},
   "outputs": [],
   "source": [
    "# report the absolute value of a set of numbers only if they are less than -5 or greater than +2\n",
    "numbers = [-4,6,-1,43,-18,2,0]\n",
    "\n",
    "# for-loop\n",
    "for i in numbers:\n",
    "    if i<-5 or i>2:\n",
    "        print( 'Absolute value of %g is %g.' %(i,abs(i)) )\n",
    "    else:\n",
    "        print( str(i) + ' was not tested.' )"
   ]
  },
  {
   "cell_type": "markdown",
   "metadata": {},
   "source": [
    "# VIDEO: Remainder after division (modulus)"
   ]
  },
  {
   "cell_type": "code",
   "execution_count": null,
   "metadata": {},
   "outputs": [],
   "source": [
    "# pick some numbers\n",
    "a = 10\n",
    "b = 3\n",
    "\n",
    "# division\n",
    "a/b"
   ]
  },
  {
   "cell_type": "code",
   "execution_count": null,
   "metadata": {},
   "outputs": [],
   "source": [
    "# integer division\n",
    "int(a/b)"
   ]
  },
  {
   "cell_type": "code",
   "execution_count": null,
   "metadata": {},
   "outputs": [],
   "source": [
    "# with a remainder!\n",
    "a%b"
   ]
  },
  {
   "cell_type": "code",
   "execution_count": null,
   "metadata": {},
   "outputs": [],
   "source": [
    "# now for a nicer printing\n",
    "# set variables for outputs\n",
    "divis = int(a/b)\n",
    "remainder = a%b\n",
    "\n",
    "print(\"%g goes into %g, %g times with a remainder of %g.\" %(b,a,divis,remainder))"
   ]
  },
  {
   "cell_type": "markdown",
   "metadata": {},
   "source": [
    "### Exercises"
   ]
  },
  {
   "cell_type": "code",
   "execution_count": null,
   "metadata": {},
   "outputs": [],
   "source": [
    "# determining whether a number is odd or even\n",
    "\n",
    "nums = range(-5,6)\n",
    "\n",
    "for i in nums:\n",
    "    \n",
    "    # check for first character spacing\n",
    "    firstchar = '' if i<0 else ' '\n",
    "    \n",
    "    # test and report\n",
    "    if i%2 == 0:\n",
    "        print('%s%g is an even number' %(firstchar,i))\n",
    "    else:\n",
    "        print('%s%g is an odd  number' %(firstchar,i))"
   ]
  },
  {
   "cell_type": "markdown",
   "metadata": {},
   "source": [
    "# VIDEO: Create interactive math functions"
   ]
  },
  {
   "cell_type": "code",
   "execution_count": null,
   "metadata": {},
   "outputs": [],
   "source": [
    "# create a function that takes two numbers and reports the numbers, their integer division, and remainder\n",
    "\n",
    "# define the function\n",
    "def computeremainder(x,y):\n",
    "    division  = int( x/y )\n",
    "    remainder = x%y\n",
    "    \n",
    "    print(\"%g goes into %g, %g times with a remainder of %g.\" %(y,x,division,remainder))"
   ]
  },
  {
   "cell_type": "code",
   "execution_count": null,
   "metadata": {},
   "outputs": [],
   "source": [
    "computeremainder(10,3)"
   ]
  },
  {
   "cell_type": "code",
   "execution_count": null,
   "metadata": {},
   "outputs": [],
   "source": [
    "# create a function that inputs two numbers and reports the numbers, their integer division, and remainder\n",
    "\n",
    "# define the function\n",
    "def computeremainder():\n",
    "    x = int( input('Input numerator: ') )\n",
    "    y = int( input('Input denominator: ') )\n",
    "    division  = int( x/y )\n",
    "    remainder = x%y\n",
    "    \n",
    "    print(\"%g goes into %g, %g times with a remainder of %g.\" %(y,x,division,remainder))"
   ]
  },
  {
   "cell_type": "code",
   "execution_count": null,
   "metadata": {},
   "outputs": [],
   "source": [
    "# now test the function!\n",
    "computeremainder()"
   ]
  },
  {
   "cell_type": "code",
   "execution_count": null,
   "metadata": {},
   "outputs": [],
   "source": [
    "# create a function that takes two numbers as input, \n",
    "# and returns the larger-magnitude number to the power of the smaller-magnitude number\n",
    "\n",
    "def powerfun():\n",
    "    n1 = int( input('Input one number ') )\n",
    "    n2 = int( input('Input a second number ') )\n",
    "    \n",
    "    # test\n",
    "    if abs(n1)>abs(n2):\n",
    "        return n1,n2,n1**n2\n",
    "    else:\n",
    "        return n2,n1,n2**n1\n"
   ]
  },
  {
   "cell_type": "code",
   "execution_count": null,
   "metadata": {},
   "outputs": [],
   "source": [
    "# now test the function\n",
    "first,second,outcome = powerfun()\n",
    "\n",
    "display(Math('%g^{%g} = %g '%(first,second,outcome)))\n"
   ]
  },
  {
   "cell_type": "markdown",
   "metadata": {},
   "source": [
    "### Exercises"
   ]
  },
  {
   "cell_type": "code",
   "execution_count": null,
   "metadata": {},
   "outputs": [],
   "source": [
    "# input three numbers from user, x, y, and a switch option\n",
    "#    Create two functions that will compute x**y and x/y\n",
    "#    call the appropriate function and print the result\n",
    "\n",
    "from IPython.display import display,Math\n",
    "\n",
    "# create functions\n",
    "def powers(x,y):\n",
    "    display(Math('%g^{%g} = %g' %(x,y,x**y)))\n",
    "\n",
    "def division(x,y):\n",
    "    display(Math('\\\\frac{%g}{%g} = %g' %(x,y,x/y)))\n",
    "    \n",
    "def mainfunction():\n",
    "    x = int(input('input X: '))\n",
    "    y = int(input('input Y: '))\n",
    "    display(Math('Press \"1\" to compute %g^{%g}\\\\text{ or \"2\" to compute }\\\\frac{%g}{%g}' %(x,y,x,y)))\n",
    "    which = int(input(' '))\n",
    "    \n",
    "    if which==1:\n",
    "        powers(x,y)\n",
    "    elif which==2:\n",
    "        division(x,y)\n",
    "    else:\n",
    "        print('Invalid selection!')\n"
   ]
  },
  {
   "cell_type": "code",
   "execution_count": null,
   "metadata": {},
   "outputs": [],
   "source": [
    "# run the main function\n",
    "\n",
    "mainfunction()\n"
   ]
  },
  {
   "cell_type": "code",
   "execution_count": null,
   "metadata": {},
   "outputs": [],
   "source": [
    "float(input(' '))"
   ]
  },
  {
   "cell_type": "markdown",
   "metadata": {},
   "source": [
    "# VIDEO: Interactive functions: Guess the number!"
   ]
  },
  {
   "cell_type": "code",
   "execution_count": null,
   "metadata": {},
   "outputs": [],
   "source": [
    "# guess a number!\n",
    "# write code to generate a random integer and then input user guesses of that integer. \n",
    "# The code should tell the user to guess higher or lower until they get the right answer.\n",
    "\n",
    "from numpy import random\n",
    "\n",
    "def guessTheNumber():\n",
    "    num2guess = random.randint(1,101)\n",
    "    \n",
    "    userguess = int( input('Guess a number between 1 and 100  ') )\n",
    "    while userguess!=num2guess:\n",
    "        if userguess>num2guess:\n",
    "            print('Guess lower!')\n",
    "        elif userguess<num2guess:\n",
    "            print('Guess higher!')\n",
    "        \n",
    "        userguess = int( input('Guess again ') )\n",
    "    \n",
    "    print('Got it! The right number was %g and your final guess was %g'%(num2guess,userguess))\n"
   ]
  },
  {
   "cell_type": "code",
   "execution_count": null,
   "metadata": {},
   "outputs": [],
   "source": [
    "guessTheNumber()"
   ]
  },
  {
   "cell_type": "markdown",
   "metadata": {},
   "source": [
    "# VIDEO: ARITHMETIC BUG HUNT!!!\n",
    "#### Note about this code: The code below shows the SOLUTIONS! \n",
    "\n",
    "You should first go through the file called \"MXC_pymath_arithmetic_bughunt.ipynb.\" \n",
    "\n",
    "Then you can check your answers here!"
   ]
  },
  {
   "cell_type": "code",
   "execution_count": null,
   "metadata": {},
   "outputs": [],
   "source": [
    "x = '1'\n",
    "y = '2'\n",
    "\n",
    "print( int(x) + int(y) )"
   ]
  },
  {
   "cell_type": "code",
   "execution_count": null,
   "metadata": {},
   "outputs": [],
   "source": [
    "display(Math('\\\\frac{1}{2}'))"
   ]
  },
  {
   "cell_type": "code",
   "execution_count": null,
   "metadata": {},
   "outputs": [],
   "source": [
    "x = 4\n",
    "y = 5\n",
    "display(Math('%g + %g = %g'%(x,y,x+y)))"
   ]
  },
  {
   "cell_type": "code",
   "execution_count": null,
   "metadata": {},
   "outputs": [],
   "source": [
    "display(Math('\\\\frac{%g}{%g} = %g'%(x,y,x/y)))"
   ]
  },
  {
   "cell_type": "code",
   "execution_count": null,
   "metadata": {},
   "outputs": [],
   "source": [
    "3**2 # should equal 9"
   ]
  },
  {
   "cell_type": "code",
   "execution_count": null,
   "metadata": {},
   "outputs": [],
   "source": [
    "for i in range(0,3):\n",
    "    display(Math('%g\\\\times2 = %g'%(i,i*2)))"
   ]
  },
  {
   "cell_type": "code",
   "execution_count": null,
   "metadata": {},
   "outputs": [],
   "source": [
    "a = 10\n",
    "b = 20\n",
    "\n",
    "result = 2*a <= b\n",
    "\n",
    "print(result)"
   ]
  },
  {
   "cell_type": "code",
   "execution_count": null,
   "metadata": {},
   "outputs": [],
   "source": [
    "if a+b*2 > 40:\n",
    "    print(str(a+b*2) + ' is greater than ' + str(40) + '. Time to celebrate!')\n"
   ]
  },
  {
   "cell_type": "code",
   "execution_count": null,
   "metadata": {},
   "outputs": [],
   "source": [
    "var = input('input a number!')\n",
    "print(var)\n"
   ]
  },
  {
   "cell_type": "code",
   "execution_count": null,
   "metadata": {},
   "outputs": [],
   "source": [
    "# division\n",
    "4/10"
   ]
  },
  {
   "cell_type": "code",
   "execution_count": null,
   "metadata": {},
   "outputs": [],
   "source": [
    "# sum two numbers\n",
    "w = float( input('Input a number: ') )\n",
    "z = float( input('Input another number: ') )\n",
    "\n",
    "print('The sum of %s and %s is %s' %(w,z,w+z))\n"
   ]
  },
  {
   "cell_type": "code",
   "execution_count": null,
   "metadata": {},
   "outputs": [],
   "source": [
    "display(Math('\\\\frac{9}{3} = ' + str(9/3)))"
   ]
  },
  {
   "cell_type": "code",
   "execution_count": null,
   "metadata": {},
   "outputs": [],
   "source": [
    "display(Math('\\\\frac{9}{3} = ' + str(9/3)))"
   ]
  },
  {
   "cell_type": "code",
   "execution_count": null,
   "metadata": {},
   "outputs": [],
   "source": [
    "# print the numbers 1 through 10\n",
    "t = 1\n",
    "while t<11:\n",
    "    print(t)\n",
    "    t=t+1"
   ]
  },
  {
   "cell_type": "code",
   "execution_count": null,
   "metadata": {},
   "outputs": [],
   "source": []
  }
 ],
 "metadata": {
  "kernelspec": {
   "display_name": "Python 3",
   "language": "python",
   "name": "python3"
  },
  "language_info": {
   "codemirror_mode": {
    "name": "ipython",
    "version": 3
   },
   "file_extension": ".py",
   "mimetype": "text/x-python",
   "name": "python",
   "nbconvert_exporter": "python",
   "pygments_lexer": "ipython3",
   "version": "3.7.3"
  }
 },
 "nbformat": 4,
 "nbformat_minor": 2
}
