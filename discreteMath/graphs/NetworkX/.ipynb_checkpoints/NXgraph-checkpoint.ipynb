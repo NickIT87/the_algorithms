{
 "cells": [
  {
   "cell_type": "code",
   "execution_count": 45,
   "metadata": {},
   "outputs": [
    {
     "data": {
      "image/png": "[encoded data removed]",
      "text/plain": [
       "<Figure size 432x288 with 1 Axes>"
      ]
     },
     "metadata": {},
     "output_type": "display_data"
    }
   ],
   "source": [
    "import networkx as nx\n",
    "import matplotlib.pyplot as plt\n",
    "\n",
    "\n",
    "Graph = nx.Graph()\n",
    "Graph.add_edge(1, 2) # default edge data=1\n",
    "Graph.add_edge(2, 3, weight=0.9) # specify edge data\n",
    "Graph.add_edge(3, 2.5)\n",
    "nx.draw(Graph, node_color=[\"red\", \"green\", \"blue\", \"yellow\"], with_labels=True)\n",
    "#plt.plot(G)"
   ]
  },
  {
   "cell_type": "code",
   "execution_count": 97,
   "metadata": {},
   "outputs": [
    {
     "data": {
      "image/png": "[encoded data removed]",
      "text/plain": [
       "<Figure size 432x288 with 1 Axes>"
      ]
     },
     "metadata": {},
     "output_type": "display_data"
    }
   ],
   "source": [
    "G = nx.Graph()\n",
    "\n",
    "G.add_node(1, color='pink')\n",
    "G.add_nodes_from([2, 3])\n",
    "G.add_nodes_from([\n",
    "\n",
    "    (4, {\"color\": \"red\"}),\n",
    "\n",
    "    (5, {\"color\": \"green\"}),\n",
    "\n",
    "])\n",
    "default_color = \"lightblue\"\n",
    "#colors = [default_color, default_color, default_color, G.nodes[4][\"color\"], G.nodes[5][\"color\"]]\n",
    "colors = []\n",
    "\n",
    "for i in range(1, len(G.nodes)+1):\n",
    "    try:\n",
    "        colors.append(G.nodes[i][\"color\"])\n",
    "    except:\n",
    "        colors.append(default_color)\n",
    "\n",
    "\n",
    "nx.draw(G, with_labels=True, node_color=colors)"
   ]
  },
  {
   "cell_type": "code",
   "execution_count": 95,
   "metadata": {},
   "outputs": [
    {
     "name": "stdout",
     "output_type": "stream",
     "text": [
      "red\n",
      "default\n",
      "default\n",
      "red\n",
      "green\n"
     ]
    }
   ],
   "source": [
    "for i in range(1, len(G.nodes)+1):\n",
    "    try:\n",
    "        print(G.nodes[i][\"color\"])\n",
    "    except:\n",
    "        print(\"default\")"
   ]
  },
  {
   "cell_type": "code",
   "execution_count": 11,
   "metadata": {},
   "outputs": [
    {
     "data": {
      "image/png": "[encoded data removed]",
      "text/plain": [
       "<Figure size 432x288 with 1 Axes>"
      ]
     },
     "metadata": {},
     "output_type": "display_data"
    }
   ],
   "source": [
    "import networkx as nx\n",
    "import matplotlib.pyplot as plt\n",
    "\n",
    "\n",
    "Graph = nx.Graph()\n",
    "Graph.add_edge(4, 5) # 1\n",
    "Graph.add_edge(3, 4) # 2 \n",
    "Graph.add_edge(2, 4) # 3\n",
    "Graph.add_edge(0, 2) # 4\n",
    "Graph.add_edge(2, 3) # 5\n",
    "Graph.add_edge(0, 1) # 6\n",
    "nx.draw(\n",
    "    Graph, \n",
    "    node_color=[\"red\", \"green\", \"lightblue\", \"yellow\", \"cyan\", \"pink\"], \n",
    "    with_labels=True\n",
    ")"
   ]
  },
  {
   "cell_type": "code",
   "execution_count": 16,
   "metadata": {},
   "outputs": [
    {
     "data": {
      "text/plain": [
       "[(0, 2), (2, 4), (4, 5), (4, 3), (0, 1)]"
      ]
     },
     "execution_count": 16,
     "metadata": {},
     "output_type": "execute_result"
    }
   ],
   "source": [
    "#from networkx.algorithms.traversal.depth_first_search import dfs_edges\n",
    "# DFS deep search\n",
    "list(nx.dfs_edges(Graph, source=0))"
   ]
  }
 ],
 "metadata": {
  "kernelspec": {
   "display_name": "Python 3 (ipykernel)",
   "language": "python",
   "name": "python3"
  },
  "language_info": {
   "codemirror_mode": {
    "name": "ipython",
    "version": 3
   },
   "file_extension": ".py",
   "mimetype": "text/x-python",
   "name": "python",
   "nbconvert_exporter": "python",
   "pygments_lexer": "ipython3",
   "version": "3.9.9"
  }
 },
 "nbformat": 4,
 "nbformat_minor": 4
}
